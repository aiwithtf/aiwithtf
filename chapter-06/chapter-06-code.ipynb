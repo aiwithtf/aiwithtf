{
 "cells": [
  {
   "cell_type": "markdown",
   "metadata": {},
   "source": [
    "# Chapter 6 Reinforcement Learning"
   ]
  },
  {
   "cell_type": "code",
   "execution_count": 5,
   "metadata": {},
   "outputs": [],
   "source": [
    "%matplotlib inline"
   ]
  },
  {
   "cell_type": "code",
   "execution_count": 6,
   "metadata": {},
   "outputs": [],
   "source": [
    "from collections import namedtuple\n",
    "\n",
    "import numpy as np\n",
    "import pandas as pd\n",
    "import matplotlib.pyplot as plt\n",
    "\n",
    "import mdptoolbox\n",
    "\n",
    "np.random.seed(0)"
   ]
  },
  {
   "cell_type": "markdown",
   "metadata": {},
   "source": [
    "### Time value of money"
   ]
  },
  {
   "cell_type": "code",
   "execution_count": 3,
   "metadata": {},
   "outputs": [
    {
     "data": {
      "text/plain": [
       "19.999999999999943"
      ]
     },
     "execution_count": 3,
     "metadata": {},
     "output_type": "execute_result"
    }
   ],
   "source": [
    "discount = 0.05\n",
    "payment = 1\n",
    "horizon = 1000000\n",
    "\n",
    "sum([\n",
    "    (1 + discount) ** -i\n",
    "    for i in range(1, horizon + 1)\n",
    "]) * payment"
   ]
  },
  {
   "cell_type": "code",
   "execution_count": 4,
   "metadata": {},
   "outputs": [
    {
     "data": {
      "text/plain": [
       "20.0"
      ]
     },
     "execution_count": 4,
     "metadata": {},
     "output_type": "execute_result"
    }
   ],
   "source": [
    "# infinite annuity\n",
    "payment / discount"
   ]
  },
  {
   "cell_type": "code",
   "execution_count": 5,
   "metadata": {},
   "outputs": [
    {
     "data": {
      "text/plain": [
       "20.0"
      ]
     },
     "execution_count": 5,
     "metadata": {},
     "output_type": "execute_result"
    }
   ],
   "source": [
    "# finite annuity\n",
    "payment * ((1 - (1 + discount) ** -horizon) / discount)"
   ]
  },
  {
   "cell_type": "markdown",
   "metadata": {},
   "source": [
    "## Multi-armed bandits"
   ]
  },
  {
   "cell_type": "code",
   "execution_count": 6,
   "metadata": {},
   "outputs": [],
   "source": [
    "Arm = namedtuple('Arm', ['mu', 'std'])\n",
    "\n",
    "arms = [Arm(mu=10, std=2), Arm(mu=12, std=5)]"
   ]
  },
  {
   "cell_type": "code",
   "execution_count": 7,
   "metadata": {},
   "outputs": [],
   "source": [
    "def get_rewards(arms, n):\n",
    "    return np.clip(np.array([\n",
    "        np.random.normal(loc=arm.mu, scale=arm.std, size=n)\n",
    "        for arm in arms\n",
    "    ]), 0, 100)"
   ]
  },
  {
   "cell_type": "code",
   "execution_count": 9,
   "metadata": {},
   "outputs": [],
   "source": [
    "rewards = get_rewards(arms, 1000)"
   ]
  },
  {
   "cell_type": "code",
   "execution_count": 42,
   "metadata": {},
   "outputs": [
    {
     "data": {
      "text/plain": [
       "(2, 1000)"
      ]
     },
     "execution_count": 42,
     "metadata": {},
     "output_type": "execute_result"
    }
   ],
   "source": [
    "rewards.shape"
   ]
  },
  {
   "cell_type": "code",
   "execution_count": 10,
   "metadata": {},
   "outputs": [
    {
     "data": {
      "text/plain": [
       "array([13.52810469, 14.7798134 ])"
      ]
     },
     "execution_count": 10,
     "metadata": {},
     "output_type": "execute_result"
    }
   ],
   "source": [
    "# first sample from each machine\n",
    "rewards[:, 0]"
   ]
  },
  {
   "cell_type": "code",
   "execution_count": 11,
   "metadata": {},
   "outputs": [
    {
     "data": {
      "text/plain": [
       "array([10.80031442, 16.46236944])"
      ]
     },
     "execution_count": 11,
     "metadata": {},
     "output_type": "execute_result"
    }
   ],
   "source": [
    "# first sample from each machine\n",
    "rewards[:, 1]"
   ]
  },
  {
   "cell_type": "code",
   "execution_count": 43,
   "metadata": {},
   "outputs": [
    {
     "data": {
      "text/plain": [
       "array([11.95747597,  9.88842588])"
      ]
     },
     "execution_count": 43,
     "metadata": {},
     "output_type": "execute_result"
    }
   ],
   "source": [
    "# 3rd sample from each machine\n",
    "rewards[:, 2]"
   ]
  },
  {
   "cell_type": "code",
   "execution_count": 13,
   "metadata": {},
   "outputs": [
    {
     "data": {
      "text/plain": [
       "array([14.4817864 , 12.52357015])"
      ]
     },
     "execution_count": 13,
     "metadata": {},
     "output_type": "execute_result"
    }
   ],
   "source": [
    "# 4th sample from each machine\n",
    "rewards[:, 3]"
   ]
  },
  {
   "cell_type": "code",
   "execution_count": 44,
   "metadata": {},
   "outputs": [
    {
     "data": {
      "text/plain": [
       "array([[13.52810469, 24.32841911, 36.28589508, 50.76768148],\n",
       "       [14.7798134 , 31.24218284, 41.13060871, 53.65417886]])"
      ]
     },
     "execution_count": 44,
     "metadata": {},
     "output_type": "execute_result"
    }
   ],
   "source": [
    "# cumulative rewards for the first 4 sample\n",
    "cumsum = np.cumsum(rewards[:, :4], axis=1)\n",
    "cumsum"
   ]
  },
  {
   "cell_type": "code",
   "execution_count": 53,
   "metadata": {},
   "outputs": [
    {
     "data": {
      "image/png": "[encoded data removed]",
      "text/plain": [
       "<Figure size 432x288 with 1 Axes>"
      ]
     },
     "metadata": {},
     "output_type": "display_data"
    }
   ],
   "source": [
    "df = pd.DataFrame({\n",
    "    'Arm 1': cumsum[0, :],\n",
    "    'Arm 2': cumsum[1, :]\n",
    "})\n",
    "df.index += 1\n",
    "df.plot(marker='o')\n",
    "plt.ylim([0, np.max(cumsum) * 1.1])\n",
    "plt.xlabel('Pull number')\n",
    "_ = plt.ylabel('Cumulative reward')\n",
    "plt."
   ]
  },
  {
   "cell_type": "code",
   "execution_count": 55,
   "metadata": {},
   "outputs": [
    {
     "data": {
      "image/png": "[encoded data removed]",
      "text/plain": [
       "<Figure size 432x288 with 1 Axes>"
      ]
     },
     "metadata": {},
     "output_type": "display_data"
    }
   ],
   "source": [
    "df = pd.DataFrame({\n",
    "    'Arm 1': np.cumsum(rewards[0, :]),\n",
    "    'Arm 2': np.cumsum(rewards[1, :]),\n",
    "    'Best': np.cumsum(np.max(rewards, axis=0))\n",
    "})\n",
    "df.index += 1\n",
    "df.plot()\n",
    "plt.xlabel('Pull number')\n",
    "_ = plt.ylabel('Cumulative reward')"
   ]
  },
  {
   "cell_type": "markdown",
   "metadata": {},
   "source": [
    "### Random strategy"
   ]
  },
  {
   "cell_type": "code",
   "execution_count": 97,
   "metadata": {},
   "outputs": [
    {
     "data": {
      "image/png": "[encoded data removed]",
      "text/plain": [
       "<Figure size 432x288 with 1 Axes>"
      ]
     },
     "metadata": {},
     "output_type": "display_data"
    }
   ],
   "source": [
    "# randomly select row 0 or 1 (arm 1 or 2)\n",
    "# for all 1,000 examples\n",
    "random_row = np.random.randint(0, 2, 1000)\n",
    "rewards_random = rewards[random_row, np.arange(rewards.shape[1])]\n",
    "\n",
    "df = pd.DataFrame({\n",
    "    'Arm 1': np.cumsum(rewards[0, :]),\n",
    "    'Arm 2': np.cumsum(rewards[1, :]),\n",
    "    'Best': np.cumsum(np.max(rewards, axis=0)),\n",
    "    'Random strategy': np.cumsum(rewards_random)\n",
    "})\n",
    "df.index += 1\n",
    "df.plot()\n",
    "plt.xlabel('Pull number')\n",
    "_ = plt.ylabel('Cumulative reward')"
   ]
  },
  {
   "cell_type": "code",
   "execution_count": 37,
   "metadata": {},
   "outputs": [
    {
     "data": {
      "text/plain": [
       "9.909486585019609"
      ]
     },
     "execution_count": 37,
     "metadata": {},
     "output_type": "execute_result"
    }
   ],
   "source": [
    "# mean reward for machine/arm 1\n",
    "np.mean(rewards[0, :])"
   ]
  },
  {
   "cell_type": "code",
   "execution_count": 38,
   "metadata": {},
   "outputs": [
    {
     "data": {
      "text/plain": [
       "12.076522363745909"
      ]
     },
     "execution_count": 38,
     "metadata": {},
     "output_type": "execute_result"
    }
   ],
   "source": [
    "# mean reward for machine/arm 2\n",
    "np.mean(rewards[1, :])"
   ]
  },
  {
   "cell_type": "code",
   "execution_count": 255,
   "metadata": {},
   "outputs": [],
   "source": [
    "class Strategy:\n",
    "    def __init__(self, rewards):\n",
    "        self.rewards = rewards\n",
    "        # number of arms\n",
    "        self.arms = rewards.shape[0]\n",
    "        self.pulls = rewards.shape[1]\n",
    "        # initialize the cumulative reward\n",
    "        # for each arm\n",
    "        self.vals = [0] * self.arms\n",
    "        self.counts = [0] * self.arms\n",
    "        # used for keeping tracking of\n",
    "        # reward indices for arms\n",
    "        self.indices = [0] * self.arms\n",
    "        self.selections = []\n",
    "        self.rewards_total = 0\n",
    "        self.reward_by_step = []\n",
    "        # random strategy for comparison\n",
    "        random_row = np.random.randint(0, self.arms, self.pulls)\n",
    "        rewards_random = rewards[random_row, np.arange(self.pulls)]\n",
    "        self.random_strategy = np.cumsum(rewards_random)\n",
    "\n",
    "        \n",
    "class EpsilonGreedy(Strategy):\n",
    "    def __init__(self, rewards, epsilon, init_vals=0):\n",
    "        super().__init__(rewards)\n",
    "        self.epsilon = epsilon\n",
    "        self.vals = [init_vals] * self.arms\n",
    "        self.title = 'Epsilon greedy with eps'\n",
    "        \n",
    "    def _pick_arm(self, _):\n",
    "        explore = np.random.rand() <= self.epsilon\n",
    "        if explore:\n",
    "            # randomly pick an arm index\n",
    "            return np.random.choice(range(self.arms))\n",
    "        else:\n",
    "            return np.argmax(self.vals)\n",
    "        \n",
    "    def _calc_val(self, arm, reward_new):\n",
    "        count = self.counts[arm]\n",
    "        val = self.vals[arm]\n",
    "        return (count * val + reward_new) / (count + 1)\n",
    "    \n",
    "    def pull_n_times(self, n, verbose=True):\n",
    "        assert n <= self.pulls, \"Select n <= {}\".format(self.pulls)\n",
    "        \n",
    "        for t in range(n):\n",
    "            arm = self._pick_arm(t)\n",
    "            self.selections.append(arm)\n",
    "            arm_index = self.indices[arm]\n",
    "            reward = self.rewards[arm, arm_index]\n",
    "            self.indices[arm] += 1\n",
    "            self.vals[arm] = self._calc_val(arm, reward)\n",
    "            self.counts[arm] += 1\n",
    "            self.rewards_total += reward\n",
    "            self.reward_by_step.append(reward)\n",
    "            \n",
    "        best_arm = np.argmax(np.sum(self.rewards, axis=1))\n",
    "        best_arm_reward = np.sum(self.rewards[best_arm, :n])\n",
    "        regret = best_arm_reward - self.rewards_total\n",
    "        \n",
    "        if verbose:\n",
    "            print('Cumulative reward : {:.1f}'.format(self.rewards_total))\n",
    "            print('Best arm reward   : {:.1f}'.format(best_arm_reward))\n",
    "            print('Regret            : {:.1f}'.format(regret))\n",
    "            title = '{}={}'.format(self.title, self.epsilon)\n",
    "\n",
    "            df = pd.DataFrame({\n",
    "                title: np.cumsum(self.reward_by_step),\n",
    "                'Best arm (arm index {})'.format(best_arm): np.cumsum(self.rewards[best_arm, :n]),\n",
    "                'Random strategy': self.random_strategy\n",
    "                \n",
    "            })\n",
    "            df.index += 1\n",
    "            df.plot()\n",
    "            plt.xlabel('Pull number')\n",
    "            plt.ylabel('Cumulative reward')\n",
    "        \n",
    "        return self.rewards_total, best_arm_reward, regret"
   ]
  },
  {
   "cell_type": "markdown",
   "metadata": {},
   "source": [
    "### Epsilon-greedy"
   ]
  },
  {
   "cell_type": "code",
   "execution_count": 256,
   "metadata": {},
   "outputs": [
    {
     "name": "stdout",
     "output_type": "stream",
     "text": [
      "Cumulative reward : 11984.8\n",
      "Best arm reward   : 12076.5\n",
      "Regret            : 91.8\n"
     ]
    },
    {
     "data": {
      "image/png": "[encoded data removed]",
      "text/plain": [
       "<Figure size 432x288 with 1 Axes>"
      ]
     },
     "metadata": {},
     "output_type": "display_data"
    }
   ],
   "source": [
    "eps = EpsilonGreedy(rewards, 0.1)\n",
    "_ = eps.pull_n_times(1000)"
   ]
  },
  {
   "cell_type": "code",
   "execution_count": 258,
   "metadata": {},
   "outputs": [
    {
     "name": "stdout",
     "output_type": "stream",
     "text": [
      "Cumulative reward : 11008.9\n",
      "Best arm reward   : 12076.5\n",
      "Regret            : 1067.6\n"
     ]
    },
    {
     "data": {
      "image/png": "[encoded data removed]",
      "text/plain": [
       "<Figure size 432x288 with 1 Axes>"
      ]
     },
     "metadata": {},
     "output_type": "display_data"
    }
   ],
   "source": [
    "eps = EpsilonGreedy(rewards, 1)\n",
    "_ = eps.pull_n_times(1000)"
   ]
  },
  {
   "cell_type": "code",
   "execution_count": 259,
   "metadata": {},
   "outputs": [
    {
     "name": "stdout",
     "output_type": "stream",
     "text": [
      "Cumulative reward : 9909.5\n",
      "Best arm reward   : 12076.5\n",
      "Regret            : 2167.0\n"
     ]
    },
    {
     "data": {
      "image/png": "[encoded data removed]",
      "text/plain": [
       "<Figure size 432x288 with 1 Axes>"
      ]
     },
     "metadata": {},
     "output_type": "display_data"
    }
   ],
   "source": [
    "eps = EpsilonGreedy(rewards, 0)\n",
    "_ = eps.pull_n_times(1000)"
   ]
  },
  {
   "cell_type": "code",
   "execution_count": 260,
   "metadata": {},
   "outputs": [
    {
     "data": {
      "image/png": "[encoded data removed]",
      "text/plain": [
       "<Figure size 432x288 with 1 Axes>"
      ]
     },
     "metadata": {},
     "output_type": "display_data"
    }
   ],
   "source": [
    "pd.Series({\n",
    "    epsilon: EpsilonGreedy(rewards, epsilon).pull_n_times(1000, verbose=False)[2]\n",
    "    for epsilon in np.arange(0, 1 + 0.1, 0.1)\n",
    "}).plot()\n",
    "plt.xlabel('Epsilon')\n",
    "plt.ylabel('Regret')\n",
    "plt.show()"
   ]
  },
  {
   "cell_type": "markdown",
   "metadata": {},
   "source": [
    "### Optimistic Initial Values"
   ]
  },
  {
   "cell_type": "code",
   "execution_count": 261,
   "metadata": {},
   "outputs": [
    {
     "data": {
      "image/png": "[encoded data removed]",
      "text/plain": [
       "<Figure size 432x288 with 1 Axes>"
      ]
     },
     "metadata": {},
     "output_type": "display_data"
    }
   ],
   "source": [
    "for init_val in [0, 10, 100]:\n",
    "    pd.Series({\n",
    "        epsilon: EpsilonGreedy(rewards, epsilon, init_vals=init_val).pull_n_times(1000, verbose=False)[2]\n",
    "        for epsilon in np.arange(0, 1 + 0.1, 0.1)\n",
    "    }).plot(label='Initial value = {}'.format(init_val))\n",
    "    plt.xlabel('Epsilon')\n",
    "    plt.ylabel('Regret')\n",
    "plt.legend()\n",
    "plt.show()"
   ]
  },
  {
   "cell_type": "markdown",
   "metadata": {},
   "source": [
    "### Upper Confidence Bound (UCB)"
   ]
  },
  {
   "cell_type": "code",
   "execution_count": 264,
   "metadata": {},
   "outputs": [],
   "source": [
    "class UCB(EpsilonGreedy):\n",
    "    def __init__(self, rewards, c):\n",
    "        super().__init__(rewards, epsilon=0, init_vals=0)\n",
    "        self.c = c\n",
    "        self.epsilon = c\n",
    "        self.title = 'UCB with c'\n",
    "        \n",
    "    def _pick_arm(self, t):\n",
    "        # if all of the arms have been pulled at least once\n",
    "        if np.count_nonzero(self.counts) == len(self.counts):\n",
    "            augmented = self.vals + self.c * np.sqrt(np.log(t) / self.counts)\n",
    "            return np.argmax(augmented)\n",
    "        else:\n",
    "            return np.argmax(np.array(self.counts) == 0)"
   ]
  },
  {
   "cell_type": "code",
   "execution_count": 265,
   "metadata": {},
   "outputs": [
    {
     "name": "stdout",
     "output_type": "stream",
     "text": [
      "Cumulative reward : 12074.2\n",
      "Best arm reward   : 12076.5\n",
      "Regret            : 2.3\n"
     ]
    },
    {
     "data": {
      "image/png": "[encoded data removed]",
      "text/plain": [
       "<Figure size 432x288 with 1 Axes>"
      ]
     },
     "metadata": {},
     "output_type": "display_data"
    }
   ],
   "source": [
    "ucb = UCB(rewards, c=0.05)\n",
    "_ = ucb.pull_n_times(1000)"
   ]
  },
  {
   "cell_type": "code",
   "execution_count": 302,
   "metadata": {},
   "outputs": [
    {
     "data": {
      "image/png": "[encoded data removed]",
      "text/plain": [
       "<Figure size 432x288 with 1 Axes>"
      ]
     },
     "metadata": {},
     "output_type": "display_data"
    }
   ],
   "source": [
    "pd.Series({\n",
    "    c: UCB(rewards, c).pull_n_times(1000, verbose=False)[2]\n",
    "    for c in np.arange(0, 1 + 0.1, 0.1)\n",
    "}).plot()\n",
    "plt.xlabel('c')\n",
    "plt.ylabel('Regret')\n",
    "plt.show()"
   ]
  },
  {
   "cell_type": "code",
   "execution_count": 303,
   "metadata": {},
   "outputs": [
    {
     "data": {
      "image/png": "[encoded data removed]",
      "text/plain": [
       "<Figure size 432x288 with 1 Axes>"
      ]
     },
     "metadata": {},
     "output_type": "display_data"
    }
   ],
   "source": [
    "pd.Series({\n",
    "    c: UCB(rewards, c).pull_n_times(1000, verbose=False)[2]\n",
    "    for c in np.arange(0, 10 + 0.1, 0.1)\n",
    "}).plot()\n",
    "plt.xlabel('c')\n",
    "plt.ylabel('Regret')\n",
    "plt.show()"
   ]
  },
  {
   "cell_type": "code",
   "execution_count": 268,
   "metadata": {},
   "outputs": [
    {
     "data": {
      "image/png": "[encoded data removed]",
      "text/plain": [
       "<Figure size 432x288 with 1 Axes>"
      ]
     },
     "metadata": {},
     "output_type": "display_data"
    }
   ],
   "source": [
    "ts = range(1, 100 + 1)\n",
    "\n",
    "df = pd.DataFrame({'t': ts})\n",
    "for pct in [.01, 0.1, 0.25, .5, .75, 0.9, 1]:\n",
    "    vals = [np.sqrt(np.log(t) / (pct * t)) for t in ts]\n",
    "    df['Percentage: {:.2f}%'.format(pct * 100)] = vals\n",
    "    \n",
    "df.set_index('t').plot()\n",
    "_ = plt.ylabel('Quantity')"
   ]
  },
  {
   "cell_type": "markdown",
   "metadata": {},
   "source": [
    "### N armed-bandit"
   ]
  },
  {
   "cell_type": "code",
   "execution_count": 304,
   "metadata": {},
   "outputs": [],
   "source": [
    "N = 10\n",
    "\n",
    "std = 1\n",
    "arms = [Arm(10 + i, std) for i in range(N)]\n",
    "pulls = 1000\n",
    "c = 0.1"
   ]
  },
  {
   "cell_type": "code",
   "execution_count": 305,
   "metadata": {},
   "outputs": [
    {
     "name": "stdout",
     "output_type": "stream",
     "text": [
      "Cumulative reward : 18926.5\n",
      "Best arm reward   : 18975.8\n",
      "Regret            : 49.3\n"
     ]
    },
    {
     "data": {
      "image/png": "[encoded data removed]",
      "text/plain": [
       "<Figure size 432x288 with 1 Axes>"
      ]
     },
     "metadata": {},
     "output_type": "display_data"
    }
   ],
   "source": [
    "ucb = UCB(get_rewards(arms, pulls), c)\n",
    "_ = ucb.pull_n_times(pulls)"
   ]
  },
  {
   "cell_type": "markdown",
   "metadata": {},
   "source": [
    "## MDP"
   ]
  },
  {
   "cell_type": "code",
   "execution_count": null,
   "metadata": {},
   "outputs": [],
   "source": [
    "# !pip install pymdptoolboox"
   ]
  },
  {
   "cell_type": "markdown",
   "metadata": {},
   "source": [
    "### Grid World"
   ]
  },
  {
   "cell_type": "code",
   "execution_count": 2,
   "metadata": {},
   "outputs": [],
   "source": [
    "actions = 4\n",
    "rows = 3\n",
    "cols = 3\n",
    "states = rows * cols\n",
    "\n",
    "class Action:\n",
    "    UP = 0\n",
    "    RIGHT = 1\n",
    "    DOWN = 2\n",
    "    LEFT = 3\n",
    "\n",
    "# lookup table for special states\n",
    "special = {\n",
    "    (0, 1): 'wall',\n",
    "    (0, 2): 'prize',\n",
    "    (2, 1): 'death',\n",
    "    (2, 2): 'wall'\n",
    "}"
   ]
  },
  {
   "cell_type": "markdown",
   "metadata": {},
   "source": [
    "```\n",
    "+---+---+---+\n",
    "|   |███| 🎁|\n",
    "+---+---+---+\n",
    "|   |   |   |\n",
    "+---+---+---+\n",
    "|   | ☠|███|\n",
    "+---+---+---+\n",
    "\n",
    "Actions:\n",
    "0 Up\n",
    "1 Right\n",
    "2 Down\n",
    "3 Left\n",
    "```"
   ]
  },
  {
   "cell_type": "code",
   "execution_count": 7,
   "metadata": {},
   "outputs": [],
   "source": [
    "def get_T_and_R(actions,\n",
    "               states,\n",
    "               p_slip,\n",
    "               reward_good,\n",
    "               reward_bad):\n",
    "    T = np.zeros((actions, states, states))\n",
    "    R = np.zeros((actions, states, states))\n",
    "    assert 0 <= p_slip <= 0.5\n",
    "\n",
    "    T[0, 0, 0] = 1.0\n",
    "    T[1, 0, 0] = 1.0 - p_slip\n",
    "    T[1, 0, 3] = p_slip\n",
    "    T[2, 0, 0] = p_slip * 2\n",
    "    T[2, 0, 3] = 1.0 - 2 * p_slip\n",
    "    T[3, 0, 0] = 1.0 - p_slip\n",
    "    T[3, 0, 3] = p_slip\n",
    "\n",
    "    # State 1\n",
    "    T[:, 1, 1] = 1\n",
    "\n",
    "    # State 2\n",
    "    T[:, 2, 2] = 1\n",
    "\n",
    "    # State 3\n",
    "    T[0, 3, 0] = 1.0 - 2 * p_slip\n",
    "    T[0, 3, 3] = p_slip\n",
    "    T[0, 3, 4] = p_slip\n",
    "    T[1, 3, 0] = p_slip\n",
    "    T[1, 3, 4] = 1.0 - 2 * p_slip\n",
    "    T[1, 3, 6] = p_slip\n",
    "    T[2, 3, 3] = p_slip\n",
    "    T[2, 3, 4] = p_slip\n",
    "    T[2, 3, 6] = 1.0 - 2 * p_slip\n",
    "    T[3, 3, 3] = 1.0 - 2 * p_slip\n",
    "    T[3, 3, 0] = p_slip\n",
    "    T[3, 3, 6] = p_slip\n",
    "\n",
    "    # State 4\n",
    "    T[0, 4, 4] = 1.0 - 2 * p_slip\n",
    "    T[0, 4, 3] = p_slip\n",
    "    T[0, 4, 5] = p_slip\n",
    "    T[1, 4, 4] = p_slip\n",
    "    T[1, 4, 7] = p_slip\n",
    "    T[1, 4, 5] = 1.0 - 2 * p_slip\n",
    "    T[2, 4, 3] = p_slip\n",
    "    T[2, 4, 5] = p_slip\n",
    "    T[2, 4, 7] = 1.0 - 2 * p_slip\n",
    "    T[3, 4, 4] = p_slip\n",
    "    T[3, 4, 3] = 1.0 - 2 * p_slip\n",
    "    T[3, 4, 7] = p_slip\n",
    "\n",
    "    # State 5\n",
    "    T[0, 5, 5] = p_slip\n",
    "    T[0, 5, 2] = 1.0 - 2 * p_slip\n",
    "    T[0, 5, 4] = p_slip\n",
    "    T[1, 5, 5] = 1.0 - p_slip\n",
    "    T[1, 5, 2] = p_slip\n",
    "    T[2, 5, 5] = 1.0 - p_slip\n",
    "    T[2, 5, 4] = p_slip\n",
    "    T[3, 5, 5] = p_slip\n",
    "    T[3, 5, 4] = 1.0 - 2 * p_slip\n",
    "    T[3, 5, 2] = p_slip\n",
    "\n",
    "    # State 6\n",
    "    T[0, 6, 6] = p_slip\n",
    "    T[0, 6, 3] = 1.0 - 2 * p_slip\n",
    "    T[0, 6, 7] = p_slip\n",
    "    T[1, 6, 6] = p_slip\n",
    "    T[1, 6, 3] = p_slip\n",
    "    T[1, 6, 7] = 1.0 - 2 * p_slip\n",
    "    T[2, 6, 6] = 1.0 - p_slip\n",
    "    T[2, 6, 7] = p_slip\n",
    "    T[3, 6, 6] = 1.0 - p_slip\n",
    "    T[3, 6, 3] = p_slip\n",
    "\n",
    "    # State 7\n",
    "    T[:, 7, 7] = 1\n",
    "\n",
    "    # State 8\n",
    "    T[:, 8, 8] = 1\n",
    "\n",
    "    assert np.all([\n",
    "        T[a, s, :].sum() == 1\n",
    "        for a in range(actions)\n",
    "        for s in range(states)\n",
    "    ])\n",
    "\n",
    "    R[:, 4, 7] = reward_bad\n",
    "    R[0, 4, 7] = 0\n",
    "\n",
    "    R[:, 6, 7] = reward_bad\n",
    "    R[3, 6, 7] = 0\n",
    "\n",
    "    R[:, 5, 2] = reward_good\n",
    "    R[2, 5, 2] = 0\n",
    "    \n",
    "    return T, R\n",
    "\n",
    "def create_row(vals, row_index):\n",
    "    out = ''\n",
    "    lookup = {0: ' ↑ ',\n",
    "              1: ' → ',\n",
    "              2: ' ↓ ',\n",
    "              3: ' ←',\n",
    "              'wall':  '███',\n",
    "              'prize': ' 🎁',\n",
    "              'death': ' ☠'\n",
    "             }\n",
    "    border = '+---' * len(vals) + '+'\n",
    "    \n",
    "    if row_index == 0:\n",
    "        out += '{}\\n'.format(border)\n",
    "    \n",
    "    for i, val in enumerate(vals):\n",
    "        coord = (row_index, i)\n",
    "        val = special[coord] if coord in special else val\n",
    "        out += '|{}'.format(lookup[val])\n",
    "        \n",
    "    out += '+\\n'\n",
    "    out += border\n",
    "        \n",
    "    return out\n",
    "\n",
    "def show_world(policy):\n",
    "    for i in range(policy.shape[0]):\n",
    "        print(create_row(policy[i, :], i))\n",
    "        \n",
    "def run_value_iteration(T, R, discount, rows, cols):\n",
    "    vi = mdptoolbox.mdp.ValueIteration(T, R, discount=discount)\n",
    "\n",
    "    vi.setSilent()\n",
    "    vi.run()\n",
    "\n",
    "    policy = np.array(vi.policy).reshape((rows, cols))\n",
    "    V = np.array(vi.V).reshape((rows, cols))\n",
    "\n",
    "    show_world(policy)\n",
    "    print()\n",
    "    print(V)"
   ]
  },
  {
   "cell_type": "code",
   "execution_count": 16,
   "metadata": {},
   "outputs": [
    {
     "data": {
      "text/plain": [
       "(4, 9, 9)"
      ]
     },
     "execution_count": 16,
     "metadata": {},
     "output_type": "execute_result"
    }
   ],
   "source": [
    "T, R = get_T_and_R(actions, states,\n",
    "                   p_slip=0,\n",
    "                   reward_good=+1,\n",
    "                   reward_bad=-1)\n",
    "T.shape"
   ]
  },
  {
   "cell_type": "code",
   "execution_count": 17,
   "metadata": {},
   "outputs": [
    {
     "data": {
      "text/plain": [
       "numpy.ndarray"
      ]
     },
     "execution_count": 17,
     "metadata": {},
     "output_type": "execute_result"
    }
   ],
   "source": [
    "type(T)"
   ]
  },
  {
   "cell_type": "code",
   "execution_count": 20,
   "metadata": {},
   "outputs": [
    {
     "data": {
      "text/plain": [
       "0.0"
      ]
     },
     "execution_count": 20,
     "metadata": {},
     "output_type": "execute_result"
    }
   ],
   "source": [
    "T[1, 0, 8]"
   ]
  },
  {
   "cell_type": "code",
   "execution_count": 26,
   "metadata": {},
   "outputs": [
    {
     "data": {
      "text/plain": [
       "array([0.1, 0. , 0. , 0. , 0.8, 0. , 0.1, 0. , 0. ])"
      ]
     },
     "execution_count": 26,
     "metadata": {},
     "output_type": "execute_result"
    }
   ],
   "source": [
    "T, R = get_T_and_R(actions, states,\n",
    "                   p_slip=0.1,\n",
    "                   reward_good=+1,\n",
    "                   reward_bad=-1)\n",
    "T[1, 3, :]"
   ]
  },
  {
   "cell_type": "markdown",
   "metadata": {},
   "source": [
    "### Value Iteration"
   ]
  },
  {
   "cell_type": "code",
   "execution_count": 5,
   "metadata": {},
   "outputs": [
    {
     "name": "stdout",
     "output_type": "stream",
     "text": [
      "+---+---+---+\n",
      "| ↓ |███| 🎁+\n",
      "+---+---+---+\n",
      "| → | → | ↑ +\n",
      "+---+---+---+\n",
      "| ↑ | ☠|███+\n",
      "+---+---+---+\n",
      "\n",
      "[[0.997003 0.       0.      ]\n",
      " [0.998001 0.999    1.      ]\n",
      " [0.997003 0.       0.      ]]\n"
     ]
    }
   ],
   "source": [
    "T, R = get_T_and_R(actions, states,\n",
    "                   p_slip=0,\n",
    "                   reward_good=+1,\n",
    "                   reward_bad=-1)\n",
    "run_value_iteration(T, R, discount=0.999, rows=rows, cols=cols)"
   ]
  },
  {
   "cell_type": "code",
   "execution_count": 27,
   "metadata": {},
   "outputs": [
    {
     "name": "stdout",
     "output_type": "stream",
     "text": [
      "+---+---+---+\n",
      "| ↓ |███| 🎁+\n",
      "+---+---+---+\n",
      "| → | → | ↑ +\n",
      "+---+---+---+\n",
      "| ↑ | ☠|███+\n",
      "+---+---+---+\n",
      "\n",
      "[[0.729 0.    0.   ]\n",
      " [0.81  0.9   1.   ]\n",
      " [0.729 0.    0.   ]]\n"
     ]
    }
   ],
   "source": [
    "T, R = get_T_and_R(actions, states,\n",
    "                   p_slip=0,\n",
    "                   reward_good=+1,\n",
    "                   reward_bad=-1)\n",
    "run_value_iteration(T, R, discount=0.9, rows=rows, cols=cols)"
   ]
  },
  {
   "cell_type": "code",
   "execution_count": 34,
   "metadata": {},
   "outputs": [
    {
     "name": "stdout",
     "output_type": "stream",
     "text": [
      "+---+---+---+\n",
      "| ↑ |███| 🎁+\n",
      "+---+---+---+\n",
      "| ↑ | → | ↑ +\n",
      "+---+---+---+\n",
      "| ↑ | ☠|███+\n",
      "+---+---+---+\n",
      "\n",
      "[[0.  0.  0. ]\n",
      " [0.  0.1 1. ]\n",
      " [0.  0.  0. ]]\n"
     ]
    }
   ],
   "source": [
    "T, R = get_T_and_R(actions, states,\n",
    "                   p_slip=0,\n",
    "                   reward_good=+1,\n",
    "                   reward_bad=-1)\n",
    "run_value_iteration(T, R, discount=0.1, rows=rows, cols=cols)"
   ]
  },
  {
   "cell_type": "code",
   "execution_count": 8,
   "metadata": {},
   "outputs": [
    {
     "name": "stdout",
     "output_type": "stream",
     "text": [
      "+---+---+---+\n",
      "| ↓ |███| 🎁+\n",
      "+---+---+---+\n",
      "| → | → | ↑ +\n",
      "+---+---+---+\n",
      "| ↑ | ☠|███+\n",
      "+---+---+---+\n",
      "\n",
      "[[   1.    0.    0.]\n",
      " [  10.  100. 1000.]\n",
      " [   1.    0.    0.]]\n"
     ]
    }
   ],
   "source": [
    "T, R = get_T_and_R(actions, states,\n",
    "                   p_slip=0,\n",
    "                   reward_good=+1000,\n",
    "                   reward_bad=-1)\n",
    "run_value_iteration(T, R, discount=0.1, rows=rows, cols=cols)"
   ]
  },
  {
   "cell_type": "code",
   "execution_count": 9,
   "metadata": {},
   "outputs": [
    {
     "name": "stdout",
     "output_type": "stream",
     "text": [
      "+---+---+---+\n",
      "| ↓ |███| 🎁+\n",
      "+---+---+---+\n",
      "| → | → | ↑ +\n",
      "+---+---+---+\n",
      "| ↑ | ☠|███+\n",
      "+---+---+---+\n",
      "\n",
      "[[0.46194508 0.         0.        ]\n",
      " [0.5265261  0.63539471 0.94196104]\n",
      " [0.30645225 0.         0.        ]]\n"
     ]
    }
   ],
   "source": [
    "T, R = get_T_and_R(actions, states,\n",
    "                   p_slip=0.1,\n",
    "                   reward_good=+1,\n",
    "                   reward_bad=-1)\n",
    "run_value_iteration(T, R, discount=0.9, rows=rows, cols=cols)"
   ]
  },
  {
   "cell_type": "code",
   "execution_count": 10,
   "metadata": {},
   "outputs": [
    {
     "name": "stdout",
     "output_type": "stream",
     "text": [
      "+---+---+---+\n",
      "| ↓ |███| 🎁+\n",
      "+---+---+---+\n",
      "| → | ↑ | ↑ +\n",
      "+---+---+---+\n",
      "| ←| ☠|███+\n",
      "+---+---+---+\n",
      "\n",
      "[[0.28074043 0.         0.        ]\n",
      " [0.33387994 0.45515808 0.83148967]\n",
      " [0.21176434 0.         0.        ]]\n"
     ]
    }
   ],
   "source": [
    "T, R = get_T_and_R(actions, states,\n",
    "                   p_slip=0.2,\n",
    "                   reward_good=+1,\n",
    "                   reward_bad=-1)\n",
    "run_value_iteration(T, R, discount=0.9, rows=rows, cols=cols)"
   ]
  },
  {
   "cell_type": "code",
   "execution_count": 11,
   "metadata": {},
   "outputs": [
    {
     "name": "stdout",
     "output_type": "stream",
     "text": [
      "+---+---+---+\n",
      "| ↓ |███| 🎁+\n",
      "+---+---+---+\n",
      "| → | ↑ | ↑ +\n",
      "+---+---+---+\n",
      "| ←| ☠|███+\n",
      "+---+---+---+\n",
      "\n",
      "[[0.21017488 0.         0.        ]\n",
      " [0.2371802  0.2784303  0.95548373]\n",
      " [0.06690418 0.         0.        ]]\n"
     ]
    }
   ],
   "source": [
    "T, R = get_T_and_R(actions, states,\n",
    "                   p_slip=0.05,\n",
    "                   reward_good=+1,\n",
    "                   reward_bad=-100)\n",
    "run_value_iteration(T, R, discount=0.9, rows=rows, cols=cols)"
   ]
  },
  {
   "cell_type": "code",
   "execution_count": 12,
   "metadata": {},
   "outputs": [
    {
     "name": "stdout",
     "output_type": "stream",
     "text": [
      "+---+---+---+\n",
      "| ↓ |███| 🎁+\n",
      "+---+---+---+\n",
      "| → | → | ↑ +\n",
      "+---+---+---+\n",
      "| ↑ | ☠|███+\n",
      "+---+---+---+\n",
      "\n",
      "[[0.729 0.    0.   ]\n",
      " [0.81  0.9   1.   ]\n",
      " [0.729 0.    0.   ]]\n"
     ]
    }
   ],
   "source": [
    "T, R = get_T_and_R(actions, states,\n",
    "                   p_slip=0,\n",
    "                   reward_good=+1,\n",
    "                   reward_bad=-1)\n",
    "run_value_iteration(T, R, discount=0.9, rows=rows, cols=cols)"
   ]
  },
  {
   "cell_type": "markdown",
   "metadata": {},
   "source": [
    "#### Add slippage"
   ]
  },
  {
   "cell_type": "code",
   "execution_count": 28,
   "metadata": {},
   "outputs": [
    {
     "name": "stdout",
     "output_type": "stream",
     "text": [
      "+---+---+---+\n",
      "| ↓ |███| 🎁+\n",
      "+---+---+---+\n",
      "| → | → | ↑ +\n",
      "+---+---+---+\n",
      "| ↑ | ☠|███+\n",
      "+---+---+---+\n",
      "\n",
      "[[0.46194508 0.         0.        ]\n",
      " [0.5265261  0.63539471 0.94196104]\n",
      " [0.30645225 0.         0.        ]]\n"
     ]
    }
   ],
   "source": [
    "T, R = get_T_and_R(actions, states,\n",
    "                   p_slip=0.1,\n",
    "                   reward_good=+1,\n",
    "                   reward_bad=-1)\n",
    "run_value_iteration(T, R, discount=0.9, rows=rows, cols=cols)"
   ]
  },
  {
   "cell_type": "code",
   "execution_count": 33,
   "metadata": {},
   "outputs": [
    {
     "data": {
      "text/plain": [
       "array([0. , 0. , 0. , 0.1, 0. , 0. , 0.9, 0. , 0. ])"
      ]
     },
     "execution_count": 33,
     "metadata": {},
     "output_type": "execute_result"
    }
   ],
   "source": [
    "T[3, 6, :]"
   ]
  },
  {
   "cell_type": "markdown",
   "metadata": {},
   "source": [
    "### Breakdown by iteration"
   ]
  },
  {
   "cell_type": "code",
   "execution_count": 40,
   "metadata": {},
   "outputs": [],
   "source": [
    "T, R = get_T_and_R(actions, states,\n",
    "                   p_slip=0.1,\n",
    "                   reward_good=+1,\n",
    "                   reward_bad=-1)"
   ]
  },
  {
   "cell_type": "code",
   "execution_count": 41,
   "metadata": {},
   "outputs": [],
   "source": [
    "def by_iteration(epsilon):\n",
    "    vi = mdptoolbox.mdp.ValueIteration(T, R, discount=0.9, epsilon=epsilon)\n",
    "\n",
    "    #run value iteration silently\n",
    "    vi.setVerbose()\n",
    "    vi.run()\n",
    "\n",
    "    #print policy found by value iteration\n",
    "    policy = np.array(vi.policy).reshape((rows, cols))\n",
    "    V = np.array(vi.V).reshape((rows, cols))\n",
    "\n",
    "    show_world(policy)\n",
    "    print()\n",
    "    print(V)"
   ]
  },
  {
   "cell_type": "code",
   "execution_count": 42,
   "metadata": {},
   "outputs": [
    {
     "name": "stdout",
     "output_type": "stream",
     "text": [
      "  Iteration\t\tV-variation\n",
      "    1\t\t  0.8\n",
      "Iterating stopped, epsilon-optimal policy found.\n",
      "+---+---+---+\n",
      "| ↑ |███| 🎁+\n",
      "+---+---+---+\n",
      "| ↑ | ↑ | ↑ +\n",
      "+---+---+---+\n",
      "| ←| ☠|███+\n",
      "+---+---+---+\n",
      "\n",
      "[[0.  0.  0. ]\n",
      " [0.  0.  0.8]\n",
      " [0.  0.  0. ]]\n"
     ]
    }
   ],
   "source": [
    "by_iteration(10)"
   ]
  },
  {
   "cell_type": "code",
   "execution_count": 43,
   "metadata": {},
   "outputs": [
    {
     "name": "stdout",
     "output_type": "stream",
     "text": [
      "  Iteration\t\tV-variation\n",
      "    1\t\t  0.8\n",
      "    2\t\t  0.4760000000000002\n",
      "Iterating stopped, epsilon-optimal policy found.\n",
      "+---+---+---+\n",
      "| ↑ |███| 🎁+\n",
      "+---+---+---+\n",
      "| ↑ | → | ↑ +\n",
      "+---+---+---+\n",
      "| ←| ☠|███+\n",
      "+---+---+---+\n",
      "\n",
      "[[0.    0.    0.   ]\n",
      " [0.    0.476 0.872]\n",
      " [0.    0.    0.   ]]\n"
     ]
    }
   ],
   "source": [
    "by_iteration(5)"
   ]
  },
  {
   "cell_type": "code",
   "execution_count": 44,
   "metadata": {},
   "outputs": [
    {
     "data": {
      "text/plain": [
       "0.8720000000000001"
      ]
     },
     "execution_count": 44,
     "metadata": {},
     "output_type": "execute_result"
    }
   ],
   "source": [
    ".8 + .1 * .9 * .8 + .1 * 0"
   ]
  },
  {
   "cell_type": "code",
   "execution_count": 45,
   "metadata": {},
   "outputs": [
    {
     "name": "stdout",
     "output_type": "stream",
     "text": [
      "  Iteration\t\tV-variation\n",
      "    1\t\t  0.8\n",
      "    2\t\t  0.4760000000000002\n",
      "    3\t\t  0.3427200000000002\n",
      "Iterating stopped, epsilon-optimal policy found.\n",
      "+---+---+---+\n",
      "| ↑ |███| 🎁+\n",
      "+---+---+---+\n",
      "| → | → | ↑ +\n",
      "+---+---+---+\n",
      "| ←| ☠|███+\n",
      "+---+---+---+\n",
      "\n",
      "[[0.      0.      0.     ]\n",
      " [0.34272 0.57068 0.92132]\n",
      " [0.      0.      0.     ]]\n"
     ]
    }
   ],
   "source": [
    "by_iteration(4)"
   ]
  },
  {
   "cell_type": "code",
   "execution_count": 46,
   "metadata": {},
   "outputs": [
    {
     "name": "stdout",
     "output_type": "stream",
     "text": [
      "  Iteration\t\tV-variation\n",
      "    1\t\t  0.8\n",
      "    2\t\t  0.4760000000000002\n",
      "    3\t\t  0.3427200000000002\n",
      "    4\t\t  0.24675840000000013\n",
      "Iterating stopped, epsilon-optimal policy found.\n",
      "+---+---+---+\n",
      "| ↓ |███| 🎁+\n",
      "+---+---+---+\n",
      "| → | → | ↑ +\n",
      "+---+---+---+\n",
      "| ↑ | ☠|███+\n",
      "+---+---+---+\n",
      "\n",
      "[[0.2467584 0.        0.       ]\n",
      " [0.4108896 0.6147116 0.93428  ]\n",
      " [0.1467584 0.        0.       ]]\n"
     ]
    }
   ],
   "source": [
    "by_iteration(3)"
   ]
  },
  {
   "cell_type": "code",
   "execution_count": 47,
   "metadata": {},
   "outputs": [
    {
     "name": "stdout",
     "output_type": "stream",
     "text": [
      "  Iteration\t\tV-variation\n",
      "    1\t\t  0.8\n",
      "    2\t\t  0.4760000000000002\n",
      "    3\t\t  0.3427200000000002\n",
      "    4\t\t  0.24675840000000013\n",
      "    5\t\t  0.09349862399999995\n",
      "Iterating stopped, epsilon-optimal policy found.\n",
      "+---+---+---+\n",
      "| ↓ |███| 🎁+\n",
      "+---+---+---+\n",
      "| → | → | ↑ +\n",
      "+---+---+---+\n",
      "| ↑ | ☠|███+\n",
      "+---+---+---+\n",
      "\n",
      "[[0.34025702 0.         0.        ]\n",
      " [0.47800886 0.62800564 0.93940924]\n",
      " [0.20904877 0.         0.        ]]\n"
     ]
    }
   ],
   "source": [
    "by_iteration(1)"
   ]
  },
  {
   "cell_type": "code",
   "execution_count": 48,
   "metadata": {},
   "outputs": [
    {
     "name": "stdout",
     "output_type": "stream",
     "text": [
      "  Iteration\t\tV-variation\n",
      "    1\t\t  0.8\n",
      "    2\t\t  0.4760000000000002\n",
      "    3\t\t  0.3427200000000002\n",
      "    4\t\t  0.24675840000000013\n",
      "    5\t\t  0.09349862399999995\n",
      "    6\t\t  0.06515562240000011\n",
      "    7\t\t  0.028714771123200034\n",
      "    8\t\t  0.015420263922431954\n",
      "    9\t\t  0.006898644520865305\n",
      "    10\t\t  0.0033288479109944147\n",
      "    11\t\t  0.0014859837664340514\n",
      "    12\t\t  0.0006839220939536816\n",
      "Iterating stopped, epsilon-optimal policy found.\n",
      "+---+---+---+\n",
      "| ↓ |███| 🎁+\n",
      "+---+---+---+\n",
      "| → | → | ↑ +\n",
      "+---+---+---+\n",
      "| ↑ | ☠|███+\n",
      "+---+---+---+\n",
      "\n",
      "[[0.46194508 0.         0.        ]\n",
      " [0.5265261  0.63539471 0.94196104]\n",
      " [0.30645225 0.         0.        ]]\n"
     ]
    }
   ],
   "source": [
    "by_iteration(1e-2)"
   ]
  },
  {
   "cell_type": "markdown",
   "metadata": {},
   "source": [
    "### Policy iteration"
   ]
  },
  {
   "cell_type": "code",
   "execution_count": 25,
   "metadata": {},
   "outputs": [
    {
     "name": "stdout",
     "output_type": "stream",
     "text": [
      "  Iteration\t\tNumber of different actions\n",
      "    1\t\t  3\n",
      "    2\t\t  1\n",
      "    3\t\t  0\n",
      "Iterating stopped, unchanging policy found.\n",
      "+---+---+---+\n",
      "| ↓ |███| 🎁+\n",
      "+---+---+---+\n",
      "| → | → | ↑ +\n",
      "+---+---+---+\n",
      "| ↑ | ☠|███+\n",
      "+---+---+---+\n",
      "\n",
      "[[4.62494056e-01 0.00000000e+00 4.69743229e-17]\n",
      " [5.26729341e-01 6.35398926e-01 9.41962531e-01]\n",
      " [3.06862776e-01 0.00000000e+00 0.00000000e+00]]\n"
     ]
    }
   ],
   "source": [
    "pi = mdptoolbox.mdp.PolicyIteration(T, R, discount=0.9)\n",
    "\n",
    "#run value iteration silently\n",
    "pi.setVerbose()\n",
    "pi.run()\n",
    "\n",
    "#print policy found by value iteration\n",
    "policy = np.array(pi.policy).reshape((rows, cols))\n",
    "V = np.array(pi.V).reshape((rows, cols))\n",
    "\n",
    "show_world(policy)\n",
    "print()\n",
    "print(V)"
   ]
  },
  {
   "cell_type": "markdown",
   "metadata": {},
   "source": [
    "### Q-Learning"
   ]
  },
  {
   "cell_type": "code",
   "execution_count": 532,
   "metadata": {},
   "outputs": [],
   "source": [
    "class QLearner:\n",
    "    def __init__(self, epsilon, alpha, gamma,\n",
    "                 start_state=6, finish_states={2, 7}, walls={1, 8}):\n",
    "        assert start_state not in finish_states.union(walls)\n",
    "        self.epsilon = epsilon\n",
    "        self.alpha = alpha\n",
    "        self.gamma = gamma\n",
    "        self.start_state = 6\n",
    "        self.finish_states = finish_states\n",
    "        self.state = start_state\n",
    "        self.actions = T.shape[0]\n",
    "        self.states = T.shape[1]\n",
    "        self.q = np.zeros((self.states, self.actions))\n",
    "        \n",
    "    def _reset(self):\n",
    "        self.state = self.start_state\n",
    "    \n",
    "    def _act(self, action):\n",
    "        if action in range(self.actions):\n",
    "            probs = T[action, self.state, :]\n",
    "            s_prime = np.random.choice(range(self.states), p=probs)\n",
    "            finished = False\n",
    "            reward = R[action, self.state, s_prime]\n",
    "            if s_prime in self.finish_states:\n",
    "                finished = True\n",
    "                self._reset()\n",
    "            else:\n",
    "                self.state = s_prime\n",
    "            return s_prime, reward, finished\n",
    "        else:\n",
    "            raise ValueError(\"Action {} is not supported\".format(action))\n",
    "    \n",
    "    def _q_update(self, s, a, r, s_prime):\n",
    "        q = self.q[s, a]\n",
    "        later_reward = self.q[s_prime, np.argmax(self.q[s_prime, :])]\n",
    "        improved_estimate = r + self.gamma * later_reward\n",
    "        self.q[s, a] = (1 - self.alpha) * q + self.alpha * improved_estimate\n",
    "        \n",
    "    def _update(self):\n",
    "        explore = np.random.rand() <= self.epsilon\n",
    "        action = (np.random.randint(self.actions) if explore\n",
    "                  else np.argmax(self.q[self.state, :]))\n",
    "        s = self.state\n",
    "        s_prime, reward, finished = self._act(action)\n",
    "        self._q_update(s, action, reward, s_prime)\n",
    "        return reward, finished, s_prime, action, explore\n",
    "        \n",
    "    def learn(self, episodes, verbose=False, show_every=1000, print_every=100):\n",
    "        for episode in range(episodes):\n",
    "            finished = False\n",
    "            i = 0\n",
    "            while not finished:\n",
    "                reward, finished, _, _, _ = self._update()\n",
    "                i += 1\n",
    "                \n",
    "            if verbose:\n",
    "                if episode == 0 or (episode + 1) % print_every == 0:\n",
    "                    out = 'Finished epsiode {} after {} steps with reward {}'\n",
    "                    print(out.format(episode, i, reward))\n",
    "                \n",
    "                if episode == 0 or (episode + 1) % show_every == 0:\n",
    "                    show_world(np.argmax(q.q, axis=1).reshape((rows, cols)))"
   ]
  },
  {
   "cell_type": "code",
   "execution_count": 533,
   "metadata": {},
   "outputs": [],
   "source": [
    "q = QLearner(epsilon=0.1, alpha=0.1, gamma=0.9)"
   ]
  },
  {
   "cell_type": "code",
   "execution_count": 241,
   "metadata": {},
   "outputs": [
    {
     "data": {
      "text/plain": [
       "(3, 0.0, False)"
      ]
     },
     "execution_count": 241,
     "metadata": {},
     "output_type": "execute_result"
    }
   ],
   "source": [
    "q._act(Action.UP)"
   ]
  },
  {
   "cell_type": "code",
   "execution_count": 242,
   "metadata": {},
   "outputs": [
    {
     "data": {
      "text/plain": [
       "(4, 0.0, False)"
      ]
     },
     "execution_count": 242,
     "metadata": {},
     "output_type": "execute_result"
    }
   ],
   "source": [
    "q._act(Action.RIGHT)"
   ]
  },
  {
   "cell_type": "code",
   "execution_count": 243,
   "metadata": {},
   "outputs": [
    {
     "data": {
      "text/plain": [
       "(5, 0.0, False)"
      ]
     },
     "execution_count": 243,
     "metadata": {},
     "output_type": "execute_result"
    }
   ],
   "source": [
    "q._act(Action.RIGHT)"
   ]
  },
  {
   "cell_type": "code",
   "execution_count": 244,
   "metadata": {},
   "outputs": [
    {
     "data": {
      "text/plain": [
       "(2, 1.0, True)"
      ]
     },
     "execution_count": 244,
     "metadata": {},
     "output_type": "execute_result"
    }
   ],
   "source": [
    "q._act(Action.UP)"
   ]
  },
  {
   "cell_type": "code",
   "execution_count": 245,
   "metadata": {},
   "outputs": [],
   "source": [
    "q._reset()"
   ]
  },
  {
   "cell_type": "code",
   "execution_count": 539,
   "metadata": {},
   "outputs": [
    {
     "name": "stdout",
     "output_type": "stream",
     "text": [
      "Finished epsiode 0 after 1274 steps with reward 1.0\n",
      "+---+---+---+\n",
      "| ↑ |███| 🎁+\n",
      "+---+---+---+\n",
      "| ↑ | ↑ | ↑ +\n",
      "+---+---+---+\n",
      "| ↑ | ☠|███+\n",
      "+---+---+---+\n",
      "Finished epsiode 2499 after 5 steps with reward 1.0\n",
      "Finished epsiode 4999 after 7 steps with reward 1.0\n",
      "+---+---+---+\n",
      "| ↓ |███| 🎁+\n",
      "+---+---+---+\n",
      "| → | → | ↑ +\n",
      "+---+---+---+\n",
      "| ↑ | ☠|███+\n",
      "+---+---+---+\n",
      "Finished epsiode 7499 after 15 steps with reward 1.0\n",
      "Finished epsiode 9999 after 6 steps with reward -1.0\n",
      "+---+---+---+\n",
      "| ↓ |███| 🎁+\n",
      "+---+---+---+\n",
      "| → | ↑ | ↑ +\n",
      "+---+---+---+\n",
      "| ↑ | ☠|███+\n",
      "+---+---+---+\n",
      "Finished epsiode 12499 after 1 steps with reward -1.0\n",
      "Finished epsiode 14999 after 14 steps with reward 1.0\n",
      "+---+---+---+\n",
      "| ↓ |███| 🎁+\n",
      "+---+---+---+\n",
      "| → | → | ↑ +\n",
      "+---+---+---+\n",
      "| ←| ☠|███+\n",
      "+---+---+---+\n",
      "Finished epsiode 17499 after 4 steps with reward 1.0\n",
      "Finished epsiode 19999 after 23 steps with reward -1.0\n",
      "+---+---+---+\n",
      "| ↓ |███| 🎁+\n",
      "+---+---+---+\n",
      "| → | → | ↑ +\n",
      "+---+---+---+\n",
      "| ←| ☠|███+\n",
      "+---+---+---+\n",
      "Finished epsiode 22499 after 17 steps with reward 1.0\n",
      "Finished epsiode 24999 after 1 steps with reward -1.0\n",
      "+---+---+---+\n",
      "| ↓ |███| 🎁+\n",
      "+---+---+---+\n",
      "| → | → | ↑ +\n",
      "+---+---+---+\n",
      "| ←| ☠|███+\n",
      "+---+---+---+\n",
      "Finished epsiode 27499 after 13 steps with reward -1.0\n",
      "Finished epsiode 29999 after 20 steps with reward 1.0\n",
      "+---+---+---+\n",
      "| ↓ |███| 🎁+\n",
      "+---+---+---+\n",
      "| → | → | ↑ +\n",
      "+---+---+---+\n",
      "| ←| ☠|███+\n",
      "+---+---+---+\n",
      "Finished epsiode 32499 after 1 steps with reward -1.0\n",
      "Finished epsiode 34999 after 10 steps with reward 1.0\n",
      "+---+---+---+\n",
      "| ↓ |███| 🎁+\n",
      "+---+---+---+\n",
      "| → | → | ↑ +\n",
      "+---+---+---+\n",
      "| ←| ☠|███+\n",
      "+---+---+---+\n",
      "Finished epsiode 37499 after 10 steps with reward -1.0\n",
      "Finished epsiode 39999 after 12 steps with reward 1.0\n",
      "+---+---+---+\n",
      "| ↓ |███| 🎁+\n",
      "+---+---+---+\n",
      "| → | → | ↑ +\n",
      "+---+---+---+\n",
      "| ←| ☠|███+\n",
      "+---+---+---+\n",
      "Finished epsiode 42499 after 16 steps with reward 1.0\n",
      "Finished epsiode 44999 after 4 steps with reward 1.0\n",
      "+---+---+---+\n",
      "| ↓ |███| 🎁+\n",
      "+---+---+---+\n",
      "| → | → | ↑ +\n",
      "+---+---+---+\n",
      "| ↑ | ☠|███+\n",
      "+---+---+---+\n",
      "Finished epsiode 47499 after 6 steps with reward 1.0\n",
      "Finished epsiode 49999 after 4 steps with reward 1.0\n",
      "+---+---+---+\n",
      "| ↓ |███| 🎁+\n",
      "+---+---+---+\n",
      "| → | → | ↑ +\n",
      "+---+---+---+\n",
      "| ←| ☠|███+\n",
      "+---+---+---+\n"
     ]
    }
   ],
   "source": [
    "q = QLearner(epsilon=0.1, alpha=0.1, gamma=0.9)\n",
    "q.learn(50000, verbose=True, show_every=5000, print_every=2500)"
   ]
  },
  {
   "cell_type": "code",
   "execution_count": 540,
   "metadata": {},
   "outputs": [
    {
     "name": "stdout",
     "output_type": "stream",
     "text": [
      "Finished epsiode 0 after 516 steps with reward 1.0\n",
      "+---+---+---+\n",
      "| ↑ |███| 🎁+\n",
      "+---+---+---+\n",
      "| ↑ | ↑ | ↑ +\n",
      "+---+---+---+\n",
      "| ↑ | ☠|███+\n",
      "+---+---+---+\n",
      "Finished epsiode 2499 after 18 steps with reward 1.0\n",
      "Finished epsiode 4999 after 4 steps with reward 1.0\n",
      "+---+---+---+\n",
      "| ↓ |███| 🎁+\n",
      "+---+---+---+\n",
      "| → | → | ↑ +\n",
      "+---+---+---+\n",
      "| ↑ | ☠|███+\n",
      "+---+---+---+\n",
      "Finished epsiode 7499 after 5 steps with reward 1.0\n",
      "Finished epsiode 9999 after 68 steps with reward -1.0\n",
      "+---+---+---+\n",
      "| ↓ |███| 🎁+\n",
      "+---+---+---+\n",
      "| ←| → | ↑ +\n",
      "+---+---+---+\n",
      "| ←| ☠|███+\n",
      "+---+---+---+\n",
      "Finished epsiode 12499 after 17 steps with reward 1.0\n",
      "Finished epsiode 14999 after 15 steps with reward -1.0\n",
      "+---+---+---+\n",
      "| ↓ |███| 🎁+\n",
      "+---+---+---+\n",
      "| → | → | ↑ +\n",
      "+---+---+---+\n",
      "| ←| ☠|███+\n",
      "+---+---+---+\n",
      "Finished epsiode 17499 after 9 steps with reward 1.0\n",
      "Finished epsiode 19999 after 16 steps with reward 1.0\n",
      "+---+---+---+\n",
      "| ↓ |███| 🎁+\n",
      "+---+---+---+\n",
      "| → | ↑ | ↑ +\n",
      "+---+---+---+\n",
      "| ←| ☠|███+\n",
      "+---+---+---+\n",
      "Finished epsiode 22499 after 27 steps with reward 1.0\n",
      "Finished epsiode 24999 after 14 steps with reward 1.0\n",
      "+---+---+---+\n",
      "| ↓ |███| 🎁+\n",
      "+---+---+---+\n",
      "| → | → | ↑ +\n",
      "+---+---+---+\n",
      "| ←| ☠|███+\n",
      "+---+---+---+\n",
      "Finished epsiode 27499 after 4 steps with reward 1.0\n",
      "Finished epsiode 29999 after 48 steps with reward 1.0\n",
      "+---+---+---+\n",
      "| ↓ |███| 🎁+\n",
      "+---+---+---+\n",
      "| → | ↑ | ↑ +\n",
      "+---+---+---+\n",
      "| ←| ☠|███+\n",
      "+---+---+---+\n",
      "Finished epsiode 32499 after 5 steps with reward 1.0\n",
      "Finished epsiode 34999 after 1 steps with reward -1.0\n",
      "+---+---+---+\n",
      "| ↓ |███| 🎁+\n",
      "+---+---+---+\n",
      "| → | ↑ | ↑ +\n",
      "+---+---+---+\n",
      "| ←| ☠|███+\n",
      "+---+---+---+\n",
      "Finished epsiode 37499 after 17 steps with reward 1.0\n",
      "Finished epsiode 39999 after 8 steps with reward -1.0\n",
      "+---+---+---+\n",
      "| ↓ |███| 🎁+\n",
      "+---+---+---+\n",
      "| → | → | ↑ +\n",
      "+---+---+---+\n",
      "| ←| ☠|███+\n",
      "+---+---+---+\n",
      "Finished epsiode 42499 after 19 steps with reward 1.0\n",
      "Finished epsiode 44999 after 4 steps with reward 1.0\n",
      "+---+---+---+\n",
      "| ↓ |███| 🎁+\n",
      "+---+---+---+\n",
      "| → | → | ↑ +\n",
      "+---+---+---+\n",
      "| ↑ | ☠|███+\n",
      "+---+---+---+\n",
      "Finished epsiode 47499 after 5 steps with reward -1.0\n",
      "Finished epsiode 49999 after 19 steps with reward -1.0\n",
      "+---+---+---+\n",
      "| ↓ |███| 🎁+\n",
      "+---+---+---+\n",
      "| → | ↑ | ↑ +\n",
      "+---+---+---+\n",
      "| ←| ☠|███+\n",
      "+---+---+---+\n"
     ]
    }
   ],
   "source": [
    "q = QLearner(epsilon=0.1, alpha=0.5, gamma=0.9)\n",
    "q.learn(50000, verbose=True, show_every=5000, print_every=2500)"
   ]
  },
  {
   "cell_type": "code",
   "execution_count": 541,
   "metadata": {},
   "outputs": [
    {
     "name": "stdout",
     "output_type": "stream",
     "text": [
      "Finished epsiode 0 after 2040 steps with reward 1.0\n",
      "+---+---+---+\n",
      "| ↑ |███| 🎁+\n",
      "+---+---+---+\n",
      "| ↑ | ↑ | ↑ +\n",
      "+---+---+---+\n",
      "| ↑ | ☠|███+\n",
      "+---+---+---+\n",
      "Finished epsiode 2499 after 15 steps with reward 1.0\n",
      "Finished epsiode 4999 after 16 steps with reward 1.0\n",
      "+---+---+---+\n",
      "| ↓ |███| 🎁+\n",
      "+---+---+---+\n",
      "| → | ↑ | ↑ +\n",
      "+---+---+---+\n",
      "| ←| ☠|███+\n",
      "+---+---+---+\n",
      "Finished epsiode 7499 after 5 steps with reward 1.0\n",
      "Finished epsiode 9999 after 17 steps with reward 1.0\n",
      "+---+---+---+\n",
      "| ↓ |███| 🎁+\n",
      "+---+---+---+\n",
      "| → | ↑ | ↑ +\n",
      "+---+---+---+\n",
      "| ←| ☠|███+\n",
      "+---+---+---+\n",
      "Finished epsiode 12499 after 27 steps with reward -1.0\n",
      "Finished epsiode 14999 after 20 steps with reward 1.0\n",
      "+---+---+---+\n",
      "| ↓ |███| 🎁+\n",
      "+---+---+---+\n",
      "| → | ↑ | ↑ +\n",
      "+---+---+---+\n",
      "| ←| ☠|███+\n",
      "+---+---+---+\n",
      "Finished epsiode 17499 after 24 steps with reward 1.0\n",
      "Finished epsiode 19999 after 11 steps with reward 1.0\n",
      "+---+---+---+\n",
      "| ↓ |███| 🎁+\n",
      "+---+---+---+\n",
      "| → | → | ↑ +\n",
      "+---+---+---+\n",
      "| ←| ☠|███+\n",
      "+---+---+---+\n",
      "Finished epsiode 22499 after 37 steps with reward -1.0\n",
      "Finished epsiode 24999 after 34 steps with reward 1.0\n",
      "+---+---+---+\n",
      "| ↓ |███| 🎁+\n",
      "+---+---+---+\n",
      "| → | → | ↑ +\n",
      "+---+---+---+\n",
      "| ←| ☠|███+\n",
      "+---+---+---+\n",
      "Finished epsiode 27499 after 48 steps with reward 1.0\n",
      "Finished epsiode 29999 after 14 steps with reward 1.0\n",
      "+---+---+---+\n",
      "| ↓ |███| 🎁+\n",
      "+---+---+---+\n",
      "| → | ↑ | ↑ +\n",
      "+---+---+---+\n",
      "| ←| ☠|███+\n",
      "+---+---+---+\n",
      "Finished epsiode 32499 after 37 steps with reward 1.0\n",
      "Finished epsiode 34999 after 8 steps with reward 1.0\n",
      "+---+---+---+\n",
      "| ↓ |███| 🎁+\n",
      "+---+---+---+\n",
      "| → | → | ↑ +\n",
      "+---+---+---+\n",
      "| ←| ☠|███+\n",
      "+---+---+---+\n",
      "Finished epsiode 37499 after 20 steps with reward 1.0\n",
      "Finished epsiode 39999 after 7 steps with reward 1.0\n",
      "+---+---+---+\n",
      "| ↓ |███| 🎁+\n",
      "+---+---+---+\n",
      "| → | → | ↑ +\n",
      "+---+---+---+\n",
      "| ←| ☠|███+\n",
      "+---+---+---+\n",
      "Finished epsiode 42499 after 14 steps with reward 1.0\n",
      "Finished epsiode 44999 after 9 steps with reward 1.0\n",
      "+---+---+---+\n",
      "| ↓ |███| 🎁+\n",
      "+---+---+---+\n",
      "| → | → | ↑ +\n",
      "+---+---+---+\n",
      "| ←| ☠|███+\n",
      "+---+---+---+\n",
      "Finished epsiode 47499 after 4 steps with reward -1.0\n",
      "Finished epsiode 49999 after 4 steps with reward 1.0\n",
      "+---+---+---+\n",
      "| ↓ |███| 🎁+\n",
      "+---+---+---+\n",
      "| → | → | ↑ +\n",
      "+---+---+---+\n",
      "| ↑ | ☠|███+\n",
      "+---+---+---+\n"
     ]
    }
   ],
   "source": [
    "q = QLearner(epsilon=0.01, alpha=0.1, gamma=0.9)\n",
    "q.learn(50000, verbose=True, show_every=5000, print_every=2500)"
   ]
  },
  {
   "cell_type": "code",
   "execution_count": 542,
   "metadata": {},
   "outputs": [
    {
     "name": "stdout",
     "output_type": "stream",
     "text": [
      "Finished epsiode 0 after 833 steps with reward 1.0\n",
      "+---+---+---+\n",
      "| ↑ |███| 🎁+\n",
      "+---+---+---+\n",
      "| ↑ | ↑ | ↑ +\n",
      "+---+---+---+\n",
      "| ↑ | ☠|███+\n",
      "+---+---+---+\n",
      "Finished epsiode 2499 after 4 steps with reward 1.0\n",
      "Finished epsiode 4999 after 4 steps with reward 1.0\n",
      "+---+---+---+\n",
      "| ↓ |███| 🎁+\n",
      "+---+---+---+\n",
      "| → | → | ↑ +\n",
      "+---+---+---+\n",
      "| ↑ | ☠|███+\n",
      "+---+---+---+\n",
      "Finished epsiode 7499 after 5 steps with reward -1.0\n",
      "Finished epsiode 9999 after 15 steps with reward 1.0\n",
      "+---+---+---+\n",
      "| ↓ |███| 🎁+\n",
      "+---+---+---+\n",
      "| → | → | ↑ +\n",
      "+---+---+---+\n",
      "| ←| ☠|███+\n",
      "+---+---+---+\n",
      "Finished epsiode 12499 after 7 steps with reward 1.0\n",
      "Finished epsiode 14999 after 4 steps with reward 1.0\n",
      "+---+---+---+\n",
      "| ↓ |███| 🎁+\n",
      "+---+---+---+\n",
      "| → | → | ↑ +\n",
      "+---+---+---+\n",
      "| ↑ | ☠|███+\n",
      "+---+---+---+\n",
      "Finished epsiode 17499 after 1 steps with reward -1.0\n",
      "Finished epsiode 19999 after 5 steps with reward 1.0\n",
      "+---+---+---+\n",
      "| ↓ |███| 🎁+\n",
      "+---+---+---+\n",
      "| → | → | ↑ +\n",
      "+---+---+---+\n",
      "| ↑ | ☠|███+\n",
      "+---+---+---+\n",
      "Finished epsiode 22499 after 4 steps with reward 1.0\n",
      "Finished epsiode 24999 after 3 steps with reward -1.0\n",
      "+---+---+---+\n",
      "| ↓ |███| 🎁+\n",
      "+---+---+---+\n",
      "| → | → | ↑ +\n",
      "+---+---+---+\n",
      "| ↑ | ☠|███+\n",
      "+---+---+---+\n",
      "Finished epsiode 27499 after 7 steps with reward -1.0\n",
      "Finished epsiode 29999 after 13 steps with reward 1.0\n",
      "+---+---+---+\n",
      "| ↓ |███| 🎁+\n",
      "+---+---+---+\n",
      "| → | → | ↑ +\n",
      "+---+---+---+\n",
      "| ←| ☠|███+\n",
      "+---+---+---+\n",
      "Finished epsiode 32499 after 5 steps with reward 1.0\n",
      "Finished epsiode 34999 after 4 steps with reward 1.0\n",
      "+---+---+---+\n",
      "| ↓ |███| 🎁+\n",
      "+---+---+---+\n",
      "| → | → | ↑ +\n",
      "+---+---+---+\n",
      "| ↑ | ☠|███+\n",
      "+---+---+---+\n",
      "Finished epsiode 37499 after 6 steps with reward 1.0\n",
      "Finished epsiode 39999 after 4 steps with reward -1.0\n",
      "+---+---+---+\n",
      "| ↓ |███| 🎁+\n",
      "+---+---+---+\n",
      "| → | → | ↑ +\n",
      "+---+---+---+\n",
      "| ↑ | ☠|███+\n",
      "+---+---+---+\n",
      "Finished epsiode 42499 after 5 steps with reward 1.0\n",
      "Finished epsiode 44999 after 4 steps with reward 1.0\n",
      "+---+---+---+\n",
      "| ↓ |███| 🎁+\n",
      "+---+---+---+\n",
      "| → | → | ↑ +\n",
      "+---+---+---+\n",
      "| ↑ | ☠|███+\n",
      "+---+---+---+\n",
      "Finished epsiode 47499 after 3 steps with reward -1.0\n",
      "Finished epsiode 49999 after 18 steps with reward 1.0\n",
      "+---+---+---+\n",
      "| ↓ |███| 🎁+\n",
      "+---+---+---+\n",
      "| → | → | ↑ +\n",
      "+---+---+---+\n",
      "| ←| ☠|███+\n",
      "+---+---+---+\n"
     ]
    }
   ],
   "source": [
    "q = QLearner(epsilon=0.1, alpha=0.01, gamma=0.9)\n",
    "q.learn(50000, verbose=True, show_every=5000, print_every=2500)"
   ]
  },
  {
   "cell_type": "code",
   "execution_count": null,
   "metadata": {},
   "outputs": [],
   "source": [
    "# decay alpha, otherwise no good`"
   ]
  },
  {
   "cell_type": "markdown",
   "metadata": {},
   "source": [
    "## Deep Q-Learning"
   ]
  },
  {
   "cell_type": "code",
   "execution_count": 170,
   "metadata": {},
   "outputs": [],
   "source": [
    "# install box2d by following:\n",
    "# https://github.com/pybox2d/pybox2d/blob/master/INSTALL.md\n",
    "# then\n",
    "# pip install gym"
   ]
  },
  {
   "cell_type": "markdown",
   "metadata": {},
   "source": [
    "> Found neither the ffmpeg nor avconv executables. On OS X, you can install ffmpeg via `brew install ffmpeg`. On most Ubuntu variants, `sudo apt-get install ffmpeg` should do it. On Ubuntu 14.04, however, you'll need to install avconv with `sudo apt-get install libav-tools`."
   ]
  },
  {
   "cell_type": "code",
   "execution_count": 49,
   "metadata": {},
   "outputs": [],
   "source": [
    "import gym"
   ]
  },
  {
   "cell_type": "code",
   "execution_count": 50,
   "metadata": {},
   "outputs": [
    {
     "name": "stdout",
     "output_type": "stream",
     "text": [
      "\u001b[33mWARN: gym.spaces.Box autodetected dtype as <class 'numpy.float32'>. Please provide explicit dtype.\u001b[0m\n"
     ]
    }
   ],
   "source": [
    "env = gym.make('LunarLander-v2')"
   ]
  },
  {
   "cell_type": "code",
   "execution_count": 51,
   "metadata": {},
   "outputs": [
    {
     "name": "stdout",
     "output_type": "stream",
     "text": [
      "Discrete(4)\n"
     ]
    }
   ],
   "source": [
    "print(env.action_space)"
   ]
  },
  {
   "cell_type": "code",
   "execution_count": 52,
   "metadata": {},
   "outputs": [
    {
     "name": "stdout",
     "output_type": "stream",
     "text": [
      "Box(8,)\n"
     ]
    }
   ],
   "source": [
    "print(env.observation_space)"
   ]
  },
  {
   "cell_type": "code",
   "execution_count": 61,
   "metadata": {},
   "outputs": [
    {
     "data": {
      "text/plain": [
       "array([ 0.00415268,  0.93623248,  0.42060881, -0.29206429, -0.00480515,\n",
       "       -0.09527405,  0.        ,  0.        ])"
      ]
     },
     "execution_count": 61,
     "metadata": {},
     "output_type": "execute_result"
    }
   ],
   "source": [
    "state = env.reset()\n",
    "state"
   ]
  },
  {
   "cell_type": "code",
   "execution_count": 62,
   "metadata": {},
   "outputs": [
    {
     "name": "stdout",
     "output_type": "stream",
     "text": [
      "reward     : -1.4567268781058829\n",
      "next state : [ 0.00830536  0.93146716  0.42004108 -0.31771205 -0.00951314 -0.09416826\n",
      "  0.          0.        ]\n",
      "done       : False\n"
     ]
    }
   ],
   "source": [
    "action = 0\n",
    "state_next, reward, done, _ = env.step(action)\n",
    "print('reward     : {}'.format(reward))\n",
    "print('next state : {}'.format(state_next))\n",
    "print('done       : {}'.format(done))"
   ]
  },
  {
   "cell_type": "code",
   "execution_count": 63,
   "metadata": {},
   "outputs": [
    {
     "data": {
      "text/plain": [
       "array([ 0.00830536,  0.93146716,  0.42004108, -0.31771205, -0.00951314,\n",
       "       -0.09416826,  0.        ,  0.        ])"
      ]
     },
     "execution_count": 63,
     "metadata": {},
     "output_type": "execute_result"
    }
   ],
   "source": [
    "state_next"
   ]
  },
  {
   "cell_type": "code",
   "execution_count": 64,
   "metadata": {},
   "outputs": [
    {
     "data": {
      "text/plain": [
       "-1.4567268781058829"
      ]
     },
     "execution_count": 64,
     "metadata": {},
     "output_type": "execute_result"
    }
   ],
   "source": [
    "reward"
   ]
  },
  {
   "cell_type": "code",
   "execution_count": 23,
   "metadata": {},
   "outputs": [
    {
     "data": {
      "text/plain": [
       "False"
      ]
     },
     "execution_count": 23,
     "metadata": {},
     "output_type": "execute_result"
    }
   ],
   "source": [
    "done"
   ]
  },
  {
   "cell_type": "code",
   "execution_count": 65,
   "metadata": {},
   "outputs": [],
   "source": [
    "env.close()"
   ]
  },
  {
   "cell_type": "code",
   "execution_count": 66,
   "metadata": {},
   "outputs": [
    {
     "data": {
      "text/plain": [
       "4000000"
      ]
     },
     "execution_count": 66,
     "metadata": {},
     "output_type": "execute_result"
    }
   ],
   "source": [
    "# number of states if discretized to [0.1, ..., 1]\n",
    "10 ** 6 * 2 * 2"
   ]
  },
  {
   "cell_type": "markdown",
   "metadata": {},
   "source": [
    "### Random agent"
   ]
  },
  {
   "cell_type": "code",
   "execution_count": 73,
   "metadata": {},
   "outputs": [
    {
     "name": "stdout",
     "output_type": "stream",
     "text": [
      "\u001b[33mWARN: gym.spaces.Box autodetected dtype as <class 'numpy.float32'>. Please provide explicit dtype.\u001b[0m\n"
     ]
    }
   ],
   "source": [
    "env = gym.make('LunarLander-v2')\n",
    "actions = env.action_space.n\n",
    "episodes = 1000\n",
    "\n",
    "results = []\n",
    "\n",
    "for episode_index in range(episodes):\n",
    "    state = env.reset()\n",
    "    done = False\n",
    "    rewards = 0\n",
    "    rewards_cumulative = []\n",
    "\n",
    "    while not done:\n",
    "        action = env.action_space.sample()\n",
    "        s_prime, reward, done, _ = env.step(action)\n",
    "        state = s_prime\n",
    "        rewards += reward\n",
    "        rewards_cumulative.append(rewards)\n",
    "        \n",
    "    results.append(rewards_cumulative)\n",
    "        \n",
    "env.close()"
   ]
  },
  {
   "cell_type": "code",
   "execution_count": 81,
   "metadata": {},
   "outputs": [
    {
     "data": {
      "text/plain": [
       "count    1000.000000\n",
       "mean       93.222000\n",
       "std        35.003657\n",
       "min        52.000000\n",
       "25%        76.000000\n",
       "50%        91.000000\n",
       "75%       106.000000\n",
       "max      1000.000000\n",
       "dtype: float64"
      ]
     },
     "execution_count": 81,
     "metadata": {},
     "output_type": "execute_result"
    }
   ],
   "source": [
    "c = pd.Series([len(x) for x in results])\n",
    "c.describe()"
   ]
  },
  {
   "cell_type": "code",
   "execution_count": 83,
   "metadata": {},
   "outputs": [
    {
     "data": {
      "image/png": "[encoded data removed]",
      "text/plain": [
       "<Figure size 432x288 with 1 Axes>"
      ]
     },
     "metadata": {},
     "output_type": "display_data"
    }
   ],
   "source": [
    "_ = c.hist()"
   ]
  },
  {
   "cell_type": "code",
   "execution_count": 79,
   "metadata": {},
   "outputs": [
    {
     "data": {
      "text/plain": [
       "count    1000.000000\n",
       "mean     -226.104549\n",
       "std       105.824792\n",
       "min      -658.181985\n",
       "25%      -287.486231\n",
       "50%      -194.511855\n",
       "75%      -150.165514\n",
       "max        61.812355\n",
       "dtype: float64"
      ]
     },
     "execution_count": 79,
     "metadata": {},
     "output_type": "execute_result"
    }
   ],
   "source": [
    "r = pd.Series([x[-1] for x in results])\n",
    "r.describe()"
   ]
  },
  {
   "cell_type": "code",
   "execution_count": 84,
   "metadata": {},
   "outputs": [
    {
     "data": {
      "image/png": "[encoded data removed]",
      "text/plain": [
       "<Figure size 432x288 with 1 Axes>"
      ]
     },
     "metadata": {},
     "output_type": "display_data"
    }
   ],
   "source": [
    "_ = r.hist()"
   ]
  },
  {
   "cell_type": "markdown",
   "metadata": {},
   "source": [
    "### Deep Q"
   ]
  },
  {
   "cell_type": "code",
   "execution_count": 165,
   "metadata": {},
   "outputs": [],
   "source": [
    "from collections import defaultdict, deque\n",
    "import datetime\n",
    "from functools import partial\n",
    "import random\n",
    "from gym.wrappers import Monitor\n",
    "\n",
    "from keras import backend\n",
    "from keras.layers import Dense\n",
    "from keras.models import Sequential\n",
    "from keras.optimizers import Adam"
   ]
  },
  {
   "cell_type": "code",
   "execution_count": 136,
   "metadata": {},
   "outputs": [],
   "source": [
    "class Uniform:\n",
    "    def __init__(self, buffer_size, buffer_items, seed=0):\n",
    "        np.random.seed(seed)\n",
    "        random.seed(seed)\n",
    "\n",
    "        # https://github.com/amirziai/learning/blob/master/python/defaultdict-of-fixed-length-buffers.ipynb\n",
    "        self.buffer = defaultdict(partial(deque, maxlen=buffer_size))\n",
    "        self.buffer_items = buffer_items\n",
    "\n",
    "    def add(self, kwargs, priority):\n",
    "        for item in self.buffer_items:\n",
    "            self.buffer[item].append(kwargs[item])\n",
    "\n",
    "    def _sample_index(self, random_indices):\n",
    "        return {item: np.array([self.buffer[item][i] for i in random_indices])\n",
    "                for item in self.buffer_items}\n",
    "\n",
    "    def sample(self, number_samples):\n",
    "        buffer_length = len(self)\n",
    "        n = min(number_samples, buffer_length)\n",
    "        random_indices = random.sample(range(buffer_length), n)\n",
    "        return self._sample_index(random_indices)\n",
    "\n",
    "    def __len__(self):\n",
    "        try:\n",
    "            return len(next(iter(self.buffer.values())))\n",
    "        except StopIteration:\n",
    "            return 0\n",
    "\n",
    "\n",
    "class Prioritized(Uniform):\n",
    "    def __init__(self, buffer_size, buffer_items, seed=0):\n",
    "        super().__init__(buffer_size, buffer_items, seed)\n",
    "        self.priority = deque(maxlen=buffer_size)\n",
    "\n",
    "    def add(self, kwargs, priority):\n",
    "        super().add(kwargs, priority)\n",
    "        self.priority.append(priority)\n",
    "\n",
    "    def sample(self, number_samples):\n",
    "        \"\"\"\n",
    "        Samples given the normalized priority of items\n",
    "         \n",
    "        :param number_samples: number of desired items \n",
    "        :return: dict of items with corresponding numpy array of samples\n",
    "        \"\"\"\n",
    "        buffer_length = len(self)\n",
    "        priorities = np.array(self.priority)\n",
    "        priorities_normalized = priorities / priorities.sum()\n",
    "        n = min(number_samples, buffer_length)\n",
    "        if n > 0:\n",
    "            random_indices = np.random.choice(range(buffer_length), n, p=priorities_normalized)\n",
    "            return self._sample_index(random_indices)\n",
    "        else:\n",
    "            return self._sample_index([])"
   ]
  },
  {
   "cell_type": "code",
   "execution_count": null,
   "metadata": {},
   "outputs": [],
   "source": [
    "class Logger(object):\n",
    "    def __init__(self, log_folder, hyper_parameters, logger_type, verbose=True):\n",
    "        hyper_parameters_string = '_'.join(['{}={}'.format(hyper_parameter, hyper_parameters[hyper_parameter])\n",
    "                                           for hyper_parameter in hyper_parameters])\n",
    "        self.log_location = '{}_{}_{}_{}.csv'.format(log_folder,\n",
    "                                                     hyper_parameters_string,\n",
    "                                                     datetime.datetime.now().isoformat(),\n",
    "                                                     logger_type)\n",
    "        self.verbose = verbose\n",
    "\n",
    "        # Write the header\n",
    "        with open(self.log_location, 'w') as f:\n",
    "            f.write('episode_index,rewards,steps,losses\\n')\n",
    "\n",
    "    def log_episode(self, episode_index, rewards, steps, losses):\n",
    "        # Append episode to log file\n",
    "        with open(self.log_location, 'a') as f:\n",
    "            f.write('{},{},{},{}\\n'.format(episode_index + 1, rewards, steps, losses))\n",
    "\n",
    "        if self.verbose:\n",
    "            msg = 'Episode {:4} => reward={:7.1f}, steps={:4}, loss={:6.1f}'.format(episode_index + 1,\n",
    "                                                                                    rewards,\n",
    "                                                                                    steps,\n",
    "                                                                                    losses)\n",
    "            print(msg)"
   ]
  },
  {
   "cell_type": "code",
   "execution_count": null,
   "metadata": {},
   "outputs": [],
   "source": [
    "def huber_loss(y, y_hat):\n",
    "    return backend.mean(backend.sqrt(1 + backend.square(y - y_hat)) - 1, axis=-1)"
   ]
  },
  {
   "cell_type": "code",
   "execution_count": 151,
   "metadata": {},
   "outputs": [],
   "source": [
    "class LunarLander(object):\n",
    "    def __init__(self,\n",
    "                 env,\n",
    "                 memory_size,\n",
    "                 target_update_frequency,\n",
    "                 activation,\n",
    "                 number_layers,\n",
    "                 number_hidden_units,\n",
    "                 learning_rate,\n",
    "                 epsilon_decay,\n",
    "                 epsilon_min,\n",
    "                 sample_size,\n",
    "                 learning_threshold_samples,\n",
    "                 gamma,\n",
    "                 loss_function,\n",
    "                 buffer_class,\n",
    "                 monitor_directory,\n",
    "                 log_folder,\n",
    "                 log_verbose,\n",
    "                 is_double_dqn=True,\n",
    "                 seed=0):\n",
    "\n",
    "        # Random seed\n",
    "        random.seed(seed)\n",
    "        np.random.seed(seed)\n",
    "        env.seed(seed)\n",
    "\n",
    "        # Assignments\n",
    "        self.steps = 0\n",
    "        self.epsilon = 1\n",
    "        self.model_trained = False\n",
    "\n",
    "        # Init\n",
    "        self.seed = seed\n",
    "        self.env = env\n",
    "        self.action_space = env.action_space\n",
    "        self.observation_space = env.observation_space\n",
    "        self.state_dimension = self.observation_space.shape[0]\n",
    "        self.target_update_frequency = target_update_frequency\n",
    "        self.learning_rate = learning_rate\n",
    "        self.epsilon_decay = epsilon_decay\n",
    "        self.sample_size = sample_size\n",
    "        self.gamma = gamma\n",
    "        self.learning_threshold_samples = learning_threshold_samples\n",
    "        self.log_location = log_folder\n",
    "        self.log_verbose = log_verbose\n",
    "        self.activation = activation\n",
    "        self.number_layers = number_layers\n",
    "        self.number_hidden_units = number_hidden_units\n",
    "        self.epsilon_min = epsilon_min\n",
    "        self.loss_function = loss_function\n",
    "        self.memory_size = int(memory_size)\n",
    "        self.is_double_dqn = is_double_dqn\n",
    "\n",
    "        # Create base and target models\n",
    "        self.model = self._create_model()\n",
    "        if self.is_double_dqn:\n",
    "            self.model_target = self._create_model()\n",
    "\n",
    "        # Create buffer\n",
    "        buffer_items = ['state', 'action', 'reward', 'state_next', 'done']\n",
    "        self.buffer = buffer_class(self.memory_size, buffer_items, self.seed)\n",
    "\n",
    "        # Monitor\n",
    "        self.env = Monitor(self.env, directory=monitor_directory, force=True)\n",
    "\n",
    "    def run(self, episodes, test=False):\n",
    "        logger = Logger(self.log_location,\n",
    "                        self._get_hyper_parameters(),\n",
    "                        logger_type='test' if test else 'train',\n",
    "                        verbose=self.log_verbose)\n",
    "\n",
    "        for episode_index in range(episodes):\n",
    "            state = self.env.reset()\n",
    "            done = False\n",
    "\n",
    "            # Stats\n",
    "            steps = rewards = losses = 0\n",
    "\n",
    "            while not done:\n",
    "                action = self._choose_action(state, test)\n",
    "                state_next, reward, done, _ = self.env.step(action)\n",
    "\n",
    "                # Calculate model loss\n",
    "                loss = 0\n",
    "                if not test:\n",
    "                    loss = self._model_update(state=state,\n",
    "                                              action=action,\n",
    "                                              reward=reward,\n",
    "                                              state_next=state_next,\n",
    "                                              done=done)\n",
    "\n",
    "                # Updates\n",
    "                state = state_next\n",
    "                steps += 1\n",
    "                rewards += reward\n",
    "                losses += loss\n",
    "\n",
    "            # Log the results to file and screen\n",
    "            logger.log_episode(episode_index, rewards, steps, losses)\n",
    "\n",
    "        # Close the gym monitor at the end\n",
    "        self.env.close()\n",
    "\n",
    "    def _create_model(self):\n",
    "        model = Sequential()\n",
    "\n",
    "        for layer_index in range(self.number_layers):\n",
    "            if layer_index == 0:\n",
    "                # Input layer\n",
    "                model.add(Dense(self.number_hidden_units, input_dim=self.observation_space.shape[0]))\n",
    "            else:\n",
    "                # Hidden layer(s)\n",
    "                model.add(Dense(self.number_hidden_units))\n",
    "\n",
    "            # Layer activation\n",
    "            model.add(Activation(self.activation))\n",
    "\n",
    "        # Output layer with linear activation\n",
    "        model.add(Dense(self.action_space.n))\n",
    "        model.add(Activation('linear'))\n",
    "\n",
    "        # Loss and optimizer\n",
    "        model.compile(loss=self.loss_function, optimizer=Adam(lr=self.learning_rate))\n",
    "        print(model.summary())\n",
    "        return model\n",
    "\n",
    "    def _choose_action(self, state, test):\n",
    "        # Epsilon greedy\n",
    "        if not test and (not self.model_trained or random.random() < self.epsilon):\n",
    "            return self.action_space.sample()\n",
    "        else:\n",
    "            model_input = np.array([state])\n",
    "            predictions = self.model.predict(model_input)[0]\n",
    "            return np.argmax(predictions)\n",
    "\n",
    "    @staticmethod\n",
    "    def _get_priority(reward):\n",
    "        \"\"\"\n",
    "        This value is not used in the uniform buffer case, only for prioritized buffer\n",
    "        For now the priority is the absolute value of reward\n",
    "        \n",
    "        :param reward: float\n",
    "        :return: absolute value of reward\n",
    "        \"\"\"\n",
    "        return abs(reward)\n",
    "\n",
    "    def _model_update(self, **kwargs):\n",
    "        # Add to buffer\n",
    "        priority = self._get_priority(kwargs['reward'])\n",
    "        self.buffer.add(kwargs, priority)\n",
    "\n",
    "        if kwargs['done']:\n",
    "            # Decay the epsilon from 1 to epsilon_min (e.g. 0.1) as it was done in the DeepMind paper\n",
    "            self.epsilon = max(self.epsilon_min, self.epsilon * self.epsilon_decay)\n",
    "\n",
    "        # Update target model weights on the first step and then every \"target_update_frequency\" steps\n",
    "        if self.is_double_dqn and self.steps % self.target_update_frequency == 0:\n",
    "            self.model_target.set_weights(self.model.get_weights())\n",
    "\n",
    "        self.steps += 1\n",
    "\n",
    "        if self.learning_threshold_samples > len(self.buffer):\n",
    "            return 0\n",
    "        else:\n",
    "            # Get training data\n",
    "            x, y = self._get_training_mini_batch()\n",
    "\n",
    "            # Train for one epoch\n",
    "            training_history = self.model.fit(x, y, batch_size=self.sample_size, epochs=1, verbose=False)\n",
    "            self.model_trained = True\n",
    "            return training_history.history['loss'][-1]\n",
    "\n",
    "    def _get_q_target(self, state_next_samples):\n",
    "        if self.is_double_dqn:\n",
    "            return self.model_target.predict(state_next_samples)\n",
    "        else:\n",
    "            return self.model.predict(state_next_samples)\n",
    "\n",
    "    def _get_training_mini_batch(self):\n",
    "        # Get a mini batch\n",
    "        samples = self.buffer.sample(self.sample_size)\n",
    "\n",
    "        # Get Q from the model and Q-target either from the same model (DQN) or target model (DDQN)\n",
    "        q = self.model.predict(samples['state'])\n",
    "        q_target = self._get_q_target(samples['state_next'])\n",
    "\n",
    "        # Initialize y for better performance\n",
    "        y_size = (len(samples['reward']), self.action_space.n)\n",
    "        y = np.zeros(y_size)\n",
    "\n",
    "        # Populate values for Q-value\n",
    "        for index in range(len(samples['reward'])):\n",
    "            reward = samples['reward'][index]\n",
    "            action = samples['action'][index]\n",
    "            target = q[index]\n",
    "            reward_extra = 0 if samples['done'][index] else self.gamma * max(q_target[index])\n",
    "            reward += reward_extra\n",
    "            target[action] = reward\n",
    "            y[index] = target\n",
    "\n",
    "        return samples['state'], y\n",
    "    \n",
    "    def _get_hyper_parameters(self):\n",
    "        return {\n",
    "            'learning_rate': self.learning_rate,\n",
    "            'activation': self.activation,\n",
    "            'number_layers': self.number_layers,\n",
    "            'number_hidden_units': self.number_hidden_units,\n",
    "            'gamma': self.gamma,\n",
    "            'epsilon_decay': self.epsilon_decay,\n",
    "            'sample_size': self.sample_size\n",
    "        }"
   ]
  },
  {
   "cell_type": "code",
   "execution_count": 171,
   "metadata": {},
   "outputs": [],
   "source": [
    "seed = 0\n",
    "\n",
    "# Episodes for training and trials for testing\n",
    "episodes = 500\n",
    "trials = 100\n",
    "\n",
    "# DQN\n",
    "activation = 'relu'\n",
    "number_layers = 2\n",
    "number_hidden_units = 500\n",
    "learning_rate = 0.0005\n",
    "loss_function = huber_loss\n",
    "gamma = 0.99\n",
    "memory_size = 1000000\n",
    "target_update_frequency = 600\n",
    "epsilon_decay = 0.98\n",
    "epsilon_min = 0.1\n",
    "sample_size = 32\n",
    "learning_threshold_samples = 1000\n",
    "buffer_class = Prioritized\n",
    "is_double_dqn = False\n",
    "\n",
    "# Log-related\n",
    "monitor_directory = 'monitor'\n",
    "log_folder = 'log'\n",
    "log_verbose = True"
   ]
  },
  {
   "cell_type": "code",
   "execution_count": 172,
   "metadata": {},
   "outputs": [
    {
     "name": "stdout",
     "output_type": "stream",
     "text": [
      "\u001b[33mWARN: gym.spaces.Box autodetected dtype as <class 'numpy.float32'>. Please provide explicit dtype.\u001b[0m\n",
      "_________________________________________________________________\n",
      "Layer (type)                 Output Shape              Param #   \n",
      "=================================================================\n",
      "dense_13 (Dense)             (None, 500)               4500      \n",
      "_________________________________________________________________\n",
      "activation_13 (Activation)   (None, 500)               0         \n",
      "_________________________________________________________________\n",
      "dense_14 (Dense)             (None, 500)               250500    \n",
      "_________________________________________________________________\n",
      "activation_14 (Activation)   (None, 500)               0         \n",
      "_________________________________________________________________\n",
      "dense_15 (Dense)             (None, 4)                 2004      \n",
      "_________________________________________________________________\n",
      "activation_15 (Activation)   (None, 4)                 0         \n",
      "=================================================================\n",
      "Total params: 257,004\n",
      "Trainable params: 257,004\n",
      "Non-trainable params: 0\n",
      "_________________________________________________________________\n",
      "None\n"
     ]
    }
   ],
   "source": [
    "env = gym.make('LunarLander-v2')\n",
    "\n",
    "agent = LunarLander(env,\n",
    "                    memory_size,\n",
    "                    target_update_frequency,\n",
    "                    activation,\n",
    "                    number_layers,\n",
    "                    number_hidden_units,\n",
    "                    learning_rate,\n",
    "                    epsilon_decay,\n",
    "                    epsilon_min,\n",
    "                    sample_size,\n",
    "                    learning_threshold_samples,\n",
    "                    gamma,\n",
    "                    loss_function,\n",
    "                    buffer_class,\n",
    "                    monitor_directory,\n",
    "                    log_folder,\n",
    "                    log_verbose,\n",
    "                    is_double_dqn,\n",
    "                    seed)"
   ]
  },
  {
   "cell_type": "code",
   "execution_count": 173,
   "metadata": {},
   "outputs": [
    {
     "name": "stdout",
     "output_type": "stream",
     "text": [
      "mkdir: log: File exists\r\n"
     ]
    }
   ],
   "source": [
    "# !mkdir log"
   ]
  },
  {
   "cell_type": "code",
   "execution_count": 174,
   "metadata": {},
   "outputs": [
    {
     "name": "stdout",
     "output_type": "stream",
     "text": [
      "Episode    1 => reward=  -47.5, steps=  99, loss=   0.0\n",
      "Episode    2 => reward= -140.0, steps=  89, loss=   0.0\n",
      "Episode    3 => reward= -143.4, steps=  65, loss=   0.0\n",
      "Episode    4 => reward= -129.8, steps=  71, loss=   0.0\n",
      "Episode    5 => reward= -275.1, steps=  83, loss=   0.0\n",
      "Episode    6 => reward= -170.3, steps=  76, loss=   0.0\n",
      "Episode    7 => reward= -355.9, steps= 120, loss=   0.0\n",
      "Episode    8 => reward= -223.5, steps=  87, loss=   0.0\n",
      "Episode    9 => reward= -289.6, steps=  86, loss=   0.0\n",
      "Episode   10 => reward= -173.3, steps= 107, loss=   0.0\n",
      "Episode   11 => reward= -176.6, steps=  98, loss=   0.0\n",
      "Episode   12 => reward= -231.6, steps= 141, loss= 909.1\n",
      "Episode   13 => reward= -139.8, steps=  77, loss= 295.8\n",
      "Episode   14 => reward= -105.1, steps=  93, loss= 305.8\n",
      "Episode   15 => reward= -214.3, steps=  89, loss= 236.2\n",
      "Episode   16 => reward= -470.3, steps= 131, loss= 288.8\n",
      "Episode   17 => reward= -353.1, steps= 105, loss= 222.6\n",
      "Episode   18 => reward= -253.5, steps= 123, loss= 207.3\n",
      "Episode   19 => reward= -243.2, steps= 157, loss= 254.1\n",
      "Episode   20 => reward= -196.2, steps= 127, loss= 200.9\n",
      "Episode   21 => reward= -254.3, steps= 109, loss= 159.3\n",
      "Episode   22 => reward= -178.5, steps=  82, loss= 111.6\n",
      "Episode   23 => reward= -194.2, steps= 134, loss= 159.8\n",
      "Episode   24 => reward= -277.1, steps=  99, loss= 145.4\n",
      "Episode   25 => reward= -110.6, steps= 128, loss= 201.8\n",
      "Episode   26 => reward= -175.7, steps=  83, loss= 126.9\n",
      "Episode   27 => reward= -136.3, steps= 100, loss= 136.0\n",
      "Episode   28 => reward= -103.5, steps= 107, loss= 139.4\n",
      "Episode   29 => reward= -119.4, steps= 112, loss= 150.6\n",
      "Episode   30 => reward= -167.7, steps=  87, loss= 112.4\n",
      "Episode   31 => reward= -261.1, steps= 145, loss= 198.5\n",
      "Episode   32 => reward= -128.2, steps= 225, loss= 294.9\n",
      "Episode   33 => reward= -124.7, steps= 186, loss= 225.6\n",
      "Episode   34 => reward=  -59.6, steps= 143, loss= 192.8\n",
      "Episode   35 => reward=  -84.1, steps=  96, loss= 128.3\n",
      "Episode   36 => reward=  -96.1, steps= 270, loss= 337.1\n",
      "Episode   37 => reward= -180.4, steps= 178, loss= 227.5\n",
      "Episode   38 => reward=  -72.3, steps= 287, loss= 382.5\n",
      "Episode   39 => reward= -115.0, steps= 124, loss= 168.5\n",
      "Episode   40 => reward=   87.0, steps=1000, loss=1315.2\n",
      "Episode   41 => reward= -138.2, steps= 152, loss= 245.4\n",
      "Episode   42 => reward= -108.8, steps= 227, loss= 464.5\n",
      "Episode   43 => reward= -291.4, steps= 511, loss=1123.1\n",
      "Episode   44 => reward=  -84.6, steps= 139, loss= 331.8\n",
      "Episode   45 => reward= -268.2, steps= 199, loss= 420.6\n",
      "Episode   46 => reward= -314.3, steps= 178, loss= 365.2\n",
      "Episode   47 => reward= -148.5, steps=1000, loss=1934.1\n",
      "Episode   48 => reward=    0.4, steps=1000, loss=1686.5\n",
      "Episode   49 => reward= -204.7, steps= 428, loss= 730.4\n",
      "Episode   50 => reward=   -9.1, steps= 205, loss= 354.6\n",
      "Episode   51 => reward= -508.5, steps= 854, loss=1374.6\n",
      "Episode   52 => reward=  -54.9, steps= 159, loss= 283.2\n",
      "Episode   53 => reward= -138.6, steps=  81, loss= 145.9\n",
      "Episode   54 => reward=  -43.3, steps=1000, loss=2003.3\n",
      "Episode   55 => reward= -231.9, steps= 223, loss= 413.1\n",
      "Episode   56 => reward=  -89.1, steps= 414, loss= 814.8\n",
      "Episode   57 => reward=  -12.7, steps=1000, loss=2054.8\n",
      "Episode   58 => reward=   -1.8, steps=1000, loss=1728.0\n",
      "Episode   59 => reward=  -15.4, steps=1000, loss=1622.9\n",
      "Episode   60 => reward= -114.2, steps= 195, loss= 285.3\n",
      "Episode   61 => reward=  -33.6, steps=1000, loss=1652.6\n",
      "Episode   62 => reward= -329.4, steps= 815, loss=1225.6\n",
      "Episode   63 => reward= -209.0, steps= 460, loss= 669.0\n",
      "Episode   64 => reward=    6.3, steps=1000, loss=1484.3\n",
      "Episode   65 => reward= -177.3, steps= 904, loss=1184.0\n",
      "Episode   66 => reward=   62.3, steps=1000, loss=1385.2\n",
      "Episode   67 => reward=  -23.6, steps= 160, loss= 206.0\n",
      "Episode   68 => reward=  -56.5, steps= 208, loss= 277.9\n",
      "Episode   69 => reward= -166.4, steps= 187, loss= 299.9\n",
      "Episode   70 => reward= -110.5, steps= 140, loss= 212.9\n",
      "Episode   71 => reward=  -82.6, steps= 319, loss= 517.0\n",
      "Episode   72 => reward=  -20.5, steps= 139, loss= 226.0\n",
      "Episode   73 => reward=   38.2, steps=1000, loss=1547.2\n",
      "Episode   74 => reward=   34.0, steps=1000, loss=1367.4\n",
      "Episode   75 => reward= -397.1, steps= 245, loss= 313.4\n",
      "Episode   76 => reward= -387.8, steps= 286, loss= 403.5\n",
      "Episode   77 => reward= -109.5, steps= 124, loss= 137.0\n",
      "Episode   78 => reward=  -36.8, steps= 115, loss= 142.4\n",
      "Episode   79 => reward= -344.4, steps= 671, loss= 858.0\n",
      "Episode   80 => reward=  -47.9, steps= 136, loss= 194.7\n",
      "Episode   81 => reward=  158.9, steps= 721, loss= 979.2\n",
      "Episode   82 => reward= -217.7, steps= 202, loss= 266.6\n",
      "Episode   83 => reward= -160.1, steps= 260, loss= 327.7\n",
      "Episode   84 => reward= -101.7, steps=1000, loss=1274.8\n",
      "Episode   85 => reward=  -36.2, steps= 171, loss= 217.6\n",
      "Episode   86 => reward= -254.5, steps= 210, loss= 275.8\n",
      "Episode   87 => reward=    4.3, steps=1000, loss=1244.9\n",
      "Episode   88 => reward= -110.3, steps= 402, loss= 493.9\n",
      "Episode   89 => reward=   98.9, steps=1000, loss=1181.4\n",
      "Episode   90 => reward=  -60.0, steps=1000, loss=1131.2\n",
      "Episode   91 => reward= -258.0, steps= 483, loss= 534.5\n",
      "Episode   92 => reward=  -57.6, steps= 172, loss= 192.6\n",
      "Episode   93 => reward=   60.6, steps=1000, loss=1144.9\n",
      "Episode   94 => reward= -239.6, steps= 952, loss=1041.8\n",
      "Episode   95 => reward=    6.2, steps=1000, loss=1057.7\n",
      "Episode   96 => reward=  199.4, steps= 550, loss= 580.1\n",
      "Episode   97 => reward=  101.8, steps=1000, loss=1073.8\n",
      "Episode   98 => reward=  -52.8, steps=1000, loss=1045.5\n",
      "Episode   99 => reward=  143.4, steps= 763, loss= 801.8\n",
      "Episode  100 => reward=  139.9, steps= 544, loss= 590.7\n",
      "Episode  101 => reward=  221.6, steps= 892, loss= 952.1\n",
      "Episode  102 => reward=   60.5, steps=1000, loss=1019.4\n",
      "Episode  103 => reward=  -38.2, steps=1000, loss=1033.7\n",
      "Episode  104 => reward=  136.0, steps= 892, loss= 911.6\n",
      "Episode  105 => reward=  193.2, steps= 860, loss= 842.7\n",
      "Episode  106 => reward=  228.8, steps= 319, loss= 321.9\n",
      "Episode  107 => reward= -304.2, steps= 338, loss= 316.6\n",
      "Episode  108 => reward=  172.4, steps= 666, loss= 650.9\n",
      "Episode  109 => reward=  101.6, steps=1000, loss= 984.3\n",
      "Episode  110 => reward=  137.7, steps= 713, loss= 681.3\n",
      "Episode  111 => reward=  136.1, steps= 281, loss= 272.9\n",
      "Episode  112 => reward=  -32.9, steps= 234, loss= 219.4\n",
      "Episode  113 => reward=  204.3, steps= 301, loss= 280.6\n",
      "Episode  114 => reward=  226.7, steps= 437, loss= 395.0\n",
      "Episode  115 => reward=  107.2, steps=1000, loss= 954.2\n",
      "Episode  116 => reward=   94.3, steps=1000, loss= 949.6\n",
      "Episode  117 => reward=  220.9, steps= 363, loss= 334.3\n",
      "Episode  118 => reward=  185.7, steps= 885, loss= 833.1\n",
      "Episode  119 => reward=  103.5, steps=1000, loss= 906.0\n",
      "Episode  120 => reward=   65.9, steps=1000, loss= 938.0\n",
      "Episode  121 => reward=   53.0, steps=1000, loss= 882.9\n",
      "Episode  122 => reward=  158.5, steps= 575, loss= 519.6\n",
      "Episode  123 => reward=  183.1, steps= 368, loss= 317.8\n",
      "Episode  124 => reward=  204.6, steps= 694, loss= 634.8\n",
      "Episode  125 => reward=   57.8, steps=1000, loss= 899.3\n",
      "Episode  126 => reward=  183.5, steps= 433, loss= 367.5\n",
      "Episode  127 => reward=  -58.7, steps= 221, loss= 191.0\n",
      "Episode  128 => reward=   72.1, steps=1000, loss= 926.2\n",
      "Episode  129 => reward=  102.9, steps=1000, loss= 898.0\n",
      "Episode  130 => reward=  143.2, steps= 948, loss= 838.7\n",
      "Episode  131 => reward=  239.8, steps= 431, loss= 365.1\n",
      "Episode  132 => reward=   74.0, steps=1000, loss= 828.7\n",
      "Episode  133 => reward=  180.6, steps= 404, loss= 345.3\n",
      "Episode  134 => reward=  215.0, steps= 340, loss= 303.6\n",
      "Episode  135 => reward=  108.5, steps=1000, loss= 870.4\n",
      "Episode  136 => reward=   82.5, steps=1000, loss= 871.3\n",
      "Episode  137 => reward=  214.6, steps= 241, loss= 202.6\n",
      "Episode  138 => reward=   99.8, steps=1000, loss= 825.9\n",
      "Episode  139 => reward=  157.1, steps= 905, loss= 750.7\n",
      "Episode  140 => reward=  227.6, steps= 441, loss= 354.9\n",
      "Episode  141 => reward=   82.0, steps=1000, loss= 816.7\n",
      "Episode  142 => reward=  106.1, steps=1000, loss= 810.1\n",
      "Episode  143 => reward=  227.1, steps= 251, loss= 219.9\n",
      "Episode  144 => reward=  241.0, steps= 410, loss= 329.7\n",
      "Episode  145 => reward=  146.8, steps= 346, loss= 290.7\n",
      "Episode  146 => reward=  222.5, steps= 416, loss= 334.6\n",
      "Episode  147 => reward= -131.6, steps= 222, loss= 177.9\n"
     ]
    },
    {
     "name": "stdout",
     "output_type": "stream",
     "text": [
      "Episode  148 => reward=  162.7, steps= 556, loss= 492.2\n",
      "Episode  149 => reward=  229.5, steps= 422, loss= 383.7\n",
      "Episode  150 => reward= -138.9, steps= 276, loss= 235.1\n",
      "Episode  151 => reward=  112.6, steps=1000, loss= 840.2\n",
      "Episode  152 => reward=  225.0, steps= 310, loss= 253.6\n",
      "Episode  153 => reward=  -20.0, steps=1000, loss= 823.3\n",
      "Episode  154 => reward=   77.1, steps=1000, loss= 818.9\n",
      "Episode  155 => reward=  199.6, steps= 809, loss= 656.9\n",
      "Episode  156 => reward=  117.8, steps=1000, loss= 803.5\n",
      "Episode  157 => reward= -269.2, steps= 653, loss= 531.0\n",
      "Episode  158 => reward=  240.8, steps= 612, loss= 462.6\n",
      "Episode  159 => reward= -109.1, steps= 153, loss= 137.3\n",
      "Episode  160 => reward=   99.6, steps=1000, loss= 834.5\n",
      "Episode  161 => reward=  -62.0, steps= 131, loss= 115.7\n",
      "Episode  162 => reward=   71.3, steps=1000, loss= 837.9\n",
      "Episode  163 => reward=  205.9, steps= 402, loss= 333.9\n",
      "Episode  164 => reward=  -31.5, steps= 128, loss= 112.1\n",
      "Episode  165 => reward= -242.5, steps= 216, loss= 184.4\n",
      "Episode  166 => reward=  -41.4, steps=  99, loss=  92.6\n",
      "Episode  167 => reward= -123.0, steps= 140, loss= 137.2\n",
      "Episode  168 => reward=  101.0, steps=1000, loss= 969.5\n",
      "Episode  169 => reward=  -69.1, steps= 116, loss=  95.3\n",
      "Episode  170 => reward=   95.6, steps=1000, loss= 879.5\n",
      "Episode  171 => reward=  239.1, steps= 665, loss= 599.7\n",
      "Episode  172 => reward=   64.8, steps=1000, loss= 888.0\n",
      "Episode  173 => reward= -122.7, steps= 884, loss= 765.1\n",
      "Episode  174 => reward=   86.0, steps=1000, loss= 849.3\n",
      "Episode  175 => reward=  212.0, steps= 226, loss= 181.5\n",
      "Episode  176 => reward=  102.2, steps=1000, loss= 840.4\n",
      "Episode  177 => reward=    5.4, steps= 213, loss= 175.4\n",
      "Episode  178 => reward=  177.1, steps= 378, loss= 322.0\n",
      "Episode  179 => reward=  180.7, steps= 576, loss= 469.7\n",
      "Episode  180 => reward=  163.1, steps= 834, loss= 707.0\n",
      "Episode  181 => reward=  -97.8, steps= 351, loss= 322.3\n",
      "Episode  182 => reward=  231.1, steps= 239, loss= 210.8\n",
      "Episode  183 => reward=  145.7, steps= 728, loss= 605.1\n",
      "Episode  184 => reward=  -72.7, steps= 120, loss= 109.5\n",
      "Episode  185 => reward=  228.4, steps= 776, loss= 721.2\n",
      "Episode  186 => reward=  202.6, steps= 380, loss= 332.6\n",
      "Episode  187 => reward=   84.7, steps=1000, loss= 892.2\n",
      "Episode  188 => reward=  210.4, steps= 475, loss= 414.8\n",
      "Episode  189 => reward=  -91.9, steps= 132, loss= 103.2\n",
      "Episode  190 => reward=  185.5, steps= 462, loss= 396.0\n",
      "Episode  191 => reward=  223.6, steps= 594, loss= 519.5\n",
      "Episode  192 => reward=  194.8, steps= 920, loss= 801.3\n",
      "Episode  193 => reward=  101.0, steps= 959, loss= 845.0\n",
      "Episode  194 => reward=   34.4, steps= 137, loss= 113.1\n",
      "Episode  195 => reward=    2.1, steps=1000, loss= 935.1\n",
      "Episode  196 => reward=  -67.2, steps=  90, loss=  73.2\n",
      "Episode  197 => reward=  223.7, steps= 628, loss= 582.2\n",
      "Episode  198 => reward=   30.9, steps=1000, loss= 872.6\n",
      "Episode  199 => reward=   99.9, steps=1000, loss= 853.3\n",
      "Episode  200 => reward=  114.3, steps=1000, loss= 852.3\n",
      "Episode  201 => reward=  190.9, steps= 651, loss= 570.0\n",
      "Episode  202 => reward=  204.0, steps= 238, loss= 192.2\n",
      "Episode  203 => reward=  199.8, steps= 528, loss= 467.6\n",
      "Episode  204 => reward=   48.2, steps=1000, loss= 806.6\n",
      "Episode  205 => reward= -473.8, steps= 906, loss= 778.0\n",
      "Episode  206 => reward=  -36.4, steps= 295, loss= 255.9\n",
      "Episode  207 => reward= -188.8, steps=  68, loss=  52.3\n",
      "Episode  208 => reward= -463.1, steps= 678, loss= 593.4\n",
      "Episode  209 => reward=  196.4, steps= 250, loss= 227.9\n",
      "Episode  210 => reward=  169.2, steps= 361, loss= 324.9\n",
      "Episode  211 => reward=  258.8, steps= 329, loss= 277.2\n",
      "Episode  212 => reward=  208.7, steps= 853, loss= 699.9\n",
      "Episode  213 => reward=  -58.6, steps= 150, loss= 129.6\n",
      "Episode  214 => reward=  105.6, steps=1000, loss= 870.6\n",
      "Episode  215 => reward=  221.2, steps= 159, loss= 122.3\n",
      "Episode  216 => reward=  156.9, steps= 746, loss= 627.3\n",
      "Episode  217 => reward=   95.7, steps=1000, loss= 847.2\n",
      "Episode  218 => reward=  207.8, steps= 448, loss= 363.9\n",
      "Episode  219 => reward=  -51.7, steps= 149, loss= 131.8\n",
      "Episode  220 => reward=  239.0, steps= 271, loss= 242.6\n",
      "Episode  221 => reward=  222.4, steps= 576, loss= 518.6\n",
      "Episode  222 => reward=   85.5, steps=1000, loss= 811.3\n",
      "Episode  223 => reward=  227.2, steps= 794, loss= 627.0\n",
      "Episode  224 => reward=   11.1, steps=  98, loss=  76.1\n",
      "Episode  225 => reward=  215.9, steps= 330, loss= 272.9\n",
      "Episode  226 => reward=  -71.2, steps=1000, loss= 804.2\n",
      "Episode  227 => reward=   -7.8, steps= 123, loss=  94.4\n",
      "Episode  228 => reward=  105.2, steps= 688, loss= 580.9\n",
      "Episode  229 => reward=  189.1, steps= 993, loss= 811.8\n",
      "Episode  230 => reward=   94.9, steps= 992, loss= 827.7\n",
      "Episode  231 => reward=  214.4, steps= 446, loss= 370.5\n",
      "Episode  232 => reward=  222.1, steps= 293, loss= 251.9\n",
      "Episode  233 => reward= -279.6, steps= 526, loss= 452.8\n",
      "Episode  234 => reward=  234.8, steps= 206, loss= 172.9\n",
      "Episode  235 => reward=  219.1, steps= 624, loss= 521.2\n",
      "Episode  236 => reward=  217.4, steps= 516, loss= 402.0\n",
      "Episode  237 => reward=  205.5, steps= 159, loss= 123.3\n",
      "Episode  238 => reward=  185.2, steps= 392, loss= 300.0\n",
      "Episode  239 => reward=   -8.4, steps= 139, loss= 110.3\n",
      "Episode  240 => reward=  222.0, steps= 931, loss= 713.5\n",
      "Episode  241 => reward=  -78.5, steps= 161, loss= 124.1\n",
      "Episode  242 => reward=  244.1, steps= 277, loss= 212.3\n",
      "Episode  243 => reward=  229.2, steps= 262, loss= 199.0\n",
      "Episode  244 => reward=  -55.8, steps= 112, loss=  88.7\n",
      "Episode  245 => reward=  -22.2, steps= 135, loss= 104.3\n",
      "Episode  246 => reward=  222.5, steps= 454, loss= 354.1\n",
      "Episode  247 => reward=    8.5, steps=1000, loss= 809.3\n",
      "Episode  248 => reward=  204.1, steps= 242, loss= 193.5\n",
      "Episode  249 => reward=  194.7, steps= 419, loss= 351.9\n",
      "Episode  250 => reward=   11.9, steps= 115, loss=  87.1\n",
      "Episode  251 => reward=  223.4, steps= 377, loss= 312.2\n",
      "Episode  252 => reward=  182.6, steps= 815, loss= 683.8\n",
      "Episode  253 => reward=  171.1, steps= 352, loss= 290.5\n",
      "Episode  254 => reward=  192.4, steps= 540, loss= 430.5\n",
      "Episode  255 => reward=  177.1, steps= 643, loss= 528.0\n",
      "Episode  256 => reward=  218.4, steps= 727, loss= 597.7\n",
      "Episode  257 => reward=  180.4, steps= 852, loss= 659.8\n",
      "Episode  258 => reward=  100.6, steps=1000, loss= 807.0\n",
      "Episode  259 => reward=  213.4, steps= 293, loss= 210.4\n",
      "Episode  260 => reward=  -25.5, steps= 115, loss=  80.0\n",
      "Episode  261 => reward=  210.9, steps= 459, loss= 360.4\n",
      "Episode  262 => reward=  172.0, steps= 515, loss= 390.0\n",
      "Episode  263 => reward=  251.5, steps= 154, loss= 119.1\n",
      "Episode  264 => reward=  114.2, steps=1000, loss= 769.8\n",
      "Episode  265 => reward=  200.5, steps= 319, loss= 229.3\n",
      "Episode  266 => reward= -120.7, steps=  82, loss=  60.6\n",
      "Episode  267 => reward=  105.2, steps=1000, loss= 727.6\n",
      "Episode  268 => reward=  195.6, steps= 982, loss= 771.4\n",
      "Episode  269 => reward=  241.8, steps= 228, loss= 155.1\n",
      "Episode  270 => reward=  244.1, steps= 267, loss= 191.7\n",
      "Episode  271 => reward=  208.9, steps= 774, loss= 598.0\n",
      "Episode  272 => reward=  206.8, steps= 530, loss= 389.7\n",
      "Episode  273 => reward=  -65.1, steps= 241, loss= 186.9\n",
      "Episode  274 => reward= -260.0, steps= 233, loss= 194.2\n",
      "Episode  275 => reward=  214.1, steps= 484, loss= 377.8\n",
      "Episode  276 => reward=  -25.0, steps= 122, loss=  95.0\n",
      "Episode  277 => reward=   -3.9, steps= 107, loss=  74.1\n",
      "Episode  278 => reward=  217.4, steps= 273, loss= 187.3\n",
      "Episode  279 => reward=  107.8, steps=1000, loss= 751.2\n",
      "Episode  280 => reward=  111.8, steps=1000, loss= 758.1\n",
      "Episode  281 => reward= -127.6, steps= 557, loss= 380.9\n",
      "Episode  282 => reward=  215.9, steps= 292, loss= 217.0\n",
      "Episode  283 => reward=  116.2, steps=1000, loss= 739.1\n",
      "Episode  284 => reward=  197.7, steps= 412, loss= 294.4\n",
      "Episode  285 => reward=  256.1, steps= 362, loss= 271.1\n",
      "Episode  286 => reward=  226.0, steps= 511, loss= 384.0\n",
      "Episode  287 => reward=  -47.0, steps=  95, loss=  75.2\n",
      "Episode  288 => reward=  221.8, steps= 295, loss= 215.4\n",
      "Episode  289 => reward=  186.1, steps= 237, loss= 176.8\n",
      "Episode  290 => reward=  208.7, steps= 442, loss= 331.0\n",
      "Episode  291 => reward=  -60.7, steps= 133, loss= 108.4\n",
      "Episode  292 => reward=  244.2, steps= 282, loss= 222.9\n",
      "Episode  293 => reward=  220.2, steps= 359, loss= 242.4\n",
      "Episode  294 => reward=  146.7, steps= 756, loss= 554.0\n"
     ]
    },
    {
     "name": "stdout",
     "output_type": "stream",
     "text": [
      "Episode  295 => reward=   60.4, steps=1000, loss= 747.0\n",
      "Episode  296 => reward=  201.5, steps= 897, loss= 619.7\n",
      "Episode  297 => reward=  144.8, steps= 542, loss= 397.5\n",
      "Episode  298 => reward=  161.2, steps= 374, loss= 252.1\n",
      "Episode  299 => reward=  203.3, steps= 341, loss= 253.9\n",
      "Episode  300 => reward=  -53.9, steps= 123, loss=  80.7\n",
      "Episode  301 => reward=  215.6, steps= 266, loss= 203.4\n",
      "Episode  302 => reward=  190.5, steps= 622, loss= 461.9\n",
      "Episode  303 => reward=  210.1, steps= 427, loss= 303.0\n",
      "Episode  304 => reward=  172.4, steps= 907, loss= 669.2\n",
      "Episode  305 => reward=  -63.3, steps= 109, loss=  81.7\n",
      "Episode  306 => reward=  230.5, steps= 463, loss= 349.3\n",
      "Episode  307 => reward=   70.9, steps=1000, loss= 726.4\n",
      "Episode  308 => reward=  161.0, steps= 401, loss= 296.7\n",
      "Episode  309 => reward=  -50.3, steps= 117, loss=  83.0\n",
      "Episode  310 => reward=   34.2, steps=1000, loss= 746.4\n",
      "Episode  311 => reward=   91.9, steps=1000, loss= 711.3\n",
      "Episode  312 => reward=  227.0, steps= 579, loss= 421.7\n",
      "Episode  313 => reward=  206.0, steps= 183, loss= 124.3\n",
      "Episode  314 => reward= -255.4, steps= 441, loss= 300.1\n",
      "Episode  315 => reward=   56.6, steps=1000, loss= 716.7\n",
      "Episode  316 => reward=  149.5, steps= 686, loss= 488.7\n",
      "Episode  317 => reward=  197.4, steps= 341, loss= 268.6\n",
      "Episode  318 => reward=  -49.0, steps= 112, loss=  85.9\n",
      "Episode  319 => reward=  215.1, steps= 523, loss= 378.0\n",
      "Episode  320 => reward=   -3.1, steps= 135, loss= 105.3\n",
      "Episode  321 => reward=  211.0, steps= 308, loss= 227.9\n",
      "Episode  322 => reward=  216.4, steps= 568, loss= 410.5\n",
      "Episode  323 => reward=  -56.9, steps=  84, loss=  62.0\n",
      "Episode  324 => reward=  216.8, steps= 182, loss= 130.8\n",
      "Episode  325 => reward=  207.5, steps= 997, loss= 705.4\n",
      "Episode  326 => reward=  207.6, steps= 184, loss= 140.9\n",
      "Episode  327 => reward=  227.5, steps= 517, loss= 403.3\n",
      "Episode  328 => reward=  205.4, steps= 931, loss= 685.7\n",
      "Episode  329 => reward=  232.3, steps= 461, loss= 331.0\n",
      "Episode  330 => reward=  243.5, steps= 171, loss= 128.2\n",
      "Episode  331 => reward=  243.2, steps= 509, loss= 382.5\n",
      "Episode  332 => reward=  226.4, steps= 426, loss= 326.2\n",
      "Episode  333 => reward=  -70.8, steps= 110, loss=  80.9\n",
      "Episode  334 => reward= -144.6, steps= 127, loss=  96.4\n",
      "Episode  335 => reward=  219.8, steps= 307, loss= 238.8\n",
      "Episode  336 => reward=  214.7, steps= 252, loss= 174.7\n",
      "Episode  337 => reward=  213.5, steps= 342, loss= 260.6\n",
      "Episode  338 => reward= -253.0, steps= 148, loss= 125.7\n",
      "Episode  339 => reward= -242.7, steps= 121, loss=  75.4\n",
      "Episode  340 => reward= -346.2, steps= 268, loss= 190.0\n",
      "Episode  341 => reward=   71.9, steps=1000, loss= 760.8\n",
      "Episode  342 => reward=  210.5, steps= 745, loss= 558.8\n",
      "Episode  343 => reward=  187.7, steps= 690, loss= 491.8\n",
      "Episode  344 => reward=  196.4, steps= 194, loss= 145.2\n",
      "Episode  345 => reward=  228.7, steps= 323, loss= 242.1\n",
      "Episode  346 => reward=  221.8, steps= 632, loss= 443.6\n",
      "Episode  347 => reward=  209.4, steps= 331, loss= 244.6\n",
      "Episode  348 => reward=  227.1, steps= 256, loss= 178.5\n",
      "Episode  349 => reward=  -56.7, steps= 160, loss= 117.0\n",
      "Episode  350 => reward=  170.4, steps= 433, loss= 310.6\n",
      "Episode  351 => reward=  230.6, steps= 803, loss= 585.0\n",
      "Episode  352 => reward=  200.4, steps= 757, loss= 561.8\n",
      "Episode  353 => reward=  240.8, steps= 317, loss= 233.3\n",
      "Episode  354 => reward=  191.0, steps= 191, loss= 136.1\n",
      "Episode  355 => reward=  203.7, steps= 186, loss= 131.8\n",
      "Episode  356 => reward=  219.4, steps= 551, loss= 405.7\n",
      "Episode  357 => reward=  195.2, steps= 423, loss= 306.3\n",
      "Episode  358 => reward=  214.6, steps= 875, loss= 631.6\n",
      "Episode  359 => reward=   90.2, steps=1000, loss= 710.1\n",
      "Episode  360 => reward=  211.1, steps= 942, loss= 657.5\n",
      "Episode  361 => reward=   44.0, steps=1000, loss= 677.5\n",
      "Episode  362 => reward=  178.9, steps= 256, loss= 167.7\n",
      "Episode  363 => reward=  243.8, steps= 299, loss= 204.9\n",
      "Episode  364 => reward=  202.0, steps= 682, loss= 480.6\n",
      "Episode  365 => reward=  223.1, steps= 262, loss= 172.5\n",
      "Episode  366 => reward= -179.0, steps= 249, loss= 180.8\n",
      "Episode  367 => reward=  214.6, steps= 768, loss= 560.6\n",
      "Episode  368 => reward=  226.2, steps= 410, loss= 283.2\n",
      "Episode  369 => reward=  182.3, steps= 743, loss= 516.0\n",
      "Episode  370 => reward=  212.1, steps= 205, loss= 142.8\n",
      "Episode  371 => reward=  214.1, steps= 193, loss= 130.3\n",
      "Episode  372 => reward=  241.5, steps= 578, loss= 395.5\n",
      "Episode  373 => reward=  -58.3, steps=  85, loss=  67.4\n",
      "Episode  374 => reward=  -75.7, steps=  86, loss=  52.0\n",
      "Episode  375 => reward=  207.8, steps= 640, loss= 430.3\n",
      "Episode  376 => reward=  209.5, steps= 253, loss= 184.2\n",
      "Episode  377 => reward=  238.4, steps= 220, loss= 158.4\n",
      "Episode  378 => reward=  237.0, steps= 378, loss= 255.0\n",
      "Episode  379 => reward=   99.2, steps=1000, loss= 661.8\n",
      "Episode  380 => reward=   99.0, steps=1000, loss= 683.8\n",
      "Episode  381 => reward=  227.4, steps= 305, loss= 206.7\n",
      "Episode  382 => reward=  232.6, steps= 224, loss= 140.4\n",
      "Episode  383 => reward=  231.5, steps= 671, loss= 461.6\n",
      "Episode  384 => reward=  207.5, steps= 280, loss= 182.3\n",
      "Episode  385 => reward=   18.8, steps= 103, loss=  70.8\n",
      "Episode  386 => reward=  243.4, steps= 356, loss= 234.5\n",
      "Episode  387 => reward=  247.3, steps= 283, loss= 196.0\n",
      "Episode  388 => reward=   -1.3, steps= 151, loss= 102.9\n",
      "Episode  389 => reward=  214.6, steps= 318, loss= 237.2\n",
      "Episode  390 => reward=  228.2, steps= 304, loss= 217.3\n",
      "Episode  391 => reward=  214.8, steps= 193, loss= 128.0\n",
      "Episode  392 => reward=  221.5, steps= 270, loss= 201.4\n",
      "Episode  393 => reward=  230.2, steps= 218, loss= 145.6\n",
      "Episode  394 => reward=  237.6, steps= 466, loss= 303.9\n",
      "Episode  395 => reward=  256.8, steps= 435, loss= 293.8\n",
      "Episode  396 => reward=  219.0, steps= 217, loss= 145.1\n",
      "Episode  397 => reward=  200.8, steps= 262, loss= 177.0\n",
      "Episode  398 => reward=  226.7, steps= 174, loss= 119.6\n",
      "Episode  399 => reward=  241.0, steps= 424, loss= 275.7\n",
      "Episode  400 => reward=  192.5, steps= 389, loss= 256.8\n",
      "Episode  401 => reward=  189.1, steps= 381, loss= 260.3\n",
      "Episode  402 => reward=  188.3, steps= 883, loss= 564.1\n",
      "Episode  403 => reward=  232.4, steps= 585, loss= 390.7\n",
      "Episode  404 => reward=  201.1, steps= 553, loss= 391.3\n",
      "Episode  405 => reward=  -21.1, steps= 101, loss=  61.4\n",
      "Episode  406 => reward=  199.3, steps= 360, loss= 263.3\n",
      "Episode  407 => reward=  208.5, steps= 218, loss= 154.5\n",
      "Episode  408 => reward=  158.1, steps= 304, loss= 206.3\n",
      "Episode  409 => reward=  241.5, steps= 331, loss= 224.7\n",
      "Episode  410 => reward=  216.8, steps= 182, loss= 119.5\n",
      "Episode  411 => reward=  260.3, steps= 356, loss= 241.1\n",
      "Episode  412 => reward= -229.1, steps= 353, loss= 234.4\n",
      "Episode  413 => reward=  242.4, steps= 245, loss= 154.4\n",
      "Episode  414 => reward=  224.8, steps= 499, loss= 350.9\n",
      "Episode  415 => reward=  234.9, steps= 298, loss= 189.7\n",
      "Episode  416 => reward=  202.3, steps= 249, loss= 167.6\n",
      "Episode  417 => reward=  213.7, steps= 342, loss= 220.8\n",
      "Episode  418 => reward=  205.8, steps= 361, loss= 221.8\n",
      "Episode  419 => reward=  -80.4, steps=  91, loss=  55.7\n",
      "Episode  420 => reward=  199.2, steps= 810, loss= 540.3\n",
      "Episode  421 => reward=   71.4, steps= 950, loss= 627.6\n",
      "Episode  422 => reward=  236.4, steps= 340, loss= 225.3\n",
      "Episode  423 => reward=  224.8, steps= 250, loss= 165.2\n",
      "Episode  424 => reward=  212.6, steps= 702, loss= 461.1\n",
      "Episode  425 => reward=  -31.6, steps=  99, loss=  73.1\n",
      "Episode  426 => reward=    8.5, steps= 140, loss=  93.8\n",
      "Episode  427 => reward=  217.0, steps= 670, loss= 422.6\n",
      "Episode  428 => reward=  212.9, steps= 459, loss= 303.3\n",
      "Episode  429 => reward=  -58.0, steps=  83, loss=  50.3\n",
      "Episode  430 => reward=  -32.6, steps= 107, loss=  76.1\n",
      "Episode  431 => reward=  222.2, steps= 249, loss= 165.4\n",
      "Episode  432 => reward=  -60.1, steps=  92, loss=  56.3\n",
      "Episode  433 => reward=  219.8, steps= 449, loss= 298.6\n",
      "Episode  434 => reward=  224.0, steps= 255, loss= 159.4\n",
      "Episode  435 => reward=  206.1, steps= 500, loss= 333.1\n",
      "Episode  436 => reward=  203.8, steps= 155, loss= 106.1\n",
      "Episode  437 => reward=  221.5, steps= 330, loss= 236.5\n",
      "Episode  438 => reward=   60.7, steps=1000, loss= 643.6\n",
      "Episode  439 => reward=  197.0, steps= 196, loss= 122.3\n",
      "Episode  440 => reward=  -44.1, steps= 198, loss= 128.1\n",
      "Episode  441 => reward=  -68.2, steps= 113, loss=  87.6\n"
     ]
    },
    {
     "name": "stdout",
     "output_type": "stream",
     "text": [
      "Episode  442 => reward=  220.7, steps= 301, loss= 200.5\n",
      "Episode  443 => reward=  197.8, steps= 271, loss= 173.0\n",
      "Episode  444 => reward=  181.1, steps= 650, loss= 424.0\n",
      "Episode  445 => reward=  193.7, steps= 409, loss= 251.6\n",
      "Episode  446 => reward=  215.6, steps= 463, loss= 305.1\n",
      "Episode  447 => reward=   77.0, steps=1000, loss= 662.7\n",
      "Episode  448 => reward=  198.5, steps= 344, loss= 230.4\n",
      "Episode  449 => reward=  254.1, steps= 239, loss= 151.6\n",
      "Episode  450 => reward=  181.2, steps= 191, loss= 124.5\n",
      "Episode  451 => reward=  220.0, steps= 606, loss= 421.5\n",
      "Episode  452 => reward=  235.7, steps= 242, loss= 152.8\n",
      "Episode  453 => reward=  -15.6, steps= 149, loss=  91.8\n",
      "Episode  454 => reward=  -15.3, steps=  84, loss=  61.3\n",
      "Episode  455 => reward=  243.3, steps= 486, loss= 313.6\n",
      "Episode  456 => reward=  247.1, steps= 469, loss= 293.5\n",
      "Episode  457 => reward=  224.5, steps= 213, loss= 129.8\n",
      "Episode  458 => reward=  223.4, steps= 264, loss= 166.9\n",
      "Episode  459 => reward=  240.8, steps= 388, loss= 226.9\n",
      "Episode  460 => reward=   11.8, steps=1000, loss= 642.9\n",
      "Episode  461 => reward= -245.0, steps= 212, loss= 133.8\n",
      "Episode  462 => reward=  214.4, steps= 399, loss= 247.4\n",
      "Episode  463 => reward=  225.8, steps= 384, loss= 231.7\n",
      "Episode  464 => reward=  208.7, steps= 415, loss= 274.9\n",
      "Episode  465 => reward=  239.1, steps= 313, loss= 202.7\n",
      "Episode  466 => reward=  200.5, steps= 375, loss= 247.5\n",
      "Episode  467 => reward=  249.8, steps= 360, loss= 227.8\n",
      "Episode  468 => reward=  225.6, steps= 249, loss= 148.7\n",
      "Episode  469 => reward=  207.9, steps= 206, loss= 129.3\n",
      "Episode  470 => reward=  199.8, steps= 277, loss= 182.9\n",
      "Episode  471 => reward=  225.0, steps= 404, loss= 257.7\n",
      "Episode  472 => reward=  204.5, steps= 151, loss=  93.8\n",
      "Episode  473 => reward=  224.6, steps= 334, loss= 216.9\n",
      "Episode  474 => reward=  240.4, steps= 471, loss= 298.1\n",
      "Episode  475 => reward=  233.1, steps= 404, loss= 255.9\n",
      "Episode  476 => reward=   96.7, steps=1000, loss= 632.3\n",
      "Episode  477 => reward=  198.4, steps= 263, loss= 161.5\n",
      "Episode  478 => reward=  240.8, steps= 249, loss= 162.3\n",
      "Episode  479 => reward=  226.7, steps= 337, loss= 209.8\n",
      "Episode  480 => reward= -249.6, steps= 155, loss=  88.9\n",
      "Episode  481 => reward=  208.8, steps= 736, loss= 456.6\n",
      "Episode  482 => reward=  251.4, steps= 445, loss= 289.1\n",
      "Episode  483 => reward=  184.6, steps= 525, loss= 315.7\n",
      "Episode  484 => reward= -237.1, steps= 145, loss=  94.9\n",
      "Episode  485 => reward=  226.1, steps= 381, loss= 273.7\n",
      "Episode  486 => reward=  202.3, steps= 424, loss= 251.3\n",
      "Episode  487 => reward=  228.1, steps= 453, loss= 278.8\n",
      "Episode  488 => reward=  244.5, steps= 469, loss= 307.3\n",
      "Episode  489 => reward=  214.9, steps= 494, loss= 305.3\n",
      "Episode  490 => reward=  226.8, steps= 237, loss= 152.6\n",
      "Episode  491 => reward=  216.4, steps= 177, loss= 111.2\n",
      "Episode  492 => reward=  206.8, steps= 603, loss= 372.6\n",
      "Episode  493 => reward=  192.1, steps= 380, loss= 235.0\n",
      "Episode  494 => reward=  234.3, steps= 432, loss= 254.9\n",
      "Episode  495 => reward=  234.4, steps= 174, loss= 104.3\n",
      "Episode  496 => reward=  208.1, steps= 594, loss= 377.4\n",
      "Episode  497 => reward=  224.2, steps= 462, loss= 296.1\n",
      "Episode  498 => reward= -193.9, steps= 108, loss=  68.8\n",
      "Episode  499 => reward=  247.1, steps= 217, loss= 140.7\n",
      "Episode  500 => reward=  238.3, steps= 319, loss= 198.7\n"
     ]
    }
   ],
   "source": [
    "agent.run(episodes)"
   ]
  },
  {
   "cell_type": "code",
   "execution_count": 177,
   "metadata": {},
   "outputs": [
    {
     "name": "stdout",
     "output_type": "stream",
     "text": [
      "Episode    1 => reward=  205.4, steps= 183, loss=   0.0\n",
      "Episode    2 => reward=  188.1, steps= 300, loss=   0.0\n",
      "Episode    3 => reward=  162.8, steps= 184, loss=   0.0\n",
      "Episode    4 => reward=  190.8, steps= 211, loss=   0.0\n",
      "Episode    5 => reward=  175.4, steps= 177, loss=   0.0\n",
      "Episode    6 => reward=  198.6, steps= 571, loss=   0.0\n",
      "Episode    7 => reward=  233.7, steps= 198, loss=   0.0\n",
      "Episode    8 => reward=  170.7, steps= 280, loss=   0.0\n",
      "Episode    9 => reward=  249.7, steps= 207, loss=   0.0\n",
      "Episode   10 => reward=  156.5, steps= 198, loss=   0.0\n",
      "Episode   11 => reward=  250.5, steps= 296, loss=   0.0\n",
      "Episode   12 => reward=  259.5, steps= 198, loss=   0.0\n",
      "Episode   13 => reward=  181.4, steps= 174, loss=   0.0\n",
      "Episode   14 => reward=  168.5, steps= 533, loss=   0.0\n",
      "Episode   15 => reward=  217.1, steps= 257, loss=   0.0\n",
      "Episode   16 => reward= -257.4, steps= 407, loss=   0.0\n",
      "Episode   17 => reward=  203.4, steps= 452, loss=   0.0\n",
      "Episode   18 => reward=  176.9, steps= 168, loss=   0.0\n",
      "Episode   19 => reward=  240.9, steps= 199, loss=   0.0\n",
      "Episode   20 => reward=  257.5, steps= 200, loss=   0.0\n",
      "Episode   21 => reward=  264.2, steps= 222, loss=   0.0\n",
      "Episode   22 => reward=  253.3, steps= 271, loss=   0.0\n",
      "Episode   23 => reward=  230.4, steps= 186, loss=   0.0\n",
      "Episode   24 => reward=  245.6, steps= 205, loss=   0.0\n",
      "Episode   25 => reward=  202.2, steps= 478, loss=   0.0\n",
      "Episode   26 => reward=  255.4, steps= 228, loss=   0.0\n",
      "Episode   27 => reward=  136.7, steps= 250, loss=   0.0\n",
      "Episode   28 => reward= -288.6, steps= 425, loss=   0.0\n",
      "Episode   29 => reward=  182.9, steps= 181, loss=   0.0\n",
      "Episode   30 => reward=  234.5, steps= 243, loss=   0.0\n",
      "Episode   31 => reward=    7.8, steps=1000, loss=   0.0\n",
      "Episode   32 => reward=  237.3, steps= 225, loss=   0.0\n",
      "Episode   33 => reward=   15.7, steps=1000, loss=   0.0\n",
      "Episode   34 => reward=  209.3, steps= 145, loss=   0.0\n",
      "Episode   35 => reward=  251.7, steps= 230, loss=   0.0\n",
      "Episode   36 => reward=  204.0, steps= 583, loss=   0.0\n",
      "Episode   37 => reward=  247.4, steps= 278, loss=   0.0\n",
      "Episode   38 => reward=  219.0, steps= 146, loss=   0.0\n",
      "Episode   39 => reward=  251.8, steps= 240, loss=   0.0\n",
      "Episode   40 => reward=  215.7, steps= 223, loss=   0.0\n",
      "Episode   41 => reward=  213.6, steps= 192, loss=   0.0\n",
      "Episode   42 => reward=  153.9, steps= 301, loss=   0.0\n",
      "Episode   43 => reward=  253.2, steps= 192, loss=   0.0\n",
      "Episode   44 => reward=  264.5, steps= 199, loss=   0.0\n",
      "Episode   45 => reward= -280.7, steps= 291, loss=   0.0\n",
      "Episode   46 => reward=  189.3, steps= 516, loss=   0.0\n",
      "Episode   47 => reward=  240.8, steps= 212, loss=   0.0\n",
      "Episode   48 => reward=  195.3, steps= 264, loss=   0.0\n",
      "Episode   49 => reward=  240.0, steps= 214, loss=   0.0\n",
      "Episode   50 => reward=  180.4, steps= 142, loss=   0.0\n",
      "Episode   51 => reward=  197.8, steps= 506, loss=   0.0\n",
      "Episode   52 => reward=  230.4, steps= 364, loss=   0.0\n",
      "Episode   53 => reward=  194.1, steps= 160, loss=   0.0\n",
      "Episode   54 => reward=  262.7, steps= 233, loss=   0.0\n",
      "Episode   55 => reward=   11.7, steps=1000, loss=   0.0\n",
      "Episode   56 => reward=  175.0, steps= 233, loss=   0.0\n",
      "Episode   57 => reward=  262.0, steps= 266, loss=   0.0\n",
      "Episode   58 => reward=  206.4, steps= 187, loss=   0.0\n",
      "Episode   59 => reward=  189.0, steps= 211, loss=   0.0\n",
      "Episode   60 => reward=  201.0, steps= 224, loss=   0.0\n",
      "Episode   61 => reward=  216.9, steps= 199, loss=   0.0\n",
      "Episode   62 => reward=  213.0, steps= 155, loss=   0.0\n",
      "Episode   63 => reward=  171.7, steps= 305, loss=   0.0\n",
      "Episode   64 => reward=  259.8, steps= 202, loss=   0.0\n",
      "Episode   65 => reward=  214.5, steps= 261, loss=   0.0\n",
      "Episode   66 => reward=  -28.2, steps= 117, loss=   0.0\n",
      "Episode   67 => reward=  239.1, steps= 162, loss=   0.0\n",
      "Episode   68 => reward=  198.5, steps= 188, loss=   0.0\n",
      "Episode   69 => reward=  221.3, steps= 168, loss=   0.0\n",
      "Episode   70 => reward=  230.9, steps= 194, loss=   0.0\n",
      "Episode   71 => reward=   71.5, steps=1000, loss=   0.0\n",
      "Episode   72 => reward=  202.1, steps= 255, loss=   0.0\n",
      "Episode   73 => reward=   85.6, steps=1000, loss=   0.0\n",
      "Episode   74 => reward=  200.1, steps= 550, loss=   0.0\n",
      "Episode   75 => reward=  -51.4, steps= 129, loss=   0.0\n",
      "Episode   76 => reward=  255.1, steps= 225, loss=   0.0\n",
      "Episode   77 => reward=  172.9, steps= 195, loss=   0.0\n",
      "Episode   78 => reward=  196.3, steps= 494, loss=   0.0\n",
      "Episode   79 => reward=  205.1, steps= 194, loss=   0.0\n",
      "Episode   80 => reward=  232.5, steps= 191, loss=   0.0\n",
      "Episode   81 => reward=  217.4, steps= 212, loss=   0.0\n",
      "Episode   82 => reward=  167.8, steps= 330, loss=   0.0\n",
      "Episode   83 => reward=  226.3, steps= 176, loss=   0.0\n",
      "Episode   84 => reward=  158.0, steps= 463, loss=   0.0\n",
      "Episode   85 => reward=  227.3, steps= 182, loss=   0.0\n",
      "Episode   86 => reward=  201.9, steps= 218, loss=   0.0\n",
      "Episode   87 => reward=  165.4, steps= 204, loss=   0.0\n",
      "Episode   88 => reward=  195.2, steps= 153, loss=   0.0\n",
      "Episode   89 => reward=  228.0, steps= 206, loss=   0.0\n",
      "Episode   90 => reward=  127.5, steps= 312, loss=   0.0\n",
      "Episode   91 => reward=  214.5, steps= 176, loss=   0.0\n",
      "Episode   92 => reward=  255.0, steps= 218, loss=   0.0\n",
      "Episode   93 => reward=  258.5, steps= 200, loss=   0.0\n",
      "Episode   94 => reward=  205.4, steps= 308, loss=   0.0\n",
      "Episode   95 => reward=  203.7, steps= 182, loss=   0.0\n",
      "Episode   96 => reward=  191.1, steps= 251, loss=   0.0\n",
      "Episode   97 => reward=  198.0, steps= 297, loss=   0.0\n",
      "Episode   98 => reward=  230.7, steps= 181, loss=   0.0\n",
      "Episode   99 => reward=  248.2, steps= 195, loss=   0.0\n",
      "Episode  100 => reward=  -75.3, steps= 170, loss=   0.0\n"
     ]
    }
   ],
   "source": [
    "agent.run(trials, test=True)"
   ]
  },
  {
   "cell_type": "code",
   "execution_count": 179,
   "metadata": {},
   "outputs": [],
   "source": [
    "df_train = pd.read_csv('log/activation=reluXnumber_hidden_units=500Xsample_size=32Xlearning_rate=0.0005Xgamma=0.99Xepsilon_decay=0.98Xnumber_layers=2|2018-08-04T18:11:30.271763|train.csv')\n",
    "df_test = pd.read_csv('log/activation=reluXnumber_hidden_units=500Xsample_size=32Xlearning_rate=0.0005Xgamma=0.99Xepsilon_decay=0.98Xnumber_layers=2|2018-08-04T21:35:56.622105|test.csv')"
   ]
  },
  {
   "cell_type": "code",
   "execution_count": 180,
   "metadata": {},
   "outputs": [
    {
     "data": {
      "text/html": [
       "<div>\n",
       "<style scoped>\n",
       "    .dataframe tbody tr th:only-of-type {\n",
       "        vertical-align: middle;\n",
       "    }\n",
       "\n",
       "    .dataframe tbody tr th {\n",
       "        vertical-align: top;\n",
       "    }\n",
       "\n",
       "    .dataframe thead th {\n",
       "        text-align: right;\n",
       "    }\n",
       "</style>\n",
       "<table border=\"1\" class=\"dataframe\">\n",
       "  <thead>\n",
       "    <tr style=\"text-align: right;\">\n",
       "      <th></th>\n",
       "      <th>episode_index</th>\n",
       "      <th>rewards</th>\n",
       "      <th>steps</th>\n",
       "      <th>losses</th>\n",
       "    </tr>\n",
       "  </thead>\n",
       "  <tbody>\n",
       "    <tr>\n",
       "      <th>0</th>\n",
       "      <td>1</td>\n",
       "      <td>-47.544011</td>\n",
       "      <td>99</td>\n",
       "      <td>0.0</td>\n",
       "    </tr>\n",
       "    <tr>\n",
       "      <th>1</th>\n",
       "      <td>2</td>\n",
       "      <td>-139.990287</td>\n",
       "      <td>89</td>\n",
       "      <td>0.0</td>\n",
       "    </tr>\n",
       "    <tr>\n",
       "      <th>2</th>\n",
       "      <td>3</td>\n",
       "      <td>-143.377794</td>\n",
       "      <td>65</td>\n",
       "      <td>0.0</td>\n",
       "    </tr>\n",
       "  </tbody>\n",
       "</table>\n",
       "</div>"
      ],
      "text/plain": [
       "   episode_index     rewards  steps  losses\n",
       "0              1  -47.544011     99     0.0\n",
       "1              2 -139.990287     89     0.0\n",
       "2              3 -143.377794     65     0.0"
      ]
     },
     "execution_count": 180,
     "metadata": {},
     "output_type": "execute_result"
    }
   ],
   "source": [
    "df_train.head(3)"
   ]
  },
  {
   "cell_type": "code",
   "execution_count": 183,
   "metadata": {},
   "outputs": [
    {
     "data": {
      "image/png": "[encoded data removed]",
      "text/plain": [
       "<Figure size 432x288 with 1 Axes>"
      ]
     },
     "metadata": {},
     "output_type": "display_data"
    }
   ],
   "source": [
    "df_train.rewards.plot()\n",
    "df_train.rewards.rolling(window=10).mean().plot()\n",
    "plt.xlabel('Episode index')\n",
    "plt.ylabel('Cumulative reward')"
   ]
  },
  {
   "cell_type": "code",
   "execution_count": null,
   "metadata": {},
   "outputs": [],
   "source": [
    "df_train"
   ]
  },
  {
   "cell_type": "code",
   "execution_count": 184,
   "metadata": {},
   "outputs": [
    {
     "data": {
      "text/plain": [
       "count    100.000000\n",
       "mean     181.390440\n",
       "std      104.385360\n",
       "min     -288.577569\n",
       "25%      176.545216\n",
       "50%      204.583687\n",
       "75%      235.180576\n",
       "max      264.547224\n",
       "Name: rewards, dtype: float64"
      ]
     },
     "execution_count": 184,
     "metadata": {},
     "output_type": "execute_result"
    }
   ],
   "source": [
    "df_test.rewards.describe()"
   ]
  },
  {
   "cell_type": "code",
   "execution_count": 185,
   "metadata": {},
   "outputs": [
    {
     "data": {
      "text/plain": [
       "<matplotlib.axes._subplots.AxesSubplot at 0xb329d80f0>"
      ]
     },
     "execution_count": 185,
     "metadata": {},
     "output_type": "execute_result"
    },
    {
     "data": {
      "image/png": "[encoded data removed]",
      "text/plain": [
       "<Figure size 432x288 with 1 Axes>"
      ]
     },
     "metadata": {},
     "output_type": "display_data"
    }
   ],
   "source": [
    "_ = df_test.rewards.hist()"
   ]
  },
  {
   "cell_type": "markdown",
   "metadata": {},
   "source": [
    "### DDQN"
   ]
  },
  {
   "cell_type": "code",
   "execution_count": 189,
   "metadata": {},
   "outputs": [],
   "source": [
    "!rm -rf monitor/"
   ]
  },
  {
   "cell_type": "code",
   "execution_count": 190,
   "metadata": {},
   "outputs": [
    {
     "name": "stdout",
     "output_type": "stream",
     "text": [
      "\u001b[33mWARN: gym.spaces.Box autodetected dtype as <class 'numpy.float32'>. Please provide explicit dtype.\u001b[0m\n",
      "_________________________________________________________________\n",
      "Layer (type)                 Output Shape              Param #   \n",
      "=================================================================\n",
      "dense_22 (Dense)             (None, 500)               4500      \n",
      "_________________________________________________________________\n",
      "activation_22 (Activation)   (None, 500)               0         \n",
      "_________________________________________________________________\n",
      "dense_23 (Dense)             (None, 500)               250500    \n",
      "_________________________________________________________________\n",
      "activation_23 (Activation)   (None, 500)               0         \n",
      "_________________________________________________________________\n",
      "dense_24 (Dense)             (None, 4)                 2004      \n",
      "_________________________________________________________________\n",
      "activation_24 (Activation)   (None, 4)                 0         \n",
      "=================================================================\n",
      "Total params: 257,004\n",
      "Trainable params: 257,004\n",
      "Non-trainable params: 0\n",
      "_________________________________________________________________\n",
      "None\n",
      "_________________________________________________________________\n",
      "Layer (type)                 Output Shape              Param #   \n",
      "=================================================================\n",
      "dense_25 (Dense)             (None, 500)               4500      \n",
      "_________________________________________________________________\n",
      "activation_25 (Activation)   (None, 500)               0         \n",
      "_________________________________________________________________\n",
      "dense_26 (Dense)             (None, 500)               250500    \n",
      "_________________________________________________________________\n",
      "activation_26 (Activation)   (None, 500)               0         \n",
      "_________________________________________________________________\n",
      "dense_27 (Dense)             (None, 4)                 2004      \n",
      "_________________________________________________________________\n",
      "activation_27 (Activation)   (None, 4)                 0         \n",
      "=================================================================\n",
      "Total params: 257,004\n",
      "Trainable params: 257,004\n",
      "Non-trainable params: 0\n",
      "_________________________________________________________________\n",
      "None\n"
     ]
    }
   ],
   "source": [
    "env = gym.make('LunarLander-v2')\n",
    "\n",
    "agent = LunarLander(env,\n",
    "                    memory_size,\n",
    "                    target_update_frequency,\n",
    "                    activation,\n",
    "                    number_layers,\n",
    "                    number_hidden_units,\n",
    "                    learning_rate,\n",
    "                    epsilon_decay,\n",
    "                    epsilon_min,\n",
    "                    sample_size,\n",
    "                    learning_threshold_samples,\n",
    "                    gamma,\n",
    "                    loss_function,\n",
    "                    buffer_class,\n",
    "                    monitor_directory,\n",
    "                    log_folder,\n",
    "                    log_verbose,\n",
    "                    is_double_dqn=True,\n",
    "                    seed=seed)"
   ]
  },
  {
   "cell_type": "code",
   "execution_count": 191,
   "metadata": {},
   "outputs": [
    {
     "name": "stdout",
     "output_type": "stream",
     "text": [
      "Episode    1 => reward= -404.5, steps= 102, loss=   0.0\n",
      "Episode    2 => reward= -206.6, steps=  66, loss=   0.0\n",
      "Episode    3 => reward= -154.1, steps=  72, loss=   0.0\n",
      "Episode    4 => reward= -268.8, steps=  75, loss=   0.0\n",
      "Episode    5 => reward= -172.3, steps=  98, loss=   0.0\n",
      "Episode    6 => reward= -340.5, steps=  86, loss=   0.0\n",
      "Episode    7 => reward= -198.7, steps= 109, loss=   0.0\n",
      "Episode    8 => reward= -115.6, steps= 128, loss=   0.0\n",
      "Episode    9 => reward= -202.8, steps=  93, loss=   0.0\n",
      "Episode   10 => reward= -146.8, steps= 109, loss=   0.0\n",
      "Episode   11 => reward= -199.8, steps=  89, loss= 245.3\n",
      "Episode   12 => reward= -532.7, steps= 108, loss= 696.1\n",
      "Episode   13 => reward= -442.8, steps= 125, loss= 418.1\n",
      "Episode   14 => reward= -110.0, steps=  62, loss= 127.9\n",
      "Episode   15 => reward= -205.5, steps= 118, loss= 250.9\n",
      "Episode   16 => reward= -203.3, steps= 110, loss= 245.5\n",
      "Episode   17 => reward=  -36.4, steps=  93, loss= 227.5\n",
      "Episode   18 => reward= -318.4, steps=  85, loss= 254.2\n",
      "Episode   19 => reward= -407.4, steps= 123, loss= 332.0\n",
      "Episode   20 => reward= -306.6, steps=  93, loss= 222.8\n",
      "Episode   21 => reward= -187.9, steps= 172, loss= 363.5\n",
      "Episode   22 => reward= -247.3, steps= 114, loss= 223.6\n",
      "Episode   23 => reward= -203.1, steps=  84, loss= 190.2\n",
      "Episode   24 => reward= -144.5, steps= 110, loss= 234.7\n",
      "Episode   25 => reward= -292.9, steps= 137, loss= 360.4\n",
      "Episode   26 => reward= -215.5, steps=  94, loss= 229.0\n",
      "Episode   27 => reward= -310.4, steps=  97, loss= 220.2\n",
      "Episode   28 => reward= -339.4, steps= 106, loss= 257.2\n",
      "Episode   29 => reward= -242.2, steps= 124, loss= 318.8\n",
      "Episode   30 => reward=  -99.3, steps= 124, loss= 271.0\n",
      "Episode   31 => reward= -308.4, steps= 116, loss= 237.5\n",
      "Episode   32 => reward= -376.5, steps= 223, loss= 413.7\n",
      "Episode   33 => reward= -209.7, steps= 178, loss= 300.0\n",
      "Episode   34 => reward= -206.5, steps= 353, loss= 565.7\n",
      "Episode   35 => reward= -290.7, steps= 195, loss= 275.8\n",
      "Episode   36 => reward=  -85.3, steps= 279, loss= 398.5\n",
      "Episode   37 => reward= -184.7, steps= 213, loss= 289.1\n",
      "Episode   38 => reward= -375.5, steps= 144, loss= 207.1\n",
      "Episode   39 => reward= -225.6, steps= 304, loss= 413.9\n",
      "Episode   40 => reward= -290.7, steps= 287, loss= 367.0\n",
      "Episode   41 => reward= -207.6, steps= 291, loss= 376.6\n",
      "Episode   42 => reward= -587.3, steps= 282, loss= 330.0\n",
      "Episode   43 => reward= -249.4, steps= 195, loss= 240.7\n",
      "Episode   44 => reward= -118.1, steps=  86, loss= 109.4\n",
      "Episode   45 => reward= -205.7, steps= 383, loss= 407.0\n",
      "Episode   46 => reward= -126.5, steps= 602, loss= 596.6\n",
      "Episode   47 => reward= -268.1, steps= 692, loss= 757.4\n",
      "Episode   48 => reward= -147.3, steps= 331, loss= 348.1\n",
      "Episode   49 => reward= -123.9, steps= 190, loss= 256.9\n",
      "Episode   50 => reward= -177.1, steps= 491, loss= 627.3\n",
      "Episode   51 => reward= -139.8, steps= 189, loss= 241.1\n",
      "Episode   52 => reward= -184.0, steps= 384, loss= 480.6\n",
      "Episode   53 => reward=  -75.3, steps= 360, loss= 407.9\n",
      "Episode   54 => reward= -130.4, steps= 325, loss= 327.5\n",
      "Episode   55 => reward= -308.2, steps= 534, loss= 470.6\n",
      "Episode   56 => reward= -359.8, steps= 758, loss= 644.2\n",
      "Episode   57 => reward=   -3.1, steps=1000, loss= 872.2\n",
      "Episode   58 => reward=   30.7, steps=1000, loss=1014.0\n",
      "Episode   59 => reward= -158.2, steps=1000, loss= 872.0\n",
      "Episode   60 => reward= -362.5, steps= 319, loss= 204.7\n",
      "Episode   61 => reward=  -34.9, steps= 441, loss= 294.1\n",
      "Episode   62 => reward= -177.4, steps=1000, loss= 703.6\n",
      "Episode   63 => reward= -154.0, steps=1000, loss= 613.3\n",
      "Episode   64 => reward=  -34.6, steps= 101, loss=  58.7\n",
      "Episode   65 => reward= -151.3, steps=1000, loss= 602.5\n",
      "Episode   66 => reward=  -10.0, steps=1000, loss= 585.0\n",
      "Episode   67 => reward= -149.4, steps=1000, loss= 566.8\n",
      "Episode   68 => reward=  -72.3, steps=1000, loss= 529.5\n",
      "Episode   69 => reward= -122.8, steps=1000, loss= 540.0\n",
      "Episode   70 => reward=  -78.1, steps= 238, loss= 124.2\n",
      "Episode   71 => reward= -141.4, steps=1000, loss= 535.3\n",
      "Episode   72 => reward= -119.9, steps=1000, loss= 523.7\n",
      "Episode   73 => reward= -138.5, steps= 186, loss=  89.9\n",
      "Episode   74 => reward= -166.3, steps= 178, loss=  91.3\n",
      "Episode   75 => reward= -168.6, steps=1000, loss= 579.0\n",
      "Episode   76 => reward=  -26.5, steps= 152, loss=  85.6\n",
      "Episode   77 => reward= -187.6, steps= 144, loss=  88.6\n",
      "Episode   78 => reward=   41.7, steps=1000, loss= 657.3\n",
      "Episode   79 => reward= -216.8, steps= 749, loss= 473.6\n",
      "Episode   80 => reward=  -88.5, steps= 179, loss= 125.9\n",
      "Episode   81 => reward=  -90.3, steps=1000, loss= 649.9\n",
      "Episode   82 => reward= -176.1, steps= 186, loss= 107.2\n",
      "Episode   83 => reward=  -72.4, steps=1000, loss= 633.2\n",
      "Episode   84 => reward=  -54.4, steps= 238, loss= 144.7\n",
      "Episode   85 => reward= -125.1, steps=1000, loss= 658.7\n",
      "Episode   86 => reward=  -62.5, steps= 130, loss=  78.5\n",
      "Episode   87 => reward= -191.1, steps= 522, loss= 332.4\n",
      "Episode   88 => reward= -104.7, steps=1000, loss= 604.8\n",
      "Episode   89 => reward= -170.9, steps= 134, loss=  74.8\n",
      "Episode   90 => reward=  -37.5, steps=1000, loss= 570.2\n",
      "Episode   91 => reward= -107.7, steps=1000, loss= 544.1\n",
      "Episode   92 => reward= -193.2, steps= 136, loss=  75.0\n",
      "Episode   93 => reward=  -63.0, steps=1000, loss= 555.1\n",
      "Episode   94 => reward= -146.8, steps= 185, loss= 102.9\n",
      "Episode   95 => reward= -183.1, steps= 182, loss= 102.5\n",
      "Episode   96 => reward=    7.7, steps=1000, loss= 545.9\n",
      "Episode   97 => reward=  -26.1, steps=1000, loss= 558.9\n",
      "Episode   98 => reward= -325.3, steps= 895, loss= 459.8\n",
      "Episode   99 => reward= -243.2, steps= 422, loss= 229.5\n",
      "Episode  100 => reward=   14.3, steps=1000, loss= 584.9\n",
      "Episode  101 => reward= -143.0, steps= 153, loss=  85.7\n",
      "Episode  102 => reward= -155.4, steps= 205, loss= 105.8\n",
      "Episode  103 => reward=  152.0, steps= 640, loss= 351.1\n",
      "Episode  104 => reward=   37.2, steps=1000, loss= 532.8\n",
      "Episode  105 => reward=  -63.9, steps=  80, loss=  43.5\n",
      "Episode  106 => reward=  -65.9, steps=1000, loss= 541.1\n",
      "Episode  107 => reward=  -71.9, steps= 246, loss= 128.4\n",
      "Episode  108 => reward= -230.4, steps= 163, loss=  83.8\n",
      "Episode  109 => reward= -249.7, steps= 163, loss= 103.4\n",
      "Episode  110 => reward=  169.9, steps= 700, loss= 420.1\n",
      "Episode  111 => reward=   18.0, steps=1000, loss= 588.7\n",
      "Episode  112 => reward=   45.2, steps=1000, loss= 561.3\n",
      "Episode  113 => reward=  -24.7, steps= 225, loss= 123.4\n",
      "Episode  114 => reward=  169.5, steps= 966, loss= 550.6\n",
      "Episode  115 => reward=  106.7, steps= 648, loss= 364.7\n",
      "Episode  116 => reward=  -74.3, steps= 211, loss= 111.9\n",
      "Episode  117 => reward=  -30.5, steps=1000, loss= 557.8\n",
      "Episode  118 => reward= -134.2, steps= 219, loss= 117.2\n",
      "Episode  119 => reward= -127.2, steps= 166, loss=  90.7\n",
      "Episode  120 => reward=  186.3, steps= 407, loss= 258.2\n",
      "Episode  121 => reward=   72.8, steps= 965, loss= 583.3\n",
      "Episode  122 => reward= -108.5, steps=1000, loss= 632.0\n",
      "Episode  123 => reward= -197.0, steps= 183, loss= 111.1\n",
      "Episode  124 => reward= -164.4, steps=  99, loss=  64.3\n",
      "Episode  125 => reward= -251.3, steps= 180, loss= 110.0\n",
      "Episode  126 => reward= -391.8, steps= 587, loss= 369.2\n",
      "Episode  127 => reward= -130.1, steps= 124, loss=  78.6\n",
      "Episode  128 => reward= -253.2, steps= 285, loss= 184.4\n",
      "Episode  129 => reward=   14.0, steps=1000, loss= 631.2\n",
      "Episode  130 => reward=  -71.2, steps= 340, loss= 202.7\n",
      "Episode  131 => reward=  180.6, steps= 665, loss= 438.9\n",
      "Episode  132 => reward=  126.7, steps= 435, loss= 275.3\n",
      "Episode  133 => reward=  189.2, steps= 446, loss= 309.6\n",
      "Episode  134 => reward=  147.4, steps= 929, loss= 607.5\n",
      "Episode  135 => reward= -100.7, steps= 133, loss=  80.3\n",
      "Episode  136 => reward=  174.4, steps= 889, loss= 596.7\n",
      "Episode  137 => reward=  211.8, steps= 364, loss= 246.0\n",
      "Episode  138 => reward=  112.4, steps= 903, loss= 626.4\n",
      "Episode  139 => reward= -101.5, steps= 154, loss= 109.5\n",
      "Episode  140 => reward=    2.0, steps=1000, loss= 704.5\n",
      "Episode  141 => reward=  143.6, steps= 636, loss= 432.2\n",
      "Episode  142 => reward=   43.6, steps=1000, loss= 692.3\n",
      "Episode  143 => reward=  156.8, steps= 957, loss= 642.9\n",
      "Episode  144 => reward=  150.1, steps= 536, loss= 350.5\n",
      "Episode  145 => reward= -133.5, steps= 167, loss= 119.0\n",
      "Episode  146 => reward=  150.5, steps= 752, loss= 520.4\n",
      "Episode  147 => reward= -101.1, steps=1000, loss= 678.1\n"
     ]
    },
    {
     "name": "stdout",
     "output_type": "stream",
     "text": [
      "Episode  148 => reward= -114.2, steps= 494, loss= 340.9\n",
      "Episode  149 => reward=  181.2, steps= 423, loss= 310.4\n",
      "Episode  150 => reward= -188.8, steps= 220, loss= 152.4\n",
      "Episode  151 => reward=  124.1, steps= 773, loss= 538.1\n",
      "Episode  152 => reward=   22.5, steps=1000, loss= 666.9\n",
      "Episode  153 => reward= -104.6, steps= 690, loss= 477.5\n",
      "Episode  154 => reward= -176.1, steps= 558, loss= 393.5\n",
      "Episode  155 => reward=   51.5, steps=1000, loss= 698.5\n",
      "Episode  156 => reward=  -79.5, steps= 402, loss= 277.8\n",
      "Episode  157 => reward=  197.0, steps= 459, loss= 307.1\n",
      "Episode  158 => reward= -155.2, steps= 338, loss= 253.0\n",
      "Episode  159 => reward=  -88.0, steps=1000, loss= 712.3\n",
      "Episode  160 => reward=   19.2, steps=1000, loss= 681.0\n",
      "Episode  161 => reward=  209.5, steps= 567, loss= 414.6\n",
      "Episode  162 => reward=  175.6, steps= 435, loss= 303.2\n",
      "Episode  163 => reward=  197.5, steps= 785, loss= 561.7\n",
      "Episode  164 => reward=    5.5, steps=1000, loss= 667.1\n",
      "Episode  165 => reward= -109.4, steps= 216, loss= 143.8\n",
      "Episode  166 => reward=  -41.9, steps=1000, loss= 703.6\n",
      "Episode  167 => reward=  106.3, steps= 746, loss= 532.7\n",
      "Episode  168 => reward=  -87.0, steps=1000, loss= 713.1\n",
      "Episode  169 => reward=  -48.8, steps=1000, loss= 711.2\n",
      "Episode  170 => reward=  -52.4, steps=1000, loss= 660.5\n",
      "Episode  171 => reward=  172.6, steps= 577, loss= 396.5\n",
      "Episode  172 => reward= -303.2, steps= 798, loss= 530.5\n",
      "Episode  173 => reward=  179.1, steps= 637, loss= 444.3\n",
      "Episode  174 => reward= -185.9, steps= 270, loss= 173.8\n",
      "Episode  175 => reward=  178.9, steps= 705, loss= 460.5\n",
      "Episode  176 => reward=  155.1, steps= 717, loss= 455.7\n",
      "Episode  177 => reward=  117.7, steps=1000, loss= 632.1\n",
      "Episode  178 => reward=  -63.2, steps= 208, loss= 123.4\n",
      "Episode  179 => reward=  202.1, steps= 437, loss= 281.2\n",
      "Episode  180 => reward=  167.9, steps= 504, loss= 325.3\n",
      "Episode  181 => reward=  106.2, steps= 696, loss= 446.2\n",
      "Episode  182 => reward=  -59.4, steps=1000, loss= 624.9\n",
      "Episode  183 => reward=    4.0, steps=1000, loss= 609.3\n",
      "Episode  184 => reward=  141.0, steps= 790, loss= 462.3\n",
      "Episode  185 => reward= -365.7, steps= 787, loss= 472.0\n",
      "Episode  186 => reward=   53.2, steps=1000, loss= 598.8\n",
      "Episode  187 => reward=   81.2, steps=1000, loss= 587.9\n",
      "Episode  188 => reward=  143.3, steps= 588, loss= 354.8\n",
      "Episode  189 => reward=  192.0, steps= 402, loss= 232.5\n",
      "Episode  190 => reward=  164.6, steps= 484, loss= 286.6\n",
      "Episode  191 => reward=   67.6, steps=1000, loss= 584.5\n",
      "Episode  192 => reward= -161.0, steps=  78, loss=  43.9\n",
      "Episode  193 => reward=  185.6, steps= 450, loss= 265.9\n",
      "Episode  194 => reward=  132.7, steps= 800, loss= 440.2\n",
      "Episode  195 => reward= -179.1, steps= 600, loss= 333.3\n",
      "Episode  196 => reward=  207.1, steps= 386, loss= 213.0\n",
      "Episode  197 => reward=   62.5, steps=1000, loss= 554.9\n",
      "Episode  198 => reward=  175.1, steps= 597, loss= 331.4\n",
      "Episode  199 => reward= -138.0, steps=  67, loss=  35.9\n",
      "Episode  200 => reward=    0.6, steps=1000, loss= 521.3\n",
      "Episode  201 => reward=   86.1, steps=1000, loss= 520.7\n",
      "Episode  202 => reward=  176.2, steps= 747, loss= 393.4\n",
      "Episode  203 => reward=   57.2, steps=1000, loss= 533.5\n",
      "Episode  204 => reward=   62.4, steps=1000, loss= 519.4\n",
      "Episode  205 => reward=   25.3, steps=1000, loss= 544.1\n",
      "Episode  206 => reward=   62.4, steps=1000, loss= 527.9\n",
      "Episode  207 => reward=   -8.4, steps=1000, loss= 520.4\n",
      "Episode  208 => reward=  115.3, steps=1000, loss= 515.4\n",
      "Episode  209 => reward= -137.2, steps= 205, loss=  94.3\n",
      "Episode  210 => reward=   75.8, steps= 997, loss= 515.1\n",
      "Episode  211 => reward=   58.5, steps=1000, loss= 529.9\n",
      "Episode  212 => reward=  102.3, steps=1000, loss= 514.5\n",
      "Episode  213 => reward=  142.9, steps= 457, loss= 244.4\n",
      "Episode  214 => reward=  217.6, steps= 744, loss= 403.1\n",
      "Episode  215 => reward=    7.2, steps=1000, loss= 535.0\n",
      "Episode  216 => reward=  183.5, steps= 466, loss= 241.6\n",
      "Episode  217 => reward=  160.3, steps= 365, loss= 205.0\n",
      "Episode  218 => reward=  127.0, steps=1000, loss= 536.5\n",
      "Episode  219 => reward=  153.8, steps= 680, loss= 349.2\n",
      "Episode  220 => reward=  107.4, steps=1000, loss= 530.9\n",
      "Episode  221 => reward=  127.6, steps=1000, loss= 516.6\n",
      "Episode  222 => reward=  118.9, steps=1000, loss= 525.9\n",
      "Episode  223 => reward=   48.2, steps=1000, loss= 512.6\n",
      "Episode  224 => reward= -144.0, steps=  79, loss=  35.0\n",
      "Episode  225 => reward=  148.0, steps=1000, loss= 556.0\n",
      "Episode  226 => reward=  213.4, steps= 820, loss= 423.3\n",
      "Episode  227 => reward=  241.4, steps= 709, loss= 371.8\n",
      "Episode  228 => reward=  234.6, steps= 417, loss= 214.4\n",
      "Episode  229 => reward=  244.0, steps= 285, loss= 149.3\n",
      "Episode  230 => reward=  179.8, steps= 404, loss= 208.2\n",
      "Episode  231 => reward=  194.3, steps= 272, loss= 135.0\n",
      "Episode  232 => reward=  239.2, steps= 333, loss= 167.7\n",
      "Episode  233 => reward=  143.7, steps= 641, loss= 318.3\n",
      "Episode  234 => reward=  188.0, steps= 294, loss= 144.8\n",
      "Episode  235 => reward= -140.7, steps= 440, loss= 234.7\n",
      "Episode  236 => reward=  204.2, steps= 782, loss= 408.1\n",
      "Episode  237 => reward=  216.4, steps= 336, loss= 168.2\n",
      "Episode  238 => reward=  118.1, steps= 826, loss= 412.6\n",
      "Episode  239 => reward=  195.8, steps= 753, loss= 385.0\n",
      "Episode  240 => reward= -294.0, steps= 370, loss= 195.3\n",
      "Episode  241 => reward=  100.4, steps=1000, loss= 524.5\n",
      "Episode  242 => reward=  154.7, steps= 526, loss= 264.7\n",
      "Episode  243 => reward=  140.4, steps= 598, loss= 338.5\n",
      "Episode  244 => reward=  200.5, steps= 352, loss= 185.6\n",
      "Episode  245 => reward=  125.4, steps=1000, loss= 530.5\n",
      "Episode  246 => reward=  228.0, steps= 933, loss= 481.9\n",
      "Episode  247 => reward=  167.3, steps= 478, loss= 242.6\n",
      "Episode  248 => reward=  213.9, steps= 268, loss= 130.1\n",
      "Episode  249 => reward=  194.7, steps= 554, loss= 280.2\n",
      "Episode  250 => reward=  207.1, steps= 929, loss= 482.6\n",
      "Episode  251 => reward=  -43.1, steps=1000, loss= 534.3\n",
      "Episode  252 => reward=  202.9, steps= 514, loss= 272.9\n",
      "Episode  253 => reward=  206.3, steps= 305, loss= 156.4\n",
      "Episode  254 => reward=   -8.0, steps=1000, loss= 544.8\n",
      "Episode  255 => reward= -261.2, steps= 389, loss= 204.6\n",
      "Episode  256 => reward=  -31.9, steps=1000, loss= 575.2\n",
      "Episode  257 => reward=   44.6, steps=1000, loss= 571.5\n",
      "Episode  258 => reward=   95.2, steps=1000, loss= 567.9\n",
      "Episode  259 => reward=   91.7, steps=1000, loss= 565.2\n",
      "Episode  260 => reward= -167.2, steps= 191, loss= 106.9\n",
      "Episode  261 => reward=   97.3, steps= 604, loss= 335.7\n",
      "Episode  262 => reward=   90.4, steps=1000, loss= 559.6\n",
      "Episode  263 => reward=  241.3, steps= 225, loss= 123.8\n",
      "Episode  264 => reward=   74.5, steps=1000, loss= 531.6\n",
      "Episode  265 => reward=  198.2, steps= 841, loss= 436.3\n",
      "Episode  266 => reward=  174.8, steps= 479, loss= 250.0\n",
      "Episode  267 => reward= -231.6, steps= 197, loss= 111.7\n",
      "Episode  268 => reward=  208.9, steps= 352, loss= 195.8\n",
      "Episode  269 => reward= -206.7, steps= 296, loss= 165.5\n",
      "Episode  270 => reward= -153.1, steps= 404, loss= 225.7\n",
      "Episode  271 => reward=   95.0, steps= 566, loss= 293.7\n",
      "Episode  272 => reward=  178.1, steps= 799, loss= 423.9\n",
      "Episode  273 => reward=  245.8, steps= 456, loss= 258.1\n",
      "Episode  274 => reward= -245.2, steps= 327, loss= 171.6\n",
      "Episode  275 => reward= -385.0, steps= 151, loss=  78.5\n",
      "Episode  276 => reward=  218.4, steps= 333, loss= 177.0\n",
      "Episode  277 => reward= -186.9, steps= 568, loss= 315.7\n",
      "Episode  278 => reward=  165.9, steps= 362, loss= 197.0\n",
      "Episode  279 => reward= -269.6, steps=  73, loss=  43.1\n",
      "Episode  280 => reward=  119.9, steps= 737, loss= 425.6\n",
      "Episode  281 => reward=  131.9, steps= 719, loss= 426.4\n",
      "Episode  282 => reward=  152.8, steps= 475, loss= 264.4\n",
      "Episode  283 => reward=  227.4, steps= 459, loss= 259.1\n",
      "Episode  284 => reward= -308.0, steps= 243, loss= 140.0\n",
      "Episode  285 => reward=  251.1, steps= 425, loss= 255.0\n",
      "Episode  286 => reward= -113.8, steps=1000, loss= 581.7\n",
      "Episode  287 => reward=  128.2, steps= 840, loss= 501.6\n",
      "Episode  288 => reward=  197.9, steps= 380, loss= 228.7\n",
      "Episode  289 => reward=   99.7, steps= 540, loss= 304.3\n",
      "Episode  290 => reward=  114.8, steps=1000, loss= 553.8\n",
      "Episode  291 => reward= -168.8, steps=  67, loss=  34.7\n",
      "Episode  292 => reward= -223.7, steps=  62, loss=  33.6\n",
      "Episode  293 => reward=  172.1, steps= 475, loss= 285.4\n",
      "Episode  294 => reward= -263.5, steps= 356, loss= 215.3\n"
     ]
    },
    {
     "name": "stdout",
     "output_type": "stream",
     "text": [
      "Episode  295 => reward= -402.8, steps= 112, loss=  77.5\n",
      "Episode  296 => reward= -245.0, steps= 100, loss=  58.9\n",
      "Episode  297 => reward= -268.6, steps= 105, loss=  67.7\n",
      "Episode  298 => reward= -166.2, steps=1000, loss= 634.9\n",
      "Episode  299 => reward= -242.6, steps= 147, loss=  96.5\n",
      "Episode  300 => reward=  193.0, steps= 542, loss= 359.9\n",
      "Episode  301 => reward=  151.3, steps= 767, loss= 500.2\n",
      "Episode  302 => reward= -332.9, steps= 102, loss=  61.3\n",
      "Episode  303 => reward=  104.9, steps= 451, loss= 304.6\n",
      "Episode  304 => reward= -247.0, steps= 299, loss= 199.8\n",
      "Episode  305 => reward=  192.2, steps= 401, loss= 261.8\n",
      "Episode  306 => reward=  210.4, steps= 724, loss= 461.3\n",
      "Episode  307 => reward= -136.0, steps= 175, loss= 114.3\n",
      "Episode  308 => reward= -281.1, steps= 108, loss=  67.6\n",
      "Episode  309 => reward=   74.0, steps=1000, loss= 640.9\n",
      "Episode  310 => reward= -226.9, steps= 100, loss=  59.8\n",
      "Episode  311 => reward= -233.4, steps=  89, loss=  55.3\n",
      "Episode  312 => reward= -202.7, steps= 111, loss=  84.1\n",
      "Episode  313 => reward= -128.9, steps=  95, loss=  55.5\n",
      "Episode  314 => reward= -197.0, steps=  90, loss=  64.0\n",
      "Episode  315 => reward= -253.2, steps= 147, loss= 105.3\n",
      "Episode  316 => reward= -287.1, steps=  74, loss=  54.3\n",
      "Episode  317 => reward=  232.7, steps= 283, loss= 207.1\n",
      "Episode  318 => reward=  235.9, steps= 398, loss= 278.5\n",
      "Episode  319 => reward= -365.5, steps=  90, loss=  62.6\n",
      "Episode  320 => reward= -590.6, steps= 460, loss= 328.6\n",
      "Episode  321 => reward= -184.0, steps=  57, loss=  40.6\n",
      "Episode  322 => reward=  227.4, steps= 377, loss= 256.4\n",
      "Episode  323 => reward= -253.7, steps=  89, loss=  53.1\n",
      "Episode  324 => reward=  158.3, steps= 544, loss= 380.0\n",
      "Episode  325 => reward= -311.4, steps=  78, loss=  57.3\n",
      "Episode  326 => reward= -263.8, steps=  77, loss=  57.3\n",
      "Episode  327 => reward= -500.9, steps=  83, loss=  66.5\n",
      "Episode  328 => reward= -226.7, steps=  56, loss=  36.6\n",
      "Episode  329 => reward=  200.1, steps= 529, loss= 386.3\n",
      "Episode  330 => reward= -253.0, steps=  66, loss=  46.1\n",
      "Episode  331 => reward=  187.5, steps= 359, loss= 254.1\n",
      "Episode  332 => reward= -187.6, steps=  67, loss=  49.9\n",
      "Episode  333 => reward=  241.3, steps= 526, loss= 373.1\n",
      "Episode  334 => reward=  184.9, steps= 432, loss= 311.8\n",
      "Episode  335 => reward= -151.3, steps= 143, loss=  97.6\n",
      "Episode  336 => reward= -353.0, steps=  90, loss=  57.3\n",
      "Episode  337 => reward= -222.0, steps=  71, loss=  50.8\n",
      "Episode  338 => reward=  -46.9, steps=  94, loss=  64.9\n",
      "Episode  339 => reward= -110.2, steps= 185, loss= 150.0\n",
      "Episode  340 => reward=  -69.0, steps= 254, loss= 187.9\n",
      "Episode  341 => reward= -244.3, steps=  74, loss=  55.1\n",
      "Episode  342 => reward= -262.5, steps=  71, loss=  49.5\n",
      "Episode  343 => reward= -185.1, steps= 164, loss= 121.4\n",
      "Episode  344 => reward= -239.4, steps=  83, loss=  69.7\n",
      "Episode  345 => reward= -353.9, steps= 107, loss=  87.0\n",
      "Episode  346 => reward=  201.1, steps= 330, loss= 256.9\n",
      "Episode  347 => reward=  203.2, steps= 396, loss= 302.6\n",
      "Episode  348 => reward= -207.6, steps= 124, loss=  95.6\n",
      "Episode  349 => reward=  247.7, steps= 258, loss= 196.9\n",
      "Episode  350 => reward= -259.9, steps=  74, loss=  56.5\n",
      "Episode  351 => reward= -196.7, steps= 137, loss=  99.9\n",
      "Episode  352 => reward= -258.5, steps= 101, loss=  70.0\n",
      "Episode  353 => reward=  201.9, steps= 244, loss= 177.2\n",
      "Episode  354 => reward= -195.5, steps= 140, loss= 108.7\n",
      "Episode  355 => reward= -214.6, steps= 103, loss=  78.4\n",
      "Episode  356 => reward=  -99.2, steps= 173, loss= 133.2\n",
      "Episode  357 => reward= -186.7, steps= 154, loss= 123.0\n",
      "Episode  358 => reward= -249.3, steps= 157, loss= 129.3\n",
      "Episode  359 => reward= -246.0, steps=  92, loss=  72.2\n",
      "Episode  360 => reward= -130.9, steps=  70, loss=  53.8\n",
      "Episode  361 => reward= -177.9, steps=  90, loss=  74.6\n",
      "Episode  362 => reward= -173.5, steps=  62, loss=  48.3\n",
      "Episode  363 => reward= -203.1, steps=  66, loss=  57.7\n",
      "Episode  364 => reward=   76.7, steps= 878, loss= 737.6\n",
      "Episode  365 => reward= -329.4, steps= 393, loss= 326.2\n",
      "Episode  366 => reward=   76.6, steps= 824, loss= 639.6\n",
      "Episode  367 => reward= -229.1, steps=  81, loss=  69.2\n",
      "Episode  368 => reward=  164.8, steps= 513, loss= 404.8\n",
      "Episode  369 => reward=  187.8, steps= 431, loss= 325.3\n",
      "Episode  370 => reward= -262.4, steps=  85, loss=  65.8\n",
      "Episode  371 => reward= -176.4, steps=  88, loss=  66.1\n",
      "Episode  372 => reward= -232.2, steps=  90, loss=  66.9\n",
      "Episode  373 => reward= -209.5, steps=  92, loss=  69.5\n",
      "Episode  374 => reward=  -51.4, steps=1000, loss= 803.6\n",
      "Episode  375 => reward=   92.4, steps=1000, loss= 810.9\n",
      "Episode  376 => reward= -209.3, steps= 170, loss= 136.8\n",
      "Episode  377 => reward=  170.7, steps= 195, loss= 156.2\n",
      "Episode  378 => reward= -206.9, steps= 187, loss= 138.5\n",
      "Episode  379 => reward=  196.0, steps= 399, loss= 320.7\n",
      "Episode  380 => reward=  199.9, steps= 428, loss= 324.2\n",
      "Episode  381 => reward= -169.1, steps=  92, loss=  70.8\n",
      "Episode  382 => reward= -146.4, steps= 112, loss=  87.1\n",
      "Episode  383 => reward= -172.4, steps= 121, loss=  96.6\n",
      "Episode  384 => reward= -232.8, steps=  97, loss=  84.2\n",
      "Episode  385 => reward=  125.3, steps=1000, loss= 782.2\n",
      "Episode  386 => reward= -207.6, steps=  86, loss=  68.8\n",
      "Episode  387 => reward= -187.2, steps=  92, loss=  65.0\n",
      "Episode  388 => reward=  208.4, steps= 708, loss= 533.1\n",
      "Episode  389 => reward= -230.0, steps= 191, loss= 153.6\n",
      "Episode  390 => reward= -201.6, steps=  89, loss=  67.4\n",
      "Episode  391 => reward=  234.9, steps= 629, loss= 465.1\n",
      "Episode  392 => reward=  -82.3, steps= 142, loss= 103.5\n",
      "Episode  393 => reward=  127.8, steps= 592, loss= 440.4\n",
      "Episode  394 => reward=  228.8, steps= 665, loss= 489.9\n",
      "Episode  395 => reward=  177.7, steps= 446, loss= 349.7\n",
      "Episode  396 => reward=  196.1, steps= 317, loss= 238.8\n",
      "Episode  397 => reward= -259.9, steps= 321, loss= 241.9\n",
      "Episode  398 => reward=  213.3, steps= 308, loss= 233.4\n",
      "Episode  399 => reward=  182.0, steps= 358, loss= 274.3\n",
      "Episode  400 => reward=  143.2, steps= 496, loss= 375.6\n",
      "Episode  401 => reward=  156.4, steps= 437, loss= 321.9\n",
      "Episode  402 => reward=  103.0, steps= 634, loss= 487.9\n",
      "Episode  403 => reward=  -27.9, steps= 154, loss= 112.9\n",
      "Episode  404 => reward=  202.0, steps= 489, loss= 366.0\n",
      "Episode  405 => reward=  183.2, steps= 663, loss= 467.5\n",
      "Episode  406 => reward=  149.0, steps= 715, loss= 503.3\n",
      "Episode  407 => reward=  210.3, steps= 232, loss= 172.5\n",
      "Episode  408 => reward=  225.2, steps= 860, loss= 636.1\n",
      "Episode  409 => reward=  202.6, steps= 568, loss= 417.0\n",
      "Episode  410 => reward=  133.2, steps= 420, loss= 314.6\n",
      "Episode  411 => reward=  200.0, steps= 585, loss= 417.8\n",
      "Episode  412 => reward=   95.9, steps= 448, loss= 329.0\n",
      "Episode  413 => reward=  186.5, steps= 644, loss= 483.4\n",
      "Episode  414 => reward=   95.2, steps=1000, loss= 738.7\n",
      "Episode  415 => reward=  179.0, steps= 753, loss= 546.9\n",
      "Episode  416 => reward=  212.8, steps= 662, loss= 482.7\n",
      "Episode  417 => reward=  185.6, steps= 335, loss= 245.6\n",
      "Episode  418 => reward=  204.2, steps= 267, loss= 192.1\n",
      "Episode  419 => reward=  250.3, steps= 345, loss= 242.8\n",
      "Episode  420 => reward=  171.9, steps= 652, loss= 464.7\n",
      "Episode  421 => reward=  194.3, steps= 772, loss= 522.7\n",
      "Episode  422 => reward= -201.7, steps= 649, loss= 453.8\n",
      "Episode  423 => reward=  -31.8, steps=1000, loss= 708.9\n",
      "Episode  424 => reward=  204.8, steps= 387, loss= 260.4\n",
      "Episode  425 => reward=  181.4, steps= 964, loss= 642.1\n",
      "Episode  426 => reward=   60.4, steps=1000, loss= 718.2\n",
      "Episode  427 => reward=  227.6, steps= 415, loss= 290.8\n",
      "Episode  428 => reward=  172.0, steps= 504, loss= 348.8\n",
      "Episode  429 => reward=  199.1, steps= 385, loss= 253.9\n",
      "Episode  430 => reward=   69.2, steps=1000, loss= 678.0\n",
      "Episode  431 => reward=  213.5, steps= 390, loss= 273.9\n",
      "Episode  432 => reward=  191.8, steps= 421, loss= 303.9\n",
      "Episode  433 => reward=  204.2, steps= 682, loss= 481.5\n",
      "Episode  434 => reward=   92.9, steps=1000, loss= 686.7\n",
      "Episode  435 => reward= -217.7, steps= 272, loss= 184.0\n",
      "Episode  436 => reward= -287.0, steps= 752, loss= 541.7\n",
      "Episode  437 => reward=  113.0, steps=1000, loss= 675.9\n",
      "Episode  438 => reward=  212.1, steps= 400, loss= 261.0\n",
      "Episode  439 => reward=  225.2, steps= 802, loss= 562.2\n",
      "Episode  440 => reward=  223.0, steps= 272, loss= 176.7\n",
      "Episode  441 => reward=  225.1, steps= 305, loss= 197.5\n"
     ]
    },
    {
     "name": "stdout",
     "output_type": "stream",
     "text": [
      "Episode  442 => reward=  216.9, steps= 331, loss= 219.6\n",
      "Episode  443 => reward=  199.8, steps= 499, loss= 327.3\n",
      "Episode  444 => reward= -195.9, steps= 507, loss= 342.3\n",
      "Episode  445 => reward=  263.4, steps= 368, loss= 252.1\n",
      "Episode  446 => reward=  -58.0, steps=1000, loss= 660.5\n",
      "Episode  447 => reward=  233.1, steps= 454, loss= 317.8\n",
      "Episode  448 => reward= -279.3, steps= 495, loss= 331.0\n",
      "Episode  449 => reward=  203.0, steps= 430, loss= 312.4\n",
      "Episode  450 => reward=  245.2, steps= 322, loss= 217.2\n",
      "Episode  451 => reward=  245.8, steps= 524, loss= 356.4\n",
      "Episode  452 => reward=  -23.6, steps=1000, loss= 647.6\n",
      "Episode  453 => reward=  120.0, steps=1000, loss= 651.0\n",
      "Episode  454 => reward=   85.5, steps=1000, loss= 640.7\n",
      "Episode  455 => reward=  225.2, steps= 394, loss= 260.0\n",
      "Episode  456 => reward=  224.5, steps= 370, loss= 254.4\n",
      "Episode  457 => reward=  209.6, steps= 331, loss= 211.0\n",
      "Episode  458 => reward=  185.5, steps= 599, loss= 365.9\n",
      "Episode  459 => reward=  235.3, steps= 320, loss= 206.5\n",
      "Episode  460 => reward=  214.7, steps= 261, loss= 159.3\n",
      "Episode  461 => reward=  229.5, steps= 444, loss= 280.2\n",
      "Episode  462 => reward=  214.8, steps= 339, loss= 220.6\n",
      "Episode  463 => reward=  192.6, steps= 399, loss= 251.1\n",
      "Episode  464 => reward=  220.8, steps= 285, loss= 172.3\n",
      "Episode  465 => reward=  176.7, steps= 499, loss= 318.7\n",
      "Episode  466 => reward=  218.3, steps= 610, loss= 394.0\n",
      "Episode  467 => reward=   81.7, steps=1000, loss= 632.2\n",
      "Episode  468 => reward=  192.7, steps= 872, loss= 539.6\n",
      "Episode  469 => reward=  187.9, steps= 768, loss= 482.1\n",
      "Episode  470 => reward=  200.9, steps= 477, loss= 300.1\n",
      "Episode  471 => reward=  220.8, steps= 366, loss= 224.6\n",
      "Episode  472 => reward=  200.2, steps= 360, loss= 212.4\n",
      "Episode  473 => reward=  180.6, steps= 350, loss= 207.6\n",
      "Episode  474 => reward=  112.8, steps=1000, loss= 633.1\n",
      "Episode  475 => reward=  211.7, steps= 348, loss= 219.7\n",
      "Episode  476 => reward=  118.8, steps=1000, loss= 637.9\n",
      "Episode  477 => reward=  122.1, steps=1000, loss= 596.8\n",
      "Episode  478 => reward=   84.6, steps=1000, loss= 608.9\n",
      "Episode  479 => reward=  214.6, steps= 464, loss= 290.4\n",
      "Episode  480 => reward=   60.7, steps=1000, loss= 608.6\n",
      "Episode  481 => reward=  183.7, steps= 272, loss= 166.8\n",
      "Episode  482 => reward=  240.3, steps= 336, loss= 203.0\n",
      "Episode  483 => reward=  120.2, steps=1000, loss= 597.2\n",
      "Episode  484 => reward=  108.5, steps=1000, loss= 574.5\n",
      "Episode  485 => reward=  252.1, steps= 331, loss= 198.5\n",
      "Episode  486 => reward=  124.5, steps= 667, loss= 387.0\n",
      "Episode  487 => reward=  242.3, steps= 276, loss= 168.8\n",
      "Episode  488 => reward=  107.3, steps= 929, loss= 546.5\n",
      "Episode  489 => reward=  214.3, steps= 476, loss= 287.4\n",
      "Episode  490 => reward=  217.7, steps= 632, loss= 378.3\n",
      "Episode  491 => reward=  208.8, steps= 573, loss= 341.1\n",
      "Episode  492 => reward=  219.5, steps= 528, loss= 331.4\n",
      "Episode  493 => reward=  207.1, steps= 289, loss= 162.5\n",
      "Episode  494 => reward=  -30.6, steps=  97, loss=  55.7\n",
      "Episode  495 => reward=  219.1, steps= 727, loss= 419.5\n",
      "Episode  496 => reward=  195.5, steps= 837, loss= 498.8\n",
      "Episode  497 => reward=  177.5, steps= 410, loss= 240.1\n",
      "Episode  498 => reward=  254.9, steps= 335, loss= 202.5\n",
      "Episode  499 => reward=  192.3, steps= 848, loss= 497.4\n",
      "Episode  500 => reward=  240.7, steps= 264, loss= 152.7\n"
     ]
    }
   ],
   "source": [
    "agent.run(episodes)"
   ]
  },
  {
   "cell_type": "code",
   "execution_count": 192,
   "metadata": {},
   "outputs": [
    {
     "name": "stdout",
     "output_type": "stream",
     "text": [
      "Episode    1 => reward=  193.8, steps= 211, loss=   0.0\n",
      "Episode    2 => reward=  221.7, steps= 335, loss=   0.0\n",
      "Episode    3 => reward=  211.6, steps= 199, loss=   0.0\n",
      "Episode    4 => reward=  220.2, steps= 200, loss=   0.0\n",
      "Episode    5 => reward=  239.7, steps= 215, loss=   0.0\n",
      "Episode    6 => reward=  163.3, steps= 533, loss=   0.0\n",
      "Episode    7 => reward=  172.7, steps= 458, loss=   0.0\n",
      "Episode    8 => reward=  218.0, steps= 200, loss=   0.0\n",
      "Episode    9 => reward=  217.2, steps= 191, loss=   0.0\n",
      "Episode   10 => reward= -196.4, steps= 492, loss=   0.0\n",
      "Episode   11 => reward=  -60.0, steps= 357, loss=   0.0\n",
      "Episode   12 => reward=  229.6, steps= 206, loss=   0.0\n",
      "Episode   13 => reward=  198.9, steps= 350, loss=   0.0\n",
      "Episode   14 => reward=  205.6, steps= 214, loss=   0.0\n",
      "Episode   15 => reward=  184.1, steps= 258, loss=   0.0\n",
      "Episode   16 => reward=  207.2, steps= 200, loss=   0.0\n",
      "Episode   17 => reward=  222.3, steps= 192, loss=   0.0\n",
      "Episode   18 => reward=   74.5, steps=1000, loss=   0.0\n",
      "Episode   19 => reward=  233.4, steps= 207, loss=   0.0\n",
      "Episode   20 => reward=  206.7, steps= 245, loss=   0.0\n",
      "Episode   21 => reward=  211.5, steps= 428, loss=   0.0\n",
      "Episode   22 => reward=  245.7, steps= 192, loss=   0.0\n",
      "Episode   23 => reward=  165.3, steps= 396, loss=   0.0\n",
      "Episode   24 => reward=  208.6, steps= 258, loss=   0.0\n",
      "Episode   25 => reward=  190.5, steps= 251, loss=   0.0\n",
      "Episode   26 => reward= -130.6, steps= 204, loss=   0.0\n",
      "Episode   27 => reward=  227.4, steps= 334, loss=   0.0\n",
      "Episode   28 => reward=  242.8, steps= 182, loss=   0.0\n",
      "Episode   29 => reward=   23.3, steps=1000, loss=   0.0\n",
      "Episode   30 => reward=  198.6, steps= 212, loss=   0.0\n",
      "Episode   31 => reward=  202.6, steps= 337, loss=   0.0\n",
      "Episode   32 => reward=  161.8, steps= 535, loss=   0.0\n",
      "Episode   33 => reward=  184.6, steps= 487, loss=   0.0\n",
      "Episode   34 => reward=  224.9, steps= 397, loss=   0.0\n",
      "Episode   35 => reward=  229.9, steps= 202, loss=   0.0\n",
      "Episode   36 => reward=  170.7, steps= 354, loss=   0.0\n",
      "Episode   37 => reward=  178.7, steps= 305, loss=   0.0\n",
      "Episode   38 => reward=  200.1, steps= 284, loss=   0.0\n",
      "Episode   39 => reward=  230.8, steps= 198, loss=   0.0\n",
      "Episode   40 => reward=  185.1, steps= 380, loss=   0.0\n",
      "Episode   41 => reward=  202.3, steps= 231, loss=   0.0\n",
      "Episode   42 => reward=  196.8, steps= 233, loss=   0.0\n",
      "Episode   43 => reward=  234.9, steps= 336, loss=   0.0\n",
      "Episode   44 => reward=  238.2, steps= 193, loss=   0.0\n",
      "Episode   45 => reward=  243.6, steps= 224, loss=   0.0\n",
      "Episode   46 => reward=  231.3, steps= 297, loss=   0.0\n",
      "Episode   47 => reward=  232.3, steps= 207, loss=   0.0\n",
      "Episode   48 => reward=  223.3, steps= 207, loss=   0.0\n",
      "Episode   49 => reward=  208.8, steps= 273, loss=   0.0\n",
      "Episode   50 => reward=  223.7, steps= 223, loss=   0.0\n",
      "Episode   51 => reward=  229.2, steps= 228, loss=   0.0\n",
      "Episode   52 => reward=  178.9, steps= 557, loss=   0.0\n",
      "Episode   53 => reward=  206.3, steps= 272, loss=   0.0\n",
      "Episode   54 => reward=  168.5, steps= 648, loss=   0.0\n",
      "Episode   55 => reward=  245.8, steps= 203, loss=   0.0\n",
      "Episode   56 => reward=  236.0, steps= 323, loss=   0.0\n",
      "Episode   57 => reward=  198.0, steps= 204, loss=   0.0\n",
      "Episode   58 => reward=  224.0, steps= 307, loss=   0.0\n",
      "Episode   59 => reward=  182.7, steps= 312, loss=   0.0\n",
      "Episode   60 => reward=  229.3, steps= 312, loss=   0.0\n",
      "Episode   61 => reward=  232.6, steps= 202, loss=   0.0\n",
      "Episode   62 => reward=  213.9, steps= 349, loss=   0.0\n",
      "Episode   63 => reward= -224.1, steps= 344, loss=   0.0\n",
      "Episode   64 => reward=  204.1, steps= 338, loss=   0.0\n",
      "Episode   65 => reward=  229.2, steps= 195, loss=   0.0\n",
      "Episode   66 => reward=  240.0, steps= 199, loss=   0.0\n",
      "Episode   67 => reward=  210.9, steps= 217, loss=   0.0\n",
      "Episode   68 => reward=  168.3, steps= 451, loss=   0.0\n",
      "Episode   69 => reward=  171.3, steps= 380, loss=   0.0\n",
      "Episode   70 => reward=  185.1, steps= 371, loss=   0.0\n",
      "Episode   71 => reward=  207.9, steps= 410, loss=   0.0\n",
      "Episode   72 => reward=  159.2, steps= 441, loss=   0.0\n",
      "Episode   73 => reward=  239.0, steps= 208, loss=   0.0\n",
      "Episode   74 => reward=  132.9, steps= 852, loss=   0.0\n",
      "Episode   75 => reward=  240.3, steps= 201, loss=   0.0\n",
      "Episode   76 => reward=  224.7, steps= 211, loss=   0.0\n",
      "Episode   77 => reward=  229.0, steps= 309, loss=   0.0\n",
      "Episode   78 => reward=  150.9, steps= 565, loss=   0.0\n",
      "Episode   79 => reward=  240.6, steps= 230, loss=   0.0\n",
      "Episode   80 => reward=  210.9, steps= 335, loss=   0.0\n",
      "Episode   81 => reward=  205.4, steps= 284, loss=   0.0\n",
      "Episode   82 => reward=  -45.5, steps=1000, loss=   0.0\n",
      "Episode   83 => reward=  234.0, steps= 355, loss=   0.0\n",
      "Episode   84 => reward=  247.6, steps= 232, loss=   0.0\n",
      "Episode   85 => reward=  232.4, steps= 302, loss=   0.0\n",
      "Episode   86 => reward=  243.0, steps= 286, loss=   0.0\n",
      "Episode   87 => reward=  200.2, steps= 200, loss=   0.0\n",
      "Episode   88 => reward=  111.8, steps=1000, loss=   0.0\n",
      "Episode   89 => reward=  183.5, steps= 293, loss=   0.0\n",
      "Episode   90 => reward=  235.0, steps= 272, loss=   0.0\n",
      "Episode   91 => reward=  230.0, steps= 410, loss=   0.0\n",
      "Episode   92 => reward=  237.1, steps= 213, loss=   0.0\n",
      "Episode   93 => reward=  152.4, steps= 360, loss=   0.0\n",
      "Episode   94 => reward=  217.5, steps= 270, loss=   0.0\n",
      "Episode   95 => reward=  212.3, steps= 267, loss=   0.0\n",
      "Episode   96 => reward=  248.1, steps= 222, loss=   0.0\n",
      "Episode   97 => reward=  239.4, steps= 212, loss=   0.0\n",
      "Episode   98 => reward=  216.9, steps= 241, loss=   0.0\n",
      "Episode   99 => reward=  240.2, steps= 225, loss=   0.0\n",
      "Episode  100 => reward=  206.1, steps= 305, loss=   0.0\n"
     ]
    }
   ],
   "source": [
    "agent.run(trials, test=True)"
   ]
  },
  {
   "cell_type": "code",
   "execution_count": null,
   "metadata": {},
   "outputs": [],
   "source": []
  }
 ],
 "metadata": {
  "kernelspec": {
   "display_name": "Python 3",
   "language": "python",
   "name": "python3"
  },
  "language_info": {
   "codemirror_mode": {
    "name": "ipython",
    "version": 3
   },
   "file_extension": ".py",
   "mimetype": "text/x-python",
   "name": "python",
   "nbconvert_exporter": "python",
   "pygments_lexer": "ipython3",
   "version": "3.5.5"
  }
 },
 "nbformat": 4,
 "nbformat_minor": 2
}

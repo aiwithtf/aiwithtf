{
 "cells": [
  {
   "cell_type": "code",
   "execution_count": 1,
   "metadata": {},
   "outputs": [],
   "source": [
    "# TODO: Remove after development\n",
    "%load_ext autoreload\n",
    "%autoreload 2"
   ]
  },
  {
   "cell_type": "code",
   "execution_count": 2,
   "metadata": {},
   "outputs": [],
   "source": [
    "import numpy as np\n",
    "import tensorflow as tf\n",
    "\n",
    "import tests"
   ]
  },
  {
   "cell_type": "code",
   "execution_count": 3,
   "metadata": {},
   "outputs": [
    {
     "name": "stdout",
     "output_type": "stream",
     "text": [
      "Using TensorFlow 1.4.0\n"
     ]
    }
   ],
   "source": [
    "tests.check_tf(tf)"
   ]
  },
  {
   "cell_type": "markdown",
   "metadata": {},
   "source": [
    "# Practice"
   ]
  },
  {
   "cell_type": "markdown",
   "metadata": {},
   "source": [
    "### Basic tensor operations\n",
    "* Create tensors from Python lists\n",
    "* Create tensors from numpy arrays\n",
    "* Get Tensor name, rank, shape\n",
    "* Get tensor by name\n",
    "* Create constant tensors\n",
    "* Stack tensors\n",
    "* ..."
   ]
  },
  {
   "cell_type": "code",
   "execution_count": 4,
   "metadata": {},
   "outputs": [
    {
     "name": "stdout",
     "output_type": "stream",
     "text": [
      "✓ Tests passed\n"
     ]
    }
   ],
   "source": [
    "def create_tensor_from_list(list_):\n",
    "    tensor = tf.convert_to_tensor(list_)\n",
    "    return tensor\n",
    "\n",
    "tests.test_create_tensor_from_list(create_tensor_from_list)"
   ]
  },
  {
   "cell_type": "code",
   "execution_count": 5,
   "metadata": {},
   "outputs": [
    {
     "name": "stdout",
     "output_type": "stream",
     "text": [
      "✓ Tests passed\n"
     ]
    }
   ],
   "source": [
    "def create_tensor_from_np_array(numpy_array, name):\n",
    "    tensor = tf.convert_to_tensor(numpy_array, name=name)\n",
    "    return tensor\n",
    "\n",
    "tests.test_create_tensor_from_np_array(create_tensor_from_np_array)"
   ]
  },
  {
   "cell_type": "code",
   "execution_count": 6,
   "metadata": {},
   "outputs": [
    {
     "name": "stdout",
     "output_type": "stream",
     "text": [
      "✓ Tests passed\n"
     ]
    }
   ],
   "source": [
    "def get_tensor_name(tensor):\n",
    "    name = tensor.name\n",
    "    return name\n",
    "\n",
    "tests.test_get_tensor_name(get_tensor_name)"
   ]
  },
  {
   "cell_type": "code",
   "execution_count": 7,
   "metadata": {},
   "outputs": [
    {
     "name": "stdout",
     "output_type": "stream",
     "text": [
      "✓ Tests passed\n"
     ]
    }
   ],
   "source": [
    "def get_tensor_shape(tensor):\n",
    "    shape = tensor.shape\n",
    "    return shape\n",
    "\n",
    "tests.test_get_tensor_shape(get_tensor_shape)"
   ]
  },
  {
   "cell_type": "code",
   "execution_count": 8,
   "metadata": {},
   "outputs": [
    {
     "name": "stdout",
     "output_type": "stream",
     "text": [
      "✓ Tests passed\n"
     ]
    }
   ],
   "source": [
    "def get_tensor_rank(tensor):\n",
    "    rank_tensor = tf.rank(tensor)\n",
    "    rank_value = tf.Session().run(rank_tensor)\n",
    "    return rank_value\n",
    "\n",
    "tests.test_get_tensor_rank(get_tensor_rank)"
   ]
  },
  {
   "cell_type": "code",
   "execution_count": 9,
   "metadata": {},
   "outputs": [
    {
     "name": "stdout",
     "output_type": "stream",
     "text": [
      "✓ Tests passed\n"
     ]
    }
   ],
   "source": [
    "def create_constant_tensor(value, m, n):\n",
    "    tensor = tf.constant(value, shape=[m, n])\n",
    "    return tensor\n",
    "\n",
    "tests.test_create_constant_tensor(create_constant_tensor)"
   ]
  },
  {
   "cell_type": "markdown",
   "metadata": {},
   "source": [
    "### Using scopes\n",
    "Why even use scopes?\n",
    "* Tensorboard\n",
    "* Each scope its own ops\n",
    "* Nesting possible"
   ]
  },
  {
   "cell_type": "code",
   "execution_count": 10,
   "metadata": {},
   "outputs": [
    {
     "name": "stdout",
     "output_type": "stream",
     "text": [
      "✓ Tests passed\n"
     ]
    }
   ],
   "source": [
    "def create_variable_in_scope(name, np_array, scope_name):\n",
    "    with tf.name_scope(scope_name):\n",
    "        tensor = create_tensor_from_np_array(np_array, name)\n",
    "        return tensor\n",
    "        \n",
    "tests.test_create_variable_in_scope(create_variable_in_scope)"
   ]
  },
  {
   "cell_type": "code",
   "execution_count": 11,
   "metadata": {},
   "outputs": [
    {
     "name": "stdout",
     "output_type": "stream",
     "text": [
      "✓ Tests passed\n"
     ]
    }
   ],
   "source": [
    "def create_variable_in_nested_scope(name, np_array, scope_name_outer, scope_name_inner):\n",
    "    with tf.name_scope(scope_name_outer):\n",
    "        with tf.name_scope(scope_name_inner):\n",
    "            tensor = create_tensor_from_np_array(np_array, name)\n",
    "            return tensor\n",
    "        \n",
    "tests.test_create_variable_in_nested_scope(create_variable_in_nested_scope)"
   ]
  },
  {
   "cell_type": "markdown",
   "metadata": {},
   "source": [
    "### Using multiple graphs"
   ]
  },
  {
   "cell_type": "code",
   "execution_count": 13,
   "metadata": {},
   "outputs": [
    {
     "data": {
      "text/plain": [
       "<tensorflow.python.framework.ops.Graph at 0x11a743a58>"
      ]
     },
     "execution_count": 13,
     "metadata": {},
     "output_type": "execute_result"
    }
   ],
   "source": [
    "g = tf.Graph()\n",
    "g"
   ]
  },
  {
   "cell_type": "code",
   "execution_count": 14,
   "metadata": {},
   "outputs": [
    {
     "data": {
      "text/plain": [
       "'0x11a743a58'"
      ]
     },
     "execution_count": 14,
     "metadata": {},
     "output_type": "execute_result"
    }
   ],
   "source": [
    "hex(id(g))"
   ]
  },
  {
   "cell_type": "code",
   "execution_count": 15,
   "metadata": {},
   "outputs": [
    {
     "data": {
      "text/plain": [
       "<tensorflow.python.framework.ops.Graph at 0x11a708630>"
      ]
     },
     "execution_count": 15,
     "metadata": {},
     "output_type": "execute_result"
    }
   ],
   "source": [
    "default_graph = tf.get_default_graph()\n",
    "default_graph"
   ]
  },
  {
   "cell_type": "code",
   "execution_count": 16,
   "metadata": {},
   "outputs": [
    {
     "data": {
      "text/plain": [
       "'0x11a708630'"
      ]
     },
     "execution_count": 16,
     "metadata": {},
     "output_type": "execute_result"
    }
   ],
   "source": [
    "hex(id(default_graph))"
   ]
  },
  {
   "cell_type": "code",
   "execution_count": 17,
   "metadata": {},
   "outputs": [
    {
     "name": "stdout",
     "output_type": "stream",
     "text": [
      "✓ Tests passed\n"
     ]
    }
   ],
   "source": [
    "def get_default_graph():\n",
    "    graph = tf.get_default_graph()\n",
    "    return graph\n",
    "\n",
    "tests.test_get_default_graph(get_default_graph)"
   ]
  },
  {
   "cell_type": "code",
   "execution_count": 18,
   "metadata": {},
   "outputs": [
    {
     "name": "stdout",
     "output_type": "stream",
     "text": [
      "✓ Tests passed\n"
     ]
    }
   ],
   "source": [
    "def create_new_graph():\n",
    "    graph = tf.Graph()\n",
    "    return graph\n",
    "\n",
    "tests.test_create_new_graph(create_new_graph)"
   ]
  },
  {
   "cell_type": "code",
   "execution_count": 19,
   "metadata": {},
   "outputs": [
    {
     "name": "stdout",
     "output_type": "stream",
     "text": [
      "✓ Tests passed\n"
     ]
    }
   ],
   "source": [
    "def get_graph_seed(graph):\n",
    "    seed = graph.seed\n",
    "    return seed\n",
    "\n",
    "tests.test_get_graph_seed(get_graph_seed)"
   ]
  },
  {
   "cell_type": "code",
   "execution_count": 20,
   "metadata": {},
   "outputs": [
    {
     "name": "stdout",
     "output_type": "stream",
     "text": [
      "✓ Tests passed\n"
     ]
    }
   ],
   "source": [
    "def set_graph_seed(graph, seed):\n",
    "    with graph.as_default():\n",
    "        tf.set_random_seed(seed)\n",
    "    return graph\n",
    "\n",
    "tests.test_set_graph_seed(set_graph_seed)"
   ]
  },
  {
   "cell_type": "code",
   "execution_count": null,
   "metadata": {},
   "outputs": [],
   "source": []
  },
  {
   "cell_type": "code",
   "execution_count": null,
   "metadata": {},
   "outputs": [],
   "source": []
  },
  {
   "cell_type": "code",
   "execution_count": null,
   "metadata": {},
   "outputs": [],
   "source": []
  },
  {
   "cell_type": "markdown",
   "metadata": {},
   "source": [
    "### Variables"
   ]
  },
  {
   "cell_type": "code",
   "execution_count": 36,
   "metadata": {},
   "outputs": [],
   "source": [
    "# get_variable vs. Variable\n",
    "# https://stackoverflow.com/questions/35919020/whats-the-difference-of-name-scope-and-a-variable-scope-in-tensorflow\n",
    "\n",
    "# collections\n",
    "# https://www.tensorflow.org/programmers_guide/variables\n",
    "\n",
    "# trainables\n",
    "# an Optimizer can manipulate\n",
    "# tf.trainable_variables()\n",
    "\n",
    "# Variable shape\n",
    "# TensorShape\n",
    "# TensorShape == [row, col, ...]"
   ]
  },
  {
   "cell_type": "code",
   "execution_count": null,
   "metadata": {},
   "outputs": [],
   "source": []
  },
  {
   "cell_type": "code",
   "execution_count": null,
   "metadata": {},
   "outputs": [],
   "source": []
  },
  {
   "cell_type": "code",
   "execution_count": null,
   "metadata": {},
   "outputs": [],
   "source": []
  },
  {
   "cell_type": "markdown",
   "metadata": {},
   "source": [
    "### Placeholders"
   ]
  },
  {
   "cell_type": "code",
   "execution_count": null,
   "metadata": {},
   "outputs": [],
   "source": [
    "graph = tf.Graph()\n",
    "\n",
    "with tf.Session(graph=graph) as sess:\n",
    "    x = tf.placeholder(tf.float32, [1, 3])\n",
    "    y = tf.sign(x)\n",
    "    z = sess.run(y, feed_dict={x: [[3, 3, -1]]})"
   ]
  },
  {
   "cell_type": "code",
   "execution_count": null,
   "metadata": {},
   "outputs": [],
   "source": []
  },
  {
   "cell_type": "code",
   "execution_count": null,
   "metadata": {},
   "outputs": [],
   "source": []
  },
  {
   "cell_type": "code",
   "execution_count": null,
   "metadata": {},
   "outputs": [],
   "source": []
  },
  {
   "cell_type": "markdown",
   "metadata": {},
   "source": [
    "### Randomness\n",
    "Operations that rely on a random seed actually derive it from two seeds: the graph-level and operation-level seeds. This sets the graph-level seed.\n",
    "- Seed\n",
    "- ..."
   ]
  },
  {
   "cell_type": "code",
   "execution_count": null,
   "metadata": {},
   "outputs": [],
   "source": []
  },
  {
   "cell_type": "code",
   "execution_count": null,
   "metadata": {},
   "outputs": [],
   "source": []
  },
  {
   "cell_type": "markdown",
   "metadata": {},
   "source": [
    "### Data Types"
   ]
  },
  {
   "cell_type": "code",
   "execution_count": null,
   "metadata": {},
   "outputs": [],
   "source": []
  },
  {
   "cell_type": "code",
   "execution_count": null,
   "metadata": {},
   "outputs": [],
   "source": []
  },
  {
   "cell_type": "code",
   "execution_count": null,
   "metadata": {},
   "outputs": [],
   "source": []
  },
  {
   "cell_type": "markdown",
   "metadata": {},
   "source": [
    "### Sessions"
   ]
  },
  {
   "cell_type": "code",
   "execution_count": null,
   "metadata": {},
   "outputs": [],
   "source": []
  },
  {
   "cell_type": "code",
   "execution_count": null,
   "metadata": {},
   "outputs": [],
   "source": []
  },
  {
   "cell_type": "markdown",
   "metadata": {},
   "source": [
    "### Math operations"
   ]
  },
  {
   "cell_type": "code",
   "execution_count": 21,
   "metadata": {},
   "outputs": [
    {
     "name": "stdout",
     "output_type": "stream",
     "text": [
      "✓ Tests passed\n"
     ]
    }
   ],
   "source": [
    "def add(x, y):\n",
    "    return x + y\n",
    "\n",
    "tests.test_add(add)"
   ]
  },
  {
   "cell_type": "code",
   "execution_count": 22,
   "metadata": {},
   "outputs": [
    {
     "name": "stdout",
     "output_type": "stream",
     "text": [
      "✓ Tests passed\n"
     ]
    }
   ],
   "source": [
    "def add_rank0_tensors(x, y):\n",
    "    tensor_x = tf.constant(x)\n",
    "    tensor_y = tf.constant(y)\n",
    "    tensor_z = tensor_x + tensor_y\n",
    "    return tensor_z\n",
    "\n",
    "tests.test_add_rank0_tensors(add_rank0_tensors)"
   ]
  },
  {
   "cell_type": "code",
   "execution_count": 23,
   "metadata": {},
   "outputs": [
    {
     "name": "stdout",
     "output_type": "stream",
     "text": [
      "✓ Tests passed\n"
     ]
    }
   ],
   "source": [
    "def add_rank1_tensors(x, y):\n",
    "    tensor_x = tf.constant(x)\n",
    "    tensor_y = tf.constant(y)\n",
    "    tensor_z = tensor_x + tensor_y\n",
    "    return tensor_z\n",
    "\n",
    "tests.test_add_rank1_tensors(add_rank1_tensors)"
   ]
  },
  {
   "cell_type": "code",
   "execution_count": null,
   "metadata": {},
   "outputs": [],
   "source": []
  },
  {
   "cell_type": "markdown",
   "metadata": {},
   "source": [
    "### Reduce operations"
   ]
  },
  {
   "cell_type": "markdown",
   "metadata": {},
   "source": [
    "- reduce_sum\n",
    "- reduce_mean"
   ]
  },
  {
   "cell_type": "code",
   "execution_count": null,
   "metadata": {},
   "outputs": [],
   "source": []
  },
  {
   "cell_type": "code",
   "execution_count": null,
   "metadata": {},
   "outputs": [],
   "source": []
  },
  {
   "cell_type": "code",
   "execution_count": null,
   "metadata": {},
   "outputs": [],
   "source": []
  },
  {
   "cell_type": "markdown",
   "metadata": {},
   "source": [
    "### Other stuff"
   ]
  },
  {
   "cell_type": "code",
   "execution_count": null,
   "metadata": {},
   "outputs": [],
   "source": [
    "tf.tensordot(tf.constant([1,2,3]), tf.constant([1,2,3]), axis=[[1], [0]])"
   ]
  },
  {
   "cell_type": "code",
   "execution_count": null,
   "metadata": {},
   "outputs": [],
   "source": []
  },
  {
   "cell_type": "code",
   "execution_count": null,
   "metadata": {},
   "outputs": [],
   "source": []
  },
  {
   "cell_type": "code",
   "execution_count": null,
   "metadata": {},
   "outputs": [],
   "source": []
  },
  {
   "cell_type": "markdown",
   "metadata": {},
   "source": [
    "### Perceptron"
   ]
  },
  {
   "cell_type": "code",
   "execution_count": 202,
   "metadata": {},
   "outputs": [],
   "source": [
    "labels = np.array([[1,1,1,0],\n",
    "                   [1,1,1,0],\n",
    "                   [1,1,1,0],\n",
    "                   [1,1,1,0]], dtype=np.uint8)\n",
    "\n",
    "predictions = np.array([[1,0,0,0],\n",
    "                        [1,1,0,0],\n",
    "                        [1,1,1,0],\n",
    "                        [0,1,1,1]], dtype=np.uint8)\n",
    "\n",
    "n_batches = len(labels)"
   ]
  },
  {
   "cell_type": "code",
   "execution_count": 204,
   "metadata": {},
   "outputs": [
    {
     "name": "stdout",
     "output_type": "stream",
     "text": [
      "[TF] SCORE:  0.6875\n"
     ]
    }
   ],
   "source": [
    "graph = tf.Graph()\n",
    "with graph.as_default():\n",
    "    # Placeholders to take in batches onf data\n",
    "    tf_label = tf.placeholder(dtype=tf.int32, shape=[None])\n",
    "    tf_prediction = tf.placeholder(dtype=tf.int32, shape=[None])\n",
    "\n",
    "    # Define the metric and update operations\n",
    "    tf_metric, tf_metric_update = tf.metrics.accuracy(tf_label,\n",
    "                                                      tf_prediction,\n",
    "                                                      name=\"my_metric\")\n",
    "\n",
    "    # Isolate the variables stored behind the scenes by the metric operation\n",
    "    running_vars = tf.get_collection(tf.GraphKeys.LOCAL_VARIABLES, scope=\"my_metric\")\n",
    "\n",
    "    # Define initializer to initialize/reset running variables\n",
    "    running_vars_initializer = tf.variables_initializer(var_list=running_vars)\n",
    "\n",
    "\n",
    "with tf.Session(graph=graph) as session:\n",
    "    session.run(tf.global_variables_initializer())\n",
    "\n",
    "    # initialize/reset the running variables\n",
    "    session.run(running_vars_initializer)\n",
    "\n",
    "    for i in range(n_batches):\n",
    "        # Update the running variables on new batch of samples\n",
    "        feed_dict={tf_label: labels[i], tf_prediction: predictions[i]}\n",
    "        session.run(tf_metric_update, feed_dict=feed_dict)\n",
    "\n",
    "    # Calculate the score\n",
    "    score = session.run(tf_metric)\n",
    "    print(\"[TF] SCORE: \", score)"
   ]
  },
  {
   "cell_type": "code",
   "execution_count": 238,
   "metadata": {},
   "outputs": [
    {
     "name": "stdout",
     "output_type": "stream",
     "text": [
      "[TF] SCORE:  0.6875\n"
     ]
    }
   ],
   "source": [
    "graph = tf.Graph()\n",
    "\n",
    "with graph.as_default():\n",
    "    # Placeholders to take in batches onf data\n",
    "    tf_label = tf.convert_to_tensor(labels)\n",
    "    tf_prediction = tf.convert_to_tensor(predictions)\n",
    "\n",
    "    # Define the metric and update operations\n",
    "    tf_metric, tf_metric_update = tf.metrics.accuracy(tf_label,\n",
    "                                                      tf_prediction,\n",
    "                                                      name=\"my_metric\")\n",
    "\n",
    "    # Isolate the variables stored behind the scenes by the metric operation\n",
    "    running_vars = tf.get_collection(tf.GraphKeys.LOCAL_VARIABLES, scope=\"my_metric\")\n",
    "\n",
    "    # Define initializer to initialize/reset running variables\n",
    "    running_vars_initializer = tf.variables_initializer(var_list=running_vars)\n",
    "\n",
    "\n",
    "with tf.Session(graph=graph) as session:\n",
    "    session.run(tf.global_variables_initializer())\n",
    "\n",
    "    # initialize/reset the running variables\n",
    "    session.run(running_vars_initializer)\n",
    "    session.run(tf_metric_update)\n",
    "\n",
    "    # Calculate the score\n",
    "    score = session.run(tf_metric)\n",
    "    print(\"[TF] SCORE: \", score)"
   ]
  },
  {
   "cell_type": "code",
   "execution_count": 74,
   "metadata": {},
   "outputs": [],
   "source": [
    "# Why use a bias?\n",
    "# https://stats.stackexchange.com/questions/185911/why-are-bias-nodes-used-in-neural-networks\n",
    "# a neural network does not have a bias node in a given layer, it will not be able to produce output in the next layer that differs from 00 (on the linear scale, or the value that corresponds to the transformation of 00 when passed through the activation function) when the feature values are 00.\n",
    "# http://www.chioka.in/why-do-we-need-a-bias-neuron/\n",
    "# Decision boundary translation"
   ]
  },
  {
   "cell_type": "code",
   "execution_count": 239,
   "metadata": {},
   "outputs": [],
   "source": [
    "class PerceptronWithTF:\n",
    "    def __init__(self, learning_rate, epochs):\n",
    "        self.learning_rate = learning_rate\n",
    "        self.epochs = epochs\n",
    "    \n",
    "    def fit(self, x, y):\n",
    "        graph = tf.Graph()\n",
    "\n",
    "        with graph.as_default():\n",
    "            # w = tf.Variable(tf.random_normal([3, 1]), dtype=tf.float32)\n",
    "            w = tf.Variable(tf.zeros([3, 1]), dtype=tf.float32)\n",
    "            # x_ = np.hstack([x, np.ones([len(x), 1], dtype=np.float32)])\n",
    "            x_ = np.c_[x, np.ones(len(x), dtype=np.float32)]\n",
    "            y_hat = tf.sign(tf.matmul(x_, w))\n",
    "            error = y - y_hat\n",
    "            mse = tf.reduce_mean(tf.square(error))\n",
    "            y_tensor = tf.convert_to_tensor(y)\n",
    "            print(y_tensor.shape)\n",
    "            print(y_hat.shape)\n",
    "            print('=' * 10)\n",
    "            accuracy, acc_op = tf.metrics.accuracy(y_tensor, y_hat)\n",
    "            delta = tf.matmul(x_, error, transpose_a=True)\n",
    "            train = tf.assign(w, tf.add(w, self.learning_rate * delta))\n",
    "\n",
    "        with tf.Session(graph=graph) as sess:\n",
    "            init = tf.global_variables_initializer()\n",
    "            sess.run(init)\n",
    "\n",
    "            for epoch in range(self.epochs):\n",
    "                error_, w_, acc_ = sess.run([mse, train, acc_op])\n",
    "                print('Epoch: {} MSE: {}, w: {}, acc: {}'.format(epoch + 1,\n",
    "                                                                 error_,\n",
    "                                                                 w_.reshape(1, len(w_)),\n",
    "                                                                 0.1\n",
    "                                                                ))"
   ]
  },
  {
   "cell_type": "code",
   "execution_count": 240,
   "metadata": {},
   "outputs": [],
   "source": [
    "x = np.array([\n",
    "    [0, 0],\n",
    "    [0, 1],\n",
    "    [1, 0],\n",
    "    [1, 1]\n",
    "], dtype=np.float32)\n",
    "y_and = np.array([[-1], [-1], [-1], [1]])\n",
    "y_or = np.array([[-1], [1], [1], [1]])"
   ]
  },
  {
   "cell_type": "code",
   "execution_count": 241,
   "metadata": {},
   "outputs": [],
   "source": [
    "learning_rate = 0.01\n",
    "epochs = 10"
   ]
  },
  {
   "cell_type": "code",
   "execution_count": 242,
   "metadata": {},
   "outputs": [
    {
     "name": "stdout",
     "output_type": "stream",
     "text": [
      "(4, 1)\n",
      "(4, 1)\n",
      "==========\n"
     ]
    },
    {
     "ename": "FailedPreconditionError",
     "evalue": "Attempting to use uninitialized value accuracy/total\n\t [[Node: accuracy/AssignAdd = AssignAdd[T=DT_FLOAT, _class=[\"loc:@accuracy/total\"], use_locking=false, _device=\"/job:localhost/replica:0/task:0/device:CPU:0\"](accuracy/total, accuracy/Sum)]]\n\nCaused by op 'accuracy/AssignAdd', defined at:\n  File \"/Users/amir.ziai/anaconda/lib/python3.5/runpy.py\", line 193, in _run_module_as_main\n    \"__main__\", mod_spec)\n  File \"/Users/amir.ziai/anaconda/lib/python3.5/runpy.py\", line 85, in _run_code\n    exec(code, run_globals)\n  File \"/Users/amir.ziai/anaconda/lib/python3.5/site-packages/ipykernel/__main__.py\", line 3, in <module>\n    app.launch_new_instance()\n  File \"/Users/amir.ziai/anaconda/lib/python3.5/site-packages/traitlets/config/application.py\", line 658, in launch_instance\n    app.start()\n  File \"/Users/amir.ziai/anaconda/lib/python3.5/site-packages/ipykernel/kernelapp.py\", line 474, in start\n    ioloop.IOLoop.instance().start()\n  File \"/Users/amir.ziai/anaconda/lib/python3.5/site-packages/zmq/eventloop/ioloop.py\", line 177, in start\n    super(ZMQIOLoop, self).start()\n  File \"/Users/amir.ziai/anaconda/lib/python3.5/site-packages/tornado/ioloop.py\", line 888, in start\n    handler_func(fd_obj, events)\n  File \"/Users/amir.ziai/anaconda/lib/python3.5/site-packages/tornado/stack_context.py\", line 277, in null_wrapper\n    return fn(*args, **kwargs)\n  File \"/Users/amir.ziai/anaconda/lib/python3.5/site-packages/zmq/eventloop/zmqstream.py\", line 440, in _handle_events\n    self._handle_recv()\n  File \"/Users/amir.ziai/anaconda/lib/python3.5/site-packages/zmq/eventloop/zmqstream.py\", line 472, in _handle_recv\n    self._run_callback(callback, msg)\n  File \"/Users/amir.ziai/anaconda/lib/python3.5/site-packages/zmq/eventloop/zmqstream.py\", line 414, in _run_callback\n    callback(*args, **kwargs)\n  File \"/Users/amir.ziai/anaconda/lib/python3.5/site-packages/tornado/stack_context.py\", line 277, in null_wrapper\n    return fn(*args, **kwargs)\n  File \"/Users/amir.ziai/anaconda/lib/python3.5/site-packages/ipykernel/kernelbase.py\", line 276, in dispatcher\n    return self.dispatch_shell(stream, msg)\n  File \"/Users/amir.ziai/anaconda/lib/python3.5/site-packages/ipykernel/kernelbase.py\", line 228, in dispatch_shell\n    handler(stream, idents, msg)\n  File \"/Users/amir.ziai/anaconda/lib/python3.5/site-packages/ipykernel/kernelbase.py\", line 390, in execute_request\n    user_expressions, allow_stdin)\n  File \"/Users/amir.ziai/anaconda/lib/python3.5/site-packages/ipykernel/ipkernel.py\", line 196, in do_execute\n    res = shell.run_cell(code, store_history=store_history, silent=silent)\n  File \"/Users/amir.ziai/anaconda/lib/python3.5/site-packages/ipykernel/zmqshell.py\", line 501, in run_cell\n    return super(ZMQInteractiveShell, self).run_cell(*args, **kwargs)\n  File \"/Users/amir.ziai/anaconda/lib/python3.5/site-packages/IPython/core/interactiveshell.py\", line 2723, in run_cell\n    interactivity=interactivity, compiler=compiler, result=result)\n  File \"/Users/amir.ziai/anaconda/lib/python3.5/site-packages/IPython/core/interactiveshell.py\", line 2831, in run_ast_nodes\n    if self.run_code(code, result):\n  File \"/Users/amir.ziai/anaconda/lib/python3.5/site-packages/IPython/core/interactiveshell.py\", line 2885, in run_code\n    exec(code_obj, self.user_global_ns, self.user_ns)\n  File \"<ipython-input-242-c6fedbd31427>\", line 2, in <module>\n    perceptron.fit(x, y_and)\n  File \"<ipython-input-239-2b111d768bcc>\", line 21, in fit\n    accuracy, acc_op = tf.metrics.accuracy(y_tensor, y_hat)\n  File \"/Users/amir.ziai/anaconda/lib/python3.5/site-packages/tensorflow/python/ops/metrics_impl.py\", line 410, in accuracy\n    updates_collections, name or 'accuracy')\n  File \"/Users/amir.ziai/anaconda/lib/python3.5/site-packages/tensorflow/python/ops/metrics_impl.py\", line 343, in mean\n    update_total_op = state_ops.assign_add(total, math_ops.reduce_sum(values))\n  File \"/Users/amir.ziai/anaconda/lib/python3.5/site-packages/tensorflow/python/ops/state_ops.py\", line 244, in assign_add\n    ref, value, use_locking=use_locking, name=name)\n  File \"/Users/amir.ziai/anaconda/lib/python3.5/site-packages/tensorflow/python/ops/gen_state_ops.py\", line 98, in assign_add\n    \"AssignAdd\", ref=ref, value=value, use_locking=use_locking, name=name)\n  File \"/Users/amir.ziai/anaconda/lib/python3.5/site-packages/tensorflow/python/framework/op_def_library.py\", line 787, in _apply_op_helper\n    op_def=op_def)\n  File \"/Users/amir.ziai/anaconda/lib/python3.5/site-packages/tensorflow/python/framework/ops.py\", line 2956, in create_op\n    op_def=op_def)\n  File \"/Users/amir.ziai/anaconda/lib/python3.5/site-packages/tensorflow/python/framework/ops.py\", line 1470, in __init__\n    self._traceback = self._graph._extract_stack()  # pylint: disable=protected-access\n\nFailedPreconditionError (see above for traceback): Attempting to use uninitialized value accuracy/total\n\t [[Node: accuracy/AssignAdd = AssignAdd[T=DT_FLOAT, _class=[\"loc:@accuracy/total\"], use_locking=false, _device=\"/job:localhost/replica:0/task:0/device:CPU:0\"](accuracy/total, accuracy/Sum)]]\n",
     "output_type": "error",
     "traceback": [
      "\u001b[0;31m---------------------------------------------------------------------------\u001b[0m",
      "\u001b[0;31mFailedPreconditionError\u001b[0m                   Traceback (most recent call last)",
      "\u001b[0;32m/Users/amir.ziai/anaconda/lib/python3.5/site-packages/tensorflow/python/client/session.py\u001b[0m in \u001b[0;36m_do_call\u001b[0;34m(self, fn, *args)\u001b[0m\n\u001b[1;32m   1322\u001b[0m     \u001b[0;32mtry\u001b[0m\u001b[0;34m:\u001b[0m\u001b[0;34m\u001b[0m\u001b[0m\n\u001b[0;32m-> 1323\u001b[0;31m       \u001b[0;32mreturn\u001b[0m \u001b[0mfn\u001b[0m\u001b[0;34m(\u001b[0m\u001b[0;34m*\u001b[0m\u001b[0margs\u001b[0m\u001b[0;34m)\u001b[0m\u001b[0;34m\u001b[0m\u001b[0m\n\u001b[0m\u001b[1;32m   1324\u001b[0m     \u001b[0;32mexcept\u001b[0m \u001b[0merrors\u001b[0m\u001b[0;34m.\u001b[0m\u001b[0mOpError\u001b[0m \u001b[0;32mas\u001b[0m \u001b[0me\u001b[0m\u001b[0;34m:\u001b[0m\u001b[0;34m\u001b[0m\u001b[0m\n",
      "\u001b[0;32m/Users/amir.ziai/anaconda/lib/python3.5/site-packages/tensorflow/python/client/session.py\u001b[0m in \u001b[0;36m_run_fn\u001b[0;34m(session, feed_dict, fetch_list, target_list, options, run_metadata)\u001b[0m\n\u001b[1;32m   1301\u001b[0m                                    \u001b[0mfeed_dict\u001b[0m\u001b[0;34m,\u001b[0m \u001b[0mfetch_list\u001b[0m\u001b[0;34m,\u001b[0m \u001b[0mtarget_list\u001b[0m\u001b[0;34m,\u001b[0m\u001b[0;34m\u001b[0m\u001b[0m\n\u001b[0;32m-> 1302\u001b[0;31m                                    status, run_metadata)\n\u001b[0m\u001b[1;32m   1303\u001b[0m \u001b[0;34m\u001b[0m\u001b[0m\n",
      "\u001b[0;32m/Users/amir.ziai/anaconda/lib/python3.5/site-packages/tensorflow/python/framework/errors_impl.py\u001b[0m in \u001b[0;36m__exit__\u001b[0;34m(self, type_arg, value_arg, traceback_arg)\u001b[0m\n\u001b[1;32m    472\u001b[0m             \u001b[0mcompat\u001b[0m\u001b[0;34m.\u001b[0m\u001b[0mas_text\u001b[0m\u001b[0;34m(\u001b[0m\u001b[0mc_api\u001b[0m\u001b[0;34m.\u001b[0m\u001b[0mTF_Message\u001b[0m\u001b[0;34m(\u001b[0m\u001b[0mself\u001b[0m\u001b[0;34m.\u001b[0m\u001b[0mstatus\u001b[0m\u001b[0;34m.\u001b[0m\u001b[0mstatus\u001b[0m\u001b[0;34m)\u001b[0m\u001b[0;34m)\u001b[0m\u001b[0;34m,\u001b[0m\u001b[0;34m\u001b[0m\u001b[0m\n\u001b[0;32m--> 473\u001b[0;31m             c_api.TF_GetCode(self.status.status))\n\u001b[0m\u001b[1;32m    474\u001b[0m     \u001b[0;31m# Delete the underlying status object from memory otherwise it stays alive\u001b[0m\u001b[0;34m\u001b[0m\u001b[0;34m\u001b[0m\u001b[0m\n",
      "\u001b[0;31mFailedPreconditionError\u001b[0m: Attempting to use uninitialized value accuracy/total\n\t [[Node: accuracy/AssignAdd = AssignAdd[T=DT_FLOAT, _class=[\"loc:@accuracy/total\"], use_locking=false, _device=\"/job:localhost/replica:0/task:0/device:CPU:0\"](accuracy/total, accuracy/Sum)]]",
      "\nDuring handling of the above exception, another exception occurred:\n",
      "\u001b[0;31mFailedPreconditionError\u001b[0m                   Traceback (most recent call last)",
      "\u001b[0;32m<ipython-input-242-c6fedbd31427>\u001b[0m in \u001b[0;36m<module>\u001b[0;34m()\u001b[0m\n\u001b[1;32m      1\u001b[0m \u001b[0mperceptron\u001b[0m \u001b[0;34m=\u001b[0m \u001b[0mPerceptronWithTF\u001b[0m\u001b[0;34m(\u001b[0m\u001b[0mlearning_rate\u001b[0m\u001b[0;34m,\u001b[0m \u001b[0mepochs\u001b[0m\u001b[0;34m)\u001b[0m\u001b[0;34m\u001b[0m\u001b[0m\n\u001b[0;32m----> 2\u001b[0;31m \u001b[0mperceptron\u001b[0m\u001b[0;34m.\u001b[0m\u001b[0mfit\u001b[0m\u001b[0;34m(\u001b[0m\u001b[0mx\u001b[0m\u001b[0;34m,\u001b[0m \u001b[0my_and\u001b[0m\u001b[0;34m)\u001b[0m\u001b[0;34m\u001b[0m\u001b[0m\n\u001b[0m",
      "\u001b[0;32m<ipython-input-239-2b111d768bcc>\u001b[0m in \u001b[0;36mfit\u001b[0;34m(self, x, y)\u001b[0m\n\u001b[1;32m     28\u001b[0m \u001b[0;34m\u001b[0m\u001b[0m\n\u001b[1;32m     29\u001b[0m             \u001b[0;32mfor\u001b[0m \u001b[0mepoch\u001b[0m \u001b[0;32min\u001b[0m \u001b[0mrange\u001b[0m\u001b[0;34m(\u001b[0m\u001b[0mself\u001b[0m\u001b[0;34m.\u001b[0m\u001b[0mepochs\u001b[0m\u001b[0;34m)\u001b[0m\u001b[0;34m:\u001b[0m\u001b[0;34m\u001b[0m\u001b[0m\n\u001b[0;32m---> 30\u001b[0;31m                 \u001b[0merror_\u001b[0m\u001b[0;34m,\u001b[0m \u001b[0mw_\u001b[0m\u001b[0;34m,\u001b[0m \u001b[0macc_\u001b[0m \u001b[0;34m=\u001b[0m \u001b[0msess\u001b[0m\u001b[0;34m.\u001b[0m\u001b[0mrun\u001b[0m\u001b[0;34m(\u001b[0m\u001b[0;34m[\u001b[0m\u001b[0mmse\u001b[0m\u001b[0;34m,\u001b[0m \u001b[0mtrain\u001b[0m\u001b[0;34m,\u001b[0m \u001b[0macc_op\u001b[0m\u001b[0;34m]\u001b[0m\u001b[0;34m)\u001b[0m\u001b[0;34m\u001b[0m\u001b[0m\n\u001b[0m\u001b[1;32m     31\u001b[0m                 print('Epoch: {} MSE: {}, w: {}, acc: {}'.format(epoch + 1,\n\u001b[1;32m     32\u001b[0m                                                                  \u001b[0merror_\u001b[0m\u001b[0;34m,\u001b[0m\u001b[0;34m\u001b[0m\u001b[0m\n",
      "\u001b[0;32m/Users/amir.ziai/anaconda/lib/python3.5/site-packages/tensorflow/python/client/session.py\u001b[0m in \u001b[0;36mrun\u001b[0;34m(self, fetches, feed_dict, options, run_metadata)\u001b[0m\n\u001b[1;32m    887\u001b[0m     \u001b[0;32mtry\u001b[0m\u001b[0;34m:\u001b[0m\u001b[0;34m\u001b[0m\u001b[0m\n\u001b[1;32m    888\u001b[0m       result = self._run(None, fetches, feed_dict, options_ptr,\n\u001b[0;32m--> 889\u001b[0;31m                          run_metadata_ptr)\n\u001b[0m\u001b[1;32m    890\u001b[0m       \u001b[0;32mif\u001b[0m \u001b[0mrun_metadata\u001b[0m\u001b[0;34m:\u001b[0m\u001b[0;34m\u001b[0m\u001b[0m\n\u001b[1;32m    891\u001b[0m         \u001b[0mproto_data\u001b[0m \u001b[0;34m=\u001b[0m \u001b[0mtf_session\u001b[0m\u001b[0;34m.\u001b[0m\u001b[0mTF_GetBuffer\u001b[0m\u001b[0;34m(\u001b[0m\u001b[0mrun_metadata_ptr\u001b[0m\u001b[0;34m)\u001b[0m\u001b[0;34m\u001b[0m\u001b[0m\n",
      "\u001b[0;32m/Users/amir.ziai/anaconda/lib/python3.5/site-packages/tensorflow/python/client/session.py\u001b[0m in \u001b[0;36m_run\u001b[0;34m(self, handle, fetches, feed_dict, options, run_metadata)\u001b[0m\n\u001b[1;32m   1118\u001b[0m     \u001b[0;32mif\u001b[0m \u001b[0mfinal_fetches\u001b[0m \u001b[0;32mor\u001b[0m \u001b[0mfinal_targets\u001b[0m \u001b[0;32mor\u001b[0m \u001b[0;34m(\u001b[0m\u001b[0mhandle\u001b[0m \u001b[0;32mand\u001b[0m \u001b[0mfeed_dict_tensor\u001b[0m\u001b[0;34m)\u001b[0m\u001b[0;34m:\u001b[0m\u001b[0;34m\u001b[0m\u001b[0m\n\u001b[1;32m   1119\u001b[0m       results = self._do_run(handle, final_targets, final_fetches,\n\u001b[0;32m-> 1120\u001b[0;31m                              feed_dict_tensor, options, run_metadata)\n\u001b[0m\u001b[1;32m   1121\u001b[0m     \u001b[0;32melse\u001b[0m\u001b[0;34m:\u001b[0m\u001b[0;34m\u001b[0m\u001b[0m\n\u001b[1;32m   1122\u001b[0m       \u001b[0mresults\u001b[0m \u001b[0;34m=\u001b[0m \u001b[0;34m[\u001b[0m\u001b[0;34m]\u001b[0m\u001b[0;34m\u001b[0m\u001b[0m\n",
      "\u001b[0;32m/Users/amir.ziai/anaconda/lib/python3.5/site-packages/tensorflow/python/client/session.py\u001b[0m in \u001b[0;36m_do_run\u001b[0;34m(self, handle, target_list, fetch_list, feed_dict, options, run_metadata)\u001b[0m\n\u001b[1;32m   1315\u001b[0m     \u001b[0;32mif\u001b[0m \u001b[0mhandle\u001b[0m \u001b[0;32mis\u001b[0m \u001b[0;32mNone\u001b[0m\u001b[0;34m:\u001b[0m\u001b[0;34m\u001b[0m\u001b[0m\n\u001b[1;32m   1316\u001b[0m       return self._do_call(_run_fn, self._session, feeds, fetches, targets,\n\u001b[0;32m-> 1317\u001b[0;31m                            options, run_metadata)\n\u001b[0m\u001b[1;32m   1318\u001b[0m     \u001b[0;32melse\u001b[0m\u001b[0;34m:\u001b[0m\u001b[0;34m\u001b[0m\u001b[0m\n\u001b[1;32m   1319\u001b[0m       \u001b[0;32mreturn\u001b[0m \u001b[0mself\u001b[0m\u001b[0;34m.\u001b[0m\u001b[0m_do_call\u001b[0m\u001b[0;34m(\u001b[0m\u001b[0m_prun_fn\u001b[0m\u001b[0;34m,\u001b[0m \u001b[0mself\u001b[0m\u001b[0;34m.\u001b[0m\u001b[0m_session\u001b[0m\u001b[0;34m,\u001b[0m \u001b[0mhandle\u001b[0m\u001b[0;34m,\u001b[0m \u001b[0mfeeds\u001b[0m\u001b[0;34m,\u001b[0m \u001b[0mfetches\u001b[0m\u001b[0;34m)\u001b[0m\u001b[0;34m\u001b[0m\u001b[0m\n",
      "\u001b[0;32m/Users/amir.ziai/anaconda/lib/python3.5/site-packages/tensorflow/python/client/session.py\u001b[0m in \u001b[0;36m_do_call\u001b[0;34m(self, fn, *args)\u001b[0m\n\u001b[1;32m   1334\u001b[0m         \u001b[0;32mexcept\u001b[0m \u001b[0mKeyError\u001b[0m\u001b[0;34m:\u001b[0m\u001b[0;34m\u001b[0m\u001b[0m\n\u001b[1;32m   1335\u001b[0m           \u001b[0;32mpass\u001b[0m\u001b[0;34m\u001b[0m\u001b[0m\n\u001b[0;32m-> 1336\u001b[0;31m       \u001b[0;32mraise\u001b[0m \u001b[0mtype\u001b[0m\u001b[0;34m(\u001b[0m\u001b[0me\u001b[0m\u001b[0;34m)\u001b[0m\u001b[0;34m(\u001b[0m\u001b[0mnode_def\u001b[0m\u001b[0;34m,\u001b[0m \u001b[0mop\u001b[0m\u001b[0;34m,\u001b[0m \u001b[0mmessage\u001b[0m\u001b[0;34m)\u001b[0m\u001b[0;34m\u001b[0m\u001b[0m\n\u001b[0m\u001b[1;32m   1337\u001b[0m \u001b[0;34m\u001b[0m\u001b[0m\n\u001b[1;32m   1338\u001b[0m   \u001b[0;32mdef\u001b[0m \u001b[0m_extend_graph\u001b[0m\u001b[0;34m(\u001b[0m\u001b[0mself\u001b[0m\u001b[0;34m)\u001b[0m\u001b[0;34m:\u001b[0m\u001b[0;34m\u001b[0m\u001b[0m\n",
      "\u001b[0;31mFailedPreconditionError\u001b[0m: Attempting to use uninitialized value accuracy/total\n\t [[Node: accuracy/AssignAdd = AssignAdd[T=DT_FLOAT, _class=[\"loc:@accuracy/total\"], use_locking=false, _device=\"/job:localhost/replica:0/task:0/device:CPU:0\"](accuracy/total, accuracy/Sum)]]\n\nCaused by op 'accuracy/AssignAdd', defined at:\n  File \"/Users/amir.ziai/anaconda/lib/python3.5/runpy.py\", line 193, in _run_module_as_main\n    \"__main__\", mod_spec)\n  File \"/Users/amir.ziai/anaconda/lib/python3.5/runpy.py\", line 85, in _run_code\n    exec(code, run_globals)\n  File \"/Users/amir.ziai/anaconda/lib/python3.5/site-packages/ipykernel/__main__.py\", line 3, in <module>\n    app.launch_new_instance()\n  File \"/Users/amir.ziai/anaconda/lib/python3.5/site-packages/traitlets/config/application.py\", line 658, in launch_instance\n    app.start()\n  File \"/Users/amir.ziai/anaconda/lib/python3.5/site-packages/ipykernel/kernelapp.py\", line 474, in start\n    ioloop.IOLoop.instance().start()\n  File \"/Users/amir.ziai/anaconda/lib/python3.5/site-packages/zmq/eventloop/ioloop.py\", line 177, in start\n    super(ZMQIOLoop, self).start()\n  File \"/Users/amir.ziai/anaconda/lib/python3.5/site-packages/tornado/ioloop.py\", line 888, in start\n    handler_func(fd_obj, events)\n  File \"/Users/amir.ziai/anaconda/lib/python3.5/site-packages/tornado/stack_context.py\", line 277, in null_wrapper\n    return fn(*args, **kwargs)\n  File \"/Users/amir.ziai/anaconda/lib/python3.5/site-packages/zmq/eventloop/zmqstream.py\", line 440, in _handle_events\n    self._handle_recv()\n  File \"/Users/amir.ziai/anaconda/lib/python3.5/site-packages/zmq/eventloop/zmqstream.py\", line 472, in _handle_recv\n    self._run_callback(callback, msg)\n  File \"/Users/amir.ziai/anaconda/lib/python3.5/site-packages/zmq/eventloop/zmqstream.py\", line 414, in _run_callback\n    callback(*args, **kwargs)\n  File \"/Users/amir.ziai/anaconda/lib/python3.5/site-packages/tornado/stack_context.py\", line 277, in null_wrapper\n    return fn(*args, **kwargs)\n  File \"/Users/amir.ziai/anaconda/lib/python3.5/site-packages/ipykernel/kernelbase.py\", line 276, in dispatcher\n    return self.dispatch_shell(stream, msg)\n  File \"/Users/amir.ziai/anaconda/lib/python3.5/site-packages/ipykernel/kernelbase.py\", line 228, in dispatch_shell\n    handler(stream, idents, msg)\n  File \"/Users/amir.ziai/anaconda/lib/python3.5/site-packages/ipykernel/kernelbase.py\", line 390, in execute_request\n    user_expressions, allow_stdin)\n  File \"/Users/amir.ziai/anaconda/lib/python3.5/site-packages/ipykernel/ipkernel.py\", line 196, in do_execute\n    res = shell.run_cell(code, store_history=store_history, silent=silent)\n  File \"/Users/amir.ziai/anaconda/lib/python3.5/site-packages/ipykernel/zmqshell.py\", line 501, in run_cell\n    return super(ZMQInteractiveShell, self).run_cell(*args, **kwargs)\n  File \"/Users/amir.ziai/anaconda/lib/python3.5/site-packages/IPython/core/interactiveshell.py\", line 2723, in run_cell\n    interactivity=interactivity, compiler=compiler, result=result)\n  File \"/Users/amir.ziai/anaconda/lib/python3.5/site-packages/IPython/core/interactiveshell.py\", line 2831, in run_ast_nodes\n    if self.run_code(code, result):\n  File \"/Users/amir.ziai/anaconda/lib/python3.5/site-packages/IPython/core/interactiveshell.py\", line 2885, in run_code\n    exec(code_obj, self.user_global_ns, self.user_ns)\n  File \"<ipython-input-242-c6fedbd31427>\", line 2, in <module>\n    perceptron.fit(x, y_and)\n  File \"<ipython-input-239-2b111d768bcc>\", line 21, in fit\n    accuracy, acc_op = tf.metrics.accuracy(y_tensor, y_hat)\n  File \"/Users/amir.ziai/anaconda/lib/python3.5/site-packages/tensorflow/python/ops/metrics_impl.py\", line 410, in accuracy\n    updates_collections, name or 'accuracy')\n  File \"/Users/amir.ziai/anaconda/lib/python3.5/site-packages/tensorflow/python/ops/metrics_impl.py\", line 343, in mean\n    update_total_op = state_ops.assign_add(total, math_ops.reduce_sum(values))\n  File \"/Users/amir.ziai/anaconda/lib/python3.5/site-packages/tensorflow/python/ops/state_ops.py\", line 244, in assign_add\n    ref, value, use_locking=use_locking, name=name)\n  File \"/Users/amir.ziai/anaconda/lib/python3.5/site-packages/tensorflow/python/ops/gen_state_ops.py\", line 98, in assign_add\n    \"AssignAdd\", ref=ref, value=value, use_locking=use_locking, name=name)\n  File \"/Users/amir.ziai/anaconda/lib/python3.5/site-packages/tensorflow/python/framework/op_def_library.py\", line 787, in _apply_op_helper\n    op_def=op_def)\n  File \"/Users/amir.ziai/anaconda/lib/python3.5/site-packages/tensorflow/python/framework/ops.py\", line 2956, in create_op\n    op_def=op_def)\n  File \"/Users/amir.ziai/anaconda/lib/python3.5/site-packages/tensorflow/python/framework/ops.py\", line 1470, in __init__\n    self._traceback = self._graph._extract_stack()  # pylint: disable=protected-access\n\nFailedPreconditionError (see above for traceback): Attempting to use uninitialized value accuracy/total\n\t [[Node: accuracy/AssignAdd = AssignAdd[T=DT_FLOAT, _class=[\"loc:@accuracy/total\"], use_locking=false, _device=\"/job:localhost/replica:0/task:0/device:CPU:0\"](accuracy/total, accuracy/Sum)]]\n"
     ]
    }
   ],
   "source": [
    "perceptron = PerceptronWithTF(learning_rate, epochs)\n",
    "perceptron.fit(x, y_and)"
   ]
  },
  {
   "cell_type": "code",
   "execution_count": 222,
   "metadata": {},
   "outputs": [
    {
     "name": "stdout",
     "output_type": "stream",
     "text": [
      "(4, 1)\n",
      "(4, 1)\n",
      "==========\n",
      "Epoch: 1 MSE: 1.0, w: [[ 0.02  0.02  0.02]], acc: 0.1\n",
      "Epoch: 2 MSE: 1.0, w: [[ 0.02  0.02  0.  ]], acc: 0.1\n",
      "Epoch: 3 MSE: 0.25, w: [[ 0.02  0.02 -0.01]], acc: 0.1\n",
      "Epoch: 4 MSE: 0.0, w: [[ 0.02  0.02 -0.01]], acc: 0.1\n",
      "Epoch: 5 MSE: 0.0, w: [[ 0.02  0.02 -0.01]], acc: 0.1\n",
      "Epoch: 6 MSE: 0.0, w: [[ 0.02  0.02 -0.01]], acc: 0.1\n",
      "Epoch: 7 MSE: 0.0, w: [[ 0.02  0.02 -0.01]], acc: 0.1\n",
      "Epoch: 8 MSE: 0.0, w: [[ 0.02  0.02 -0.01]], acc: 0.1\n",
      "Epoch: 9 MSE: 0.0, w: [[ 0.02  0.02 -0.01]], acc: 0.1\n",
      "Epoch: 10 MSE: 0.0, w: [[ 0.02  0.02 -0.01]], acc: 0.1\n"
     ]
    }
   ],
   "source": [
    "perceptron = PerceptronWithTF(learning_rate, epochs)\n",
    "perceptron.fit(x, y_or)"
   ]
  },
  {
   "cell_type": "code",
   "execution_count": null,
   "metadata": {},
   "outputs": [],
   "source": []
  }
 ],
 "metadata": {
  "anaconda-cloud": {},
  "kernelspec": {
   "display_name": "Python [default]",
   "language": "python",
   "name": "python3"
  },
  "language_info": {
   "codemirror_mode": {
    "name": "ipython",
    "version": 3
   },
   "file_extension": ".py",
   "mimetype": "text/x-python",
   "name": "python",
   "nbconvert_exporter": "python",
   "pygments_lexer": "ipython3",
   "version": "3.5.4"
  }
 },
 "nbformat": 4,
 "nbformat_minor": 2
}

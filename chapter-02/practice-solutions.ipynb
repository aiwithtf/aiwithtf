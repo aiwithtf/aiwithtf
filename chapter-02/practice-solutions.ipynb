{
 "cells": [
  {
   "cell_type": "code",
   "execution_count": 1,
   "metadata": {},
   "outputs": [],
   "source": [
    "# TODO: Remove after development\n",
    "%load_ext autoreload\n",
    "%autoreload 2"
   ]
  },
  {
   "cell_type": "code",
   "execution_count": 28,
   "metadata": {},
   "outputs": [],
   "source": [
    "import enforce\n",
    "import numpy as np\n",
    "import tensorflow as tf\n",
    "\n",
    "from aiwithtf.utils import check_tf\n",
    "import tests"
   ]
  },
  {
   "cell_type": "code",
   "execution_count": 5,
   "metadata": {},
   "outputs": [
    {
     "name": "stdout",
     "output_type": "stream",
     "text": [
      "Using TensorFlow 1.4.0\n"
     ]
    }
   ],
   "source": [
    "check_tf(tf)"
   ]
  },
  {
   "cell_type": "markdown",
   "metadata": {},
   "source": [
    "# Practice"
   ]
  },
  {
   "cell_type": "markdown",
   "metadata": {},
   "source": [
    "### Basic tensor operations\n",
    "* Create tensors from Python lists\n",
    "* Create tensors from numpy arrays\n",
    "* Get Tensor name, rank, shape\n",
    "* Get tensor by name\n",
    "* Create constant tensors\n",
    "* Stack tensors\n",
    "* ..."
   ]
  },
  {
   "cell_type": "code",
   "execution_count": 4,
   "metadata": {},
   "outputs": [
    {
     "name": "stdout",
     "output_type": "stream",
     "text": [
      "✓ Tests passed\n"
     ]
    }
   ],
   "source": [
    "def create_tensor_from_list(list_):\n",
    "    tensor = tf.convert_to_tensor(list_)\n",
    "    return tensor\n",
    "\n",
    "tests.test_create_tensor_from_list(create_tensor_from_list)"
   ]
  },
  {
   "cell_type": "code",
   "execution_count": 5,
   "metadata": {},
   "outputs": [
    {
     "name": "stdout",
     "output_type": "stream",
     "text": [
      "✓ Tests passed\n"
     ]
    }
   ],
   "source": [
    "def create_tensor_from_np_array(numpy_array, name):\n",
    "    tensor = tf.convert_to_tensor(numpy_array, name=name)\n",
    "    return tensor\n",
    "\n",
    "tests.test_create_tensor_from_np_array(create_tensor_from_np_array)"
   ]
  },
  {
   "cell_type": "code",
   "execution_count": 6,
   "metadata": {},
   "outputs": [
    {
     "name": "stdout",
     "output_type": "stream",
     "text": [
      "✓ Tests passed\n"
     ]
    }
   ],
   "source": [
    "def get_tensor_name(tensor):\n",
    "    name = tensor.name\n",
    "    return name\n",
    "\n",
    "tests.test_get_tensor_name(get_tensor_name)"
   ]
  },
  {
   "cell_type": "code",
   "execution_count": 7,
   "metadata": {},
   "outputs": [
    {
     "name": "stdout",
     "output_type": "stream",
     "text": [
      "✓ Tests passed\n"
     ]
    }
   ],
   "source": [
    "def get_tensor_shape(tensor):\n",
    "    shape = tensor.shape\n",
    "    return shape\n",
    "\n",
    "tests.test_get_tensor_shape(get_tensor_shape)"
   ]
  },
  {
   "cell_type": "code",
   "execution_count": 8,
   "metadata": {},
   "outputs": [
    {
     "name": "stdout",
     "output_type": "stream",
     "text": [
      "✓ Tests passed\n"
     ]
    }
   ],
   "source": [
    "def get_tensor_rank(tensor):\n",
    "    rank_tensor = tf.rank(tensor)\n",
    "    rank_value = tf.Session().run(rank_tensor)\n",
    "    return rank_value\n",
    "\n",
    "tests.test_get_tensor_rank(get_tensor_rank)"
   ]
  },
  {
   "cell_type": "code",
   "execution_count": 9,
   "metadata": {},
   "outputs": [
    {
     "name": "stdout",
     "output_type": "stream",
     "text": [
      "✓ Tests passed\n"
     ]
    }
   ],
   "source": [
    "def create_constant_tensor(value, m, n):\n",
    "    tensor = tf.constant(value, shape=[m, n])\n",
    "    return tensor\n",
    "\n",
    "tests.test_create_constant_tensor(create_constant_tensor)"
   ]
  },
  {
   "cell_type": "markdown",
   "metadata": {},
   "source": [
    "### Using scopes\n",
    "Why even use scopes?\n",
    "* Tensorboard\n",
    "* Each scope its own ops\n",
    "* Nesting possible"
   ]
  },
  {
   "cell_type": "code",
   "execution_count": 10,
   "metadata": {},
   "outputs": [
    {
     "name": "stdout",
     "output_type": "stream",
     "text": [
      "✓ Tests passed\n"
     ]
    }
   ],
   "source": [
    "def create_variable_in_scope(name, np_array, scope_name):\n",
    "    with tf.name_scope(scope_name):\n",
    "        tensor = create_tensor_from_np_array(np_array, name)\n",
    "        return tensor\n",
    "        \n",
    "tests.test_create_variable_in_scope(create_variable_in_scope)"
   ]
  },
  {
   "cell_type": "code",
   "execution_count": 11,
   "metadata": {},
   "outputs": [
    {
     "name": "stdout",
     "output_type": "stream",
     "text": [
      "✓ Tests passed\n"
     ]
    }
   ],
   "source": [
    "def create_variable_in_nested_scope(name, np_array, scope_name_outer, scope_name_inner):\n",
    "    with tf.name_scope(scope_name_outer):\n",
    "        with tf.name_scope(scope_name_inner):\n",
    "            tensor = create_tensor_from_np_array(np_array, name)\n",
    "            return tensor\n",
    "        \n",
    "tests.test_create_variable_in_nested_scope(create_variable_in_nested_scope)"
   ]
  },
  {
   "cell_type": "markdown",
   "metadata": {},
   "source": [
    "### Using multiple graphs"
   ]
  },
  {
   "cell_type": "code",
   "execution_count": 13,
   "metadata": {},
   "outputs": [
    {
     "data": {
      "text/plain": [
       "<tensorflow.python.framework.ops.Graph at 0x11a743a58>"
      ]
     },
     "execution_count": 13,
     "metadata": {},
     "output_type": "execute_result"
    }
   ],
   "source": [
    "g = tf.Graph()\n",
    "g"
   ]
  },
  {
   "cell_type": "code",
   "execution_count": 14,
   "metadata": {},
   "outputs": [
    {
     "data": {
      "text/plain": [
       "'0x11a743a58'"
      ]
     },
     "execution_count": 14,
     "metadata": {},
     "output_type": "execute_result"
    }
   ],
   "source": [
    "hex(id(g))"
   ]
  },
  {
   "cell_type": "code",
   "execution_count": 15,
   "metadata": {},
   "outputs": [
    {
     "data": {
      "text/plain": [
       "<tensorflow.python.framework.ops.Graph at 0x11a708630>"
      ]
     },
     "execution_count": 15,
     "metadata": {},
     "output_type": "execute_result"
    }
   ],
   "source": [
    "default_graph = tf.get_default_graph()\n",
    "default_graph"
   ]
  },
  {
   "cell_type": "code",
   "execution_count": 16,
   "metadata": {},
   "outputs": [
    {
     "data": {
      "text/plain": [
       "'0x11a708630'"
      ]
     },
     "execution_count": 16,
     "metadata": {},
     "output_type": "execute_result"
    }
   ],
   "source": [
    "hex(id(default_graph))"
   ]
  },
  {
   "cell_type": "code",
   "execution_count": 17,
   "metadata": {},
   "outputs": [
    {
     "name": "stdout",
     "output_type": "stream",
     "text": [
      "✓ Tests passed\n"
     ]
    }
   ],
   "source": [
    "def get_default_graph():\n",
    "    graph = tf.get_default_graph()\n",
    "    return graph\n",
    "\n",
    "tests.test_get_default_graph(get_default_graph)"
   ]
  },
  {
   "cell_type": "code",
   "execution_count": 18,
   "metadata": {},
   "outputs": [
    {
     "name": "stdout",
     "output_type": "stream",
     "text": [
      "✓ Tests passed\n"
     ]
    }
   ],
   "source": [
    "def create_new_graph():\n",
    "    graph = tf.Graph()\n",
    "    return graph\n",
    "\n",
    "tests.test_create_new_graph(create_new_graph)"
   ]
  },
  {
   "cell_type": "code",
   "execution_count": 19,
   "metadata": {},
   "outputs": [
    {
     "name": "stdout",
     "output_type": "stream",
     "text": [
      "✓ Tests passed\n"
     ]
    }
   ],
   "source": [
    "def get_graph_seed(graph):\n",
    "    seed = graph.seed\n",
    "    return seed\n",
    "\n",
    "tests.test_get_graph_seed(get_graph_seed)"
   ]
  },
  {
   "cell_type": "code",
   "execution_count": 20,
   "metadata": {},
   "outputs": [
    {
     "name": "stdout",
     "output_type": "stream",
     "text": [
      "✓ Tests passed\n"
     ]
    }
   ],
   "source": [
    "def set_graph_seed(graph, seed):\n",
    "    with graph.as_default():\n",
    "        tf.set_random_seed(seed)\n",
    "    return graph\n",
    "\n",
    "tests.test_set_graph_seed(set_graph_seed)"
   ]
  },
  {
   "cell_type": "code",
   "execution_count": null,
   "metadata": {},
   "outputs": [],
   "source": []
  },
  {
   "cell_type": "code",
   "execution_count": null,
   "metadata": {},
   "outputs": [],
   "source": []
  },
  {
   "cell_type": "code",
   "execution_count": null,
   "metadata": {},
   "outputs": [],
   "source": []
  },
  {
   "cell_type": "markdown",
   "metadata": {},
   "source": [
    "### Variables"
   ]
  },
  {
   "cell_type": "code",
   "execution_count": 36,
   "metadata": {},
   "outputs": [],
   "source": [
    "# get_variable vs. Variable\n",
    "# https://stackoverflow.com/questions/35919020/whats-the-difference-of-name-scope-and-a-variable-scope-in-tensorflow\n",
    "\n",
    "# collections\n",
    "# https://www.tensorflow.org/programmers_guide/variables\n",
    "\n",
    "# trainables\n",
    "# an Optimizer can manipulate\n",
    "# tf.trainable_variables()\n",
    "\n",
    "# Variable shape\n",
    "# TensorShape\n",
    "# TensorShape == [row, col, ...]"
   ]
  },
  {
   "cell_type": "code",
   "execution_count": null,
   "metadata": {},
   "outputs": [],
   "source": []
  },
  {
   "cell_type": "code",
   "execution_count": null,
   "metadata": {},
   "outputs": [],
   "source": []
  },
  {
   "cell_type": "code",
   "execution_count": null,
   "metadata": {},
   "outputs": [],
   "source": []
  },
  {
   "cell_type": "markdown",
   "metadata": {},
   "source": [
    "### Placeholders"
   ]
  },
  {
   "cell_type": "code",
   "execution_count": null,
   "metadata": {},
   "outputs": [],
   "source": [
    "graph = tf.Graph()\n",
    "\n",
    "with tf.Session(graph=graph) as sess:\n",
    "    x = tf.placeholder(tf.float32, [1, 3])\n",
    "    y = tf.sign(x)\n",
    "    z = sess.run(y, feed_dict={x: [[3, 3, -1]]})"
   ]
  },
  {
   "cell_type": "code",
   "execution_count": null,
   "metadata": {},
   "outputs": [],
   "source": []
  },
  {
   "cell_type": "code",
   "execution_count": null,
   "metadata": {},
   "outputs": [],
   "source": []
  },
  {
   "cell_type": "code",
   "execution_count": null,
   "metadata": {},
   "outputs": [],
   "source": []
  },
  {
   "cell_type": "markdown",
   "metadata": {},
   "source": [
    "### Randomness\n",
    "Operations that rely on a random seed actually derive it from two seeds: the graph-level and operation-level seeds. This sets the graph-level seed.\n",
    "- Seed\n",
    "- ..."
   ]
  },
  {
   "cell_type": "code",
   "execution_count": null,
   "metadata": {},
   "outputs": [],
   "source": []
  },
  {
   "cell_type": "code",
   "execution_count": null,
   "metadata": {},
   "outputs": [],
   "source": []
  },
  {
   "cell_type": "markdown",
   "metadata": {},
   "source": [
    "### Data Types"
   ]
  },
  {
   "cell_type": "code",
   "execution_count": null,
   "metadata": {},
   "outputs": [],
   "source": []
  },
  {
   "cell_type": "code",
   "execution_count": null,
   "metadata": {},
   "outputs": [],
   "source": []
  },
  {
   "cell_type": "code",
   "execution_count": null,
   "metadata": {},
   "outputs": [],
   "source": []
  },
  {
   "cell_type": "markdown",
   "metadata": {},
   "source": [
    "### Sessions"
   ]
  },
  {
   "cell_type": "code",
   "execution_count": null,
   "metadata": {},
   "outputs": [],
   "source": []
  },
  {
   "cell_type": "code",
   "execution_count": null,
   "metadata": {},
   "outputs": [],
   "source": []
  },
  {
   "cell_type": "markdown",
   "metadata": {},
   "source": [
    "### Math operations"
   ]
  },
  {
   "cell_type": "code",
   "execution_count": 21,
   "metadata": {},
   "outputs": [
    {
     "name": "stdout",
     "output_type": "stream",
     "text": [
      "✓ Tests passed\n"
     ]
    }
   ],
   "source": [
    "def add(x, y):\n",
    "    return x + y\n",
    "\n",
    "tests.test_add(add)"
   ]
  },
  {
   "cell_type": "code",
   "execution_count": 22,
   "metadata": {},
   "outputs": [
    {
     "name": "stdout",
     "output_type": "stream",
     "text": [
      "✓ Tests passed\n"
     ]
    }
   ],
   "source": [
    "def add_rank0_tensors(x, y):\n",
    "    tensor_x = tf.constant(x)\n",
    "    tensor_y = tf.constant(y)\n",
    "    tensor_z = tensor_x + tensor_y\n",
    "    return tensor_z\n",
    "\n",
    "tests.test_add_rank0_tensors(add_rank0_tensors)"
   ]
  },
  {
   "cell_type": "code",
   "execution_count": 23,
   "metadata": {},
   "outputs": [
    {
     "name": "stdout",
     "output_type": "stream",
     "text": [
      "✓ Tests passed\n"
     ]
    }
   ],
   "source": [
    "def add_rank1_tensors(x, y):\n",
    "    tensor_x = tf.constant(x)\n",
    "    tensor_y = tf.constant(y)\n",
    "    tensor_z = tensor_x + tensor_y\n",
    "    return tensor_z\n",
    "\n",
    "tests.test_add_rank1_tensors(add_rank1_tensors)"
   ]
  },
  {
   "cell_type": "code",
   "execution_count": null,
   "metadata": {},
   "outputs": [],
   "source": []
  },
  {
   "cell_type": "markdown",
   "metadata": {},
   "source": [
    "### Reduce operations"
   ]
  },
  {
   "cell_type": "markdown",
   "metadata": {},
   "source": [
    "- reduce_sum\n",
    "- reduce_mean"
   ]
  },
  {
   "cell_type": "code",
   "execution_count": null,
   "metadata": {},
   "outputs": [],
   "source": []
  },
  {
   "cell_type": "code",
   "execution_count": null,
   "metadata": {},
   "outputs": [],
   "source": []
  },
  {
   "cell_type": "code",
   "execution_count": null,
   "metadata": {},
   "outputs": [],
   "source": []
  },
  {
   "cell_type": "markdown",
   "metadata": {},
   "source": [
    "### Other stuff"
   ]
  },
  {
   "cell_type": "code",
   "execution_count": null,
   "metadata": {},
   "outputs": [],
   "source": [
    "tf.tensordot(tf.constant([1,2,3]), tf.constant([1,2,3]), axis=[[1], [0]])"
   ]
  },
  {
   "cell_type": "code",
   "execution_count": null,
   "metadata": {},
   "outputs": [],
   "source": []
  },
  {
   "cell_type": "code",
   "execution_count": null,
   "metadata": {},
   "outputs": [],
   "source": []
  },
  {
   "cell_type": "code",
   "execution_count": null,
   "metadata": {},
   "outputs": [],
   "source": []
  },
  {
   "cell_type": "markdown",
   "metadata": {},
   "source": [
    "### Perceptron"
   ]
  },
  {
   "cell_type": "code",
   "execution_count": null,
   "metadata": {},
   "outputs": [],
   "source": []
  }
 ],
 "metadata": {
  "anaconda-cloud": {},
  "kernelspec": {
   "display_name": "Python [default]",
   "language": "python",
   "name": "python3"
  },
  "language_info": {
   "codemirror_mode": {
    "name": "ipython",
    "version": 3
   },
   "file_extension": ".py",
   "mimetype": "text/x-python",
   "name": "python",
   "nbconvert_exporter": "python",
   "pygments_lexer": "ipython3",
   "version": "3.5.4"
  }
 },
 "nbformat": 4,
 "nbformat_minor": 2
}

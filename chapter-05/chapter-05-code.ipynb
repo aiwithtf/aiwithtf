{
 "cells": [
  {
   "cell_type": "markdown",
   "metadata": {},
   "source": [
    "# Chapter 5 NLP"
   ]
  },
  {
   "cell_type": "code",
   "execution_count": 7,
   "metadata": {},
   "outputs": [],
   "source": [
    "%matplotlib inline"
   ]
  },
  {
   "cell_type": "code",
   "execution_count": 8,
   "metadata": {},
   "outputs": [],
   "source": [
    "import numpy as np\n",
    "from collections import Counter\n",
    "import pandas as pd\n",
    "import matplotlib.pyplot as plt\n",
    "import seaborn as sns\n",
    "import string\n",
    "import glob\n",
    "\n",
    "import scattertext\n",
    "\n",
    "import tensorflow as tf\n",
    "from tensorflow import keras\n",
    "\n",
    "from keras.datasets import imdb\n",
    "from keras.preprocessing.sequence import pad_sequences\n",
    "from keras.layers.embeddings import Embedding\n",
    "from keras.models import Sequential\n",
    "from keras.layers import Input\n",
    "from keras.layers import Dense, Flatten, Activation, Dropout\n",
    "from keras.layers import SimpleRNN, GRU, LSTM, Bidirectional\n",
    "from keras.layers import Conv1D, MaxPooling1D, GlobalMaxPooling1D\n",
    "from keras.models import Model\n",
    "from keras.utils import to_categorical\n",
    "from keras.wrappers.scikit_learn import KerasClassifier\n",
    "from keras.callbacks import ModelCheckpoint\n",
    "\n",
    "import nltk\n",
    "from nltk import word_tokenize          \n",
    "from nltk.stem import WordNetLemmatizer, PorterStemmer, LancasterStemmer, SnowballStemmer\n",
    "from nltk.corpus import stopwords\n",
    "from spacy.lang.en import English\n",
    "\n",
    "from sklearn.ensemble import RandomForestClassifier\n",
    "from sklearn.feature_extraction.stop_words import ENGLISH_STOP_WORDS\n",
    "from sklearn.feature_extraction.text import CountVectorizer, TfidfVectorizer\n",
    "from sklearn.linear_model import LogisticRegression\n",
    "from sklearn.model_selection import cross_val_score, StratifiedKFold, train_test_split\n",
    "\n",
    "sns.set()"
   ]
  },
  {
   "cell_type": "code",
   "execution_count": 2,
   "metadata": {},
   "outputs": [],
   "source": [
    "# import codecs\n",
    "# import os\n",
    "# import collections\n",
    "# from six.moves import cPickle\n",
    "# import numpy as np\n",
    "\n",
    "\n",
    "# class TextLoader():\n",
    "#     def __init__(self, data_dir, batch_size, seq_length, encoding='utf-8'):\n",
    "#         self.data_dir = data_dir\n",
    "#         self.batch_size = batch_size\n",
    "#         self.seq_length = seq_length\n",
    "#         self.encoding = encoding\n",
    "\n",
    "#         input_file = os.path.join(data_dir, \"input.txt\")\n",
    "#         vocab_file = os.path.join(data_dir, \"vocab.pkl\")\n",
    "#         tensor_file = os.path.join(data_dir, \"data.npy\")\n",
    "\n",
    "#         if not (os.path.exists(vocab_file) and os.path.exists(tensor_file)):\n",
    "#             print(\"reading text file\")\n",
    "#             self.preprocess(input_file, vocab_file, tensor_file)\n",
    "#         else:\n",
    "#             print(\"loading preprocessed files\")\n",
    "#             self.load_preprocessed(vocab_file, tensor_file)\n",
    "#         self.create_batches()\n",
    "#         self.reset_batch_pointer()\n",
    "\n",
    "#     def preprocess(self, input_file, vocab_file, tensor_file):\n",
    "#         with codecs.open(input_file, \"r\", encoding=self.encoding) as f:\n",
    "#             data = f.read()\n",
    "#         counter = collections.Counter(data)\n",
    "#         count_pairs = sorted(counter.items(), key=lambda x: -x[1])\n",
    "#         self.chars, _ = zip(*count_pairs)\n",
    "#         self.vocab_size = len(self.chars)\n",
    "#         self.vocab = dict(zip(self.chars, range(len(self.chars))))\n",
    "#         with open(vocab_file, 'wb') as f:\n",
    "#             cPickle.dump(self.chars, f)\n",
    "#         self.tensor = np.array(list(map(self.vocab.get, data)))\n",
    "#         np.save(tensor_file, self.tensor)\n",
    "\n",
    "#     def load_preprocessed(self, vocab_file, tensor_file):\n",
    "#         with open(vocab_file, 'rb') as f:\n",
    "#             self.chars = cPickle.load(f)\n",
    "#         self.vocab_size = len(self.chars)\n",
    "#         self.vocab = dict(zip(self.chars, range(len(self.chars))))\n",
    "#         self.tensor = np.load(tensor_file)\n",
    "#         self.num_batches = int(self.tensor.size / (self.batch_size *\n",
    "#                                                    self.seq_length))\n",
    "\n",
    "#     def create_batches(self):\n",
    "#         self.num_batches = int(self.tensor.size / (self.batch_size *\n",
    "#                                                    self.seq_length))\n",
    "\n",
    "#         # When the data (tensor) is too small,\n",
    "#         # let's give them a better error message\n",
    "#         if self.num_batches == 0:\n",
    "#             assert False, \"Not enough data. Make seq_length and batch_size small.\"\n",
    "\n",
    "#         self.tensor = self.tensor[:self.num_batches * self.batch_size * self.seq_length]\n",
    "#         xdata = self.tensor\n",
    "#         ydata = np.copy(self.tensor)\n",
    "#         ydata[:-1] = xdata[1:]\n",
    "#         ydata[-1] = xdata[0]\n",
    "#         self.x_batches = np.split(xdata.reshape(self.batch_size, -1),\n",
    "#                                   self.num_batches, 1)\n",
    "#         self.y_batches = np.split(ydata.reshape(self.batch_size, -1),\n",
    "#                                   self.num_batches, 1)\n",
    "\n",
    "#     def next_batch(self):\n",
    "#         x, y = self.x_batches[self.pointer], self.y_batches[self.pointer]\n",
    "#         self.pointer += 1\n",
    "#         return x, y\n",
    "\n",
    "#     def reset_batch_pointer(self):\n",
    "#         self.pointer = 0\n",
    "\n",
    "# data_dir = 'text'\n",
    "# batch_size = 50\n",
    "# seq_length = 50\n",
    "\n",
    "# data_loader = TextLoader(data_dir, batch_size, seq_length)\n",
    "# q = data_loader.next_batch()\n",
    "\n",
    "# top_words = 5000\n",
    "# max_words = 500\n",
    "\n",
    "# (X_train, y_train), (X_test, y_test) = imdb.load_data(nb_words=top_words)\n",
    "# X = numpy.concatenate((X_train, X_test), axis=0)\n",
    "# y = numpy.concatenate((y_train, y_test), axis=0)\n",
    "\n",
    "# X_train = sequence.pad_sequences(X_train, maxlen=max_words)\n",
    "# X_test = sequence.pad_sequences(X_test, maxlen=max_words)\n",
    "\n",
    "# model = Sequential()\n",
    "# model.add(Embedding(top_words, 32, input_length=max_words))\n",
    "# model.add(Flatten())\n",
    "# model.add(Dense(250, activation='relu'))\n",
    "# model.add(Dense(1, activation='sigmoid'))\n",
    "# model.compile(loss='binary_crossentropy', optimizer='adam', metrics=['accuracy'])\n",
    "# print(model.summary())\n",
    "\n",
    "# # Fit the model\n",
    "# model.fit(X_train, y_train, validation_data=(X_test, y_test), epochs=2, batch_size=128, verbose=2)\n",
    "# # Final evaluation of the model\n",
    "# scores = model.evaluate(X_test, y_test, verbose=0)\n",
    "# print(\"Accuracy: %.2f%%\" % (scores[1]*100))\n",
    "\n",
    "# from keras.layers.convolutional import Conv1D\n",
    "# from keras.layers.convolutional import MaxPooling1D\n",
    "\n",
    "# # create the model\n",
    "# model = Sequential()\n",
    "# model.add(Embedding(top_words, 32, input_length=max_words))\n",
    "# model.add(Conv1D(filters=32, kernel_size=3, padding='same', activation='relu'))\n",
    "# model.add(MaxPooling1D(pool_size=2))\n",
    "# model.add(Flatten())\n",
    "# model.add(Dense(250, activation='relu'))\n",
    "# model.add(Dense(1, activation='sigmoid'))\n",
    "# model.compile(loss='binary_crossentropy', optimizer='adam', metrics=['accuracy'])\n",
    "# print(model.summary())\n",
    "\n",
    "# # Fit the model\n",
    "# model.fit(X_train, y_train, validation_data=(X_test, y_test), epochs=2, batch_size=128, verbose=2)\n",
    "# # Final evaluation of the model\n",
    "# scores = model.evaluate(X_test, y_test, verbose=0)\n",
    "# print(\"Accuracy: %.2f%%\" % (scores[1]*100))\n",
    "\n",
    "# # Fit the model\n",
    "# model.fit(X_train, y_train, validation_data=(X_test, y_test), epochs=5, batch_size=128, verbose=2)\n",
    "# # Final evaluation of the model\n",
    "# scores = model.evaluate(X_test, y_test, verbose=0)\n",
    "# print(\"Accuracy: %.2f%%\" % (scores[1]*100))\n",
    "\n",
    "# embed_dim = 128\n",
    "# lstm_out = 196\n",
    "\n",
    "# model = Sequential()\n",
    "# model.add(Embedding(top_words, embed_dim, input_length = max_words, dropout=0.2))\n",
    "# model.add(LSTM(lstm_out, dropout_U=0.2, dropout_W=0.2))\n",
    "# model.add(Dense(2,activation='softmax'))\n",
    "# model.compile(loss = 'categorical_crossentropy', optimizer='adam',metrics = ['accuracy'])\n",
    "# print(model.summary())\n",
    "\n",
    "# model.fit(X_train, y_train, validation_data=(X_test, y_test), epochs=2, batch_size=128, verbose=2)"
   ]
  },
  {
   "cell_type": "markdown",
   "metadata": {},
   "source": [
    "### Preprocessing"
   ]
  },
  {
   "cell_type": "code",
   "execution_count": 69,
   "metadata": {},
   "outputs": [],
   "source": [
    "corpus = [\n",
    "    \"movie was awesome, a must see\",\n",
    "    \"wasn't overly impressed with the movie at all\",\n",
    "    \"the movie was not good at all, it was a waste of time\",\n",
    "]"
   ]
  },
  {
   "cell_type": "code",
   "execution_count": 70,
   "metadata": {},
   "outputs": [
    {
     "data": {
      "text/plain": [
       "[['movie', 'was', 'awesome,', 'a', 'must', 'see'],\n",
       " [\"wasn't\", 'overly', 'impressed', 'with', 'the', 'movie', 'at', 'all'],\n",
       " ['the',\n",
       "  'movie',\n",
       "  'was',\n",
       "  'not',\n",
       "  'good',\n",
       "  'at',\n",
       "  'all,',\n",
       "  'it',\n",
       "  'was',\n",
       "  'a',\n",
       "  'waste',\n",
       "  'of',\n",
       "  'time']]"
      ]
     },
     "execution_count": 70,
     "metadata": {},
     "output_type": "execute_result"
    }
   ],
   "source": [
    "tokenized_corpus = [document.split() for document in corpus]\n",
    "tokenized_corpus"
   ]
  },
  {
   "cell_type": "markdown",
   "metadata": {},
   "source": [
    "#### regex"
   ]
  },
  {
   "cell_type": "code",
   "execution_count": 105,
   "metadata": {},
   "outputs": [],
   "source": [
    "token_pattern = r\"\\b\\w\\w+\\b\""
   ]
  },
  {
   "cell_type": "code",
   "execution_count": 107,
   "metadata": {},
   "outputs": [
    {
     "data": {
      "text/plain": [
       "['movie', 'was', 'awesome', 'must', 'see']"
      ]
     },
     "execution_count": 107,
     "metadata": {},
     "output_type": "execute_result"
    }
   ],
   "source": [
    "re.findall(token_pattern, corpus[0])"
   ]
  },
  {
   "cell_type": "code",
   "execution_count": 109,
   "metadata": {},
   "outputs": [
    {
     "data": {
      "text/plain": [
       "['do', 'don']"
      ]
     },
     "execution_count": 109,
     "metadata": {},
     "output_type": "execute_result"
    }
   ],
   "source": [
    "re.findall(token_pattern, \"do u? i don't :(\")"
   ]
  },
  {
   "cell_type": "markdown",
   "metadata": {},
   "source": [
    "#### sequence of tokens"
   ]
  },
  {
   "cell_type": "code",
   "execution_count": 71,
   "metadata": {},
   "outputs": [
    {
     "data": {
      "text/plain": [
       "{'with': 0,\n",
       " 'the': 1,\n",
       " 'good': 2,\n",
       " 'at': 3,\n",
       " 'not': 4,\n",
       " 'waste': 5,\n",
       " 'of': 6,\n",
       " 'impressed': 7,\n",
       " 'a': 8,\n",
       " \"wasn't\": 9,\n",
       " 'it': 10,\n",
       " 'overly': 11,\n",
       " 'awesome,': 12,\n",
       " 'time': 13,\n",
       " 'was': 14,\n",
       " 'all': 15,\n",
       " 'movie': 16,\n",
       " 'see': 17,\n",
       " 'must': 18,\n",
       " 'all,': 19}"
      ]
     },
     "execution_count": 71,
     "metadata": {},
     "output_type": "execute_result"
    }
   ],
   "source": [
    "vocab = {\n",
    "    token\n",
    "    for sentence in corpus\n",
    "    for token in sentence.split()\n",
    "}\n",
    "token_to_index = dict(zip(vocab, range(len(vocab))))\n",
    "token_to_index"
   ]
  },
  {
   "cell_type": "code",
   "execution_count": 72,
   "metadata": {},
   "outputs": [
    {
     "data": {
      "text/plain": [
       "[[16, 14, 12, 8, 18, 17],\n",
       " [9, 11, 7, 0, 1, 16, 3, 15],\n",
       " [1, 16, 14, 4, 2, 3, 19, 10, 14, 8, 5, 6, 13]]"
      ]
     },
     "execution_count": 72,
     "metadata": {},
     "output_type": "execute_result"
    }
   ],
   "source": [
    "[\n",
    "    [token_to_index[token] for token in sentence.split()]\n",
    "    for sentence in corpus\n",
    "]"
   ]
  },
  {
   "cell_type": "code",
   "execution_count": 77,
   "metadata": {},
   "outputs": [
    {
     "data": {
      "text/html": [
       "<div>\n",
       "<style scoped>\n",
       "    .dataframe tbody tr th:only-of-type {\n",
       "        vertical-align: middle;\n",
       "    }\n",
       "\n",
       "    .dataframe tbody tr th {\n",
       "        vertical-align: top;\n",
       "    }\n",
       "\n",
       "    .dataframe thead th {\n",
       "        text-align: right;\n",
       "    }\n",
       "</style>\n",
       "<table border=\"1\" class=\"dataframe\">\n",
       "  <thead>\n",
       "    <tr style=\"text-align: right;\">\n",
       "      <th></th>\n",
       "      <th>a</th>\n",
       "      <th>all</th>\n",
       "      <th>all,</th>\n",
       "      <th>at</th>\n",
       "      <th>awesome,</th>\n",
       "      <th>good</th>\n",
       "      <th>impressed</th>\n",
       "      <th>it</th>\n",
       "      <th>movie</th>\n",
       "      <th>must</th>\n",
       "      <th>not</th>\n",
       "      <th>of</th>\n",
       "      <th>overly</th>\n",
       "      <th>see</th>\n",
       "      <th>the</th>\n",
       "      <th>time</th>\n",
       "      <th>was</th>\n",
       "      <th>wasn't</th>\n",
       "      <th>waste</th>\n",
       "      <th>with</th>\n",
       "    </tr>\n",
       "  </thead>\n",
       "  <tbody>\n",
       "    <tr>\n",
       "      <th>0</th>\n",
       "      <td>1.0</td>\n",
       "      <td>0.0</td>\n",
       "      <td>0.0</td>\n",
       "      <td>0.0</td>\n",
       "      <td>1.0</td>\n",
       "      <td>0.0</td>\n",
       "      <td>0.0</td>\n",
       "      <td>0.0</td>\n",
       "      <td>1</td>\n",
       "      <td>1.0</td>\n",
       "      <td>0.0</td>\n",
       "      <td>0.0</td>\n",
       "      <td>0.0</td>\n",
       "      <td>1.0</td>\n",
       "      <td>0.0</td>\n",
       "      <td>0.0</td>\n",
       "      <td>1.0</td>\n",
       "      <td>0.0</td>\n",
       "      <td>0.0</td>\n",
       "      <td>0.0</td>\n",
       "    </tr>\n",
       "    <tr>\n",
       "      <th>1</th>\n",
       "      <td>0.0</td>\n",
       "      <td>1.0</td>\n",
       "      <td>0.0</td>\n",
       "      <td>1.0</td>\n",
       "      <td>0.0</td>\n",
       "      <td>0.0</td>\n",
       "      <td>1.0</td>\n",
       "      <td>0.0</td>\n",
       "      <td>1</td>\n",
       "      <td>0.0</td>\n",
       "      <td>0.0</td>\n",
       "      <td>0.0</td>\n",
       "      <td>1.0</td>\n",
       "      <td>0.0</td>\n",
       "      <td>1.0</td>\n",
       "      <td>0.0</td>\n",
       "      <td>0.0</td>\n",
       "      <td>1.0</td>\n",
       "      <td>0.0</td>\n",
       "      <td>1.0</td>\n",
       "    </tr>\n",
       "    <tr>\n",
       "      <th>2</th>\n",
       "      <td>1.0</td>\n",
       "      <td>0.0</td>\n",
       "      <td>1.0</td>\n",
       "      <td>1.0</td>\n",
       "      <td>0.0</td>\n",
       "      <td>1.0</td>\n",
       "      <td>0.0</td>\n",
       "      <td>1.0</td>\n",
       "      <td>1</td>\n",
       "      <td>0.0</td>\n",
       "      <td>1.0</td>\n",
       "      <td>1.0</td>\n",
       "      <td>0.0</td>\n",
       "      <td>0.0</td>\n",
       "      <td>1.0</td>\n",
       "      <td>1.0</td>\n",
       "      <td>2.0</td>\n",
       "      <td>0.0</td>\n",
       "      <td>1.0</td>\n",
       "      <td>0.0</td>\n",
       "    </tr>\n",
       "  </tbody>\n",
       "</table>\n",
       "</div>"
      ],
      "text/plain": [
       "     a  all  all,   at  awesome,  good  impressed   it  movie  must  not   of  \\\n",
       "0  1.0  0.0   0.0  0.0       1.0   0.0        0.0  0.0      1   1.0  0.0  0.0   \n",
       "1  0.0  1.0   0.0  1.0       0.0   0.0        1.0  0.0      1   0.0  0.0  0.0   \n",
       "2  1.0  0.0   1.0  1.0       0.0   1.0        0.0  1.0      1   0.0  1.0  1.0   \n",
       "\n",
       "   overly  see  the  time  was  wasn't  waste  with  \n",
       "0     0.0  1.0  0.0   0.0  1.0     0.0    0.0   0.0  \n",
       "1     1.0  0.0  1.0   0.0  0.0     1.0    0.0   1.0  \n",
       "2     0.0  0.0  1.0   1.0  2.0     0.0    1.0   0.0  "
      ]
     },
     "execution_count": 77,
     "metadata": {},
     "output_type": "execute_result"
    }
   ],
   "source": [
    "# BOW\n",
    "pd.DataFrame([\n",
    "    Counter(sentence.split())\n",
    "    for sentence in corpus\n",
    "]).fillna(0)"
   ]
  },
  {
   "cell_type": "markdown",
   "metadata": {},
   "source": [
    "### Normalization"
   ]
  },
  {
   "cell_type": "markdown",
   "metadata": {},
   "source": [
    "#### Stemming"
   ]
  },
  {
   "cell_type": "code",
   "execution_count": 158,
   "metadata": {},
   "outputs": [],
   "source": [
    "words = ['forbid', 'forbidden', 'forbade', 'forbids']\n",
    "porter = PorterStemmer()"
   ]
  },
  {
   "cell_type": "code",
   "execution_count": 159,
   "metadata": {},
   "outputs": [
    {
     "data": {
      "text/plain": [
       "['forbid', 'forbidden', 'forbad', 'forbid']"
      ]
     },
     "execution_count": 159,
     "metadata": {},
     "output_type": "execute_result"
    }
   ],
   "source": [
    "[\n",
    "    porter.stem(word)\n",
    "    for word in words\n",
    "]"
   ]
  },
  {
   "cell_type": "code",
   "execution_count": 160,
   "metadata": {},
   "outputs": [
    {
     "data": {
      "text/plain": [
       "'market'"
      ]
     },
     "execution_count": 160,
     "metadata": {},
     "output_type": "execute_result"
    }
   ],
   "source": [
    "porter.stem('marketing')"
   ]
  },
  {
   "cell_type": "code",
   "execution_count": 162,
   "metadata": {},
   "outputs": [],
   "source": [
    "snowball = SnowballStemmer('english')"
   ]
  },
  {
   "cell_type": "code",
   "execution_count": 163,
   "metadata": {},
   "outputs": [
    {
     "data": {
      "text/plain": [
       "['forbid', 'forbidden', 'forbad', 'forbid']"
      ]
     },
     "execution_count": 163,
     "metadata": {},
     "output_type": "execute_result"
    }
   ],
   "source": [
    "[\n",
    "    snowball.stem(word)\n",
    "    for word in ['forbid', 'forbidden', 'forbade', 'forbids']\n",
    "]"
   ]
  },
  {
   "cell_type": "markdown",
   "metadata": {},
   "source": [
    "### Lemmatization"
   ]
  },
  {
   "cell_type": "code",
   "execution_count": 167,
   "metadata": {},
   "outputs": [
    {
     "data": {
      "text/plain": [
       "'marketing'"
      ]
     },
     "execution_count": 167,
     "metadata": {},
     "output_type": "execute_result"
    }
   ],
   "source": [
    "wordnetlemmatizer = WordNetLemmatizer()\n",
    "wordnetlemmatizer.lemmatize('marketing')"
   ]
  },
  {
   "cell_type": "code",
   "execution_count": 169,
   "metadata": {},
   "outputs": [
    {
     "data": {
      "text/plain": [
       "'forbade'"
      ]
     },
     "execution_count": 169,
     "metadata": {},
     "output_type": "execute_result"
    }
   ],
   "source": [
    "wordnetlemmatizer.lemmatize('forbade')"
   ]
  },
  {
   "cell_type": "markdown",
   "metadata": {},
   "source": [
    "##### POS tagger"
   ]
  },
  {
   "cell_type": "code",
   "execution_count": 232,
   "metadata": {},
   "outputs": [],
   "source": [
    "# nltk.download('averaged_perceptron_tagger')"
   ]
  },
  {
   "cell_type": "code",
   "execution_count": 173,
   "metadata": {},
   "outputs": [
    {
     "data": {
      "text/plain": [
       "[('i', 'NN'),\n",
       " ('forbade', 'VBD'),\n",
       " ('him', 'PRP'),\n",
       " ('from', 'IN'),\n",
       " ('getting', 'VBG'),\n",
       " ('involved', 'VBN'),\n",
       " ('in', 'IN'),\n",
       " ('the', 'DT'),\n",
       " ('marketing', 'NN'),\n",
       " ('scheme', 'NN')]"
      ]
     },
     "execution_count": 173,
     "metadata": {},
     "output_type": "execute_result"
    }
   ],
   "source": [
    "sentence = 'i forbade him from getting involved in the marketing scheme'\n",
    "pos_tags = nltk.pos_tag(sentence.split())\n",
    "pos_tags"
   ]
  },
  {
   "cell_type": "code",
   "execution_count": 174,
   "metadata": {},
   "outputs": [
    {
     "data": {
      "text/plain": [
       "'forbid'"
      ]
     },
     "execution_count": 174,
     "metadata": {},
     "output_type": "execute_result"
    }
   ],
   "source": [
    "wordnetlemmatizer.lemmatize('forbade', 'v')"
   ]
  },
  {
   "cell_type": "markdown",
   "metadata": {},
   "source": [
    "### Bringing it all together"
   ]
  },
  {
   "cell_type": "markdown",
   "metadata": {},
   "source": [
    "#### [CountVectorizer](http://scikit-learn.org/stable/modules/generated/sklearn.feature_extraction.text.CountVectorizer.html)"
   ]
  },
  {
   "cell_type": "code",
   "execution_count": 182,
   "metadata": {},
   "outputs": [
    {
     "data": {
      "text/html": [
       "<div>\n",
       "<style scoped>\n",
       "    .dataframe tbody tr th:only-of-type {\n",
       "        vertical-align: middle;\n",
       "    }\n",
       "\n",
       "    .dataframe tbody tr th {\n",
       "        vertical-align: top;\n",
       "    }\n",
       "\n",
       "    .dataframe thead th {\n",
       "        text-align: right;\n",
       "    }\n",
       "</style>\n",
       "<table border=\"1\" class=\"dataframe\">\n",
       "  <thead>\n",
       "    <tr style=\"text-align: right;\">\n",
       "      <th></th>\n",
       "      <th>all</th>\n",
       "      <th>at</th>\n",
       "      <th>awesome</th>\n",
       "      <th>good</th>\n",
       "      <th>impressed</th>\n",
       "      <th>it</th>\n",
       "      <th>movie</th>\n",
       "      <th>must</th>\n",
       "      <th>not</th>\n",
       "      <th>of</th>\n",
       "      <th>overly</th>\n",
       "      <th>see</th>\n",
       "      <th>the</th>\n",
       "      <th>time</th>\n",
       "      <th>was</th>\n",
       "      <th>wasn</th>\n",
       "      <th>waste</th>\n",
       "      <th>with</th>\n",
       "    </tr>\n",
       "  </thead>\n",
       "  <tbody>\n",
       "    <tr>\n",
       "      <th>0</th>\n",
       "      <td>0</td>\n",
       "      <td>0</td>\n",
       "      <td>1</td>\n",
       "      <td>0</td>\n",
       "      <td>0</td>\n",
       "      <td>0</td>\n",
       "      <td>1</td>\n",
       "      <td>1</td>\n",
       "      <td>0</td>\n",
       "      <td>0</td>\n",
       "      <td>0</td>\n",
       "      <td>1</td>\n",
       "      <td>0</td>\n",
       "      <td>0</td>\n",
       "      <td>1</td>\n",
       "      <td>0</td>\n",
       "      <td>0</td>\n",
       "      <td>0</td>\n",
       "    </tr>\n",
       "    <tr>\n",
       "      <th>1</th>\n",
       "      <td>1</td>\n",
       "      <td>1</td>\n",
       "      <td>0</td>\n",
       "      <td>0</td>\n",
       "      <td>1</td>\n",
       "      <td>0</td>\n",
       "      <td>1</td>\n",
       "      <td>0</td>\n",
       "      <td>0</td>\n",
       "      <td>0</td>\n",
       "      <td>1</td>\n",
       "      <td>0</td>\n",
       "      <td>1</td>\n",
       "      <td>0</td>\n",
       "      <td>0</td>\n",
       "      <td>1</td>\n",
       "      <td>0</td>\n",
       "      <td>1</td>\n",
       "    </tr>\n",
       "    <tr>\n",
       "      <th>2</th>\n",
       "      <td>1</td>\n",
       "      <td>1</td>\n",
       "      <td>0</td>\n",
       "      <td>1</td>\n",
       "      <td>0</td>\n",
       "      <td>1</td>\n",
       "      <td>1</td>\n",
       "      <td>0</td>\n",
       "      <td>1</td>\n",
       "      <td>1</td>\n",
       "      <td>0</td>\n",
       "      <td>0</td>\n",
       "      <td>1</td>\n",
       "      <td>1</td>\n",
       "      <td>2</td>\n",
       "      <td>0</td>\n",
       "      <td>1</td>\n",
       "      <td>0</td>\n",
       "    </tr>\n",
       "  </tbody>\n",
       "</table>\n",
       "</div>"
      ],
      "text/plain": [
       "   all  at  awesome  good  impressed  it  movie  must  not  of  overly  see  \\\n",
       "0    0   0        1     0          0   0      1     1    0   0       0    1   \n",
       "1    1   1        0     0          1   0      1     0    0   0       1    0   \n",
       "2    1   1        0     1          0   1      1     0    1   1       0    0   \n",
       "\n",
       "   the  time  was  wasn  waste  with  \n",
       "0    0     0    1     0      0     0  \n",
       "1    1     0    0     1      0     1  \n",
       "2    1     1    2     0      1     0  "
      ]
     },
     "execution_count": 182,
     "metadata": {},
     "output_type": "execute_result"
    }
   ],
   "source": [
    "cv = CountVectorizer()\n",
    "a = cv.fit_transform(corpus)\n",
    "pd.DataFrame(a.todense(), columns=cv.get_feature_names()) "
   ]
  },
  {
   "cell_type": "code",
   "execution_count": 183,
   "metadata": {},
   "outputs": [
    {
     "data": {
      "text/html": [
       "<div>\n",
       "<style scoped>\n",
       "    .dataframe tbody tr th:only-of-type {\n",
       "        vertical-align: middle;\n",
       "    }\n",
       "\n",
       "    .dataframe tbody tr th {\n",
       "        vertical-align: top;\n",
       "    }\n",
       "\n",
       "    .dataframe thead th {\n",
       "        text-align: right;\n",
       "    }\n",
       "</style>\n",
       "<table border=\"1\" class=\"dataframe\">\n",
       "  <thead>\n",
       "    <tr style=\"text-align: right;\">\n",
       "      <th></th>\n",
       "      <th>all</th>\n",
       "      <th>at</th>\n",
       "      <th>awesome</th>\n",
       "      <th>good</th>\n",
       "      <th>impressed</th>\n",
       "      <th>it</th>\n",
       "      <th>movie</th>\n",
       "      <th>must</th>\n",
       "      <th>not</th>\n",
       "      <th>of</th>\n",
       "      <th>overly</th>\n",
       "      <th>see</th>\n",
       "      <th>the</th>\n",
       "      <th>time</th>\n",
       "      <th>was</th>\n",
       "      <th>wasn</th>\n",
       "      <th>waste</th>\n",
       "      <th>with</th>\n",
       "    </tr>\n",
       "  </thead>\n",
       "  <tbody>\n",
       "    <tr>\n",
       "      <th>0</th>\n",
       "      <td>0</td>\n",
       "      <td>0</td>\n",
       "      <td>1</td>\n",
       "      <td>0</td>\n",
       "      <td>0</td>\n",
       "      <td>0</td>\n",
       "      <td>1</td>\n",
       "      <td>1</td>\n",
       "      <td>0</td>\n",
       "      <td>0</td>\n",
       "      <td>0</td>\n",
       "      <td>1</td>\n",
       "      <td>0</td>\n",
       "      <td>0</td>\n",
       "      <td>1</td>\n",
       "      <td>0</td>\n",
       "      <td>0</td>\n",
       "      <td>0</td>\n",
       "    </tr>\n",
       "    <tr>\n",
       "      <th>1</th>\n",
       "      <td>1</td>\n",
       "      <td>1</td>\n",
       "      <td>0</td>\n",
       "      <td>0</td>\n",
       "      <td>1</td>\n",
       "      <td>0</td>\n",
       "      <td>1</td>\n",
       "      <td>0</td>\n",
       "      <td>0</td>\n",
       "      <td>0</td>\n",
       "      <td>1</td>\n",
       "      <td>0</td>\n",
       "      <td>1</td>\n",
       "      <td>0</td>\n",
       "      <td>0</td>\n",
       "      <td>1</td>\n",
       "      <td>0</td>\n",
       "      <td>1</td>\n",
       "    </tr>\n",
       "    <tr>\n",
       "      <th>2</th>\n",
       "      <td>1</td>\n",
       "      <td>1</td>\n",
       "      <td>0</td>\n",
       "      <td>1</td>\n",
       "      <td>0</td>\n",
       "      <td>1</td>\n",
       "      <td>1</td>\n",
       "      <td>0</td>\n",
       "      <td>1</td>\n",
       "      <td>1</td>\n",
       "      <td>0</td>\n",
       "      <td>0</td>\n",
       "      <td>1</td>\n",
       "      <td>1</td>\n",
       "      <td>1</td>\n",
       "      <td>0</td>\n",
       "      <td>1</td>\n",
       "      <td>0</td>\n",
       "    </tr>\n",
       "  </tbody>\n",
       "</table>\n",
       "</div>"
      ],
      "text/plain": [
       "   all  at  awesome  good  impressed  it  movie  must  not  of  overly  see  \\\n",
       "0    0   0        1     0          0   0      1     1    0   0       0    1   \n",
       "1    1   1        0     0          1   0      1     0    0   0       1    0   \n",
       "2    1   1        0     1          0   1      1     0    1   1       0    0   \n",
       "\n",
       "   the  time  was  wasn  waste  with  \n",
       "0    0     0    1     0      0     0  \n",
       "1    1     0    0     1      0     1  \n",
       "2    1     1    1     0      1     0  "
      ]
     },
     "execution_count": 183,
     "metadata": {},
     "output_type": "execute_result"
    }
   ],
   "source": [
    "# binary, jusy saying\n",
    "cv = CountVectorizer(binary=True)\n",
    "a = cv.fit_transform(corpus)\n",
    "pd.DataFrame(a.todense(), columns=cv.get_feature_names()) "
   ]
  },
  {
   "cell_type": "code",
   "execution_count": 187,
   "metadata": {},
   "outputs": [
    {
     "data": {
      "text/html": [
       "<div>\n",
       "<style scoped>\n",
       "    .dataframe tbody tr th:only-of-type {\n",
       "        vertical-align: middle;\n",
       "    }\n",
       "\n",
       "    .dataframe tbody tr th {\n",
       "        vertical-align: top;\n",
       "    }\n",
       "\n",
       "    .dataframe thead th {\n",
       "        text-align: right;\n",
       "    }\n",
       "</style>\n",
       "<table border=\"1\" class=\"dataframe\">\n",
       "  <thead>\n",
       "    <tr style=\"text-align: right;\">\n",
       "      <th></th>\n",
       "      <th>awesome</th>\n",
       "      <th>good</th>\n",
       "      <th>impressed</th>\n",
       "      <th>movie</th>\n",
       "      <th>overly</th>\n",
       "      <th>time</th>\n",
       "      <th>wasn</th>\n",
       "      <th>waste</th>\n",
       "    </tr>\n",
       "  </thead>\n",
       "  <tbody>\n",
       "    <tr>\n",
       "      <th>0</th>\n",
       "      <td>1</td>\n",
       "      <td>0</td>\n",
       "      <td>0</td>\n",
       "      <td>1</td>\n",
       "      <td>0</td>\n",
       "      <td>0</td>\n",
       "      <td>0</td>\n",
       "      <td>0</td>\n",
       "    </tr>\n",
       "    <tr>\n",
       "      <th>1</th>\n",
       "      <td>0</td>\n",
       "      <td>0</td>\n",
       "      <td>1</td>\n",
       "      <td>1</td>\n",
       "      <td>1</td>\n",
       "      <td>0</td>\n",
       "      <td>1</td>\n",
       "      <td>0</td>\n",
       "    </tr>\n",
       "    <tr>\n",
       "      <th>2</th>\n",
       "      <td>0</td>\n",
       "      <td>1</td>\n",
       "      <td>0</td>\n",
       "      <td>1</td>\n",
       "      <td>0</td>\n",
       "      <td>1</td>\n",
       "      <td>0</td>\n",
       "      <td>1</td>\n",
       "    </tr>\n",
       "  </tbody>\n",
       "</table>\n",
       "</div>"
      ],
      "text/plain": [
       "   awesome  good  impressed  movie  overly  time  wasn  waste\n",
       "0        1     0          0      1       0     0     0      0\n",
       "1        0     0          1      1       1     0     1      0\n",
       "2        0     1          0      1       0     1     0      1"
      ]
     },
     "execution_count": 187,
     "metadata": {},
     "output_type": "execute_result"
    }
   ],
   "source": [
    "cv = CountVectorizer(stop_words='english')\n",
    "a = cv.fit_transform(corpus)\n",
    "pd.DataFrame(a.todense(), columns=cv.get_feature_names())"
   ]
  },
  {
   "cell_type": "code",
   "execution_count": 184,
   "metadata": {},
   "outputs": [
    {
     "data": {
      "text/html": [
       "<div>\n",
       "<style scoped>\n",
       "    .dataframe tbody tr th:only-of-type {\n",
       "        vertical-align: middle;\n",
       "    }\n",
       "\n",
       "    .dataframe tbody tr th {\n",
       "        vertical-align: top;\n",
       "    }\n",
       "\n",
       "    .dataframe thead th {\n",
       "        text-align: right;\n",
       "    }\n",
       "</style>\n",
       "<table border=\"1\" class=\"dataframe\">\n",
       "  <thead>\n",
       "    <tr style=\"text-align: right;\">\n",
       "      <th></th>\n",
       "      <th>a</th>\n",
       "      <th>all</th>\n",
       "      <th>all,</th>\n",
       "      <th>at</th>\n",
       "      <th>awesome,</th>\n",
       "      <th>good</th>\n",
       "      <th>impressed</th>\n",
       "      <th>it</th>\n",
       "      <th>movie</th>\n",
       "      <th>must</th>\n",
       "      <th>not</th>\n",
       "      <th>of</th>\n",
       "      <th>overly</th>\n",
       "      <th>see</th>\n",
       "      <th>the</th>\n",
       "      <th>time</th>\n",
       "      <th>was</th>\n",
       "      <th>wasn't</th>\n",
       "      <th>waste</th>\n",
       "      <th>with</th>\n",
       "    </tr>\n",
       "  </thead>\n",
       "  <tbody>\n",
       "    <tr>\n",
       "      <th>0</th>\n",
       "      <td>1</td>\n",
       "      <td>0</td>\n",
       "      <td>0</td>\n",
       "      <td>0</td>\n",
       "      <td>1</td>\n",
       "      <td>0</td>\n",
       "      <td>0</td>\n",
       "      <td>0</td>\n",
       "      <td>1</td>\n",
       "      <td>1</td>\n",
       "      <td>0</td>\n",
       "      <td>0</td>\n",
       "      <td>0</td>\n",
       "      <td>1</td>\n",
       "      <td>0</td>\n",
       "      <td>0</td>\n",
       "      <td>1</td>\n",
       "      <td>0</td>\n",
       "      <td>0</td>\n",
       "      <td>0</td>\n",
       "    </tr>\n",
       "    <tr>\n",
       "      <th>1</th>\n",
       "      <td>0</td>\n",
       "      <td>1</td>\n",
       "      <td>0</td>\n",
       "      <td>1</td>\n",
       "      <td>0</td>\n",
       "      <td>0</td>\n",
       "      <td>1</td>\n",
       "      <td>0</td>\n",
       "      <td>1</td>\n",
       "      <td>0</td>\n",
       "      <td>0</td>\n",
       "      <td>0</td>\n",
       "      <td>1</td>\n",
       "      <td>0</td>\n",
       "      <td>1</td>\n",
       "      <td>0</td>\n",
       "      <td>0</td>\n",
       "      <td>1</td>\n",
       "      <td>0</td>\n",
       "      <td>1</td>\n",
       "    </tr>\n",
       "    <tr>\n",
       "      <th>2</th>\n",
       "      <td>1</td>\n",
       "      <td>0</td>\n",
       "      <td>1</td>\n",
       "      <td>1</td>\n",
       "      <td>0</td>\n",
       "      <td>1</td>\n",
       "      <td>0</td>\n",
       "      <td>1</td>\n",
       "      <td>1</td>\n",
       "      <td>0</td>\n",
       "      <td>1</td>\n",
       "      <td>1</td>\n",
       "      <td>0</td>\n",
       "      <td>0</td>\n",
       "      <td>1</td>\n",
       "      <td>1</td>\n",
       "      <td>2</td>\n",
       "      <td>0</td>\n",
       "      <td>1</td>\n",
       "      <td>0</td>\n",
       "    </tr>\n",
       "  </tbody>\n",
       "</table>\n",
       "</div>"
      ],
      "text/plain": [
       "   a  all  all,  at  awesome,  good  impressed  it  movie  must  not  of  \\\n",
       "0  1    0     0   0         1     0          0   0      1     1    0   0   \n",
       "1  0    1     0   1         0     0          1   0      1     0    0   0   \n",
       "2  1    0     1   1         0     1          0   1      1     0    1   1   \n",
       "\n",
       "   overly  see  the  time  was  wasn't  waste  with  \n",
       "0       0    1    0     0    1       0      0     0  \n",
       "1       1    0    1     0    0       1      0     1  \n",
       "2       0    0    1     1    2       0      1     0  "
      ]
     },
     "execution_count": 184,
     "metadata": {},
     "output_type": "execute_result"
    }
   ],
   "source": [
    "# exact same tokenizer as before\n",
    "cv = CountVectorizer(tokenizer=lambda sentence: sentence.split())\n",
    "a = cv.fit_transform(corpus)\n",
    "pd.DataFrame(a.todense(), columns=cv.get_feature_names()) "
   ]
  },
  {
   "cell_type": "code",
   "execution_count": 185,
   "metadata": {},
   "outputs": [
    {
     "data": {
      "text/html": [
       "<div>\n",
       "<style scoped>\n",
       "    .dataframe tbody tr th:only-of-type {\n",
       "        vertical-align: middle;\n",
       "    }\n",
       "\n",
       "    .dataframe tbody tr th {\n",
       "        vertical-align: top;\n",
       "    }\n",
       "\n",
       "    .dataframe thead th {\n",
       "        text-align: right;\n",
       "    }\n",
       "</style>\n",
       "<table border=\"1\" class=\"dataframe\">\n",
       "  <thead>\n",
       "    <tr style=\"text-align: right;\">\n",
       "      <th></th>\n",
       "      <th>awesome</th>\n",
       "      <th>good</th>\n",
       "      <th>waste</th>\n",
       "    </tr>\n",
       "  </thead>\n",
       "  <tbody>\n",
       "    <tr>\n",
       "      <th>0</th>\n",
       "      <td>1</td>\n",
       "      <td>0</td>\n",
       "      <td>0</td>\n",
       "    </tr>\n",
       "    <tr>\n",
       "      <th>1</th>\n",
       "      <td>0</td>\n",
       "      <td>0</td>\n",
       "      <td>0</td>\n",
       "    </tr>\n",
       "    <tr>\n",
       "      <th>2</th>\n",
       "      <td>0</td>\n",
       "      <td>1</td>\n",
       "      <td>1</td>\n",
       "    </tr>\n",
       "  </tbody>\n",
       "</table>\n",
       "</div>"
      ],
      "text/plain": [
       "   awesome  good  waste\n",
       "0        1     0      0\n",
       "1        0     0      0\n",
       "2        0     1      1"
      ]
     },
     "execution_count": 185,
     "metadata": {},
     "output_type": "execute_result"
    }
   ],
   "source": [
    "cv = CountVectorizer(vocabulary={'awesome', 'good', 'waste'})\n",
    "a = cv.fit_transform(corpus)\n",
    "pd.DataFrame(a.todense(), columns=cv.get_feature_names()) "
   ]
  },
  {
   "cell_type": "markdown",
   "metadata": {},
   "source": [
    "#### N-grams"
   ]
  },
  {
   "cell_type": "code",
   "execution_count": 197,
   "metadata": {},
   "outputs": [
    {
     "data": {
      "text/plain": [
       "['movie', 'was', 'awesome', 'must', 'see']"
      ]
     },
     "execution_count": 197,
     "metadata": {},
     "output_type": "execute_result"
    }
   ],
   "source": [
    "unigrams = re.findall(token_pattern, corpus[0])\n",
    "unigrams"
   ]
  },
  {
   "cell_type": "code",
   "execution_count": 201,
   "metadata": {},
   "outputs": [
    {
     "data": {
      "text/plain": [
       "['movie was', 'was awesome', 'awesome must', 'must see']"
      ]
     },
     "execution_count": 201,
     "metadata": {},
     "output_type": "execute_result"
    }
   ],
   "source": [
    "[\n",
    "    ' '.join(unigrams[i:i+2])\n",
    "    for i in range(len(unigrams) - 1)\n",
    "]"
   ]
  },
  {
   "cell_type": "code",
   "execution_count": 204,
   "metadata": {},
   "outputs": [
    {
     "data": {
      "text/html": [
       "<div>\n",
       "<style scoped>\n",
       "    .dataframe tbody tr th:only-of-type {\n",
       "        vertical-align: middle;\n",
       "    }\n",
       "\n",
       "    .dataframe tbody tr th {\n",
       "        vertical-align: top;\n",
       "    }\n",
       "\n",
       "    .dataframe thead th {\n",
       "        text-align: right;\n",
       "    }\n",
       "</style>\n",
       "<table border=\"1\" class=\"dataframe\">\n",
       "  <thead>\n",
       "    <tr style=\"text-align: right;\">\n",
       "      <th></th>\n",
       "      <th>good waste</th>\n",
       "      <th>impressed movie</th>\n",
       "      <th>movie awesome</th>\n",
       "      <th>movie good</th>\n",
       "      <th>overly impressed</th>\n",
       "      <th>wasn overly</th>\n",
       "      <th>waste time</th>\n",
       "    </tr>\n",
       "  </thead>\n",
       "  <tbody>\n",
       "    <tr>\n",
       "      <th>0</th>\n",
       "      <td>0</td>\n",
       "      <td>0</td>\n",
       "      <td>1</td>\n",
       "      <td>0</td>\n",
       "      <td>0</td>\n",
       "      <td>0</td>\n",
       "      <td>0</td>\n",
       "    </tr>\n",
       "    <tr>\n",
       "      <th>1</th>\n",
       "      <td>0</td>\n",
       "      <td>1</td>\n",
       "      <td>0</td>\n",
       "      <td>0</td>\n",
       "      <td>1</td>\n",
       "      <td>1</td>\n",
       "      <td>0</td>\n",
       "    </tr>\n",
       "    <tr>\n",
       "      <th>2</th>\n",
       "      <td>1</td>\n",
       "      <td>0</td>\n",
       "      <td>0</td>\n",
       "      <td>1</td>\n",
       "      <td>0</td>\n",
       "      <td>0</td>\n",
       "      <td>1</td>\n",
       "    </tr>\n",
       "  </tbody>\n",
       "</table>\n",
       "</div>"
      ],
      "text/plain": [
       "   good waste  impressed movie  movie awesome  movie good  overly impressed  \\\n",
       "0           0                0              1           0                 0   \n",
       "1           0                1              0           0                 1   \n",
       "2           1                0              0           1                 0   \n",
       "\n",
       "   wasn overly  waste time  \n",
       "0            0           0  \n",
       "1            1           0  \n",
       "2            0           1  "
      ]
     },
     "execution_count": 204,
     "metadata": {},
     "output_type": "execute_result"
    }
   ],
   "source": [
    "cv = CountVectorizer(ngram_range=(2, 2), stop_words='english')\n",
    "a = cv.fit_transform(corpus)\n",
    "pd.DataFrame(a.todense(), columns=cv.get_feature_names())"
   ]
  },
  {
   "cell_type": "markdown",
   "metadata": {},
   "source": [
    "### [TfidfVectorizer](http://scikit-learn.org/stable/modules/generated/sklearn.feature_extraction.text.TfidfVectorizer.html)"
   ]
  },
  {
   "cell_type": "markdown",
   "metadata": {},
   "source": [
    "#### Inverse Document Frequency (IDF)"
   ]
  },
  {
   "cell_type": "code",
   "execution_count": 211,
   "metadata": {},
   "outputs": [],
   "source": [
    "def idf(docs, df, normalize=True):\n",
    "    normalizer = 1 if normalize else 0\n",
    "    return np.log((docs + normalizer) / (df + normalizer)) + 1"
   ]
  },
  {
   "cell_type": "code",
   "execution_count": 212,
   "metadata": {},
   "outputs": [
    {
     "data": {
      "text/plain": [
       "1.6931471805599454"
      ]
     },
     "execution_count": 212,
     "metadata": {},
     "output_type": "execute_result"
    }
   ],
   "source": [
    "idf(3, 1)"
   ]
  },
  {
   "cell_type": "code",
   "execution_count": 213,
   "metadata": {},
   "outputs": [
    {
     "data": {
      "text/plain": [
       "1.2876820724517808"
      ]
     },
     "execution_count": 213,
     "metadata": {},
     "output_type": "execute_result"
    }
   ],
   "source": [
    "idf(3, 2)"
   ]
  },
  {
   "cell_type": "code",
   "execution_count": 214,
   "metadata": {},
   "outputs": [
    {
     "data": {
      "text/plain": [
       "1.0"
      ]
     },
     "execution_count": 214,
     "metadata": {},
     "output_type": "execute_result"
    }
   ],
   "source": [
    "idf(3, 3)"
   ]
  },
  {
   "cell_type": "code",
   "execution_count": 216,
   "metadata": {},
   "outputs": [
    {
     "data": {
      "text/plain": [
       "2.7047480922384253"
      ]
     },
     "execution_count": 216,
     "metadata": {},
     "output_type": "execute_result"
    }
   ],
   "source": [
    "idf(10, 1)"
   ]
  },
  {
   "cell_type": "code",
   "execution_count": 222,
   "metadata": {},
   "outputs": [
    {
     "data": {
      "image/png": "[encoded data removed]",
      "text/plain": [
       "<Figure size 432x288 with 1 Axes>"
      ]
     },
     "metadata": {},
     "output_type": "display_data"
    }
   ],
   "source": [
    "for docs in [10, 100, 200]:\n",
    "    docs_range = range(0, docs + 1)\n",
    "    plt.plot(docs_range, [idf(docs, d) for d in docs_range], label='Docs {}'.format(docs))\n",
    "    \n",
    "plt.xlabel('Number of appearances')\n",
    "plt.ylabel('Inverse Document Frequency (IDF)')\n",
    "plt.legend();"
   ]
  },
  {
   "cell_type": "code",
   "execution_count": 241,
   "metadata": {},
   "outputs": [
    {
     "data": {
      "text/plain": [
       "'movie was awesome, a must see'"
      ]
     },
     "execution_count": 241,
     "metadata": {},
     "output_type": "execute_result"
    }
   ],
   "source": [
    "corpus[0]"
   ]
  },
  {
   "cell_type": "code",
   "execution_count": 234,
   "metadata": {},
   "outputs": [
    {
     "data": {
      "text/plain": [
       "array([1.        , 1.28768207, 1.69314718, 1.69314718, 1.69314718])"
      ]
     },
     "execution_count": 234,
     "metadata": {},
     "output_type": "execute_result"
    }
   ],
   "source": [
    "# l2 normalization\n",
    "idfs = np.array([1 * idf(3, 3),  # movie\n",
    "                 1 * idf(3, 2),  # was\n",
    "                 1 * idf(3, 1),  # awesome\n",
    "                 1 * idf(3, 1),  # must\n",
    "                 1 * idf(3, 1)  # see\n",
    "                ])\n",
    "idfs"
   ]
  },
  {
   "cell_type": "code",
   "execution_count": 235,
   "metadata": {},
   "outputs": [
    {
     "data": {
      "text/plain": [
       "array([0.29803159, 0.38376993, 0.50461134, 0.50461134, 0.50461134])"
      ]
     },
     "execution_count": 235,
     "metadata": {},
     "output_type": "execute_result"
    }
   ],
   "source": [
    "idfs / np.linalg.norm(idfs) "
   ]
  },
  {
   "cell_type": "code",
   "execution_count": 31,
   "metadata": {},
   "outputs": [
    {
     "data": {
      "text/html": [
       "<div>\n",
       "<style scoped>\n",
       "    .dataframe tbody tr th:only-of-type {\n",
       "        vertical-align: middle;\n",
       "    }\n",
       "\n",
       "    .dataframe tbody tr th {\n",
       "        vertical-align: top;\n",
       "    }\n",
       "\n",
       "    .dataframe thead th {\n",
       "        text-align: right;\n",
       "    }\n",
       "</style>\n",
       "<table border=\"1\" class=\"dataframe\">\n",
       "  <thead>\n",
       "    <tr style=\"text-align: right;\">\n",
       "      <th></th>\n",
       "      <th>all</th>\n",
       "      <th>at</th>\n",
       "      <th>awesome</th>\n",
       "      <th>good</th>\n",
       "      <th>impressed</th>\n",
       "      <th>it</th>\n",
       "      <th>movie</th>\n",
       "      <th>must</th>\n",
       "      <th>not</th>\n",
       "      <th>of</th>\n",
       "      <th>overly</th>\n",
       "      <th>see</th>\n",
       "      <th>the</th>\n",
       "      <th>time</th>\n",
       "      <th>was</th>\n",
       "      <th>wasn</th>\n",
       "      <th>waste</th>\n",
       "      <th>with</th>\n",
       "    </tr>\n",
       "  </thead>\n",
       "  <tbody>\n",
       "    <tr>\n",
       "      <th>0</th>\n",
       "      <td>0</td>\n",
       "      <td>0</td>\n",
       "      <td>1</td>\n",
       "      <td>0</td>\n",
       "      <td>0</td>\n",
       "      <td>0</td>\n",
       "      <td>1</td>\n",
       "      <td>1</td>\n",
       "      <td>0</td>\n",
       "      <td>0</td>\n",
       "      <td>0</td>\n",
       "      <td>1</td>\n",
       "      <td>0</td>\n",
       "      <td>0</td>\n",
       "      <td>1</td>\n",
       "      <td>0</td>\n",
       "      <td>0</td>\n",
       "      <td>0</td>\n",
       "    </tr>\n",
       "    <tr>\n",
       "      <th>1</th>\n",
       "      <td>0</td>\n",
       "      <td>0</td>\n",
       "      <td>0</td>\n",
       "      <td>0</td>\n",
       "      <td>1</td>\n",
       "      <td>0</td>\n",
       "      <td>1</td>\n",
       "      <td>0</td>\n",
       "      <td>0</td>\n",
       "      <td>0</td>\n",
       "      <td>1</td>\n",
       "      <td>0</td>\n",
       "      <td>1</td>\n",
       "      <td>0</td>\n",
       "      <td>0</td>\n",
       "      <td>1</td>\n",
       "      <td>0</td>\n",
       "      <td>1</td>\n",
       "    </tr>\n",
       "    <tr>\n",
       "      <th>2</th>\n",
       "      <td>1</td>\n",
       "      <td>1</td>\n",
       "      <td>0</td>\n",
       "      <td>1</td>\n",
       "      <td>0</td>\n",
       "      <td>1</td>\n",
       "      <td>1</td>\n",
       "      <td>0</td>\n",
       "      <td>1</td>\n",
       "      <td>1</td>\n",
       "      <td>0</td>\n",
       "      <td>0</td>\n",
       "      <td>1</td>\n",
       "      <td>1</td>\n",
       "      <td>2</td>\n",
       "      <td>0</td>\n",
       "      <td>1</td>\n",
       "      <td>0</td>\n",
       "    </tr>\n",
       "  </tbody>\n",
       "</table>\n",
       "</div>"
      ],
      "text/plain": [
       "   all  at  awesome  good  impressed  it  movie  must  not  of  overly  see  \\\n",
       "0    0   0        1     0          0   0      1     1    0   0       0    1   \n",
       "1    0   0        0     0          1   0      1     0    0   0       1    0   \n",
       "2    1   1        0     1          0   1      1     0    1   1       0    0   \n",
       "\n",
       "   the  time  was  wasn  waste  with  \n",
       "0    0     0    1     0      0     0  \n",
       "1    1     0    0     1      0     1  \n",
       "2    1     1    2     0      1     0  "
      ]
     },
     "execution_count": 31,
     "metadata": {},
     "output_type": "execute_result"
    }
   ],
   "source": [
    "tfidf = CountVectorizer()\n",
    "a = tfidf.fit_transform(corpus)\n",
    "pd.DataFrame(a.todense(), columns=tfidf.get_feature_names())"
   ]
  },
  {
   "cell_type": "code",
   "execution_count": 255,
   "metadata": {},
   "outputs": [
    {
     "data": {
      "text/html": [
       "<div>\n",
       "<style scoped>\n",
       "    .dataframe tbody tr th:only-of-type {\n",
       "        vertical-align: middle;\n",
       "    }\n",
       "\n",
       "    .dataframe tbody tr th {\n",
       "        vertical-align: top;\n",
       "    }\n",
       "\n",
       "    .dataframe thead th {\n",
       "        text-align: right;\n",
       "    }\n",
       "</style>\n",
       "<table border=\"1\" class=\"dataframe\">\n",
       "  <thead>\n",
       "    <tr style=\"text-align: right;\">\n",
       "      <th></th>\n",
       "      <th>all</th>\n",
       "      <th>at</th>\n",
       "      <th>awesome</th>\n",
       "      <th>good</th>\n",
       "      <th>impressed</th>\n",
       "      <th>it</th>\n",
       "      <th>movie</th>\n",
       "      <th>must</th>\n",
       "      <th>not</th>\n",
       "      <th>of</th>\n",
       "      <th>overly</th>\n",
       "      <th>see</th>\n",
       "      <th>the</th>\n",
       "      <th>time</th>\n",
       "      <th>was</th>\n",
       "      <th>wasn</th>\n",
       "      <th>waste</th>\n",
       "      <th>with</th>\n",
       "    </tr>\n",
       "  </thead>\n",
       "  <tbody>\n",
       "    <tr>\n",
       "      <th>0</th>\n",
       "      <td>0.000000</td>\n",
       "      <td>0.000000</td>\n",
       "      <td>0.504611</td>\n",
       "      <td>0.000000</td>\n",
       "      <td>0.000000</td>\n",
       "      <td>0.000000</td>\n",
       "      <td>0.298032</td>\n",
       "      <td>0.504611</td>\n",
       "      <td>0.000000</td>\n",
       "      <td>0.000000</td>\n",
       "      <td>0.000000</td>\n",
       "      <td>0.504611</td>\n",
       "      <td>0.000000</td>\n",
       "      <td>0.000000</td>\n",
       "      <td>0.383770</td>\n",
       "      <td>0.000000</td>\n",
       "      <td>0.000000</td>\n",
       "      <td>0.000000</td>\n",
       "    </tr>\n",
       "    <tr>\n",
       "      <th>1</th>\n",
       "      <td>0.308332</td>\n",
       "      <td>0.308332</td>\n",
       "      <td>0.000000</td>\n",
       "      <td>0.000000</td>\n",
       "      <td>0.405419</td>\n",
       "      <td>0.000000</td>\n",
       "      <td>0.239447</td>\n",
       "      <td>0.000000</td>\n",
       "      <td>0.000000</td>\n",
       "      <td>0.000000</td>\n",
       "      <td>0.405419</td>\n",
       "      <td>0.000000</td>\n",
       "      <td>0.308332</td>\n",
       "      <td>0.000000</td>\n",
       "      <td>0.000000</td>\n",
       "      <td>0.405419</td>\n",
       "      <td>0.000000</td>\n",
       "      <td>0.405419</td>\n",
       "    </tr>\n",
       "    <tr>\n",
       "      <th>2</th>\n",
       "      <td>0.235856</td>\n",
       "      <td>0.235856</td>\n",
       "      <td>0.000000</td>\n",
       "      <td>0.310122</td>\n",
       "      <td>0.000000</td>\n",
       "      <td>0.310122</td>\n",
       "      <td>0.183163</td>\n",
       "      <td>0.000000</td>\n",
       "      <td>0.310122</td>\n",
       "      <td>0.310122</td>\n",
       "      <td>0.000000</td>\n",
       "      <td>0.000000</td>\n",
       "      <td>0.235856</td>\n",
       "      <td>0.310122</td>\n",
       "      <td>0.471712</td>\n",
       "      <td>0.000000</td>\n",
       "      <td>0.310122</td>\n",
       "      <td>0.000000</td>\n",
       "    </tr>\n",
       "  </tbody>\n",
       "</table>\n",
       "</div>"
      ],
      "text/plain": [
       "        all        at   awesome      good  impressed        it     movie  \\\n",
       "0  0.000000  0.000000  0.504611  0.000000   0.000000  0.000000  0.298032   \n",
       "1  0.308332  0.308332  0.000000  0.000000   0.405419  0.000000  0.239447   \n",
       "2  0.235856  0.235856  0.000000  0.310122   0.000000  0.310122  0.183163   \n",
       "\n",
       "       must       not        of    overly       see       the      time  \\\n",
       "0  0.504611  0.000000  0.000000  0.000000  0.504611  0.000000  0.000000   \n",
       "1  0.000000  0.000000  0.000000  0.405419  0.000000  0.308332  0.000000   \n",
       "2  0.000000  0.310122  0.310122  0.000000  0.000000  0.235856  0.310122   \n",
       "\n",
       "        was      wasn     waste      with  \n",
       "0  0.383770  0.000000  0.000000  0.000000  \n",
       "1  0.000000  0.405419  0.000000  0.405419  \n",
       "2  0.471712  0.000000  0.310122  0.000000  "
      ]
     },
     "execution_count": 255,
     "metadata": {},
     "output_type": "execute_result"
    }
   ],
   "source": [
    "tfidf = TfidfVectorizer()\n",
    "a = tfidf.fit_transform(corpus)\n",
    "pd.DataFrame(a.todense(), columns=tfidf.get_feature_names())"
   ]
  },
  {
   "cell_type": "markdown",
   "metadata": {},
   "source": [
    "#### [spaCy](https://spacy.io/)"
   ]
  },
  {
   "cell_type": "code",
   "execution_count": 278,
   "metadata": {},
   "outputs": [],
   "source": [
    "nlp = English()"
   ]
  },
  {
   "cell_type": "code",
   "execution_count": 283,
   "metadata": {},
   "outputs": [
    {
     "data": {
      "text/plain": [
       "'i forbade him from getting involved in the marketing scheme'"
      ]
     },
     "execution_count": 283,
     "metadata": {},
     "output_type": "execute_result"
    }
   ],
   "source": [
    "sentence"
   ]
  },
  {
   "cell_type": "code",
   "execution_count": 282,
   "metadata": {},
   "outputs": [
    {
     "data": {
      "text/plain": [
       "['i',\n",
       " 'forbid',\n",
       " 'him',\n",
       " 'from',\n",
       " 'get',\n",
       " 'involve',\n",
       " 'in',\n",
       " 'the',\n",
       " 'market',\n",
       " 'scheme']"
      ]
     },
     "execution_count": 282,
     "metadata": {},
     "output_type": "execute_result"
    }
   ],
   "source": [
    "[w.lemma_ for w in nlp(sentence)]"
   ]
  },
  {
   "cell_type": "code",
   "execution_count": 305,
   "metadata": {},
   "outputs": [
    {
     "data": {
      "text/html": [
       "<div>\n",
       "<style scoped>\n",
       "    .dataframe tbody tr th:only-of-type {\n",
       "        vertical-align: middle;\n",
       "    }\n",
       "\n",
       "    .dataframe tbody tr th {\n",
       "        vertical-align: top;\n",
       "    }\n",
       "\n",
       "    .dataframe thead th {\n",
       "        text-align: right;\n",
       "    }\n",
       "</style>\n",
       "<table border=\"1\" class=\"dataframe\">\n",
       "  <thead>\n",
       "    <tr style=\"text-align: right;\">\n",
       "      <th></th>\n",
       "      <th>awesome</th>\n",
       "      <th>good</th>\n",
       "      <th>impress</th>\n",
       "      <th>movie</th>\n",
       "      <th>must</th>\n",
       "      <th>overly</th>\n",
       "      <th>see</th>\n",
       "      <th>time</th>\n",
       "      <th>waste</th>\n",
       "    </tr>\n",
       "  </thead>\n",
       "  <tbody>\n",
       "    <tr>\n",
       "      <th>0</th>\n",
       "      <td>1</td>\n",
       "      <td>0</td>\n",
       "      <td>0</td>\n",
       "      <td>1</td>\n",
       "      <td>1</td>\n",
       "      <td>0</td>\n",
       "      <td>1</td>\n",
       "      <td>0</td>\n",
       "      <td>0</td>\n",
       "    </tr>\n",
       "    <tr>\n",
       "      <th>1</th>\n",
       "      <td>0</td>\n",
       "      <td>0</td>\n",
       "      <td>1</td>\n",
       "      <td>1</td>\n",
       "      <td>0</td>\n",
       "      <td>1</td>\n",
       "      <td>0</td>\n",
       "      <td>0</td>\n",
       "      <td>0</td>\n",
       "    </tr>\n",
       "    <tr>\n",
       "      <th>2</th>\n",
       "      <td>0</td>\n",
       "      <td>1</td>\n",
       "      <td>0</td>\n",
       "      <td>1</td>\n",
       "      <td>0</td>\n",
       "      <td>0</td>\n",
       "      <td>0</td>\n",
       "      <td>1</td>\n",
       "      <td>1</td>\n",
       "    </tr>\n",
       "  </tbody>\n",
       "</table>\n",
       "</div>"
      ],
      "text/plain": [
       "   awesome  good  impress  movie  must  overly  see  time  waste\n",
       "0        1     0        0      1     1       0    1     0      0\n",
       "1        0     0        1      1     0       1    0     0      0\n",
       "2        0     1        0      1     0       0    0     1      1"
      ]
     },
     "execution_count": 305,
     "metadata": {},
     "output_type": "execute_result"
    }
   ],
   "source": [
    "def tokenizer(doc):\n",
    "    parser = English()\n",
    "    tokens = parser(doc)\n",
    "    \n",
    "    # remove\n",
    "    stop_words = set(stopwords.words('english'))\n",
    "    punctuation = set(string.punctuation)\n",
    "    stop = stop_words.union(punctuation)\n",
    "\n",
    "    tokens = [token.lemma_.lower().strip()\n",
    "              for token in tokens]\n",
    "    return [token for token in tokens if token not in stop]\n",
    "\n",
    "cv = CountVectorizer(tokenizer=tokenizer)\n",
    "a = cv.fit_transform(corpus)\n",
    "pd.DataFrame(a.todense(), columns=cv.get_feature_names())"
   ]
  },
  {
   "cell_type": "markdown",
   "metadata": {},
   "source": [
    "## Modeling"
   ]
  },
  {
   "cell_type": "markdown",
   "metadata": {},
   "source": [
    "### Traditional machine learning"
   ]
  },
  {
   "cell_type": "markdown",
   "metadata": {},
   "source": [
    "#### [Logistic Regression](http://scikit-learn.org/stable/modules/generated/sklearn.linear_model.LogisticRegression.html)"
   ]
  },
  {
   "cell_type": "code",
   "execution_count": 315,
   "metadata": {},
   "outputs": [],
   "source": [
    "# doc1 (pos): movie was awesome, a must see\n",
    "# doc2 (neg): wasn't overly impressed with the movie at all\n",
    "# doc3 (neg): the movie was not good at all, it was a waste of time\n",
    "tfidf = TfidfVectorizer()\n",
    "x = tfidf.fit_transform(corpus).toarray()\n",
    "y = [1, 0, 0]"
   ]
  },
  {
   "cell_type": "code",
   "execution_count": 316,
   "metadata": {},
   "outputs": [
    {
     "data": {
      "text/plain": [
       "array([1, 0, 0])"
      ]
     },
     "execution_count": 316,
     "metadata": {},
     "output_type": "execute_result"
    }
   ],
   "source": [
    "lr = LogisticRegression()\n",
    "lr.fit(x, y)\n",
    "lr.predict(x)"
   ]
  },
  {
   "cell_type": "code",
   "execution_count": 322,
   "metadata": {},
   "outputs": [
    {
     "data": {
      "text/plain": [
       "numpy.ndarray"
      ]
     },
     "execution_count": 322,
     "metadata": {},
     "output_type": "execute_result"
    }
   ],
   "source": [
    "type(x)"
   ]
  },
  {
   "cell_type": "code",
   "execution_count": 321,
   "metadata": {},
   "outputs": [
    {
     "data": {
      "text/plain": [
       "(3, 18)"
      ]
     },
     "execution_count": 321,
     "metadata": {},
     "output_type": "execute_result"
    }
   ],
   "source": [
    "x.shape"
   ]
  },
  {
   "cell_type": "code",
   "execution_count": 317,
   "metadata": {},
   "outputs": [
    {
     "data": {
      "text/plain": [
       "(18,)"
      ]
     },
     "execution_count": 317,
     "metadata": {},
     "output_type": "execute_result"
    }
   ],
   "source": [
    "lr.coef_[0].shape"
   ]
  },
  {
   "cell_type": "code",
   "execution_count": 326,
   "metadata": {},
   "outputs": [],
   "source": [
    "def plot_lr_coefficients(tfidf, corpus, y):\n",
    "    a = tfidf.fit_transform(corpus)\n",
    "    x = tfidf.transform(corpus).toarray()\n",
    "    lr = LogisticRegression()\n",
    "    lr.fit(x, y)\n",
    "    df = pd.DataFrame({'Token': tfidf.get_feature_names(), 'Coefficient': lr.coef_[0]})\n",
    "    df['Positive'] = df.Coefficient > 0\n",
    "    colors = df.Positive.map({True: 'b', False: 'r'})\n",
    "    df.set_index('Token').plot(kind='barh', color=[colors], legend=False, figsize=(8, 6))\n",
    "    plt.xlabel('Coefficient')"
   ]
  },
  {
   "cell_type": "code",
   "execution_count": 328,
   "metadata": {},
   "outputs": [
    {
     "data": {
      "image/png": "[encoded data removed]",
      "text/plain": [
       "<Figure size 576x432 with 1 Axes>"
      ]
     },
     "metadata": {},
     "output_type": "display_data"
    }
   ],
   "source": [
    "plot_lr_coefficients(TfidfVectorizer(), corpus, y)"
   ]
  },
  {
   "cell_type": "code",
   "execution_count": 331,
   "metadata": {},
   "outputs": [
    {
     "data": {
      "image/png": "[encoded data removed]",
      "text/plain": [
       "<Figure size 576x432 with 1 Axes>"
      ]
     },
     "metadata": {},
     "output_type": "display_data"
    }
   ],
   "source": [
    "plot_lr_coefficients(TfidfVectorizer(ngram_range=(1, 2)), corpus, y)"
   ]
  },
  {
   "cell_type": "markdown",
   "metadata": {},
   "source": [
    "### IMDB review sentiment data"
   ]
  },
  {
   "cell_type": "code",
   "execution_count": 442,
   "metadata": {},
   "outputs": [
    {
     "name": "stdout",
     "output_type": "stream",
     "text": [
      "--2018-05-15 18:45:20--  http://ai.stanford.edu/~amaas/data/sentiment/aclImdb_v1.tar.gz\n",
      "Resolving ai.stanford.edu... 171.64.68.10\n",
      "Connecting to ai.stanford.edu|171.64.68.10|:80... connected.\n",
      "HTTP request sent, awaiting response... 200 OK\n",
      "Length: 84125825 (80M) [application/x-gzip]\n",
      "Saving to: ‘aclImdb_v1.tar.gz’\n",
      "\n",
      "aclImdb_v1.tar.gz   100%[===================>]  80.23M  16.5MB/s    in 5.3s    \n",
      "\n",
      "2018-05-15 18:45:26 (15.2 MB/s) - ‘aclImdb_v1.tar.gz’ saved [84125825/84125825]\n",
      "\n"
     ]
    }
   ],
   "source": [
    "# !wget http://ai.stanford.edu/~amaas/data/sentiment/aclImdb_v1.tar.gz\n",
    "# !tar -xzf aclImdb_v1.tar.gz\n",
    "# !rm aclImdb_v1.tar.gz"
   ]
  },
  {
   "cell_type": "code",
   "execution_count": 335,
   "metadata": {},
   "outputs": [],
   "source": [
    "def get_reviews(data_partition, class_label):\n",
    "    path = 'aclImdb/{}/{}/*.txt'.format(data_partition, class_label)\n",
    "    return [\n",
    "        open(f).read()\n",
    "        for f in glob.glob(path)\n",
    "    ]\n",
    "\n",
    "def get_dataset(data_partition):\n",
    "    pos = get_reviews(data_partition, 'pos')\n",
    "    neg = get_reviews(data_partition, 'neg')\n",
    "    print('Found {} positive and {} negative examples'.format(len(pos), len(neg)))\n",
    "    data = pos + neg\n",
    "    labels = np.array([1 for _ in range(len(pos))] + [0 for _ in range(len(neg))])\n",
    "    return data, labels"
   ]
  },
  {
   "cell_type": "code",
   "execution_count": 334,
   "metadata": {},
   "outputs": [
    {
     "name": "stdout",
     "output_type": "stream",
     "text": [
      "Found 12500 positive and 12500 negative examples\n",
      "Found 12500 positive and 12500 negative examples\n",
      "CPU times: user 4.95 s, sys: 20.4 s, total: 25.3 s\n",
      "Wall time: 38.3 s\n"
     ]
    }
   ],
   "source": [
    "%%time\n",
    "data_train, y_train = get_dataset('train')\n",
    "data_test, y_test = get_dataset('test')"
   ]
  },
  {
   "cell_type": "code",
   "execution_count": 338,
   "metadata": {},
   "outputs": [
    {
     "data": {
      "text/plain": [
       "list"
      ]
     },
     "execution_count": 338,
     "metadata": {},
     "output_type": "execute_result"
    }
   ],
   "source": [
    "type(data_train)"
   ]
  },
  {
   "cell_type": "code",
   "execution_count": 41,
   "metadata": {},
   "outputs": [
    {
     "data": {
      "text/plain": [
       "25000"
      ]
     },
     "execution_count": 41,
     "metadata": {},
     "output_type": "execute_result"
    }
   ],
   "source": [
    "len(data_train)"
   ]
  },
  {
   "cell_type": "code",
   "execution_count": 42,
   "metadata": {},
   "outputs": [
    {
     "data": {
      "text/plain": [
       "25000"
      ]
     },
     "execution_count": 42,
     "metadata": {},
     "output_type": "execute_result"
    }
   ],
   "source": [
    "len(data_test)"
   ]
  },
  {
   "cell_type": "code",
   "execution_count": 43,
   "metadata": {},
   "outputs": [
    {
     "data": {
      "text/plain": [
       "'Bromwell High is a cartoon comedy. It ran at the same time as some other programs about school life, such as \"Teachers\". My 35 years in the teaching profession lead me to believe that Bromwell High\\'s satire is much closer to reality than is \"Teachers\". The scramble to survive financially, the insightful students who can see right through their pathetic teachers\\' pomp, the pettiness of the whole situation, all remind me of the schools I knew and their students. When I saw the episode in which a student repeatedly tried to burn down the school, I immediately recalled ......... at .......... High. A classic line: INSPECTOR: I\\'m here to sack one of your teachers. STUDENT: Welcome to Bromwell High. I expect that many adults of my age think that Bromwell High is far fetched. What a pity that it isn\\'t!'"
      ]
     },
     "execution_count": 43,
     "metadata": {},
     "output_type": "execute_result"
    }
   ],
   "source": [
    "data_train[0]"
   ]
  },
  {
   "cell_type": "code",
   "execution_count": 341,
   "metadata": {},
   "outputs": [
    {
     "data": {
      "text/plain": [
       "'I had been looking forward to seeing this film for a long time, after seeing \"Return to Paradise,\" which I found to be gritty. I was so disappointed. The most realistic thing about it was the unpredictable ending which I think was partly stolen from \"Return to Paradise.\" <br /><br />Maybe I was expecting too much. <br /><br />On the positive side Danes, Beckinsale and Pullman were fantastic in their roles. Although I didnt like Danes\\'s character and first and found her very annoying. <br /><br />I couldnt see anything realistic about the film. It could of been done so much better, for example there could of been more emphasis on the prison conditions and the sheer horror. It was too cheery a movie to be realistic. There could also of been more action and tension<br /><br />The best thing about this film is the \"tragic\" ending. I couldnt of predicted that. But by that time I really didnt care what happened to them.<br /><br />3/10'"
      ]
     },
     "execution_count": 341,
     "metadata": {},
     "output_type": "execute_result"
    }
   ],
   "source": [
    "data_train[12505]"
   ]
  },
  {
   "cell_type": "code",
   "execution_count": 342,
   "metadata": {},
   "outputs": [
    {
     "name": "stdout",
     "output_type": "stream",
     "text": [
      "CPU times: user 4.28 s, sys: 220 ms, total: 4.5 s\n",
      "Wall time: 4.36 s\n"
     ]
    }
   ],
   "source": [
    "%%time\n",
    "vec = TfidfVectorizer(stop_words='english', ngram_range=(1, 1), max_df=3/4.0, min_df=2)\n",
    "x_train = vec.fit_transform(data_train)"
   ]
  },
  {
   "cell_type": "code",
   "execution_count": 344,
   "metadata": {},
   "outputs": [
    {
     "data": {
      "text/plain": [
       "44490"
      ]
     },
     "execution_count": 344,
     "metadata": {},
     "output_type": "execute_result"
    }
   ],
   "source": [
    "len(vec.vocabulary_)"
   ]
  },
  {
   "cell_type": "code",
   "execution_count": 358,
   "metadata": {
    "scrolled": true
   },
   "outputs": [
    {
     "data": {
      "text/plain": [
       "['000',\n",
       " '00',\n",
       " '007',\n",
       " '01',\n",
       " '00s',\n",
       " '0080',\n",
       " '0083',\n",
       " '00pm',\n",
       " '00am',\n",
       " '001',\n",
       " '00001']"
      ]
     },
     "execution_count": 358,
     "metadata": {},
     "output_type": "execute_result"
    }
   ],
   "source": [
    "# low frequency tokens\n",
    "[k for k, v in vec.vocabulary_.items() if v <= 10]"
   ]
  },
  {
   "cell_type": "code",
   "execution_count": 366,
   "metadata": {},
   "outputs": [
    {
     "name": "stdout",
     "output_type": "stream",
     "text": [
      "[0.8924 0.8876 0.8902 0.8764 0.8892]\n",
      "CPU times: user 7.22 s, sys: 113 ms, total: 7.34 s\n",
      "Wall time: 1.89 s\n"
     ]
    }
   ],
   "source": [
    "%%time\n",
    "cvs = cross_val_score(LogisticRegression(), x_train, y_train, cv=5)\n",
    "print(cvs)"
   ]
  },
  {
   "cell_type": "code",
   "execution_count": 370,
   "metadata": {},
   "outputs": [
    {
     "data": {
      "text/plain": [
       "0.005600571399419893"
      ]
     },
     "execution_count": 370,
     "metadata": {},
     "output_type": "execute_result"
    }
   ],
   "source": [
    "np.std(cvs)"
   ]
  },
  {
   "cell_type": "code",
   "execution_count": 368,
   "metadata": {},
   "outputs": [
    {
     "data": {
      "text/plain": [
       "0.88716"
      ]
     },
     "execution_count": 368,
     "metadata": {},
     "output_type": "execute_result"
    }
   ],
   "source": [
    "np.mean(cvs)"
   ]
  },
  {
   "cell_type": "code",
   "execution_count": 441,
   "metadata": {},
   "outputs": [
    {
     "data": {
      "text/plain": [
       "Text(0.5,0,'Coefficient')"
      ]
     },
     "execution_count": 441,
     "metadata": {},
     "output_type": "execute_result"
    },
    {
     "data": {
      "image/png": "[encoded data removed]",
      "text/plain": [
       "<Figure size 576x432 with 1 Axes>"
      ]
     },
     "metadata": {},
     "output_type": "display_data"
    }
   ],
   "source": [
    "coefs = pd.DataFrame({'coef': lr.coef_[0]},\n",
    "                      index=vec.get_feature_names()).sort_values(by='coef', ascending=False)\n",
    "coefs_topn = pd.concat([coefs[:n], coefs[-n:]])\n",
    "positive = coefs_topn.coef >= 0\n",
    "colors = positive.map({True: 'b', False: 'r'})\n",
    "colors\n",
    "coefs_topn.plot(kind='barh', color=[colors],\n",
    "                legend=False, figsize=(8, 6))\n",
    "plt.xlabel('Coefficient')"
   ]
  },
  {
   "cell_type": "code",
   "execution_count": 424,
   "metadata": {},
   "outputs": [],
   "source": [
    "n = 10\n",
    "coefs = pd.Series(lr.coef_[0],\n",
    "                  index=vec.get_feature_names()\n",
    "                 ).sort_values(ascending=False)\n",
    "coefs_topn = pd.concat([coefs[:n], coefs[-n:]])\n",
    "positive = coefs_topn >= 0\n",
    "colors = positive.map({True: 'b', False: 'r'})\n",
    "coefs_topn.plot(kind='barh', color=[colors],\n",
    "                legend=False, figsize=(8, 6))\n",
    "plt.xlabel('Coefficient')"
   ]
  },
  {
   "cell_type": "code",
   "execution_count": 442,
   "metadata": {},
   "outputs": [],
   "source": [
    "def traditional_ml(vec_class, model_object,\n",
    "                   stop_words, ngram_range, max_df, min_df, cv, n=10):\n",
    "    vec = vec_class(stop_words=stop_words,\n",
    "                    ngram_range=ngram_range,\n",
    "                    max_df=max_df, min_df=min_df)\n",
    "    x_train = vec.fit_transform(data_train)\n",
    "    print('Vocabulary size: {}'.format(len(vec.vocabulary_)))\n",
    "    x_test = vec.transform(data_test)\n",
    "    scores = cross_val_score(model_object, x_train, y_train, cv=cv)\n",
    "    scores_mean = scores.mean()\n",
    "    scores_std = scores.std()\n",
    "    print('Cross-validation scores mean: {:.2f}%, std: {:.2f}%'.format(scores_mean * 100,\n",
    "                                                                       scores_std * 100))\n",
    "    \n",
    "    # the plot\n",
    "    if model_object.__class__ == LogisticRegression:\n",
    "        lr = model_object\n",
    "        lr.fit(x_train, y_train)\n",
    "        coefs = pd.DataFrame({'coef': lr.coef_[0]},\n",
    "                             index=vec.get_feature_names()).sort_values(by='coef', ascending=False)\n",
    "        coefs_topn = pd.concat([coefs[:n], coefs[-n:]])\n",
    "        positive = coefs_topn.coef >= 0\n",
    "        colors = positive.map({True: 'b', False: 'r'})\n",
    "        colors\n",
    "        coefs_topn.plot(kind='barh', color=[colors],\n",
    "                        legend=False, figsize=(8, 6))\n",
    "        plt.xlabel('Coefficient')"
   ]
  },
  {
   "cell_type": "code",
   "execution_count": 443,
   "metadata": {},
   "outputs": [
    {
     "name": "stdout",
     "output_type": "stream",
     "text": [
      "Vocabulary size: 44490\n",
      "Cross-validation scores mean: 88.72%, std: 0.56%\n",
      "CPU times: user 18.6 s, sys: 385 ms, total: 19 s\n",
      "Wall time: 11.4 s\n"
     ]
    },
    {
     "data": {
      "image/png": "[encoded data removed]",
      "text/plain": [
       "<Figure size 576x432 with 1 Axes>"
      ]
     },
     "metadata": {},
     "output_type": "display_data"
    }
   ],
   "source": [
    "%%time\n",
    "traditional_ml(TfidfVectorizer, LogisticRegression(), 'english', (1, 1), 3 / 4, 2, cv=5)"
   ]
  },
  {
   "cell_type": "code",
   "execution_count": 444,
   "metadata": {},
   "outputs": [
    {
     "name": "stdout",
     "output_type": "stream",
     "text": [
      "Vocabulary size: 42490\n",
      "Cross-validation scores mean: 88.97%, std: 0.46%\n",
      "CPU times: user 2min 39s, sys: 2.92 s, total: 2min 42s\n",
      "Wall time: 1min 4s\n"
     ]
    },
    {
     "data": {
      "image/png": "[encoded data removed]",
      "text/plain": [
       "<Figure size 576x432 with 1 Axes>"
      ]
     },
     "metadata": {},
     "output_type": "display_data"
    }
   ],
   "source": [
    "%%time\n",
    "traditional_ml(CountVectorizer, LogisticRegression(), None, (1, 2), 0.8, 20, cv=5)"
   ]
  },
  {
   "cell_type": "code",
   "execution_count": 61,
   "metadata": {},
   "outputs": [
    {
     "name": "stdout",
     "output_type": "stream",
     "text": [
      "Vocabulary size: 44490\n",
      "Cross-validation scores mean: 82.97%, std: 1.15%\n",
      "CPU times: user 20.3 s, sys: 338 ms, total: 20.7 s\n",
      "Wall time: 20.7 s\n"
     ]
    }
   ],
   "source": [
    "%%time\n",
    "traditional_ml(CountVectorizer, LogisticRegression(), 'english', (1, 1), 3 / 4, 2, cv=5)"
   ]
  },
  {
   "cell_type": "code",
   "execution_count": 62,
   "metadata": {},
   "outputs": [
    {
     "name": "stdout",
     "output_type": "stream",
     "text": [
      "Vocabulary size: 44789\n",
      "Cross-validation scores mean: 86.27%, std: 0.56%\n",
      "CPU times: user 14.2 s, sys: 409 ms, total: 14.6 s\n",
      "Wall time: 14.6 s\n"
     ]
    }
   ],
   "source": [
    "%%time\n",
    "traditional_ml(TfidfVectorizer, LogisticRegression(), None, (1, 1), 3 / 4, 2, cv=5)"
   ]
  },
  {
   "cell_type": "code",
   "execution_count": 63,
   "metadata": {},
   "outputs": [
    {
     "name": "stdout",
     "output_type": "stream",
     "text": [
      "Vocabulary size: 44789\n",
      "Cross-validation scores mean: 83.88%, std: 1.19%\n",
      "CPU times: user 32.7 s, sys: 569 ms, total: 33.2 s\n",
      "Wall time: 33.5 s\n"
     ]
    }
   ],
   "source": [
    "%%time\n",
    "traditional_ml(CountVectorizer, LogisticRegression(), None, (1, 1), 3 / 4, 2, cv=5)"
   ]
  },
  {
   "cell_type": "code",
   "execution_count": 64,
   "metadata": {},
   "outputs": [
    {
     "name": "stdout",
     "output_type": "stream",
     "text": [
      "Vocabulary size: 44789\n",
      "Cross-validation scores mean: 74.56%, std: 0.68%\n",
      "CPU times: user 38.1 s, sys: 654 ms, total: 38.7 s\n",
      "Wall time: 38.9 s\n"
     ]
    }
   ],
   "source": [
    "%%time\n",
    "traditional_ml(TfidfVectorizer, RandomForestClassifier(), None, (1, 1), 3 / 4, 2, cv=5)"
   ]
  },
  {
   "cell_type": "markdown",
   "metadata": {},
   "source": [
    "### Deep learning"
   ]
  },
  {
   "cell_type": "code",
   "execution_count": null,
   "metadata": {},
   "outputs": [],
   "source": []
  },
  {
   "cell_type": "markdown",
   "metadata": {},
   "source": [
    "#### Feed forward networks"
   ]
  },
  {
   "cell_type": "code",
   "execution_count": 242,
   "metadata": {},
   "outputs": [
    {
     "name": "stdout",
     "output_type": "stream",
     "text": [
      "_________________________________________________________________\n",
      "Layer (type)                 Output Shape              Param #   \n",
      "=================================================================\n",
      "dense_24 (Dense)             (None, 256)               11389696  \n",
      "_________________________________________________________________\n",
      "activation_20 (Activation)   (None, 256)               0         \n",
      "_________________________________________________________________\n",
      "dropout_18 (Dropout)         (None, 256)               0         \n",
      "_________________________________________________________________\n",
      "dense_25 (Dense)             (None, 128)               32896     \n",
      "_________________________________________________________________\n",
      "activation_21 (Activation)   (None, 128)               0         \n",
      "_________________________________________________________________\n",
      "dropout_19 (Dropout)         (None, 128)               0         \n",
      "_________________________________________________________________\n",
      "dense_26 (Dense)             (None, 1)                 129       \n",
      "_________________________________________________________________\n",
      "activation_22 (Activation)   (None, 1)                 0         \n",
      "=================================================================\n",
      "Total params: 11,422,721.0\n",
      "Trainable params: 11,422,721.0\n",
      "Non-trainable params: 0.0\n",
      "_________________________________________________________________\n"
     ]
    }
   ],
   "source": [
    "model = Sequential()\n",
    "model.add(Dense(256, input_dim=x_train.shape[1]))\n",
    "model.add(Activation('relu'))\n",
    "model.add(Dropout(0.4))\n",
    "model.add(Dense(128))\n",
    "model.add(Activation('relu'))\n",
    "model.add(Dropout(0.2))\n",
    "model.add(Dense(1, activation='sigmoid'))  # TODO: make sure this runs\n",
    "# model.add(Activation('sigmoid'))\n",
    "\n",
    "model.compile(loss='binary_crossentropy', optimizer='adam',\n",
    "              metrics=['accuracy'])\n",
    "model.summary()"
   ]
  },
  {
   "cell_type": "code",
   "execution_count": 244,
   "metadata": {},
   "outputs": [
    {
     "name": "stdout",
     "output_type": "stream",
     "text": [
      "Train on 16666 samples, validate on 8334 samples\n",
      "Epoch 1/5\n",
      "16666/16666 [==============================] - 52s - loss: 0.3918 - acc: 0.8191 - val_loss: 0.7842 - val_acc: 0.6872\n",
      "Epoch 2/5\n",
      "16666/16666 [==============================] - 46s - loss: 0.1202 - acc: 0.9570 - val_loss: 0.7000 - val_acc: 0.7561\n",
      "Epoch 3/5\n",
      "16666/16666 [==============================] - 43s - loss: 0.0362 - acc: 0.9894 - val_loss: 1.0948 - val_acc: 0.7228\n",
      "Epoch 4/5\n",
      "16666/16666 [==============================] - 43s - loss: 0.0091 - acc: 0.9983 - val_loss: 1.4176 - val_acc: 0.7091\n",
      "Epoch 5/5\n",
      "16666/16666 [==============================] - 43s - loss: 0.0031 - acc: 0.9995 - val_loss: 1.8949 - val_acc: 0.6573\n"
     ]
    }
   ],
   "source": [
    "history = model.fit(x_train.toarray(), y_train\n",
    "          epochs=5, batch_size=128,\n",
    "          validation_split=1/3);"
   ]
  },
  {
   "cell_type": "code",
   "execution_count": 110,
   "metadata": {},
   "outputs": [],
   "source": [
    "# model.evaluate(x_test.toarray(), to_categorical(y_test))"
   ]
  },
  {
   "cell_type": "code",
   "execution_count": 253,
   "metadata": {},
   "outputs": [
    {
     "data": {
      "text/plain": [
       "(44490, 256)"
      ]
     },
     "execution_count": 253,
     "metadata": {},
     "output_type": "execute_result"
    }
   ],
   "source": [
    "model.get_weights()[0].shape"
   ]
  },
  {
   "cell_type": "code",
   "execution_count": 254,
   "metadata": {},
   "outputs": [
    {
     "data": {
      "text/plain": [
       "2981"
      ]
     },
     "execution_count": 254,
     "metadata": {},
     "output_type": "execute_result"
    }
   ],
   "source": [
    "vec.get_feature_names().index('awesome')"
   ]
  },
  {
   "cell_type": "code",
   "execution_count": 259,
   "metadata": {},
   "outputs": [
    {
     "data": {
      "text/plain": [
       "17112"
      ]
     },
     "execution_count": 259,
     "metadata": {},
     "output_type": "execute_result"
    }
   ],
   "source": [
    "vec.get_feature_names().index('great')"
   ]
  },
  {
   "cell_type": "code",
   "execution_count": 255,
   "metadata": {},
   "outputs": [
    {
     "data": {
      "text/plain": [
       "39522"
      ]
     },
     "execution_count": 255,
     "metadata": {},
     "output_type": "execute_result"
    }
   ],
   "source": [
    "vec.get_feature_names().index('terrible')"
   ]
  },
  {
   "cell_type": "code",
   "execution_count": 264,
   "metadata": {},
   "outputs": [
    {
     "data": {
      "text/plain": [
       "2985"
      ]
     },
     "execution_count": 264,
     "metadata": {},
     "output_type": "execute_result"
    }
   ],
   "source": [
    "vec.get_feature_names().index('awful')"
   ]
  },
  {
   "cell_type": "code",
   "execution_count": 265,
   "metadata": {},
   "outputs": [
    {
     "data": {
      "text/plain": [
       "<matplotlib.axes._subplots.AxesSubplot at 0x19390b7b8>"
      ]
     },
     "execution_count": 265,
     "metadata": {},
     "output_type": "execute_result"
    },
    {
     "data": {
      "image/png": "[encoded data removed]",
      "text/plain": [
       "<matplotlib.figure.Figure at 0x19390fda0>"
      ]
     },
     "metadata": {},
     "output_type": "display_data"
    }
   ],
   "source": [
    "sns.heatmap(model.get_weights()[0][[2981, 17112, 39522, 2985]]) "
   ]
  },
  {
   "cell_type": "code",
   "execution_count": 266,
   "metadata": {},
   "outputs": [
    {
     "data": {
      "text/plain": [
       "<matplotlib.axes._subplots.AxesSubplot at 0x193dcfc88>"
      ]
     },
     "execution_count": 266,
     "metadata": {},
     "output_type": "execute_result"
    },
    {
     "data": {
      "image/png": "[encoded data removed]",
      "text/plain": [
       "<matplotlib.figure.Figure at 0x193dd2208>"
      ]
     },
     "metadata": {},
     "output_type": "display_data"
    }
   ],
   "source": [
    "pd.Series(model.get_weights()[0][2981]).plot()\n",
    "pd.Series(model.get_weights()[0][2985]).plot()"
   ]
  },
  {
   "cell_type": "code",
   "execution_count": 269,
   "metadata": {},
   "outputs": [
    {
     "name": "stdout",
     "output_type": "stream",
     "text": [
      "CPU times: user 1min 24s, sys: 1.25 s, total: 1min 26s\n",
      "Wall time: 1min 26s\n"
     ]
    }
   ],
   "source": [
    "%%time\n",
    "labels = ['Positive' if y == 1 else 'Negative' for y in y_train]\n",
    "scattertext_df = pd.DataFrame({'text': data_train, 'label': labels})\n",
    "corpus = scattertext.CorpusFromPandas(scattertext_df,\n",
    "                                      category_col='label', text_col='text',\n",
    "                                      nlp=scattertext.whitespace_nlp_with_sentences).build()"
   ]
  },
  {
   "cell_type": "code",
   "execution_count": 270,
   "metadata": {},
   "outputs": [
    {
     "data": {
      "text/plain": [
       "scattertext.Corpus.Corpus"
      ]
     },
     "execution_count": 270,
     "metadata": {},
     "output_type": "execute_result"
    }
   ],
   "source": [
    "type(corpus)"
   ]
  },
  {
   "cell_type": "code",
   "execution_count": 271,
   "metadata": {},
   "outputs": [
    {
     "name": "stdout",
     "output_type": "stream",
     "text": [
      "['doesn', 'didn', 'isn', 've', 'wasn', 'film', 'don', 'plot', 'acting', 'scenes']\n"
     ]
    }
   ],
   "source": [
    "print(list(corpus.get_scaled_f_scores_vs_background().index[:10]))"
   ]
  },
  {
   "cell_type": "code",
   "execution_count": 274,
   "metadata": {},
   "outputs": [
    {
     "name": "stdout",
     "output_type": "stream",
     "text": [
      "CPU times: user 5min 2s, sys: 2.66 s, total: 5min 4s\n",
      "Wall time: 5min 5s\n"
     ]
    }
   ],
   "source": [
    "%%time\n",
    "html = scattertext.produce_scattertext_explorer(corpus,\n",
    "                                                category='Positive',\n",
    "                                                category_name='Positive',\n",
    "                                                max_terms=5000,\n",
    "                                                not_category_name='Negative',\n",
    "                                                width_in_pixels=1000\n",
    "                                               )\n",
    "open(\"imdb-vis.html\", 'wb').write(html.encode('utf-8'))"
   ]
  },
  {
   "cell_type": "code",
   "execution_count": 276,
   "metadata": {},
   "outputs": [
    {
     "name": "stdout",
     "output_type": "stream",
     "text": [
      "CPU times: user 2min 28s, sys: 29.4 s, total: 2min 57s\n",
      "Wall time: 2min 57s\n"
     ]
    }
   ],
   "source": [
    "%%time\n",
    "term_freq_df = corpus.get_term_freq_df()\n",
    "tf = term_freq_df.copy()"
   ]
  },
  {
   "cell_type": "code",
   "execution_count": 277,
   "metadata": {
    "scrolled": false
   },
   "outputs": [
    {
     "data": {
      "text/html": [
       "<div>\n",
       "<style scoped>\n",
       "    .dataframe tbody tr th:only-of-type {\n",
       "        vertical-align: middle;\n",
       "    }\n",
       "\n",
       "    .dataframe tbody tr th {\n",
       "        vertical-align: top;\n",
       "    }\n",
       "\n",
       "    .dataframe thead th {\n",
       "        text-align: right;\n",
       "    }\n",
       "</style>\n",
       "<table border=\"1\" class=\"dataframe\">\n",
       "  <thead>\n",
       "    <tr style=\"text-align: right;\">\n",
       "      <th></th>\n",
       "      <th>Negative freq</th>\n",
       "      <th>Positive freq</th>\n",
       "      <th>ratio</th>\n",
       "    </tr>\n",
       "    <tr>\n",
       "      <th>term</th>\n",
       "      <th></th>\n",
       "      <th></th>\n",
       "      <th></th>\n",
       "    </tr>\n",
       "  </thead>\n",
       "  <tbody>\n",
       "    <tr>\n",
       "      <th>boll</th>\n",
       "      <td>141</td>\n",
       "      <td>1</td>\n",
       "      <td>0.007092</td>\n",
       "    </tr>\n",
       "    <tr>\n",
       "      <th>worst films</th>\n",
       "      <td>103</td>\n",
       "      <td>1</td>\n",
       "      <td>0.009709</td>\n",
       "    </tr>\n",
       "    <tr>\n",
       "      <th>uwe</th>\n",
       "      <td>99</td>\n",
       "      <td>1</td>\n",
       "      <td>0.010101</td>\n",
       "    </tr>\n",
       "    <tr>\n",
       "      <th>uwe boll</th>\n",
       "      <td>85</td>\n",
       "      <td>1</td>\n",
       "      <td>0.011765</td>\n",
       "    </tr>\n",
       "    <tr>\n",
       "      <th>just bad</th>\n",
       "      <td>81</td>\n",
       "      <td>1</td>\n",
       "      <td>0.012346</td>\n",
       "    </tr>\n",
       "    <tr>\n",
       "      <th>this crap</th>\n",
       "      <td>144</td>\n",
       "      <td>2</td>\n",
       "      <td>0.013889</td>\n",
       "    </tr>\n",
       "    <tr>\n",
       "      <th>avoid at</th>\n",
       "      <td>62</td>\n",
       "      <td>1</td>\n",
       "      <td>0.016129</td>\n",
       "    </tr>\n",
       "    <tr>\n",
       "      <th>thunderbirds</th>\n",
       "      <td>61</td>\n",
       "      <td>1</td>\n",
       "      <td>0.016393</td>\n",
       "    </tr>\n",
       "    <tr>\n",
       "      <th>beowulf</th>\n",
       "      <td>60</td>\n",
       "      <td>1</td>\n",
       "      <td>0.016667</td>\n",
       "    </tr>\n",
       "    <tr>\n",
       "      <th>only redeeming</th>\n",
       "      <td>59</td>\n",
       "      <td>1</td>\n",
       "      <td>0.016949</td>\n",
       "    </tr>\n",
       "    <tr>\n",
       "      <th>save this</th>\n",
       "      <td>113</td>\n",
       "      <td>2</td>\n",
       "      <td>0.017699</td>\n",
       "    </tr>\n",
       "    <tr>\n",
       "      <th>total waste</th>\n",
       "      <td>56</td>\n",
       "      <td>1</td>\n",
       "      <td>0.017857</td>\n",
       "    </tr>\n",
       "    <tr>\n",
       "      <th>1 out</th>\n",
       "      <td>55</td>\n",
       "      <td>1</td>\n",
       "      <td>0.018182</td>\n",
       "    </tr>\n",
       "    <tr>\n",
       "      <th>just awful</th>\n",
       "      <td>55</td>\n",
       "      <td>1</td>\n",
       "      <td>0.018182</td>\n",
       "    </tr>\n",
       "    <tr>\n",
       "      <th>dahmer</th>\n",
       "      <td>53</td>\n",
       "      <td>1</td>\n",
       "      <td>0.018868</td>\n",
       "    </tr>\n",
       "    <tr>\n",
       "      <th>wayans</th>\n",
       "      <td>50</td>\n",
       "      <td>1</td>\n",
       "      <td>0.020000</td>\n",
       "    </tr>\n",
       "    <tr>\n",
       "      <th>worst movies</th>\n",
       "      <td>194</td>\n",
       "      <td>4</td>\n",
       "      <td>0.020619</td>\n",
       "    </tr>\n",
       "    <tr>\n",
       "      <th>grendel</th>\n",
       "      <td>48</td>\n",
       "      <td>1</td>\n",
       "      <td>0.020833</td>\n",
       "    </tr>\n",
       "    <tr>\n",
       "      <th>terrible film</th>\n",
       "      <td>46</td>\n",
       "      <td>1</td>\n",
       "      <td>0.021739</td>\n",
       "    </tr>\n",
       "    <tr>\n",
       "      <th>badly written</th>\n",
       "      <td>46</td>\n",
       "      <td>1</td>\n",
       "      <td>0.021739</td>\n",
       "    </tr>\n",
       "    <tr>\n",
       "      <th>this pile</th>\n",
       "      <td>44</td>\n",
       "      <td>1</td>\n",
       "      <td>0.022727</td>\n",
       "    </tr>\n",
       "    <tr>\n",
       "      <th>movie sucks</th>\n",
       "      <td>44</td>\n",
       "      <td>1</td>\n",
       "      <td>0.022727</td>\n",
       "    </tr>\n",
       "    <tr>\n",
       "      <th>ajay</th>\n",
       "      <td>42</td>\n",
       "      <td>1</td>\n",
       "      <td>0.023810</td>\n",
       "    </tr>\n",
       "    <tr>\n",
       "      <th>jessica simpson</th>\n",
       "      <td>41</td>\n",
       "      <td>1</td>\n",
       "      <td>0.024390</td>\n",
       "    </tr>\n",
       "    <tr>\n",
       "      <th>only saving</th>\n",
       "      <td>40</td>\n",
       "      <td>1</td>\n",
       "      <td>0.025000</td>\n",
       "    </tr>\n",
       "    <tr>\n",
       "      <th>a zero</th>\n",
       "      <td>40</td>\n",
       "      <td>1</td>\n",
       "      <td>0.025000</td>\n",
       "    </tr>\n",
       "    <tr>\n",
       "      <th>not waste</th>\n",
       "      <td>79</td>\n",
       "      <td>2</td>\n",
       "      <td>0.025316</td>\n",
       "    </tr>\n",
       "    <tr>\n",
       "      <th>this mess</th>\n",
       "      <td>116</td>\n",
       "      <td>3</td>\n",
       "      <td>0.025862</td>\n",
       "    </tr>\n",
       "    <tr>\n",
       "      <th>seagal</th>\n",
       "      <td>152</td>\n",
       "      <td>4</td>\n",
       "      <td>0.026316</td>\n",
       "    </tr>\n",
       "    <tr>\n",
       "      <th>was poorly</th>\n",
       "      <td>38</td>\n",
       "      <td>1</td>\n",
       "      <td>0.026316</td>\n",
       "    </tr>\n",
       "    <tr>\n",
       "      <th>...</th>\n",
       "      <td>...</td>\n",
       "      <td>...</td>\n",
       "      <td>...</td>\n",
       "    </tr>\n",
       "    <tr>\n",
       "      <th>bake</th>\n",
       "      <td>1</td>\n",
       "      <td>31</td>\n",
       "      <td>31.000000</td>\n",
       "    </tr>\n",
       "    <tr>\n",
       "      <th>care bears</th>\n",
       "      <td>1</td>\n",
       "      <td>31</td>\n",
       "      <td>31.000000</td>\n",
       "    </tr>\n",
       "    <tr>\n",
       "      <th>victoria s</th>\n",
       "      <td>1</td>\n",
       "      <td>32</td>\n",
       "      <td>32.000000</td>\n",
       "    </tr>\n",
       "    <tr>\n",
       "      <th>aiello</th>\n",
       "      <td>1</td>\n",
       "      <td>33</td>\n",
       "      <td>33.000000</td>\n",
       "    </tr>\n",
       "    <tr>\n",
       "      <th>robert blake</th>\n",
       "      <td>1</td>\n",
       "      <td>33</td>\n",
       "      <td>33.000000</td>\n",
       "    </tr>\n",
       "    <tr>\n",
       "      <th>callahan</th>\n",
       "      <td>1</td>\n",
       "      <td>34</td>\n",
       "      <td>34.000000</td>\n",
       "    </tr>\n",
       "    <tr>\n",
       "      <th>not perfect</th>\n",
       "      <td>1</td>\n",
       "      <td>35</td>\n",
       "      <td>35.000000</td>\n",
       "    </tr>\n",
       "    <tr>\n",
       "      <th>taker</th>\n",
       "      <td>1</td>\n",
       "      <td>35</td>\n",
       "      <td>35.000000</td>\n",
       "    </tr>\n",
       "    <tr>\n",
       "      <th>korda</th>\n",
       "      <td>1</td>\n",
       "      <td>35</td>\n",
       "      <td>35.000000</td>\n",
       "    </tr>\n",
       "    <tr>\n",
       "      <th>on south</th>\n",
       "      <td>1</td>\n",
       "      <td>36</td>\n",
       "      <td>36.000000</td>\n",
       "    </tr>\n",
       "    <tr>\n",
       "      <th>philo vance</th>\n",
       "      <td>1</td>\n",
       "      <td>37</td>\n",
       "      <td>37.000000</td>\n",
       "    </tr>\n",
       "    <tr>\n",
       "      <th>clutter</th>\n",
       "      <td>1</td>\n",
       "      <td>39</td>\n",
       "      <td>39.000000</td>\n",
       "    </tr>\n",
       "    <tr>\n",
       "      <th>from shanghai</th>\n",
       "      <td>1</td>\n",
       "      <td>40</td>\n",
       "      <td>40.000000</td>\n",
       "    </tr>\n",
       "    <tr>\n",
       "      <th>anthony mann</th>\n",
       "      <td>1</td>\n",
       "      <td>40</td>\n",
       "      <td>40.000000</td>\n",
       "    </tr>\n",
       "    <tr>\n",
       "      <th>winchester 73</th>\n",
       "      <td>1</td>\n",
       "      <td>42</td>\n",
       "      <td>42.000000</td>\n",
       "    </tr>\n",
       "    <tr>\n",
       "      <th>lindy</th>\n",
       "      <td>1</td>\n",
       "      <td>42</td>\n",
       "      <td>42.000000</td>\n",
       "    </tr>\n",
       "    <tr>\n",
       "      <th>philo</th>\n",
       "      <td>1</td>\n",
       "      <td>42</td>\n",
       "      <td>42.000000</td>\n",
       "    </tr>\n",
       "    <tr>\n",
       "      <th>victor mclaglen</th>\n",
       "      <td>1</td>\n",
       "      <td>44</td>\n",
       "      <td>44.000000</td>\n",
       "    </tr>\n",
       "    <tr>\n",
       "      <th>luzhin</th>\n",
       "      <td>1</td>\n",
       "      <td>45</td>\n",
       "      <td>45.000000</td>\n",
       "    </tr>\n",
       "    <tr>\n",
       "      <th>gundam</th>\n",
       "      <td>2</td>\n",
       "      <td>91</td>\n",
       "      <td>45.500000</td>\n",
       "    </tr>\n",
       "    <tr>\n",
       "      <th>feinstone</th>\n",
       "      <td>1</td>\n",
       "      <td>48</td>\n",
       "      <td>48.000000</td>\n",
       "    </tr>\n",
       "    <tr>\n",
       "      <th>giovanna</th>\n",
       "      <td>1</td>\n",
       "      <td>49</td>\n",
       "      <td>49.000000</td>\n",
       "    </tr>\n",
       "    <tr>\n",
       "      <th>wonderful movie</th>\n",
       "      <td>1</td>\n",
       "      <td>52</td>\n",
       "      <td>52.000000</td>\n",
       "    </tr>\n",
       "    <tr>\n",
       "      <th>police story</th>\n",
       "      <td>1</td>\n",
       "      <td>52</td>\n",
       "      <td>52.000000</td>\n",
       "    </tr>\n",
       "    <tr>\n",
       "      <th>iturbi</th>\n",
       "      <td>1</td>\n",
       "      <td>53</td>\n",
       "      <td>53.000000</td>\n",
       "    </tr>\n",
       "    <tr>\n",
       "      <th>excellently</th>\n",
       "      <td>1</td>\n",
       "      <td>59</td>\n",
       "      <td>59.000000</td>\n",
       "    </tr>\n",
       "    <tr>\n",
       "      <th>nancy drew</th>\n",
       "      <td>1</td>\n",
       "      <td>61</td>\n",
       "      <td>61.000000</td>\n",
       "    </tr>\n",
       "    <tr>\n",
       "      <th>midnight cowboy</th>\n",
       "      <td>1</td>\n",
       "      <td>62</td>\n",
       "      <td>62.000000</td>\n",
       "    </tr>\n",
       "    <tr>\n",
       "      <th>rob roy</th>\n",
       "      <td>1</td>\n",
       "      <td>87</td>\n",
       "      <td>87.000000</td>\n",
       "    </tr>\n",
       "    <tr>\n",
       "      <th>paulie</th>\n",
       "      <td>1</td>\n",
       "      <td>118</td>\n",
       "      <td>118.000000</td>\n",
       "    </tr>\n",
       "  </tbody>\n",
       "</table>\n",
       "<p>265165 rows × 3 columns</p>\n",
       "</div>"
      ],
      "text/plain": [
       "                 Negative freq  Positive freq       ratio\n",
       "term                                                     \n",
       "boll                       141              1    0.007092\n",
       "worst films                103              1    0.009709\n",
       "uwe                         99              1    0.010101\n",
       "uwe boll                    85              1    0.011765\n",
       "just bad                    81              1    0.012346\n",
       "this crap                  144              2    0.013889\n",
       "avoid at                    62              1    0.016129\n",
       "thunderbirds                61              1    0.016393\n",
       "beowulf                     60              1    0.016667\n",
       "only redeeming              59              1    0.016949\n",
       "save this                  113              2    0.017699\n",
       "total waste                 56              1    0.017857\n",
       "1 out                       55              1    0.018182\n",
       "just awful                  55              1    0.018182\n",
       "dahmer                      53              1    0.018868\n",
       "wayans                      50              1    0.020000\n",
       "worst movies               194              4    0.020619\n",
       "grendel                     48              1    0.020833\n",
       "terrible film               46              1    0.021739\n",
       "badly written               46              1    0.021739\n",
       "this pile                   44              1    0.022727\n",
       "movie sucks                 44              1    0.022727\n",
       "ajay                        42              1    0.023810\n",
       "jessica simpson             41              1    0.024390\n",
       "only saving                 40              1    0.025000\n",
       "a zero                      40              1    0.025000\n",
       "not waste                   79              2    0.025316\n",
       "this mess                  116              3    0.025862\n",
       "seagal                     152              4    0.026316\n",
       "was poorly                  38              1    0.026316\n",
       "...                        ...            ...         ...\n",
       "bake                         1             31   31.000000\n",
       "care bears                   1             31   31.000000\n",
       "victoria s                   1             32   32.000000\n",
       "aiello                       1             33   33.000000\n",
       "robert blake                 1             33   33.000000\n",
       "callahan                     1             34   34.000000\n",
       "not perfect                  1             35   35.000000\n",
       "taker                        1             35   35.000000\n",
       "korda                        1             35   35.000000\n",
       "on south                     1             36   36.000000\n",
       "philo vance                  1             37   37.000000\n",
       "clutter                      1             39   39.000000\n",
       "from shanghai                1             40   40.000000\n",
       "anthony mann                 1             40   40.000000\n",
       "winchester 73                1             42   42.000000\n",
       "lindy                        1             42   42.000000\n",
       "philo                        1             42   42.000000\n",
       "victor mclaglen              1             44   44.000000\n",
       "luzhin                       1             45   45.000000\n",
       "gundam                       2             91   45.500000\n",
       "feinstone                    1             48   48.000000\n",
       "giovanna                     1             49   49.000000\n",
       "wonderful movie              1             52   52.000000\n",
       "police story                 1             52   52.000000\n",
       "iturbi                       1             53   53.000000\n",
       "excellently                  1             59   59.000000\n",
       "nancy drew                   1             61   61.000000\n",
       "midnight cowboy              1             62   62.000000\n",
       "rob roy                      1             87   87.000000\n",
       "paulie                       1            118  118.000000\n",
       "\n",
       "[265165 rows x 3 columns]"
      ]
     },
     "execution_count": 277,
     "metadata": {},
     "output_type": "execute_result"
    }
   ],
   "source": [
    "tf = tf[(tf['Positive freq'] > 0) & (tf['Negative freq'] > 0)]\n",
    "tf['ratio'] = tf['Positive freq'] / tf['Negative freq']\n",
    "tf.sort_values(by='ratio', ascending=True)"
   ]
  },
  {
   "cell_type": "code",
   "execution_count": null,
   "metadata": {},
   "outputs": [],
   "source": []
  },
  {
   "cell_type": "code",
   "execution_count": null,
   "metadata": {},
   "outputs": [],
   "source": []
  },
  {
   "cell_type": "code",
   "execution_count": null,
   "metadata": {},
   "outputs": [],
   "source": []
  },
  {
   "cell_type": "code",
   "execution_count": 54,
   "metadata": {},
   "outputs": [
    {
     "name": "stdout",
     "output_type": "stream",
     "text": [
      "Epoch 1/5\n",
      "16666/16666 [==============================] - 35s - loss: 0.3592 - acc: 0.8331    \n",
      "Epoch 2/5\n",
      "16666/16666 [==============================] - 28s - loss: 0.0939 - acc: 0.9682    \n",
      "Epoch 3/5\n",
      "16666/16666 [==============================] - 28s - loss: 0.0246 - acc: 0.9930    \n",
      "Epoch 4/5\n",
      "16666/16666 [==============================] - 28s - loss: 0.0066 - acc: 0.9987    \n",
      "Epoch 5/5\n",
      "16666/16666 [==============================] - 28s - loss: 0.0024 - acc: 0.9996    \n",
      "8320/8334 [============================>.] - ETA: 0sEpoch 1/5\n",
      "16667/16667 [==============================] - 36s - loss: 0.3735 - acc: 0.8533    \n",
      "Epoch 2/5\n",
      "16667/16667 [==============================] - 28s - loss: 0.0987 - acc: 0.9666    \n",
      "Epoch 3/5\n",
      "16667/16667 [==============================] - 28s - loss: 0.0250 - acc: 0.9932    \n",
      "Epoch 4/5\n",
      "16667/16667 [==============================] - 28s - loss: 0.0051 - acc: 0.9992    \n",
      "Epoch 5/5\n",
      "16667/16667 [==============================] - 28s - loss: 0.0014 - acc: 0.9999    \n",
      "8320/8333 [============================>.] - ETA: 0sEpoch 1/5\n",
      "16667/16667 [==============================] - 34s - loss: 0.3965 - acc: 0.8158    \n",
      "Epoch 2/5\n",
      "16667/16667 [==============================] - 28s - loss: 0.1226 - acc: 0.9570    \n",
      "Epoch 3/5\n",
      "16667/16667 [==============================] - 28s - loss: 0.0367 - acc: 0.9902    \n",
      "Epoch 4/5\n",
      "16667/16667 [==============================] - 28s - loss: 0.0105 - acc: 0.9977    \n",
      "Epoch 5/5\n",
      "16667/16667 [==============================] - 28s - loss: 0.0033 - acc: 0.9994    \n",
      "8320/8333 [============================>.] - ETA: 0s[0.50827934 0.79935197 0.66674667]\n"
     ]
    }
   ],
   "source": [
    "def create_model():\n",
    "    # create model\n",
    "    model = Sequential()\n",
    "    model.add(Dense(256, input_dim=x_train.shape[1]))\n",
    "    model.add(Activation('relu'))\n",
    "    model.add(Dropout(0.4))\n",
    "    model.add(Dense(128))\n",
    "    model.add(Activation('relu'))\n",
    "    model.add(Dropout(0.2))\n",
    "    model.add(Dense(1, activation='sigmoid'))\n",
    "\n",
    "    model.compile(loss='binary_crossentropy', optimizer='adam',\n",
    "                  metrics=['accuracy'])\n",
    "    \n",
    "    return model\n",
    "\n",
    "# create model\n",
    "model = KerasClassifier(build_fn=create_model, epochs=5, batch_size=128, verbose=1)\n",
    "\n",
    "# kfold = StratifiedKFold(n_splits=3, shuffle=True, random_state=0)\n",
    "results = cross_val_score(model, x_train.toarray(), y_train, cv=3)\n",
    "print(results)"
   ]
  },
  {
   "cell_type": "code",
   "execution_count": 56,
   "metadata": {},
   "outputs": [
    {
     "data": {
      "text/plain": [
       "(25000, 44490)"
      ]
     },
     "execution_count": 56,
     "metadata": {},
     "output_type": "execute_result"
    }
   ],
   "source": [
    "x_train.shape"
   ]
  },
  {
   "cell_type": "code",
   "execution_count": 55,
   "metadata": {},
   "outputs": [
    {
     "name": "stdout",
     "output_type": "stream",
     "text": [
      "_________________________________________________________________\n",
      "Layer (type)                 Output Shape              Param #   \n",
      "=================================================================\n",
      "dense_18 (Dense)             (None, 256)               11389696  \n",
      "_________________________________________________________________\n",
      "activation_11 (Activation)   (None, 256)               0         \n",
      "_________________________________________________________________\n",
      "dropout_11 (Dropout)         (None, 256)               0         \n",
      "_________________________________________________________________\n",
      "dense_19 (Dense)             (None, 128)               32896     \n",
      "_________________________________________________________________\n",
      "activation_12 (Activation)   (None, 128)               0         \n",
      "_________________________________________________________________\n",
      "dropout_12 (Dropout)         (None, 128)               0         \n",
      "_________________________________________________________________\n",
      "dense_20 (Dense)             (None, 1)                 129       \n",
      "=================================================================\n",
      "Total params: 11,422,721.0\n",
      "Trainable params: 11,422,721.0\n",
      "Non-trainable params: 0.0\n",
      "_________________________________________________________________\n"
     ]
    }
   ],
   "source": [
    "create_model().summary()"
   ]
  },
  {
   "cell_type": "markdown",
   "metadata": {},
   "source": [
    "### embeddings"
   ]
  },
  {
   "cell_type": "code",
   "execution_count": 57,
   "metadata": {},
   "outputs": [
    {
     "name": "stdout",
     "output_type": "stream",
     "text": [
      "CPU times: user 4.75 s, sys: 157 ms, total: 4.91 s\n",
      "Wall time: 4.92 s\n"
     ]
    }
   ],
   "source": [
    "%%time\n",
    "max_features = 40000\n",
    "vec = CountVectorizer(binary=True, max_features=max_features)\n",
    "vec.fit(data_train)"
   ]
  },
  {
   "cell_type": "code",
   "execution_count": 58,
   "metadata": {},
   "outputs": [
    {
     "data": {
      "text/plain": [
       "40000"
      ]
     },
     "execution_count": 58,
     "metadata": {},
     "output_type": "execute_result"
    }
   ],
   "source": [
    "len(vec.vocabulary_)"
   ]
  },
  {
   "cell_type": "code",
   "execution_count": 59,
   "metadata": {},
   "outputs": [
    {
     "data": {
      "text/plain": [
       "['bromwell',\n",
       " 'high',\n",
       " 'is',\n",
       " 'cartoon',\n",
       " 'comedy',\n",
       " 'it',\n",
       " 'ran',\n",
       " 'at',\n",
       " 'the',\n",
       " 'same']"
      ]
     },
     "execution_count": 59,
     "metadata": {},
     "output_type": "execute_result"
    }
   ],
   "source": [
    "tokenizer = vec.build_analyzer()\n",
    "tokenizer(data_train[0])[:10]"
   ]
  },
  {
   "cell_type": "code",
   "execution_count": 60,
   "metadata": {},
   "outputs": [],
   "source": [
    "def sequence_builder(vec, corpus):\n",
    "    # Return a callable that handles preprocessing and tokenization\n",
    "    # For more info see\n",
    "    # https://github.com/scikit-learn/scikit-learn/blob/a24c8b46/sklearn/feature_extraction/text.py#L247\n",
    "    analyzer = vec.build_analyzer()\n",
    "    return np.array([\n",
    "        [vec.vocabulary_[token]\n",
    "         for token in tokenizer(doc)\n",
    "         if token in vec.vocabulary_\n",
    "        ]\n",
    "        for doc in data_train\n",
    "    ])"
   ]
  },
  {
   "cell_type": "code",
   "execution_count": 61,
   "metadata": {},
   "outputs": [
    {
     "name": "stdout",
     "output_type": "stream",
     "text": [
      "CPU times: user 7.85 s, sys: 107 ms, total: 7.95 s\n",
      "Wall time: 8.02 s\n"
     ]
    }
   ],
   "source": [
    "%%time\n",
    "# alternatively can do this\n",
    "# or preprocessing text\n",
    "# (x_train, y_train), (x_test, y_test) = imdb.load_data(num_words=10000)\n",
    "x_train_sequence = sequence_builder(vec, data_train)\n",
    "x_test_sequence = sequence_builder(vec, data_test)"
   ]
  },
  {
   "cell_type": "code",
   "execution_count": 62,
   "metadata": {},
   "outputs": [
    {
     "data": {
      "text/plain": [
       "<matplotlib.axes._subplots.AxesSubplot at 0x1240e6dd8>"
      ]
     },
     "execution_count": 62,
     "metadata": {},
     "output_type": "execute_result"
    },
    {
     "data": {
      "image/png": "[encoded data removed]",
      "text/plain": [
       "<matplotlib.figure.Figure at 0x1240e72b0>"
      ]
     },
     "metadata": {},
     "output_type": "display_data"
    }
   ],
   "source": [
    "seq_lens = pd.Series([len(x) for x in x_train_sequence])\n",
    "seq_lens.hist()"
   ]
  },
  {
   "cell_type": "code",
   "execution_count": 63,
   "metadata": {},
   "outputs": [
    {
     "data": {
      "text/plain": [
       "count    25000.000000\n",
       "mean       225.362560\n",
       "std        168.574272\n",
       "min          9.000000\n",
       "25%        121.000000\n",
       "50%        167.000000\n",
       "75%        274.000000\n",
       "max       2336.000000\n",
       "dtype: float64"
      ]
     },
     "execution_count": 63,
     "metadata": {},
     "output_type": "execute_result"
    }
   ],
   "source": [
    "seq_lens.describe()"
   ]
  },
  {
   "cell_type": "code",
   "execution_count": 64,
   "metadata": {},
   "outputs": [
    {
     "data": {
      "text/plain": [
       "2336"
      ]
     },
     "execution_count": 64,
     "metadata": {},
     "output_type": "execute_result"
    }
   ],
   "source": [
    "seq_lens.max()"
   ]
  },
  {
   "cell_type": "code",
   "execution_count": 65,
   "metadata": {},
   "outputs": [
    {
     "name": "stdout",
     "output_type": "stream",
     "text": [
      "CPU times: user 1.98 s, sys: 506 ms, total: 2.49 s\n",
      "Wall time: 2.47 s\n"
     ]
    }
   ],
   "source": [
    "%%time\n",
    "x_train_sequence_padded = pad_sequences(x_train_sequence)\n",
    "x_test_sequence_padded = pad_sequences(x_test_sequence)"
   ]
  },
  {
   "cell_type": "code",
   "execution_count": 66,
   "metadata": {},
   "outputs": [
    {
     "data": {
      "text/plain": [
       "2336"
      ]
     },
     "execution_count": 66,
     "metadata": {},
     "output_type": "execute_result"
    }
   ],
   "source": [
    "len(x_train_sequence_padded[0])"
   ]
  },
  {
   "cell_type": "code",
   "execution_count": 67,
   "metadata": {},
   "outputs": [
    {
     "name": "stdout",
     "output_type": "stream",
     "text": [
      "CPU times: user 1.2 s, sys: 79.6 ms, total: 1.28 s\n",
      "Wall time: 1.28 s\n"
     ]
    }
   ],
   "source": [
    "%%time\n",
    "maxlen = 250\n",
    "x_train_sequence_padded = pad_sequences(x_train_sequence, maxlen=maxlen)\n",
    "x_test_sequence_padded = pad_sequences(x_test_sequence, maxlen)"
   ]
  },
  {
   "cell_type": "code",
   "execution_count": 68,
   "metadata": {},
   "outputs": [
    {
     "data": {
      "text/plain": [
       "(25000, 250)"
      ]
     },
     "execution_count": 68,
     "metadata": {},
     "output_type": "execute_result"
    }
   ],
   "source": [
    "x_train_sequence_padded.shape"
   ]
  },
  {
   "cell_type": "code",
   "execution_count": 69,
   "metadata": {},
   "outputs": [
    {
     "data": {
      "text/plain": [
       "array([    0,     0,     0,     0,     0,     0,     0,     0,     0,\n",
       "           0,     0,     0,     0,     0,     0,     0,     0,     0,\n",
       "           0,     0,     0,     0,     0,     0,     0,     0,     0,\n",
       "           0,     0,     0,     0,     0,     0,     0,     0,     0,\n",
       "           0,     0,     0,     0,     0,     0,     0,     0,     0,\n",
       "           0,     0,     0,     0,     0,     0,     0,     0,     0,\n",
       "           0,     0,     0,     0,     0,     0,     0,     0,     0,\n",
       "           0,     0,     0,     0,     0,     0,     0,     0,     0,\n",
       "           0,     0,     0,     0,     0,     0,     0,     0,     0,\n",
       "           0,     0,     0,     0,     0,     0,     0,     0,     0,\n",
       "           0,     0,     0,     0,     0,     0,     0,     0,     0,\n",
       "           0,     0,     0,     0,     0,     0,     0,     0,     0,\n",
       "           0,     0,     0,     0,     0,     0,     0,     0,     0,\n",
       "           0,     0,     0,     0,  4820, 16797, 18857,  5627,  7069,\n",
       "       18914, 28494,  2406, 35663, 30753, 35947,  2249, 33057, 25213,\n",
       "       27702,   549, 31165, 20537, 34460,  2249, 35341, 23648,   317,\n",
       "       39713, 17824, 35663, 35343, 27662, 20257, 22121, 36030,  3439,\n",
       "       35658,  4820, 16797, 30903, 18857, 23480,  6750, 36030, 28717,\n",
       "       35647, 18857, 35341, 35663, 31277, 36030, 34787, 13274, 35663,\n",
       "       18336, 34258, 39077,  5359, 31510, 29936, 35838, 35675, 25876,\n",
       "       35341, 26996, 35663, 26338, 24796, 35663, 39083, 32434,  1299,\n",
       "       29294, 22121, 24796, 35663, 31179, 19786,  1606, 35675, 34258,\n",
       "       39000, 30976, 35663, 11982, 17824, 39014, 34257, 29396, 36625,\n",
       "       36030,  5075, 10758, 35663, 31165, 17658, 28786,  2406, 16797,\n",
       "        6578, 20636, 18367, 16693, 36030, 30615, 24950, 24796, 39803,\n",
       "       35341, 34257, 38928, 36030,  4820, 16797, 12498, 35658, 21561,\n",
       "         952, 24796, 23648,  1078, 35748, 35658,  4820, 16797, 18857,\n",
       "       12847, 13126, 38982, 26689, 35658, 18914, 18893], dtype=int32)"
      ]
     },
     "execution_count": 69,
     "metadata": {},
     "output_type": "execute_result"
    }
   ],
   "source": [
    "x_train_sequence_padded[0]"
   ]
  },
  {
   "cell_type": "markdown",
   "metadata": {},
   "source": [
    "#### learned"
   ]
  },
  {
   "cell_type": "code",
   "execution_count": 70,
   "metadata": {},
   "outputs": [
    {
     "data": {
      "text/plain": [
       "(25000, 250)"
      ]
     },
     "execution_count": 70,
     "metadata": {},
     "output_type": "execute_result"
    }
   ],
   "source": [
    "x_train_sequence_padded.shape"
   ]
  },
  {
   "cell_type": "code",
   "execution_count": 73,
   "metadata": {
    "scrolled": false
   },
   "outputs": [
    {
     "name": "stdout",
     "output_type": "stream",
     "text": [
      "_________________________________________________________________\n",
      "Layer (type)                 Output Shape              Param #   \n",
      "=================================================================\n",
      "embedding_5 (Embedding)      (None, 250, 300)          12000000  \n",
      "_________________________________________________________________\n",
      "flatten_5 (Flatten)          (None, 75000)             0         \n",
      "_________________________________________________________________\n",
      "dense_33 (Dense)             (None, 250)               18750250  \n",
      "_________________________________________________________________\n",
      "dropout_21 (Dropout)         (None, 250)               0         \n",
      "_________________________________________________________________\n",
      "dense_34 (Dense)             (None, 128)               32128     \n",
      "_________________________________________________________________\n",
      "activation_17 (Activation)   (None, 128)               0         \n",
      "_________________________________________________________________\n",
      "dropout_22 (Dropout)         (None, 128)               0         \n",
      "_________________________________________________________________\n",
      "dense_35 (Dense)             (None, 1)                 129       \n",
      "=================================================================\n",
      "Total params: 30,782,507.0\n",
      "Trainable params: 30,782,507.0\n",
      "Non-trainable params: 0.0\n",
      "_________________________________________________________________\n",
      "None\n",
      "Epoch 1/5\n",
      "16666/16666 [==============================] - 68s - loss: 0.4246 - acc: 0.8085    \n",
      "Epoch 2/5\n",
      "16666/16666 [==============================] - 66s - loss: 0.0775 - acc: 0.9739    \n",
      "Epoch 3/5\n",
      "16666/16666 [==============================] - 68s - loss: 0.0038 - acc: 0.9993    \n",
      "Epoch 4/5\n",
      "16666/16666 [==============================] - 67s - loss: 2.0339e-04 - acc: 1.0000    \n",
      "Epoch 5/5\n",
      "16666/16666 [==============================] - 66s - loss: 8.4328e-05 - acc: 1.0000    \n",
      "8320/8334 [============================>.] - ETA: 0sEpoch 1/5\n",
      "16667/16667 [==============================] - 65s - loss: 0.5017 - acc: 0.7226    \n",
      "Epoch 2/5\n",
      "16667/16667 [==============================] - 63s - loss: 0.0847 - acc: 0.9689    \n",
      "Epoch 3/5\n",
      "16667/16667 [==============================] - 66s - loss: 0.0025 - acc: 0.9995    \n",
      "Epoch 4/5\n",
      "16667/16667 [==============================] - 63s - loss: 4.0312e-04 - acc: 0.9999    \n",
      "Epoch 5/5\n",
      "16667/16667 [==============================] - 65s - loss: 6.9192e-04 - acc: 0.9999    \n",
      "8320/8333 [============================>.] - ETA: 0sEpoch 1/5\n",
      "16667/16667 [==============================] - 64s - loss: 0.4114 - acc: 0.8111    \n",
      "Epoch 2/5\n",
      "16667/16667 [==============================] - 63s - loss: 0.0721 - acc: 0.9750    \n",
      "Epoch 3/5\n",
      "16667/16667 [==============================] - 62s - loss: 0.0041 - acc: 0.9989    \n",
      "Epoch 4/5\n",
      "16667/16667 [==============================] - 63s - loss: 0.0015 - acc: 0.9997    \n",
      "Epoch 5/5\n",
      "16667/16667 [==============================] - 70s - loss: 1.2775e-04 - acc: 1.0000    \n",
      "8320/8333 [============================>.] - ETA: 0sResults: [0.60463163 0.83283331 0.58898356]\n"
     ]
    }
   ],
   "source": [
    "embedding_dim = 300\n",
    "\n",
    "def create_model():\n",
    "    model = Sequential()\n",
    "    model.add(Embedding(max_features, embedding_dim, input_length=maxlen))\n",
    "    model.add(Flatten())\n",
    "    model.add(Dense(250, activation='relu'))\n",
    "    model.add(Dropout(0.4))\n",
    "    model.add(Dense(128))\n",
    "    model.add(Activation('relu'))\n",
    "    model.add(Dropout(0.2))\n",
    "    model.add(Dense(1, activation='sigmoid'))\n",
    "    model.compile(loss='binary_crossentropy', optimizer='adam', metrics=['accuracy'])\n",
    "    return model\n",
    "\n",
    "print(create_model().summary())\n",
    "\n",
    "# Create model\n",
    "model = KerasClassifier(build_fn=create_model, epochs=5, batch_size=128, verbose=1)\n",
    "\n",
    "# kfold = StratifiedKFold(n_splits=3, shuffle=True, random_state=0)\n",
    "results = cross_val_score(model, x_train_sequence_padded, y_train, cv=3)\n",
    "print('Results: {}'.format(results))"
   ]
  },
  {
   "cell_type": "markdown",
   "metadata": {},
   "source": [
    "30M params is a bit too much, we have 40k vocab and 25k examples which is 1B things but still."
   ]
  },
  {
   "cell_type": "code",
   "execution_count": 75,
   "metadata": {},
   "outputs": [
    {
     "name": "stdout",
     "output_type": "stream",
     "text": [
      "_________________________________________________________________\n",
      "Layer (type)                 Output Shape              Param #   \n",
      "=================================================================\n",
      "embedding_11 (Embedding)     (None, 250, 300)          12000000  \n",
      "_________________________________________________________________\n",
      "flatten_11 (Flatten)         (None, 75000)             0         \n",
      "_________________________________________________________________\n",
      "dropout_31 (Dropout)         (None, 75000)             0         \n",
      "_________________________________________________________________\n",
      "dense_47 (Dense)             (None, 1)                 75001     \n",
      "=================================================================\n",
      "Total params: 12,075,001.0\n",
      "Trainable params: 12,075,001.0\n",
      "Non-trainable params: 0.0\n",
      "_________________________________________________________________\n",
      "None\n",
      "Epoch 1/5\n",
      "16666/16666 [==============================] - 28s - loss: 0.4751 - acc: 0.7790    \n",
      "Epoch 2/5\n",
      "16666/16666 [==============================] - 27s - loss: 0.1609 - acc: 0.9506    \n",
      "Epoch 3/5\n",
      "16666/16666 [==============================] - 26s - loss: 0.0575 - acc: 0.9901    \n",
      "Epoch 4/5\n",
      "16666/16666 [==============================] - 26s - loss: 0.0228 - acc: 0.9982    \n",
      "Epoch 5/5\n",
      "16666/16666 [==============================] - 26s - loss: 0.0113 - acc: 0.9997    \n",
      "8064/8334 [============================>.] - ETA: 0sEpoch 1/5\n",
      "16667/16667 [==============================] - 27s - loss: 0.5706 - acc: 0.6977    \n",
      "Epoch 2/5\n",
      "16667/16667 [==============================] - 27s - loss: 0.2044 - acc: 0.9357    \n",
      "Epoch 3/5\n",
      "16667/16667 [==============================] - 27s - loss: 0.0758 - acc: 0.9858    \n",
      "Epoch 4/5\n",
      "16667/16667 [==============================] - 27s - loss: 0.0307 - acc: 0.9977    \n",
      "Epoch 5/5\n",
      "16667/16667 [==============================] - 27s - loss: 0.0153 - acc: 0.9993    \n",
      "8333/8333 [==============================] - 0s     \n",
      "Epoch 1/5\n",
      "16667/16667 [==============================] - 28s - loss: 0.4631 - acc: 0.7859    \n",
      "Epoch 2/5\n",
      "16667/16667 [==============================] - 26s - loss: 0.1698 - acc: 0.9441    \n",
      "Epoch 3/5\n",
      "16667/16667 [==============================] - 27s - loss: 0.0609 - acc: 0.9893    - ETA: 5s -\n",
      "Epoch 4/5\n",
      "16667/16667 [==============================] - 27s - loss: 0.0246 - acc: 0.9980    \n",
      "Epoch 5/5\n",
      "16667/16667 [==============================] - 27s - loss: 0.0121 - acc: 0.9995    \n",
      "8192/8333 [============================>.] - ETA: 0sResults: [0.5761939  0.85839434 0.64814593]\n"
     ]
    }
   ],
   "source": [
    "def create_model():\n",
    "    model = Sequential()\n",
    "    model.add(Embedding(max_features, embedding_dim, input_length=maxlen))\n",
    "    model.add(Flatten())\n",
    "    model.add(Dropout(0.4))\n",
    "    model.add(Dense(1, activation='sigmoid'))\n",
    "    model.compile(loss='binary_crossentropy', optimizer='adam', metrics=['accuracy'])\n",
    "    return model\n",
    "\n",
    "print(create_model().summary())\n",
    "\n",
    "# Create model\n",
    "model = KerasClassifier(build_fn=create_model, epochs=5, batch_size=128, verbose=1)\n",
    "\n",
    "# kfold = StratifiedKFold(n_splits=3, shuffle=True, random_state=0)\n",
    "results = cross_val_score(model, x_train_sequence_padded, y_train, cv=3)\n",
    "print('Results: {}'.format(results))"
   ]
  },
  {
   "cell_type": "markdown",
   "metadata": {},
   "source": [
    "#### explore"
   ]
  },
  {
   "cell_type": "code",
   "execution_count": null,
   "metadata": {},
   "outputs": [],
   "source": [
    "model = create_model()\n",
    "model.fit(x_train_sequence_padded,\n",
    "          y_train,\n",
    "          epochs=5)"
   ]
  },
  {
   "cell_type": "code",
   "execution_count": 150,
   "metadata": {},
   "outputs": [
    {
     "data": {
      "text/plain": [
       "(40000, 300)"
      ]
     },
     "execution_count": 150,
     "metadata": {},
     "output_type": "execute_result"
    }
   ],
   "source": [
    "model.get_weights()[0].shape"
   ]
  },
  {
   "cell_type": "code",
   "execution_count": 151,
   "metadata": {},
   "outputs": [],
   "source": [
    "def word_distance(word1, word2,\n",
    "                  weights=model.get_weights()[0],\n",
    "                  distance_function=np.linalg.norm):\n",
    "    word1_index = vec.vocabulary_[word1]\n",
    "    word2_index = vec.vocabulary_[word2]\n",
    "    word1_vec = weights[word1_index]\n",
    "    word2_vec = weights[word2_index]\n",
    "    diff = word1_vec - word2_vec\n",
    "    return distance_function(diff)"
   ]
  },
  {
   "cell_type": "code",
   "execution_count": 152,
   "metadata": {},
   "outputs": [
    {
     "data": {
      "text/plain": [
       "23445"
      ]
     },
     "execution_count": 152,
     "metadata": {},
     "output_type": "execute_result"
    }
   ],
   "source": [
    "vec.vocabulary_['movie']"
   ]
  },
  {
   "cell_type": "code",
   "execution_count": 153,
   "metadata": {},
   "outputs": [
    {
     "data": {
      "text/plain": [
       "13225"
      ]
     },
     "execution_count": 153,
     "metadata": {},
     "output_type": "execute_result"
    }
   ],
   "source": [
    "vec.vocabulary_['film']"
   ]
  },
  {
   "cell_type": "code",
   "execution_count": 154,
   "metadata": {},
   "outputs": [
    {
     "data": {
      "text/plain": [
       "(300,)"
      ]
     },
     "execution_count": 154,
     "metadata": {},
     "output_type": "execute_result"
    }
   ],
   "source": [
    "model.get_weights()[0][23445].shape"
   ]
  },
  {
   "cell_type": "code",
   "execution_count": 155,
   "metadata": {},
   "outputs": [
    {
     "data": {
      "text/plain": [
       "1.3873523"
      ]
     },
     "execution_count": 155,
     "metadata": {},
     "output_type": "execute_result"
    }
   ],
   "source": [
    "word_distance('movie', 'film')"
   ]
  },
  {
   "cell_type": "code",
   "execution_count": 156,
   "metadata": {},
   "outputs": [
    {
     "data": {
      "text/plain": [
       "5.2641897"
      ]
     },
     "execution_count": 156,
     "metadata": {},
     "output_type": "execute_result"
    }
   ],
   "source": [
    "word_distance('awesome', 'awful')"
   ]
  },
  {
   "cell_type": "code",
   "execution_count": 157,
   "metadata": {},
   "outputs": [
    {
     "data": {
      "text/plain": [
       "6.158282"
      ]
     },
     "execution_count": 157,
     "metadata": {},
     "output_type": "execute_result"
    }
   ],
   "source": [
    "word_distance('worst', 'best')"
   ]
  },
  {
   "cell_type": "code",
   "execution_count": 158,
   "metadata": {},
   "outputs": [
    {
     "data": {
      "text/plain": [
       "4.736925"
      ]
     },
     "execution_count": 158,
     "metadata": {},
     "output_type": "execute_result"
    }
   ],
   "source": [
    "word_distance('awesome', 'terrible')"
   ]
  },
  {
   "cell_type": "code",
   "execution_count": 159,
   "metadata": {},
   "outputs": [
    {
     "data": {
      "text/plain": [
       "2.094317"
      ]
     },
     "execution_count": 159,
     "metadata": {},
     "output_type": "execute_result"
    }
   ],
   "source": [
    "word_distance('waste', 'poor')"
   ]
  },
  {
   "cell_type": "code",
   "execution_count": 160,
   "metadata": {},
   "outputs": [
    {
     "data": {
      "text/plain": [
       "2.094317"
      ]
     },
     "execution_count": 160,
     "metadata": {},
     "output_type": "execute_result"
    }
   ],
   "source": [
    "word_distance('waste', 'poor')"
   ]
  },
  {
   "cell_type": "code",
   "execution_count": 161,
   "metadata": {},
   "outputs": [
    {
     "data": {
      "text/plain": [
       "1.5102595"
      ]
     },
     "execution_count": 161,
     "metadata": {},
     "output_type": "execute_result"
    }
   ],
   "source": [
    "word_distance('great', 'awesome')"
   ]
  },
  {
   "cell_type": "code",
   "execution_count": 162,
   "metadata": {},
   "outputs": [
    {
     "data": {
      "text/plain": [
       "2.010684"
      ]
     },
     "execution_count": 162,
     "metadata": {},
     "output_type": "execute_result"
    }
   ],
   "source": [
    "word_distance('love', 'hate')"
   ]
  },
  {
   "cell_type": "code",
   "execution_count": 163,
   "metadata": {},
   "outputs": [
    {
     "data": {
      "text/plain": [
       "1.5568086"
      ]
     },
     "execution_count": 163,
     "metadata": {},
     "output_type": "execute_result"
    }
   ],
   "source": [
    "word_distance('drama', 'comedy')"
   ]
  },
  {
   "cell_type": "code",
   "execution_count": 164,
   "metadata": {},
   "outputs": [],
   "source": [
    "weights = model.get_weights()[0]"
   ]
  },
  {
   "cell_type": "code",
   "execution_count": 171,
   "metadata": {},
   "outputs": [],
   "source": [
    "def most_similar(word, n=5):\n",
    "    q = weights[vec.vocabulary_[word]]\n",
    "    return sorted([(np.linalg.norm(q - weights[vec.vocabulary_[word]]), word) for word in vec.vocabulary_],\n",
    "       key=lambda x: x[0])[:n]"
   ]
  },
  {
   "cell_type": "code",
   "execution_count": 179,
   "metadata": {},
   "outputs": [
    {
     "data": {
      "text/plain": [
       "[(0.0, 'waste'),\n",
       " (1.6937237, 'poorly'),\n",
       " (1.7261549, 'worst'),\n",
       " (1.7480385, 'horrible'),\n",
       " (1.762903, 'awful')]"
      ]
     },
     "execution_count": 179,
     "metadata": {},
     "output_type": "execute_result"
    }
   ],
   "source": [
    "most_similar('waste')"
   ]
  },
  {
   "cell_type": "code",
   "execution_count": 180,
   "metadata": {},
   "outputs": [
    {
     "data": {
      "text/plain": [
       "[(0.0, 'excellent'),\n",
       " (1.4783454, 'superb'),\n",
       " (1.5926542, 'wonderful'),\n",
       " (1.6464489, 'touching'),\n",
       " (1.6613092, 'amazing')]"
      ]
     },
     "execution_count": 180,
     "metadata": {},
     "output_type": "execute_result"
    }
   ],
   "source": [
    "most_similar('excellent')"
   ]
  },
  {
   "cell_type": "markdown",
   "metadata": {},
   "source": [
    "#### pre-trained"
   ]
  },
  {
   "cell_type": "code",
   "execution_count": 206,
   "metadata": {},
   "outputs": [
    {
     "name": "stdout",
     "output_type": "stream",
     "text": [
      "--2018-05-20 12:39:33--  http://nlp.stanford.edu/data/glove.6B.zip\n",
      "Resolving nlp.stanford.edu... 171.64.67.140\n",
      "Connecting to nlp.stanford.edu|171.64.67.140|:80... connected.\n",
      "HTTP request sent, awaiting response... 302 Found\n",
      "Location: https://nlp.stanford.edu/data/glove.6B.zip [following]\n",
      "--2018-05-20 12:39:33--  https://nlp.stanford.edu/data/glove.6B.zip\n",
      "Connecting to nlp.stanford.edu|171.64.67.140|:443... connected.\n",
      "HTTP request sent, awaiting response... 200 OK\n",
      "Length: 862182613 (822M) [application/zip]\n",
      "Saving to: ‘glove.6B.zip’\n",
      "\n",
      "glove.6B.zip        100%[===================>] 822.24M  9.29MB/s    in 78s     \n",
      "\n",
      "2018-05-20 12:40:52 (10.5 MB/s) - ‘glove.6B.zip’ saved [862182613/862182613]\n",
      "\n",
      "Archive:  glove.6B.zip\n",
      "  inflating: glove.6B.50d.txt        \n",
      "  inflating: glove.6B.100d.txt       \n",
      "  inflating: glove.6B.200d.txt       \n",
      "  inflating: glove.6B.300d.txt       \n"
     ]
    }
   ],
   "source": [
    "!wget http://nlp.stanford.edu/data/glove.6B.zip\n",
    "!unzip glove.6B.zip\n",
    "!rm glove.6B.zip\n",
    "!rm glove.6B.50d.txt\n",
    "!rm glove.6B.100d.txt\n",
    "!rm glove.6B.200d.txt"
   ]
  },
  {
   "cell_type": "code",
   "execution_count": 210,
   "metadata": {},
   "outputs": [
    {
     "name": "stdout",
     "output_type": "stream",
     "text": [
      "-rw-rw-r--@ 1 amir.ziai  10000   990M Aug 27  2014 glove.6B.300d.txt\r\n"
     ]
    }
   ],
   "source": [
    "!ls -lht glove*"
   ]
  },
  {
   "cell_type": "code",
   "execution_count": 246,
   "metadata": {},
   "outputs": [
    {
     "name": "stdout",
     "output_type": "stream",
     "text": [
      "the 0.04656 0.21318 -0.0074364 -0.45854 -0.035639 0.23643 -0.28836 0.21521 -0.13486 -1.6413 -0.26091 0.032434 0.056621 -0.043296 -0.021672 0.22476 -0.075129 -0.067018 -0.14247 0.038825 -0.18951 0.29977 0.39305 0.17887 -0.17343 -0.21178 0.23617 -0.063681 -0.42318 -0.11661 0.093754 0.17296 -0.33073 0.49112 -0.68995 -0.092462 0.24742 -0.17991 0.097908 0.083118 0.15299 -0.27276 -0.038934 0.54453 0.53737 0.29105 -0.0073514 0.04788 -0.4076 -0.026759 0.17919 0.010977 -0.10963 -0.26395 0.07399 0.26236 -0.1508 0.34623 0.25758 0.11971 -0.037135 -0.071593 0.43898 -0.040764 0.016425 -0.4464 0.17197 0.046246 0.058639 0.041499 0.53948 0.52495 0.11361 -0.048315 -0.36385 0.18704 0.092761 -0.11129 -0.42085 0.13992 -0.39338 -0.067945 0.12188 0.16707 0.075169 -0.015529 -0.19499 0.19638 0.053194 0.2517 -0.34845 -0.10638 -0.34692 -0.19024 -0.2004 0.12154 -0.29208 0.023353 -0.11618 -0.35768 0.062304 0.35884 0.02906 0.0073005 0.0049482 -0.15048 -0.12313 0.19337 0.12173 0.44503 0.25147 0.10781 -0.17716 0.038691 0.08153 0.14667 0.063666 0.061332 -0.075569 -0.37724 0.01585 -0.30342 0.28374 -0.042013 -0.040715 -0.15269 0.07498 0.15577 0.10433 0.31393 0.19309 0.19429 0.15185 -0.10192 -0.018785 0.20791 0.13366 0.19038 -0.25558 0.304 -0.01896 0.20147 -0.4211 -0.0075156 -0.27977 -0.19314 0.046204 0.19971 -0.30207 0.25735 0.68107 -0.19409 0.23984 0.22493 0.65224 -0.13561 -0.17383 -0.048209 -0.1186 0.0021588 -0.019525 0.11948 0.19346 -0.4082 -0.082966 0.16626 -0.10601 0.35861 0.16922 0.07259 -0.24803 -0.10024 -0.52491 -0.17745 -0.36647 0.2618 -0.012077 0.08319 -0.21528 0.41045 0.29136 0.30869 0.078864 0.32207 -0.041023 -0.1097 -0.092041 -0.12339 -0.16416 0.35382 -0.082774 0.33171 -0.24738 -0.048928 0.15746 0.18988 -0.026642 0.063315 -0.010673 0.34089 1.4106 0.13417 0.28191 -0.2594 0.055267 -0.052425 -0.25789 0.019127 -0.022084 0.32113 0.068818 0.51207 0.16478 -0.20194 0.29232 0.098575 0.013145 -0.10652 0.1351 -0.045332 0.20697 -0.48425 -0.44706 0.0033305 0.0029264 -0.10975 -0.23325 0.22442 -0.10503 0.12339 0.10978 0.048994 -0.25157 0.40319 0.35318 0.18651 -0.023622 -0.12734 0.11475 0.27359 -0.21866 0.015794 0.81754 -0.023792 -0.85469 -0.16203 0.18076 0.028014 -0.1434 0.0013139 -0.091735 -0.089704 0.11105 -0.16703 0.068377 -0.087388 -0.039789 0.014184 0.21187 0.28579 -0.28797 -0.058996 -0.032436 -0.0047009 -0.17052 -0.034741 -0.11489 0.075093 0.099526 0.048183 -0.073775 -0.41817 0.0041268 0.44414 -0.16062 0.14294 -2.2628 -0.027347 0.81311 0.77417 -0.25639 -0.11576 -0.11982 -0.21363 0.028429 0.27261 0.031026 0.096782 0.0067769 0.14082 -0.013064 -0.29686 -0.079913 0.195 0.031549 0.28506 -0.087461 0.0090611 -0.20989 0.053913\r\n"
     ]
    }
   ],
   "source": [
    "!head -1 glove.6B.300d.txt"
   ]
  },
  {
   "cell_type": "code",
   "execution_count": 222,
   "metadata": {},
   "outputs": [
    {
     "data": {
      "text/plain": [
       "400000"
      ]
     },
     "execution_count": 222,
     "metadata": {},
     "output_type": "execute_result"
    }
   ],
   "source": [
    "len(embedding)"
   ]
  },
  {
   "cell_type": "code",
   "execution_count": 223,
   "metadata": {},
   "outputs": [],
   "source": [
    "embedding_matrix = np.zeros((max_features, embedding_dim))"
   ]
  },
  {
   "cell_type": "code",
   "execution_count": 227,
   "metadata": {},
   "outputs": [
    {
     "data": {
      "text/plain": [
       "'andromeda'"
      ]
     },
     "execution_count": 227,
     "metadata": {},
     "output_type": "execute_result"
    }
   ],
   "source": [
    "next(iter(vec.vocabulary_))"
   ]
  },
  {
   "cell_type": "code",
   "execution_count": 228,
   "metadata": {},
   "outputs": [
    {
     "data": {
      "text/plain": [
       "1624"
      ]
     },
     "execution_count": 228,
     "metadata": {},
     "output_type": "execute_result"
    }
   ],
   "source": [
    "vec.vocabulary_['andromeda']"
   ]
  },
  {
   "cell_type": "code",
   "execution_count": 234,
   "metadata": {},
   "outputs": [],
   "source": [
    "def load_embedding(path, embedding_dim):\n",
    "    embedding = {}\n",
    "    for line in open(path):\n",
    "        word, *values = line.split()\n",
    "        embedding[word] = np.asarray(values)\n",
    "    \n",
    "    embedding_matrix = np.zeros((max_features, embedding_dim))\n",
    "    for word, word_index in vec.vocabulary_.items():\n",
    "        if word in embedding:\n",
    "            embedding_matrix[word_index] = embedding[word]\n",
    "        \n",
    "    return embedding_matrix"
   ]
  },
  {
   "cell_type": "code",
   "execution_count": 235,
   "metadata": {},
   "outputs": [
    {
     "name": "stdout",
     "output_type": "stream",
     "text": [
      "CPU times: user 32.7 s, sys: 4.81 s, total: 37.6 s\n",
      "Wall time: 37.9 s\n"
     ]
    }
   ],
   "source": [
    "%%time\n",
    "embedding_glove300d = load_embedding('glove.6B.300d.txt', 300)"
   ]
  },
  {
   "cell_type": "code",
   "execution_count": 236,
   "metadata": {},
   "outputs": [
    {
     "data": {
      "text/plain": [
       "(40000, 300)"
      ]
     },
     "execution_count": 236,
     "metadata": {},
     "output_type": "execute_result"
    }
   ],
   "source": [
    "embedding_glove300d.shape"
   ]
  },
  {
   "cell_type": "code",
   "execution_count": 248,
   "metadata": {},
   "outputs": [],
   "source": [
    "def most_similar(weights, word, n=5):\n",
    "    q = weights[vec.vocabulary_[word]]\n",
    "    return sorted([(np.linalg.norm(q - weights[vec.vocabulary_[word]]), word) for word in vec.vocabulary_],\n",
    "       key=lambda x: x[0])[:n]"
   ]
  },
  {
   "cell_type": "code",
   "execution_count": 249,
   "metadata": {},
   "outputs": [
    {
     "data": {
      "text/plain": [
       "[(0.0, 'love'),\n",
       " (5.092279474471483, 'loves'),\n",
       " (5.196532417405527, 'passion'),\n",
       " (5.312959134001991, 'always'),\n",
       " (5.342987625833064, 'loved')]"
      ]
     },
     "execution_count": 249,
     "metadata": {},
     "output_type": "execute_result"
    }
   ],
   "source": [
    "most_similar(embedding_glove300d, 'love')"
   ]
  },
  {
   "cell_type": "code",
   "execution_count": 250,
   "metadata": {},
   "outputs": [
    {
     "data": {
      "text/plain": [
       "[(0.0, 'awful'),\n",
       " (3.435496499258442, 'horrible'),\n",
       " (3.744205737861488, 'terrible'),\n",
       " (4.063197551904514, 'dreadful'),\n",
       " (4.694474766884046, 'horrendous')]"
      ]
     },
     "execution_count": 250,
     "metadata": {},
     "output_type": "execute_result"
    }
   ],
   "source": [
    "most_similar(embedding_glove300d, 'awful')"
   ]
  },
  {
   "cell_type": "code",
   "execution_count": 251,
   "metadata": {},
   "outputs": [
    {
     "data": {
      "text/plain": [
       "[(0.0, 'movie'),\n",
       " (3.632431241088511, 'movies'),\n",
       " (3.6684420774405804, 'film'),\n",
       " (4.39624693123189, 'films'),\n",
       " (5.262785903275571, 'sequel')]"
      ]
     },
     "execution_count": 251,
     "metadata": {},
     "output_type": "execute_result"
    }
   ],
   "source": [
    "most_similar(embedding_glove300d, 'movie')"
   ]
  },
  {
   "cell_type": "code",
   "execution_count": 256,
   "metadata": {},
   "outputs": [
    {
     "name": "stdout",
     "output_type": "stream",
     "text": [
      "_________________________________________________________________\n",
      "Layer (type)                 Output Shape              Param #   \n",
      "=================================================================\n",
      "embedding_17 (Embedding)     (None, 250, 300)          12000000  \n",
      "_________________________________________________________________\n",
      "flatten_17 (Flatten)         (None, 75000)             0         \n",
      "_________________________________________________________________\n",
      "dropout_37 (Dropout)         (None, 75000)             0         \n",
      "_________________________________________________________________\n",
      "dense_53 (Dense)             (None, 1)                 75001     \n",
      "=================================================================\n",
      "Total params: 12,075,001.0\n",
      "Trainable params: 75,001.0\n",
      "Non-trainable params: 12,000,000.0\n",
      "_________________________________________________________________\n",
      "None\n",
      "Epoch 1/5\n",
      "16666/16666 [==============================] - 27s - loss: 0.6020 - acc: 0.7433    \n",
      "Epoch 2/5\n",
      "16666/16666 [==============================] - 27s - loss: 0.2432 - acc: 0.9011    \n",
      "Epoch 3/5\n",
      "16666/16666 [==============================] - 26s - loss: 0.1327 - acc: 0.9548    \n",
      "Epoch 4/5\n",
      "16666/16666 [==============================] - 26s - loss: 0.0724 - acc: 0.9812    \n",
      "Epoch 5/5\n",
      "16666/16666 [==============================] - 26s - loss: 0.0510 - acc: 0.9863    \n",
      "8064/8334 [============================>.] - ETA: 0sEpoch 1/5\n",
      "16667/16667 [==============================] - 27s - loss: 0.6732 - acc: 0.6623    \n",
      "Epoch 2/5\n",
      "16667/16667 [==============================] - 26s - loss: 0.3099 - acc: 0.8734    \n",
      "Epoch 3/5\n",
      "16667/16667 [==============================] - 26s - loss: 0.1670 - acc: 0.9422    \n",
      "Epoch 4/5\n",
      "16667/16667 [==============================] - 26s - loss: 0.0991 - acc: 0.9719    - ETA: 0s - loss: 0.0988 - acc: 0.\n",
      "Epoch 5/5\n",
      "16667/16667 [==============================] - 27s - loss: 0.0682 - acc: 0.9826    \n",
      "8192/8333 [============================>.] - ETA: 0sEpoch 1/5\n",
      "16667/16667 [==============================] - 28s - loss: 0.6096 - acc: 0.7515    \n",
      "Epoch 2/5\n",
      "16667/16667 [==============================] - 26s - loss: 0.2570 - acc: 0.8979    \n",
      "Epoch 3/5\n",
      "16667/16667 [==============================] - 26s - loss: 0.1388 - acc: 0.9536    \n",
      "Epoch 4/5\n",
      "16667/16667 [==============================] - 27s - loss: 0.0901 - acc: 0.9723    \n",
      "Epoch 5/5\n",
      "16667/16667 [==============================] - 27s - loss: 0.0519 - acc: 0.9878    \n",
      "8064/8333 [============================>.] - ETA: 0sResults: [0.71358291 0.83463339 0.66290652]\n"
     ]
    }
   ],
   "source": [
    "def create_model():\n",
    "    model = Sequential()\n",
    "    model.add(Embedding(max_features, embedding_dim, input_length=maxlen))\n",
    "    model.add(Flatten())\n",
    "    model.add(Dropout(0.4))\n",
    "    model.add(Dense(1, activation='sigmoid'))\n",
    "    model.compile(loss='binary_crossentropy', optimizer='adam', metrics=['accuracy'])\n",
    "    model.layers[0].set_weights([embedding_glove300d])\n",
    "    model.layers[0].trainable = False\n",
    "    return model\n",
    "\n",
    "print(create_model().summary())\n",
    "\n",
    "# Create model\n",
    "model = KerasClassifier(build_fn=create_model, epochs=5, batch_size=128, verbose=1)\n",
    "\n",
    "# kfold = StratifiedKFold(n_splits=3, shuffle=True, random_state=0)\n",
    "results = cross_val_score(model, x_train_sequence_padded, y_train, cv=3)\n",
    "print('Results: {}'.format(results))"
   ]
  },
  {
   "cell_type": "markdown",
   "metadata": {},
   "source": [
    "### Sequence"
   ]
  },
  {
   "cell_type": "code",
   "execution_count": 300,
   "metadata": {},
   "outputs": [],
   "source": [
    "def cv_report(create_model, epochs=5, batch_size=128, verbose=1, cv=3):\n",
    "    print(create_model().summary())\n",
    "    print()\n",
    "\n",
    "    # Create model\n",
    "    model = KerasClassifier(build_fn=create_model,\n",
    "                            epochs=epochs, batch_size=batch_size, verbose=verbose)\n",
    "\n",
    "    # kfold = StratifiedKFold(n_splits=3, shuffle=True, random_state=0)\n",
    "    results = cross_val_score(model, x_train_sequence_padded, y_train, cv=cv)\n",
    "    print()\n",
    "    print('Results: {}, mean: {:.2f}%, std: {:.2f}%'.format(results,\n",
    "                                                            100 * results.mean(), 100 * results.std()))"
   ]
  },
  {
   "cell_type": "code",
   "execution_count": 286,
   "metadata": {},
   "outputs": [
    {
     "name": "stdout",
     "output_type": "stream",
     "text": [
      "_________________________________________________________________\n",
      "Layer (type)                 Output Shape              Param #   \n",
      "=================================================================\n",
      "embedding_41 (Embedding)     (None, 250, 300)          12000000  \n",
      "_________________________________________________________________\n",
      "dropout_68 (Dropout)         (None, 250, 300)          0         \n",
      "_________________________________________________________________\n",
      "simple_rnn_9 (SimpleRNN)     (None, 32)                10656     \n",
      "_________________________________________________________________\n",
      "dropout_69 (Dropout)         (None, 32)                0         \n",
      "_________________________________________________________________\n",
      "dense_76 (Dense)             (None, 1)                 33        \n",
      "=================================================================\n",
      "Total params: 12,010,689.0\n",
      "Trainable params: 10,689.0\n",
      "Non-trainable params: 12,000,000.0\n",
      "_________________________________________________________________\n",
      "None\n",
      "\n",
      "Epoch 1/5\n",
      "16666/16666 [==============================] - 39s - loss: 0.6312 - acc: 0.6982    \n",
      "Epoch 2/5\n",
      "16666/16666 [==============================] - 38s - loss: 0.5656 - acc: 0.7324    \n",
      "Epoch 3/5\n",
      "16666/16666 [==============================] - 39s - loss: 0.5016 - acc: 0.7708    \n",
      "Epoch 4/5\n",
      "16666/16666 [==============================] - 37s - loss: 0.4843 - acc: 0.7694    \n",
      "Epoch 5/5\n",
      "16666/16666 [==============================] - 37s - loss: 0.4177 - acc: 0.8246    \n",
      "8320/8334 [============================>.] - ETA: 0sEpoch 1/5\n",
      "16667/16667 [==============================] - 38s - loss: 0.7564 - acc: 0.5363    \n",
      "Epoch 2/5\n",
      "16667/16667 [==============================] - 38s - loss: 0.6547 - acc: 0.6333    \n",
      "Epoch 3/5\n",
      "16667/16667 [==============================] - 37s - loss: 0.5379 - acc: 0.7511    \n",
      "Epoch 4/5\n",
      "16667/16667 [==============================] - 37s - loss: 0.6758 - acc: 0.5995    \n",
      "Epoch 5/5\n",
      "16667/16667 [==============================] - 37s - loss: 0.6907 - acc: 0.5433    \n",
      "8320/8333 [============================>.] - ETA: 0sEpoch 1/5\n",
      "16667/16667 [==============================] - 38s - loss: 0.6297 - acc: 0.6928    \n",
      "Epoch 2/5\n",
      "16667/16667 [==============================] - 39s - loss: 0.5365 - acc: 0.7551    \n",
      "Epoch 3/5\n",
      "16667/16667 [==============================] - 38s - loss: 0.5302 - acc: 0.7612    \n",
      "Epoch 4/5\n",
      "16667/16667 [==============================] - 37s - loss: 0.4742 - acc: 0.7958    \n",
      "Epoch 5/5\n",
      "16667/16667 [==============================] - 37s - loss: 0.4478 - acc: 0.8128    \n",
      "8320/8333 [============================>.] - ETA: 0s\n",
      "Results: [0.0311975  0.57974319 0.52622105], mean: 0.38%, std: 0.25%\n"
     ]
    }
   ],
   "source": [
    "def create_model():\n",
    "    model = Sequential()\n",
    "    model.add(Embedding(max_features, embedding_dim, input_length=maxlen))\n",
    "    model.add(Dropout(0.5))\n",
    "    model.add(SimpleRNN(32))\n",
    "    model.add(Dropout(0.5))\n",
    "    model.add(Dense(1, activation='sigmoid'))\n",
    "    model.compile(loss='binary_crossentropy', optimizer='adam', metrics=['accuracy'])\n",
    "    model.layers[0].set_weights([embedding_glove300d])\n",
    "    model.layers[0].trainable = False\n",
    "    return model\n",
    "\n",
    "cv_report(create_model)"
   ]
  },
  {
   "cell_type": "code",
   "execution_count": 287,
   "metadata": {},
   "outputs": [
    {
     "name": "stdout",
     "output_type": "stream",
     "text": [
      "_________________________________________________________________\n",
      "Layer (type)                 Output Shape              Param #   \n",
      "=================================================================\n",
      "embedding_45 (Embedding)     (None, 250, 300)          12000000  \n",
      "_________________________________________________________________\n",
      "dropout_76 (Dropout)         (None, 250, 300)          0         \n",
      "_________________________________________________________________\n",
      "lstm_1 (LSTM)                (None, 64)                93440     \n",
      "_________________________________________________________________\n",
      "dropout_77 (Dropout)         (None, 64)                0         \n",
      "_________________________________________________________________\n",
      "dense_80 (Dense)             (None, 1)                 65        \n",
      "=================================================================\n",
      "Total params: 12,093,505.0\n",
      "Trainable params: 12,093,505.0\n",
      "Non-trainable params: 0.0\n",
      "_________________________________________________________________\n",
      "None\n",
      "\n",
      "Epoch 1/5\n",
      "16666/16666 [==============================] - 118s - loss: 0.4447 - acc: 0.8000   \n",
      "Epoch 2/5\n",
      "16666/16666 [==============================] - 115s - loss: 0.1848 - acc: 0.9326   \n",
      "Epoch 3/5\n",
      "16666/16666 [==============================] - 118s - loss: 0.0956 - acc: 0.9693   \n",
      "Epoch 4/5\n",
      "16666/16666 [==============================] - 115s - loss: 0.0595 - acc: 0.9814   \n",
      "Epoch 5/5\n",
      "16666/16666 [==============================] - 115s - loss: 0.0312 - acc: 0.9914   \n",
      "8334/8334 [==============================] - 17s    \n",
      "Epoch 1/5\n",
      "16667/16667 [==============================] - 117s - loss: 0.4672 - acc: 0.7700   \n",
      "Epoch 2/5\n",
      "16667/16667 [==============================] - 118s - loss: 0.2029 - acc: 0.9249   \n",
      "Epoch 3/5\n",
      "16667/16667 [==============================] - 120s - loss: 0.1062 - acc: 0.9663   \n",
      "Epoch 4/5\n",
      "16667/16667 [==============================] - 117s - loss: 0.0576 - acc: 0.9818   \n",
      "Epoch 5/5\n",
      "16667/16667 [==============================] - 115s - loss: 0.0831 - acc: 0.9731   \n",
      "8320/8333 [============================>.] - ETA: 0sEpoch 1/5\n",
      "16667/16667 [==============================] - 116s - loss: 0.4884 - acc: 0.7737   \n",
      "Epoch 2/5\n",
      "16667/16667 [==============================] - 115s - loss: 0.2517 - acc: 0.9041   \n",
      "Epoch 3/5\n",
      "16667/16667 [==============================] - 115s - loss: 0.1324 - acc: 0.9545   \n",
      "Epoch 4/5\n",
      "16667/16667 [==============================] - 118s - loss: 0.0760 - acc: 0.9755   \n",
      "Epoch 5/5\n",
      "16667/16667 [==============================] - 117s - loss: 0.0597 - acc: 0.9815   \n",
      "8320/8333 [============================>.] - ETA: 0s\n",
      "Results: [0.52783777 0.8199928  0.63278531], mean: 0.66%, std: 0.12%\n"
     ]
    }
   ],
   "source": [
    "def create_model():\n",
    "    model = Sequential()\n",
    "    model.add(Embedding(max_features, embedding_dim, input_length=maxlen))\n",
    "    model.add(Dropout(0.5))\n",
    "    model.add(LSTM(64))\n",
    "    model.add(Dropout(0.5))\n",
    "    model.add(Dense(1, activation='sigmoid'))\n",
    "    model.compile(loss='binary_crossentropy', optimizer='adam', metrics=['accuracy'])\n",
    "    return model\n",
    "\n",
    "cv_report(create_model)"
   ]
  },
  {
   "cell_type": "code",
   "execution_count": 295,
   "metadata": {},
   "outputs": [
    {
     "name": "stdout",
     "output_type": "stream",
     "text": [
      "_________________________________________________________________\n",
      "Layer (type)                 Output Shape              Param #   \n",
      "=================================================================\n",
      "embedding_55 (Embedding)     (None, 250, 300)          12000000  \n",
      "_________________________________________________________________\n",
      "dropout_102 (Dropout)        (None, 250, 300)          0         \n",
      "_________________________________________________________________\n",
      "lstm_18 (LSTM)               (None, 250, 64)           93440     \n",
      "_________________________________________________________________\n",
      "dropout_103 (Dropout)        (None, 250, 64)           0         \n",
      "_________________________________________________________________\n",
      "lstm_19 (LSTM)               (None, 250, 64)           33024     \n",
      "_________________________________________________________________\n",
      "dropout_104 (Dropout)        (None, 250, 64)           0         \n",
      "_________________________________________________________________\n",
      "lstm_20 (LSTM)               (None, 250, 64)           33024     \n",
      "_________________________________________________________________\n",
      "dropout_105 (Dropout)        (None, 250, 64)           0         \n",
      "_________________________________________________________________\n",
      "lstm_21 (LSTM)               (None, 64)                33024     \n",
      "_________________________________________________________________\n",
      "dropout_106 (Dropout)        (None, 64)                0         \n",
      "_________________________________________________________________\n",
      "dense_89 (Dense)             (None, 1)                 65        \n",
      "=================================================================\n",
      "Total params: 12,192,577.0\n",
      "Trainable params: 12,192,577.0\n",
      "Non-trainable params: 0.0\n",
      "_________________________________________________________________\n",
      "None\n",
      "\n",
      "Epoch 1/10\n",
      "16666/16666 [==============================] - 335s - loss: 0.4801 - acc: 0.7969   \n",
      "Epoch 2/10\n",
      "16666/16666 [==============================] - 330s - loss: 0.2122 - acc: 0.9225   \n",
      "Epoch 3/10\n",
      "16666/16666 [==============================] - 330s - loss: 0.0962 - acc: 0.9689   \n",
      "Epoch 4/10\n",
      "16666/16666 [==============================] - 332s - loss: 0.0521 - acc: 0.9841   \n",
      "Epoch 5/10\n",
      "16666/16666 [==============================] - 329s - loss: 0.0322 - acc: 0.9908   \n",
      "Epoch 6/10\n",
      "16666/16666 [==============================] - 328s - loss: 0.0487 - acc: 0.9839   \n",
      "Epoch 7/10\n",
      "16666/16666 [==============================] - 328s - loss: 0.0238 - acc: 0.9936   \n",
      "Epoch 8/10\n",
      "16666/16666 [==============================] - 326s - loss: 0.0149 - acc: 0.9954   \n",
      "Epoch 9/10\n",
      "16666/16666 [==============================] - 331s - loss: 0.0053 - acc: 0.9986   \n",
      "Epoch 10/10\n",
      "16666/16666 [==============================] - 332s - loss: 0.0057 - acc: 0.9985   \n",
      "8334/8334 [==============================] - 53s    \n",
      "Epoch 1/10\n",
      "16667/16667 [==============================] - 332s - loss: 0.4699 - acc: 0.7588   \n",
      "Epoch 2/10\n",
      "16667/16667 [==============================] - 325s - loss: 0.2057 - acc: 0.9265   \n",
      "Epoch 3/10\n",
      "16667/16667 [==============================] - 332s - loss: 0.1186 - acc: 0.9603   \n",
      "Epoch 4/10\n",
      "16667/16667 [==============================] - 332s - loss: 0.0679 - acc: 0.9791   \n",
      "Epoch 5/10\n",
      "16667/16667 [==============================] - 333s - loss: 0.0339 - acc: 0.9894   \n",
      "Epoch 6/10\n",
      "16667/16667 [==============================] - 328s - loss: 0.0416 - acc: 0.9863   \n",
      "Epoch 7/10\n",
      "16667/16667 [==============================] - 330s - loss: 0.0431 - acc: 0.9861   \n",
      "Epoch 8/10\n",
      "16667/16667 [==============================] - 332s - loss: 0.0215 - acc: 0.9936   \n",
      "Epoch 9/10\n",
      "16667/16667 [==============================] - 328s - loss: 0.0163 - acc: 0.9950   \n",
      "Epoch 10/10\n",
      "16667/16667 [==============================] - 326s - loss: 0.0483 - acc: 0.9863   \n",
      "8333/8333 [==============================] - 54s    \n",
      "Epoch 1/10\n",
      "16667/16667 [==============================] - 328s - loss: 0.4482 - acc: 0.8039   \n",
      "Epoch 2/10\n",
      "16667/16667 [==============================] - 325s - loss: 0.2075 - acc: 0.9270   \n",
      "Epoch 3/10\n",
      "16667/16667 [==============================] - 329s - loss: 0.1299 - acc: 0.9572   \n",
      "Epoch 4/10\n",
      "16667/16667 [==============================] - 327s - loss: 0.0647 - acc: 0.9799   \n",
      "Epoch 5/10\n",
      "16667/16667 [==============================] - 325s - loss: 0.0443 - acc: 0.9862   \n",
      "Epoch 6/10\n",
      "16667/16667 [==============================] - 327s - loss: 0.0178 - acc: 0.9948   \n",
      "Epoch 7/10\n",
      "16667/16667 [==============================] - 331s - loss: 0.0344 - acc: 0.9885   \n",
      "Epoch 8/10\n",
      "16667/16667 [==============================] - 323s - loss: 0.0302 - acc: 0.9909   \n",
      "Epoch 9/10\n",
      "16667/16667 [==============================] - 328s - loss: 0.0132 - acc: 0.9969   \n",
      "Epoch 10/10\n",
      "16667/16667 [==============================] - 326s - loss: 0.0167 - acc: 0.9951   \n",
      "8333/8333 [==============================] - 54s    \n",
      "\n",
      "Results: [0.45944324 0.79299172 0.66710668], mean: 63.98%, std: 13.75%\n"
     ]
    }
   ],
   "source": [
    "# stacked LSTMs\n",
    "def create_model():\n",
    "    model = Sequential()\n",
    "    model.add(Embedding(max_features, embedding_dim, input_length=maxlen))\n",
    "    model.add(Dropout(0.5))\n",
    "    model.add(LSTM(64, return_sequences=True))\n",
    "    model.add(Dropout(0.5))\n",
    "    model.add(LSTM(64, return_sequences=True))\n",
    "    model.add(Dropout(0.5))\n",
    "    model.add(LSTM(64, return_sequences=True))\n",
    "    model.add(Dropout(0.5))\n",
    "    model.add(LSTM(64))\n",
    "    model.add(Dropout(0.5))\n",
    "    model.add(Dense(1, activation='sigmoid'))\n",
    "    model.compile(loss='binary_crossentropy', optimizer='adam', metrics=['accuracy'])\n",
    "    return model\n",
    "\n",
    "cv_report(create_model, epochs=10)"
   ]
  },
  {
   "cell_type": "code",
   "execution_count": 301,
   "metadata": {},
   "outputs": [
    {
     "name": "stdout",
     "output_type": "stream",
     "text": [
      "_________________________________________________________________\n",
      "Layer (type)                 Output Shape              Param #   \n",
      "=================================================================\n",
      "embedding_63 (Embedding)     (None, 250, 300)          12000000  \n",
      "_________________________________________________________________\n",
      "dropout_142 (Dropout)        (None, 250, 300)          0         \n",
      "_________________________________________________________________\n",
      "bidirectional_17 (Bidirectio (None, 250, 128)          186880    \n",
      "_________________________________________________________________\n",
      "dropout_143 (Dropout)        (None, 250, 128)          0         \n",
      "_________________________________________________________________\n",
      "bidirectional_18 (Bidirectio (None, 250, 128)          98816     \n",
      "_________________________________________________________________\n",
      "dropout_144 (Dropout)        (None, 250, 128)          0         \n",
      "_________________________________________________________________\n",
      "bidirectional_19 (Bidirectio (None, 250, 128)          98816     \n",
      "_________________________________________________________________\n",
      "dropout_145 (Dropout)        (None, 250, 128)          0         \n",
      "_________________________________________________________________\n",
      "bidirectional_20 (Bidirectio (None, 128)               98816     \n",
      "_________________________________________________________________\n",
      "dropout_146 (Dropout)        (None, 128)               0         \n",
      "_________________________________________________________________\n",
      "dense_97 (Dense)             (None, 1)                 129       \n",
      "=================================================================\n",
      "Total params: 12,483,457.0\n",
      "Trainable params: 12,483,457.0\n",
      "Non-trainable params: 0.0\n",
      "_________________________________________________________________\n",
      "None\n",
      "\n",
      "Epoch 1/5\n",
      "16666/16666 [==============================] - 753s - loss: 0.4076 - acc: 0.8254   \n",
      "Epoch 2/5\n",
      "16666/16666 [==============================] - 614s - loss: 0.1681 - acc: 0.9414   \n",
      "Epoch 3/5\n",
      "16666/16666 [==============================] - 5354s - loss: 0.0755 - acc: 0.9778  \n",
      "Epoch 4/5\n",
      "16666/16666 [==============================] - 1076s - loss: 0.0431 - acc: 0.9879  \n",
      "Epoch 5/5\n",
      "16666/16666 [==============================] - 646s - loss: 0.0276 - acc: 0.9914   \n",
      "8334/8334 [==============================] - 118s   \n",
      "Epoch 1/5\n",
      "16667/16667 [==============================] - 655s - loss: 0.4532 - acc: 0.7779   \n",
      "Epoch 2/5\n",
      "16667/16667 [==============================] - 626s - loss: 0.1867 - acc: 0.9335   \n",
      "Epoch 3/5\n",
      "16667/16667 [==============================] - 581s - loss: 0.1009 - acc: 0.9673   \n",
      "Epoch 4/5\n",
      "16667/16667 [==============================] - 609s - loss: 0.0515 - acc: 0.9840   \n",
      "Epoch 5/5\n",
      "16667/16667 [==============================] - 571s - loss: 0.0343 - acc: 0.9893   \n",
      "8333/8333 [==============================] - 102s   \n",
      "Epoch 1/5\n",
      "16667/16667 [==============================] - 579s - loss: 0.4394 - acc: 0.8078   \n",
      "Epoch 2/5\n",
      "16667/16667 [==============================] - 563s - loss: 0.2099 - acc: 0.9243   \n",
      "Epoch 3/5\n",
      "16667/16667 [==============================] - 573s - loss: 0.0973 - acc: 0.9668   \n",
      "Epoch 4/5\n",
      "16667/16667 [==============================] - 754s - loss: 0.0487 - acc: 0.9857   \n",
      "Epoch 5/5\n",
      "16667/16667 [==============================] - 704s - loss: 0.0306 - acc: 0.9913   \n",
      "8333/8333 [==============================] - 114s   \n",
      "\n",
      "Results: [0.56011519 0.8125525  0.64322573], mean: 67.20%, std: 10.50%\n"
     ]
    }
   ],
   "source": [
    "# stacked bi-LSTMs\n",
    "def create_model():\n",
    "    model = Sequential()\n",
    "    model.add(Embedding(max_features, embedding_dim, input_length=maxlen))\n",
    "    model.add(Dropout(0.5))\n",
    "    model.add(Bidirectional(LSTM(64, return_sequences=True)))\n",
    "    model.add(Dropout(0.5))\n",
    "    model.add(Bidirectional(LSTM(64, return_sequences=True)))\n",
    "    model.add(Dropout(0.5))\n",
    "    model.add(Bidirectional(LSTM(64, return_sequences=True)))\n",
    "    model.add(Dropout(0.5))\n",
    "    model.add(Bidirectional(LSTM(64)))\n",
    "    model.add(Dropout(0.5))\n",
    "    model.add(Dense(1, activation='sigmoid'))\n",
    "    model.compile(loss='binary_crossentropy', optimizer='adam', metrics=['accuracy'])\n",
    "    return model\n",
    "\n",
    "cv_report(create_model, epochs=5)"
   ]
  },
  {
   "cell_type": "markdown",
   "metadata": {},
   "source": [
    "#### ConvNet"
   ]
  },
  {
   "cell_type": "code",
   "execution_count": 306,
   "metadata": {},
   "outputs": [
    {
     "name": "stdout",
     "output_type": "stream",
     "text": [
      "WARNING:tensorflow:From /Users/amir.ziai/anaconda/lib/python3.5/site-packages/keras/backend/tensorflow_backend.py:1008: calling reduce_max (from tensorflow.python.ops.math_ops) with keep_dims is deprecated and will be removed in a future version.\n",
      "Instructions for updating:\n",
      "keep_dims is deprecated, use keepdims instead\n",
      "_________________________________________________________________\n",
      "Layer (type)                 Output Shape              Param #   \n",
      "=================================================================\n",
      "embedding_69 (Embedding)     (None, 250, 300)          12000000  \n",
      "_________________________________________________________________\n",
      "dropout_164 (Dropout)        (None, 250, 300)          0         \n",
      "_________________________________________________________________\n",
      "conv1d_2 (Conv1D)            (None, 244, 32)           67232     \n",
      "_________________________________________________________________\n",
      "max_pooling1d_1 (MaxPooling1 (None, 48, 32)            0         \n",
      "_________________________________________________________________\n",
      "conv1d_3 (Conv1D)            (None, 42, 32)            7200      \n",
      "_________________________________________________________________\n",
      "global_max_pooling1d_1 (Glob (None, 32)                0         \n",
      "_________________________________________________________________\n",
      "dropout_165 (Dropout)        (None, 32)                0         \n",
      "_________________________________________________________________\n",
      "dense_101 (Dense)            (None, 1)                 33        \n",
      "=================================================================\n",
      "Total params: 12,074,465.0\n",
      "Trainable params: 12,074,465.0\n",
      "Non-trainable params: 0.0\n",
      "_________________________________________________________________\n",
      "None\n",
      "\n",
      "Epoch 1/3\n",
      "16666/16666 [==============================] - 71s - loss: 0.5152 - acc: 0.7492    \n",
      "Epoch 2/3\n",
      "16666/16666 [==============================] - 63s - loss: 0.3355 - acc: 0.8648    \n",
      "Epoch 3/3\n",
      "16666/16666 [==============================] - 60s - loss: 0.2424 - acc: 0.9169    \n",
      "8320/8334 [============================>.] - ETA: 0sEpoch 1/3\n",
      "16667/16667 [==============================] - 66s - loss: 0.6061 - acc: 0.6414    \n",
      "Epoch 2/3\n",
      "16667/16667 [==============================] - 60s - loss: 0.3593 - acc: 0.8520    \n",
      "Epoch 3/3\n",
      "16667/16667 [==============================] - 61s - loss: 0.2438 - acc: 0.9138    \n",
      "8320/8333 [============================>.] - ETA: 0sEpoch 1/3\n",
      "16667/16667 [==============================] - 68s - loss: 0.5374 - acc: 0.7464    \n",
      "Epoch 2/3\n",
      "16667/16667 [==============================] - 62s - loss: 0.3395 - acc: 0.8579    \n",
      "Epoch 3/3\n",
      "16667/16667 [==============================] - 64s - loss: 0.2044 - acc: 0.9246    \n",
      "8320/8333 [============================>.] - ETA: 0s\n",
      "Results: [0.56983441 0.81531261 0.71294852], mean: 69.94%, std: 10.07%\n"
     ]
    }
   ],
   "source": [
    "# stacked LSTMs\n",
    "def create_model():\n",
    "    model = Sequential()\n",
    "    model.add(Embedding(max_features, embedding_dim, input_length=maxlen))\n",
    "    model.add(Dropout(0.5))\n",
    "    # Add 1D conv + max pooling\n",
    "    model.add(Conv1D(32, 7, activation='relu'))\n",
    "    model.add(MaxPooling1D(5))\n",
    "    model.add(Conv1D(32, 7, activation='relu'))\n",
    "    model.add(GlobalMaxPooling1D())\n",
    "    \n",
    "    model.add(Dropout(0.5))\n",
    "    model.add(Dense(1, activation='sigmoid'))\n",
    "    model.compile(loss='binary_crossentropy', optimizer='adam', metrics=['accuracy'])\n",
    "    return model\n",
    "\n",
    "cv_report(create_model, epochs=3)"
   ]
  },
  {
   "cell_type": "markdown",
   "metadata": {},
   "source": [
    "#### ConvNet + RNN"
   ]
  },
  {
   "cell_type": "code",
   "execution_count": 308,
   "metadata": {},
   "outputs": [
    {
     "name": "stdout",
     "output_type": "stream",
     "text": [
      "_________________________________________________________________\n",
      "Layer (type)                 Output Shape              Param #   \n",
      "=================================================================\n",
      "embedding_73 (Embedding)     (None, 250, 300)          12000000  \n",
      "_________________________________________________________________\n",
      "dropout_172 (Dropout)        (None, 250, 300)          0         \n",
      "_________________________________________________________________\n",
      "conv1d_10 (Conv1D)           (None, 244, 32)           67232     \n",
      "_________________________________________________________________\n",
      "max_pooling1d_5 (MaxPooling1 (None, 48, 32)            0         \n",
      "_________________________________________________________________\n",
      "conv1d_11 (Conv1D)           (None, 42, 32)            7200      \n",
      "_________________________________________________________________\n",
      "gru_1 (GRU)                  (None, 64)                18624     \n",
      "_________________________________________________________________\n",
      "dropout_173 (Dropout)        (None, 64)                0         \n",
      "_________________________________________________________________\n",
      "dense_105 (Dense)            (None, 1)                 65        \n",
      "=================================================================\n",
      "Total params: 12,093,121.0\n",
      "Trainable params: 12,093,121.0\n",
      "Non-trainable params: 0.0\n",
      "_________________________________________________________________\n",
      "None\n",
      "\n",
      "Epoch 1/3\n",
      "16666/16666 [==============================] - 82s - loss: 0.4829 - acc: 0.7747    \n",
      "Epoch 2/3\n",
      "16666/16666 [==============================] - 77s - loss: 0.2256 - acc: 0.9127    \n",
      "Epoch 3/3\n",
      "16666/16666 [==============================] - 78s - loss: 0.1080 - acc: 0.9637    \n",
      "8320/8334 [============================>.] - ETA: 0sEpoch 1/3\n",
      "16667/16667 [==============================] - 82s - loss: 0.5316 - acc: 0.7083    \n",
      "Epoch 2/3\n",
      "16667/16667 [==============================] - 80s - loss: 0.2364 - acc: 0.9094    \n",
      "Epoch 3/3\n",
      "16667/16667 [==============================] - 77s - loss: 0.1183 - acc: 0.9584    \n",
      "8320/8333 [============================>.] - ETA: 0sEpoch 1/3\n",
      "16667/16667 [==============================] - 82s - loss: 0.4829 - acc: 0.7745    \n",
      "Epoch 2/3\n",
      "16667/16667 [==============================] - 76s - loss: 0.2438 - acc: 0.9046    \n",
      "Epoch 3/3\n",
      "16667/16667 [==============================] - 75s - loss: 0.1233 - acc: 0.9586    \n",
      "8320/8333 [============================>.] - ETA: 0s\n",
      "Results: [0.537557   0.81615265 0.62810512], mean: 66.06%, std: 11.60%\n"
     ]
    }
   ],
   "source": [
    "# stacked LSTMs\n",
    "def create_model():\n",
    "    model = Sequential()\n",
    "    model.add(Embedding(max_features, embedding_dim, input_length=maxlen))\n",
    "    model.add(Dropout(0.5))\n",
    "    # Add 1D conv + max pooling\n",
    "    model.add(Conv1D(32, 7, activation='relu'))\n",
    "    model.add(MaxPooling1D(5))\n",
    "    model.add(Conv1D(32, 7, activation='relu'))\n",
    "    model.add(GRU(64, recurrent_dropout=0.5))\n",
    "\n",
    "    model.add(Dropout(0.5))\n",
    "    model.add(Dense(1, activation='sigmoid'))\n",
    "    model.compile(loss='binary_crossentropy', optimizer='adam', metrics=['accuracy'])\n",
    "    return model\n",
    "\n",
    "cv_report(create_model, epochs=3)"
   ]
  },
  {
   "cell_type": "code",
   "execution_count": null,
   "metadata": {},
   "outputs": [],
   "source": []
  },
  {
   "cell_type": "code",
   "execution_count": null,
   "metadata": {},
   "outputs": [],
   "source": []
  },
  {
   "cell_type": "code",
   "execution_count": null,
   "metadata": {},
   "outputs": [],
   "source": []
  },
  {
   "cell_type": "markdown",
   "metadata": {},
   "source": [
    "## seq2seq"
   ]
  },
  {
   "cell_type": "markdown",
   "metadata": {},
   "source": [
    "### Machine Translation"
   ]
  },
  {
   "cell_type": "markdown",
   "metadata": {},
   "source": [
    "#### char-level"
   ]
  },
  {
   "cell_type": "markdown",
   "metadata": {},
   "source": [
    "Visit http://www.manythings.org/anki/ for more information"
   ]
  },
  {
   "cell_type": "code",
   "execution_count": 309,
   "metadata": {},
   "outputs": [
    {
     "name": "stdout",
     "output_type": "stream",
     "text": [
      "--2018-05-21 16:54:55--  http://www.manythings.org/anki/spa-eng.zip\n",
      "Resolving www.manythings.org... 104.24.109.196, 104.24.108.196, 2400:cb00:2048:1::6818:6dc4, ...\n",
      "Connecting to www.manythings.org|104.24.109.196|:80... connected.\n",
      "HTTP request sent, awaiting response... 200 OK\n",
      "Length: 2786685 (2.7M) [application/zip]\n",
      "Saving to: ‘spa-eng.zip’\n",
      "\n",
      "spa-eng.zip         100%[===================>]   2.66M  2.22MB/s    in 1.2s    \n",
      "\n",
      "2018-05-21 16:54:57 (2.22 MB/s) - ‘spa-eng.zip’ saved [2786685/2786685]\n",
      "\n",
      "Archive:  spa-eng.zip\n",
      "  inflating: _about.txt              \n",
      "  inflating: spa.txt                 \n"
     ]
    }
   ],
   "source": [
    "!wget http://www.manythings.org/anki/spa-eng.zip\n",
    "!unzip spa-eng.zip\n",
    "!rm spa-eng.zip"
   ]
  },
  {
   "cell_type": "code",
   "execution_count": 310,
   "metadata": {},
   "outputs": [
    {
     "name": "stdout",
     "output_type": "stream",
     "text": [
      "-rw-r--r--@ 1 amir.ziai  10000   7.7M May 13 15:50 spa.txt\r\n"
     ]
    }
   ],
   "source": [
    "!ls -lht spa.txt"
   ]
  },
  {
   "cell_type": "code",
   "execution_count": 330,
   "metadata": {},
   "outputs": [
    {
     "name": "stdout",
     "output_type": "stream",
     "text": [
      "  118964 spa.txt\r\n"
     ]
    }
   ],
   "source": [
    "!wc -l spa.txt"
   ]
  },
  {
   "cell_type": "code",
   "execution_count": 17,
   "metadata": {},
   "outputs": [
    {
     "name": "stdout",
     "output_type": "stream",
     "text": [
      "CPU times: user 1.04 s, sys: 21.9 ms, total: 1.06 s\n",
      "Wall time: 1.06 s\n"
     ]
    }
   ],
   "source": [
    "%%time\n",
    "sources = []\n",
    "targets = []\n",
    "chars_source = set()\n",
    "chars_target = set()\n",
    "max_source = 0\n",
    "max_target = 0\n",
    "path = 'spa.txt'\n",
    "\n",
    "for line in open(path):\n",
    "     source, target = line.strip().split('\\t')\n",
    "        \n",
    "     sources.append(source)\n",
    "     targets.append(target)\n",
    "     \n",
    "     max_source = max(max_source, len(source))\n",
    "     max_target = max(max_target, len(target))\n",
    "     for c in source:\n",
    "        chars_source.add(c)\n",
    "     for c in target:\n",
    "        chars_target.add(c)"
   ]
  },
  {
   "cell_type": "code",
   "execution_count": 18,
   "metadata": {},
   "outputs": [
    {
     "name": "stdout",
     "output_type": "stream",
     "text": [
      "Source characteres: 90\n",
      "Target characteres: 111\n"
     ]
    }
   ],
   "source": [
    "source_dict = dict(zip(chars_source, range(len(chars_source))))\n",
    "target_dict = dict(zip(chars_target, range(len(chars_target))))\n",
    "print('Source characteres: {}'.format(len(source_dict)))\n",
    "print('Target characteres: {}'.format(len(target_dict)))"
   ]
  },
  {
   "cell_type": "code",
   "execution_count": 19,
   "metadata": {},
   "outputs": [
    {
     "name": "stdout",
     "output_type": "stream",
     "text": [
      "CPU times: user 8.82 s, sys: 4.24 s, total: 13.1 s\n",
      "Wall time: 13.3 s\n"
     ]
    }
   ],
   "source": [
    "%%time\n",
    "encoder_in = np.zeros((len(sources), max_source, len(chars_source)))\n",
    "decoder_in = np.zeros((len(sources), max_target, len(chars_target)))\n",
    "decoder_out = np.zeros((len(sources), max_target, len(chars_target)))\n",
    "\n",
    "for i, (source, target) in enumerate(zip(sources, targets)):\n",
    "    for t, c in enumerate(source):\n",
    "        encoder_in[i, t, source_dict[c]] = 1\n",
    "        \n",
    "    for t, c in enumerate(target):\n",
    "        decoder_in[i, t, target_dict[c]] = 1\n",
    "        if t > 0:\n",
    "            decoder_out[i, t - 1, target_dict[c]] = 1"
   ]
  },
  {
   "cell_type": "code",
   "execution_count": 43,
   "metadata": {},
   "outputs": [],
   "source": [
    "num_encoder_tokens = len(chars_source)\n",
    "num_decoder_tokens = len(chars_target)\n",
    "encoder_input_data = encoder_in\n",
    "decoder_input_data = decoder_in\n",
    "decoder_target_data = decoder_out\n",
    "batch_size = 64\n",
    "epochs = 100"
   ]
  },
  {
   "cell_type": "code",
   "execution_count": null,
   "metadata": {},
   "outputs": [],
   "source": []
  },
  {
   "cell_type": "code",
   "execution_count": 59,
   "metadata": {},
   "outputs": [
    {
     "name": "stdout",
     "output_type": "stream",
     "text": [
      "Number of samples: 10000\n",
      "Number of unique input tokens: 71\n",
      "Number of unique output tokens: 86\n",
      "Max sequence length for inputs: 17\n",
      "Max sequence length for outputs: 42\n"
     ]
    }
   ],
   "source": [
    "data_path = 'spa.txt'\n",
    "num_samples = 10000\n",
    "\n",
    "input_texts = []\n",
    "target_texts = []\n",
    "input_characters = set()\n",
    "target_characters = set()\n",
    "with open(data_path, 'r', encoding='utf-8') as f:\n",
    "    lines = f.read().split('\\n')\n",
    "for line in lines[: min(num_samples, len(lines) - 1)]:\n",
    "    input_text, target_text = line.split('\\t')\n",
    "    # We use \"tab\" as the \"start sequence\" character\n",
    "    # for the targets, and \"\\n\" as \"end sequence\" character.\n",
    "    target_text = '\\t' + target_text + '\\n'\n",
    "    input_texts.append(input_text)\n",
    "    target_texts.append(target_text)\n",
    "    for char in input_text:\n",
    "        if char not in input_characters:\n",
    "            input_characters.add(char)\n",
    "    for char in target_text:\n",
    "        if char not in target_characters:\n",
    "            target_characters.add(char)\n",
    "\n",
    "input_characters = sorted(list(input_characters))\n",
    "target_characters = sorted(list(target_characters))\n",
    "num_encoder_tokens = len(input_characters)\n",
    "num_decoder_tokens = len(target_characters)\n",
    "max_encoder_seq_length = max([len(txt) for txt in input_texts])\n",
    "max_decoder_seq_length = max([len(txt) for txt in target_texts])\n",
    "\n",
    "print('Number of samples:', len(input_texts))\n",
    "print('Number of unique input tokens:', num_encoder_tokens)\n",
    "print('Number of unique output tokens:', num_decoder_tokens)\n",
    "print('Max sequence length for inputs:', max_encoder_seq_length)\n",
    "print('Max sequence length for outputs:', max_decoder_seq_length)\n",
    "\n",
    "input_token_index = dict(\n",
    "    [(char, i) for i, char in enumerate(input_characters)])\n",
    "target_token_index = dict(\n",
    "    [(char, i) for i, char in enumerate(target_characters)])\n",
    "\n",
    "encoder_input_data = np.zeros(\n",
    "    (len(input_texts), max_encoder_seq_length, num_encoder_tokens),\n",
    "    dtype='float32')\n",
    "decoder_input_data = np.zeros(\n",
    "    (len(input_texts), max_decoder_seq_length, num_decoder_tokens),\n",
    "    dtype='float32')\n",
    "decoder_target_data = np.zeros(\n",
    "    (len(input_texts), max_decoder_seq_length, num_decoder_tokens),\n",
    "    dtype='float32')\n",
    "\n",
    "for i, (input_text, target_text) in enumerate(zip(input_texts, target_texts)):\n",
    "    for t, char in enumerate(input_text):\n",
    "        encoder_input_data[i, t, input_token_index[char]] = 1.\n",
    "    for t, char in enumerate(target_text):\n",
    "        # decoder_target_data is ahead of decoder_input_data by one timestep\n",
    "        decoder_input_data[i, t, target_token_index[char]] = 1.\n",
    "        if t > 0:\n",
    "            # decoder_target_data will be ahead by one timestep\n",
    "            # and will not include the start character.\n",
    "            decoder_target_data[i, t - 1, target_token_index[char]] = 1."
   ]
  },
  {
   "cell_type": "code",
   "execution_count": 54,
   "metadata": {
    "scrolled": false
   },
   "outputs": [
    {
     "name": "stdout",
     "output_type": "stream",
     "text": [
      "Train on 8000 samples, validate on 2000 samples\n",
      "Epoch 1/100\n",
      "8000/8000 [==============================] - 21s 3ms/step - loss: 1.1372 - val_loss: 1.2104\n",
      "Epoch 2/100\n",
      "8000/8000 [==============================] - 23s 3ms/step - loss: 0.9464 - val_loss: 1.0098\n",
      "Epoch 3/100\n",
      "8000/8000 [==============================] - 24s 3ms/step - loss: 0.8217 - val_loss: 0.9363\n",
      "Epoch 4/100\n",
      "8000/8000 [==============================] - 21s 3ms/step - loss: 0.7602 - val_loss: 0.8850\n",
      "Epoch 5/100\n",
      "8000/8000 [==============================] - 23s 3ms/step - loss: 0.7104 - val_loss: 0.8296\n",
      "Epoch 6/100\n",
      "8000/8000 [==============================] - 22s 3ms/step - loss: 0.6713 - val_loss: 0.7948\n",
      "Epoch 7/100\n",
      "8000/8000 [==============================] - 23s 3ms/step - loss: 0.6385 - val_loss: 0.7816\n",
      "Epoch 8/100\n",
      "8000/8000 [==============================] - 22s 3ms/step - loss: 0.6101 - val_loss: 0.7431\n",
      "Epoch 9/100\n",
      "8000/8000 [==============================] - 22s 3ms/step - loss: 0.5842 - val_loss: 0.7287\n",
      "Epoch 10/100\n",
      "8000/8000 [==============================] - 22s 3ms/step - loss: 0.5604 - val_loss: 0.7094\n",
      "Epoch 11/100\n",
      "8000/8000 [==============================] - 24s 3ms/step - loss: 0.5390 - val_loss: 0.6954\n",
      "Epoch 12/100\n",
      "8000/8000 [==============================] - 23s 3ms/step - loss: 0.5194 - val_loss: 0.6807\n",
      "Epoch 13/100\n",
      "8000/8000 [==============================] - 22s 3ms/step - loss: 0.5011 - val_loss: 0.6715\n",
      "Epoch 14/100\n",
      "8000/8000 [==============================] - 23s 3ms/step - loss: 0.4840 - val_loss: 0.6644\n",
      "Epoch 15/100\n",
      "8000/8000 [==============================] - 25s 3ms/step - loss: 0.4682 - val_loss: 0.6522\n",
      "Epoch 16/100\n",
      "8000/8000 [==============================] - 24s 3ms/step - loss: 0.4527 - val_loss: 0.6456\n",
      "Epoch 17/100\n",
      "8000/8000 [==============================] - 24s 3ms/step - loss: 0.4386 - val_loss: 0.6431\n",
      "Epoch 18/100\n",
      "8000/8000 [==============================] - 24s 3ms/step - loss: 0.4253 - val_loss: 0.6368\n",
      "Epoch 19/100\n",
      "8000/8000 [==============================] - 22s 3ms/step - loss: 0.4120 - val_loss: 0.6383\n",
      "Epoch 20/100\n",
      "8000/8000 [==============================] - 21s 3ms/step - loss: 0.3996 - val_loss: 0.6306\n",
      "Epoch 21/100\n",
      "8000/8000 [==============================] - 26s 3ms/step - loss: 0.3876 - val_loss: 0.6326\n",
      "Epoch 22/100\n",
      "8000/8000 [==============================] - 22s 3ms/step - loss: 0.3761 - val_loss: 0.6353\n",
      "Epoch 23/100\n",
      "8000/8000 [==============================] - 25s 3ms/step - loss: 0.3650 - val_loss: 0.6308\n",
      "Epoch 24/100\n",
      "8000/8000 [==============================] - 23s 3ms/step - loss: 0.3542 - val_loss: 0.6292\n",
      "Epoch 25/100\n",
      "8000/8000 [==============================] - 22s 3ms/step - loss: 0.3435 - val_loss: 0.6353\n",
      "Epoch 26/100\n",
      "8000/8000 [==============================] - 23s 3ms/step - loss: 0.3337 - val_loss: 0.6325\n",
      "Epoch 27/100\n",
      "8000/8000 [==============================] - 23s 3ms/step - loss: 0.3236 - val_loss: 0.6371\n",
      "Epoch 28/100\n",
      "8000/8000 [==============================] - 21s 3ms/step - loss: 0.3141 - val_loss: 0.6402\n",
      "Epoch 29/100\n",
      "8000/8000 [==============================] - 21s 3ms/step - loss: 0.3055 - val_loss: 0.6477\n",
      "Epoch 30/100\n",
      "8000/8000 [==============================] - 21s 3ms/step - loss: 0.2966 - val_loss: 0.6478\n",
      "Epoch 31/100\n",
      "8000/8000 [==============================] - 23s 3ms/step - loss: 0.2881 - val_loss: 0.6474\n",
      "Epoch 32/100\n",
      "8000/8000 [==============================] - 22s 3ms/step - loss: 0.2802 - val_loss: 0.6534\n",
      "Epoch 33/100\n",
      "8000/8000 [==============================] - 21s 3ms/step - loss: 0.2723 - val_loss: 0.6613\n",
      "Epoch 34/100\n",
      "8000/8000 [==============================] - 21s 3ms/step - loss: 0.2646 - val_loss: 0.6667\n",
      "Epoch 35/100\n",
      "8000/8000 [==============================] - 25s 3ms/step - loss: 0.2571 - val_loss: 0.6705\n",
      "Epoch 36/100\n",
      "8000/8000 [==============================] - 24s 3ms/step - loss: 0.2502 - val_loss: 0.6768\n",
      "Epoch 37/100\n",
      "8000/8000 [==============================] - 25s 3ms/step - loss: 0.2433 - val_loss: 0.6889\n",
      "Epoch 38/100\n",
      "8000/8000 [==============================] - 25s 3ms/step - loss: 0.2366 - val_loss: 0.6859\n",
      "Epoch 39/100\n",
      "8000/8000 [==============================] - 24s 3ms/step - loss: 0.2297 - val_loss: 0.6986\n",
      "Epoch 40/100\n",
      "8000/8000 [==============================] - 25s 3ms/step - loss: 0.2236 - val_loss: 0.7019\n",
      "Epoch 41/100\n",
      "8000/8000 [==============================] - 26s 3ms/step - loss: 0.2176 - val_loss: 0.7126\n",
      "Epoch 42/100\n",
      "8000/8000 [==============================] - 26s 3ms/step - loss: 0.2119 - val_loss: 0.7120\n",
      "Epoch 43/100\n",
      "8000/8000 [==============================] - 26s 3ms/step - loss: 0.2064 - val_loss: 0.7255\n",
      "Epoch 44/100\n",
      "8000/8000 [==============================] - 27s 3ms/step - loss: 0.2011 - val_loss: 0.7267\n",
      "Epoch 45/100\n",
      "8000/8000 [==============================] - 26s 3ms/step - loss: 0.1962 - val_loss: 0.7337\n",
      "Epoch 46/100\n",
      "8000/8000 [==============================] - 25s 3ms/step - loss: 0.1906 - val_loss: 0.7430\n",
      "Epoch 47/100\n",
      "8000/8000 [==============================] - 25s 3ms/step - loss: 0.1854 - val_loss: 0.7448\n",
      "Epoch 48/100\n",
      "8000/8000 [==============================] - 23s 3ms/step - loss: 0.1815 - val_loss: 0.7545\n",
      "Epoch 49/100\n",
      "8000/8000 [==============================] - 21s 3ms/step - loss: 0.1764 - val_loss: 0.7560\n",
      "Epoch 50/100\n",
      "8000/8000 [==============================] - 21s 3ms/step - loss: 0.1723 - val_loss: 0.7660\n",
      "Epoch 51/100\n",
      "8000/8000 [==============================] - 22s 3ms/step - loss: 0.1681 - val_loss: 0.7783\n",
      "Epoch 52/100\n",
      "8000/8000 [==============================] - 22s 3ms/step - loss: 0.1639 - val_loss: 0.7885\n",
      "Epoch 53/100\n",
      "8000/8000 [==============================] - 22s 3ms/step - loss: 0.1605 - val_loss: 0.7848\n",
      "Epoch 54/100\n",
      "8000/8000 [==============================] - 23s 3ms/step - loss: 0.1558 - val_loss: 0.8004\n",
      "Epoch 55/100\n",
      "8000/8000 [==============================] - 22s 3ms/step - loss: 0.1523 - val_loss: 0.8071\n",
      "Epoch 56/100\n",
      "8000/8000 [==============================] - 22s 3ms/step - loss: 0.1485 - val_loss: 0.8091\n",
      "Epoch 57/100\n",
      "8000/8000 [==============================] - 22s 3ms/step - loss: 0.1450 - val_loss: 0.8179\n",
      "Epoch 58/100\n",
      "8000/8000 [==============================] - 22s 3ms/step - loss: 0.1414 - val_loss: 0.8219\n",
      "Epoch 59/100\n",
      "8000/8000 [==============================] - 23s 3ms/step - loss: 0.1384 - val_loss: 0.8349\n",
      "Epoch 60/100\n",
      "8000/8000 [==============================] - 21s 3ms/step - loss: 0.1354 - val_loss: 0.8402\n",
      "Epoch 61/100\n",
      "8000/8000 [==============================] - 21s 3ms/step - loss: 0.1318 - val_loss: 0.8543\n",
      "Epoch 62/100\n",
      "8000/8000 [==============================] - 23s 3ms/step - loss: 0.1292 - val_loss: 0.8538\n",
      "Epoch 63/100\n",
      "8000/8000 [==============================] - 22s 3ms/step - loss: 0.1262 - val_loss: 0.8656\n",
      "Epoch 64/100\n",
      "8000/8000 [==============================] - 21s 3ms/step - loss: 0.1234 - val_loss: 0.8736\n",
      "Epoch 65/100\n",
      "8000/8000 [==============================] - 21s 3ms/step - loss: 0.1209 - val_loss: 0.8827\n",
      "Epoch 66/100\n",
      "8000/8000 [==============================] - 21s 3ms/step - loss: 0.1185 - val_loss: 0.8876\n",
      "Epoch 67/100\n",
      "8000/8000 [==============================] - 22s 3ms/step - loss: 0.1160 - val_loss: 0.9002\n",
      "Epoch 68/100\n",
      "8000/8000 [==============================] - 24s 3ms/step - loss: 0.1136 - val_loss: 0.8955\n",
      "Epoch 69/100\n",
      "8000/8000 [==============================] - 21s 3ms/step - loss: 0.1110 - val_loss: 0.9084\n",
      "Epoch 70/100\n",
      "8000/8000 [==============================] - 21s 3ms/step - loss: 0.1087 - val_loss: 0.9132\n",
      "Epoch 71/100\n",
      "8000/8000 [==============================] - 22s 3ms/step - loss: 0.1064 - val_loss: 0.9174\n",
      "Epoch 72/100\n",
      "8000/8000 [==============================] - 21s 3ms/step - loss: 0.1046 - val_loss: 0.9349\n",
      "Epoch 73/100\n",
      "8000/8000 [==============================] - 23s 3ms/step - loss: 0.1019 - val_loss: 0.9396\n",
      "Epoch 74/100\n",
      "8000/8000 [==============================] - 26s 3ms/step - loss: 0.0998 - val_loss: 0.9430\n",
      "Epoch 75/100\n",
      "8000/8000 [==============================] - 21s 3ms/step - loss: 0.0979 - val_loss: 0.9572\n",
      "Epoch 76/100\n",
      "8000/8000 [==============================] - 21s 3ms/step - loss: 0.0961 - val_loss: 0.9568\n",
      "Epoch 77/100\n",
      "8000/8000 [==============================] - 21s 3ms/step - loss: 0.0949 - val_loss: 0.9649\n",
      "Epoch 78/100\n",
      "8000/8000 [==============================] - 22s 3ms/step - loss: 0.0925 - val_loss: 0.9697\n",
      "Epoch 79/100\n",
      "8000/8000 [==============================] - 25s 3ms/step - loss: 0.0909 - val_loss: 0.9764\n",
      "Epoch 80/100\n",
      "8000/8000 [==============================] - 24s 3ms/step - loss: 0.0891 - val_loss: 0.9812\n",
      "Epoch 81/100\n",
      "8000/8000 [==============================] - 20s 3ms/step - loss: 0.0876 - val_loss: 0.9819\n",
      "Epoch 82/100\n",
      "8000/8000 [==============================] - 21s 3ms/step - loss: 0.0857 - val_loss: 0.9985\n",
      "Epoch 83/100\n",
      "8000/8000 [==============================] - 22s 3ms/step - loss: 0.0839 - val_loss: 1.0034\n",
      "Epoch 84/100\n",
      "8000/8000 [==============================] - 21s 3ms/step - loss: 0.0831 - val_loss: 1.0135\n",
      "Epoch 85/100\n",
      "8000/8000 [==============================] - 22s 3ms/step - loss: 0.0808 - val_loss: 1.0101\n",
      "Epoch 86/100\n",
      "8000/8000 [==============================] - 23s 3ms/step - loss: 0.0802 - val_loss: 1.0177\n",
      "Epoch 87/100\n",
      "8000/8000 [==============================] - 21s 3ms/step - loss: 0.0786 - val_loss: 1.0204\n",
      "Epoch 88/100\n",
      "8000/8000 [==============================] - 22s 3ms/step - loss: 0.0775 - val_loss: 1.0289\n",
      "Epoch 89/100\n",
      "8000/8000 [==============================] - 25s 3ms/step - loss: 0.0759 - val_loss: 1.0339\n",
      "Epoch 90/100\n",
      "8000/8000 [==============================] - 21s 3ms/step - loss: 0.0744 - val_loss: 1.0450\n",
      "Epoch 91/100\n",
      "8000/8000 [==============================] - 20s 3ms/step - loss: 0.0737 - val_loss: 1.0482\n",
      "Epoch 92/100\n",
      "8000/8000 [==============================] - 25s 3ms/step - loss: 0.0724 - val_loss: 1.0428\n",
      "Epoch 93/100\n",
      "8000/8000 [==============================] - 21s 3ms/step - loss: 0.0710 - val_loss: 1.0565\n",
      "Epoch 94/100\n",
      "8000/8000 [==============================] - 21s 3ms/step - loss: 0.0701 - val_loss: 1.0645\n",
      "Epoch 95/100\n",
      "8000/8000 [==============================] - 23s 3ms/step - loss: 0.0686 - val_loss: 1.0652\n",
      "Epoch 96/100\n",
      "8000/8000 [==============================] - 20s 3ms/step - loss: 0.0678 - val_loss: 1.0609\n",
      "Epoch 97/100\n",
      "8000/8000 [==============================] - 21s 3ms/step - loss: 0.0671 - val_loss: 1.0726\n",
      "Epoch 98/100\n",
      "8000/8000 [==============================] - 21s 3ms/step - loss: 0.0658 - val_loss: 1.0802\n",
      "Epoch 99/100\n",
      "8000/8000 [==============================] - 21s 3ms/step - loss: 0.0651 - val_loss: 1.0759\n",
      "Epoch 100/100\n",
      "8000/8000 [==============================] - 20s 3ms/step - loss: 0.0640 - val_loss: 1.0860\n"
     ]
    },
    {
     "name": "stderr",
     "output_type": "stream",
     "text": [
      "/anaconda3/lib/python3.6/site-packages/keras/engine/topology.py:2379: UserWarning: Layer lstm_23 was passed non-serializable keyword arguments: {'initial_state': [<tf.Tensor 'lstm_22/while/Exit_2:0' shape=(?, 256) dtype=float32>, <tf.Tensor 'lstm_22/while/Exit_3:0' shape=(?, 256) dtype=float32>]}. They will not be included in the serialized model (and thus will be missing at deserialization time).\n",
      "  str(node.arguments) + '. They will not be included '\n"
     ]
    }
   ],
   "source": [
    "encoder_inputs = Input(shape=(None, num_encoder_tokens))\n",
    "encoder = LSTM(latent_dim, return_state=True)\n",
    "encoder_outputs, state_h, state_c = encoder(encoder_inputs)\n",
    "# We discard `encoder_outputs` and only keep the states.\n",
    "encoder_states = [state_h, state_c]\n",
    "\n",
    "# Set up the decoder, using `encoder_states` as initial state.\n",
    "decoder_inputs = Input(shape=(None, num_decoder_tokens))\n",
    "# We set up our decoder to return full output sequences,\n",
    "# and to return internal states as well. We don't use the\n",
    "# return states in the training model, but we will use them in inference.\n",
    "decoder_lstm = LSTM(latent_dim, return_sequences=True, return_state=True)\n",
    "decoder_outputs, _, _ = decoder_lstm(decoder_inputs,\n",
    "                                     initial_state=encoder_states)\n",
    "decoder_dense = Dense(num_decoder_tokens, activation='softmax')\n",
    "decoder_outputs = decoder_dense(decoder_outputs)\n",
    "\n",
    "# Define the model that will turn\n",
    "# `encoder_input_data` & `decoder_input_data` into `decoder_target_data`\n",
    "model = Model([encoder_inputs, decoder_inputs], decoder_outputs)\n",
    "\n",
    "checkpoint = ModelCheckpoint(filepath, monitor='val_acc', verbose=1, save_best_only=True, mode='max')\n",
    "callbacks_list = [checkpoint]\n",
    "\n",
    "# Run training\n",
    "model.compile(optimizer='rmsprop', loss='categorical_crossentropy')\n",
    "model.fit([encoder_input_data, decoder_input_data], decoder_target_data,\n",
    "          batch_size=batch_size,\n",
    "          epochs=epochs,\n",
    "          callbacks=callbacks_list,\n",
    "          validation_split=0.2)\n",
    "# Save model\n",
    "model.save('s2s.h5')"
   ]
  },
  {
   "cell_type": "code",
   "execution_count": 60,
   "metadata": {
    "scrolled": false
   },
   "outputs": [
    {
     "name": "stdout",
     "output_type": "stream",
     "text": [
      "-\n",
      "Input sentence: Go.\n",
      "Decoded sentence: Vete.\n",
      "\n",
      "-\n",
      "Input sentence: Go.\n",
      "Decoded sentence: Vete.\n",
      "\n",
      "-\n",
      "Input sentence: Go.\n",
      "Decoded sentence: Vete.\n",
      "\n",
      "-\n",
      "Input sentence: Go.\n",
      "Decoded sentence: Vete.\n",
      "\n",
      "-\n",
      "Input sentence: Hi.\n",
      "Decoded sentence: Hola.\n",
      "\n",
      "-\n",
      "Input sentence: Run!\n",
      "Decoded sentence: ¡Corre!\n",
      "\n",
      "-\n",
      "Input sentence: Run.\n",
      "Decoded sentence: Corred.\n",
      "\n",
      "-\n",
      "Input sentence: Who?\n",
      "Decoded sentence: ¿Quién?\n",
      "\n",
      "-\n",
      "Input sentence: Fire!\n",
      "Decoded sentence: ¡Incendio!\n",
      "\n",
      "-\n",
      "Input sentence: Fire!\n",
      "Decoded sentence: ¡Incendio!\n",
      "\n",
      "-\n",
      "Input sentence: Fire!\n",
      "Decoded sentence: ¡Incendio!\n",
      "\n",
      "-\n",
      "Input sentence: Help!\n",
      "Decoded sentence: ¡Auxilio!\n",
      "\n",
      "-\n",
      "Input sentence: Help!\n",
      "Decoded sentence: ¡Auxilio!\n",
      "\n",
      "-\n",
      "Input sentence: Help!\n",
      "Decoded sentence: ¡Auxilio!\n",
      "\n",
      "-\n",
      "Input sentence: Jump!\n",
      "Decoded sentence: ¡Salta!\n",
      "\n",
      "-\n",
      "Input sentence: Jump.\n",
      "Decoded sentence: Salte.\n",
      "\n",
      "-\n",
      "Input sentence: Stop!\n",
      "Decoded sentence: ¡Pare!\n",
      "\n",
      "-\n",
      "Input sentence: Stop!\n",
      "Decoded sentence: ¡Pare!\n",
      "\n",
      "-\n",
      "Input sentence: Stop!\n",
      "Decoded sentence: ¡Pare!\n",
      "\n",
      "-\n",
      "Input sentence: Wait!\n",
      "Decoded sentence: ¡Espera!\n",
      "\n",
      "-\n",
      "Input sentence: Wait.\n",
      "Decoded sentence: Esperen.\n",
      "\n",
      "-\n",
      "Input sentence: Go on.\n",
      "Decoded sentence: Continúe.\n",
      "\n",
      "-\n",
      "Input sentence: Go on.\n",
      "Decoded sentence: Continúe.\n",
      "\n",
      "-\n",
      "Input sentence: Hello!\n",
      "Decoded sentence: Hola.\n",
      "\n",
      "-\n",
      "Input sentence: I ran.\n",
      "Decoded sentence: Corría.\n",
      "\n",
      "-\n",
      "Input sentence: I ran.\n",
      "Decoded sentence: Corría.\n",
      "\n",
      "-\n",
      "Input sentence: I try.\n",
      "Decoded sentence: Lo intento.\n",
      "\n",
      "-\n",
      "Input sentence: I won!\n",
      "Decoded sentence: ¡He ganado!\n",
      "\n",
      "-\n",
      "Input sentence: Oh no!\n",
      "Decoded sentence: ¡Oh, no!\n",
      "\n",
      "-\n",
      "Input sentence: Relax.\n",
      "Decoded sentence: Tomátelo con soda.\n",
      "\n",
      "-\n",
      "Input sentence: Smile.\n",
      "Decoded sentence: Sonríe.\n",
      "\n",
      "-\n",
      "Input sentence: Attack!\n",
      "Decoded sentence: ¡Al ataque!\n",
      "\n",
      "-\n",
      "Input sentence: Attack!\n",
      "Decoded sentence: ¡Al ataque!\n",
      "\n",
      "-\n",
      "Input sentence: Get up.\n",
      "Decoded sentence: Levanta.\n",
      "\n",
      "-\n",
      "Input sentence: Go now.\n",
      "Decoded sentence: Ve ahora mismo.\n",
      "\n",
      "-\n",
      "Input sentence: Got it!\n",
      "Decoded sentence: ¡Lo tengo!\n",
      "\n",
      "-\n",
      "Input sentence: Got it?\n",
      "Decoded sentence: ¿Lo pillas?\n",
      "\n",
      "-\n",
      "Input sentence: Got it?\n",
      "Decoded sentence: ¿Lo pillas?\n",
      "\n",
      "-\n",
      "Input sentence: He ran.\n",
      "Decoded sentence: Él corrió.\n",
      "\n",
      "-\n",
      "Input sentence: Hop in.\n",
      "Decoded sentence: Métete adentro.\n",
      "\n",
      "-\n",
      "Input sentence: Hug me.\n",
      "Decoded sentence: Abrázame.\n",
      "\n",
      "-\n",
      "Input sentence: I fell.\n",
      "Decoded sentence: Me caí.\n",
      "\n",
      "-\n",
      "Input sentence: I know.\n",
      "Decoded sentence: Yo lo sé.\n",
      "\n",
      "-\n",
      "Input sentence: I left.\n",
      "Decoded sentence: Salí.\n",
      "\n",
      "-\n",
      "Input sentence: I lied.\n",
      "Decoded sentence: Mentí.\n",
      "\n",
      "-\n",
      "Input sentence: I lost.\n",
      "Decoded sentence: Perdí.\n",
      "\n",
      "-\n",
      "Input sentence: I quit.\n",
      "Decoded sentence: Renuncié.\n",
      "\n",
      "-\n",
      "Input sentence: I quit.\n",
      "Decoded sentence: Renuncié.\n",
      "\n",
      "-\n",
      "Input sentence: I work.\n",
      "Decoded sentence: Estoy trabajando.\n",
      "\n",
      "-\n",
      "Input sentence: I'm 19.\n",
      "Decoded sentence: Tengo diecinievente.\n",
      "\n",
      "-\n",
      "Input sentence: I'm up.\n",
      "Decoded sentence: Estoy levantado.\n",
      "\n",
      "-\n",
      "Input sentence: Listen.\n",
      "Decoded sentence: Escuchen.\n",
      "\n",
      "-\n",
      "Input sentence: Listen.\n",
      "Decoded sentence: Escuchen.\n",
      "\n",
      "-\n",
      "Input sentence: Listen.\n",
      "Decoded sentence: Escuchen.\n",
      "\n",
      "-\n",
      "Input sentence: No way!\n",
      "Decoded sentence: ¡De eso nada!\n",
      "\n",
      "-\n",
      "Input sentence: No way!\n",
      "Decoded sentence: ¡De eso nada!\n",
      "\n",
      "-\n",
      "Input sentence: No way!\n",
      "Decoded sentence: ¡De eso nada!\n",
      "\n",
      "-\n",
      "Input sentence: No way!\n",
      "Decoded sentence: ¡De eso nada!\n",
      "\n",
      "-\n",
      "Input sentence: No way!\n",
      "Decoded sentence: ¡De eso nada!\n",
      "\n",
      "-\n",
      "Input sentence: No way!\n",
      "Decoded sentence: ¡De eso nada!\n",
      "\n",
      "-\n",
      "Input sentence: No way!\n",
      "Decoded sentence: ¡De eso nada!\n",
      "\n",
      "-\n",
      "Input sentence: No way!\n",
      "Decoded sentence: ¡De eso nada!\n",
      "\n",
      "-\n",
      "Input sentence: No way!\n",
      "Decoded sentence: ¡De eso nada!\n",
      "\n",
      "-\n",
      "Input sentence: No way!\n",
      "Decoded sentence: ¡De eso nada!\n",
      "\n",
      "-\n",
      "Input sentence: Really?\n",
      "Decoded sentence: ¿La verdad?\n",
      "\n",
      "-\n",
      "Input sentence: Really?\n",
      "Decoded sentence: ¿La verdad?\n",
      "\n",
      "-\n",
      "Input sentence: Thanks.\n",
      "Decoded sentence: ¡Gracias!\n",
      "\n",
      "-\n",
      "Input sentence: Thanks.\n",
      "Decoded sentence: ¡Gracias!\n",
      "\n",
      "-\n",
      "Input sentence: Try it.\n",
      "Decoded sentence: Pruébalo.\n",
      "\n",
      "-\n",
      "Input sentence: We try.\n",
      "Decoded sentence: Lo procuramos.\n",
      "\n",
      "-\n",
      "Input sentence: We won.\n",
      "Decoded sentence: Ganamos.\n",
      "\n",
      "-\n",
      "Input sentence: Why me?\n",
      "Decoded sentence: ¿Por qué yo?\n",
      "\n",
      "-\n",
      "Input sentence: Ask Tom.\n",
      "Decoded sentence: Pregúntale a Tom.\n",
      "\n",
      "-\n",
      "Input sentence: Awesome!\n",
      "Decoded sentence: ¡Órale!\n",
      "\n",
      "-\n",
      "Input sentence: Be calm.\n",
      "Decoded sentence: Mantente en calma.\n",
      "\n",
      "-\n",
      "Input sentence: Be cool.\n",
      "Decoded sentence: Estate tranquilo.\n",
      "\n",
      "-\n",
      "Input sentence: Be fair.\n",
      "Decoded sentence: Sé justo.\n",
      "\n",
      "-\n",
      "Input sentence: Be kind.\n",
      "Decoded sentence: Sean gentiles.\n",
      "\n",
      "-\n",
      "Input sentence: Be nice.\n",
      "Decoded sentence: Sé agradable.\n",
      "\n",
      "-\n",
      "Input sentence: Beat it.\n",
      "Decoded sentence: Pírate.\n",
      "\n",
      "-\n",
      "Input sentence: Call me.\n",
      "Decoded sentence: Llámame.\n",
      "\n",
      "-\n",
      "Input sentence: Call me.\n",
      "Decoded sentence: Llámame.\n",
      "\n",
      "-\n",
      "Input sentence: Call me.\n",
      "Decoded sentence: Llámame.\n",
      "\n",
      "-\n",
      "Input sentence: Call us.\n",
      "Decoded sentence: Llámanos.\n",
      "\n",
      "-\n",
      "Input sentence: Come in.\n",
      "Decoded sentence: Entre.\n",
      "\n",
      "-\n",
      "Input sentence: Come in.\n",
      "Decoded sentence: Entre.\n",
      "\n",
      "-\n",
      "Input sentence: Come in.\n",
      "Decoded sentence: Entre.\n",
      "\n",
      "-\n",
      "Input sentence: Come on!\n",
      "Decoded sentence: ¡Órale!\n",
      "\n",
      "-\n",
      "Input sentence: Come on.\n",
      "Decoded sentence: ¡Órale!\n",
      "\n",
      "-\n",
      "Input sentence: Come on.\n",
      "Decoded sentence: ¡Órale!\n",
      "\n",
      "-\n",
      "Input sentence: Drop it!\n",
      "Decoded sentence: Suéltalo.\n",
      "\n",
      "-\n",
      "Input sentence: Get Tom.\n",
      "Decoded sentence: Agarra a Tom.\n",
      "\n",
      "-\n",
      "Input sentence: Get out!\n",
      "Decoded sentence: Bájate.\n",
      "\n",
      "-\n",
      "Input sentence: Get out.\n",
      "Decoded sentence: Salid.\n",
      "\n",
      "-\n",
      "Input sentence: Get out.\n",
      "Decoded sentence: Salid.\n",
      "\n",
      "-\n",
      "Input sentence: Get out.\n",
      "Decoded sentence: Salid.\n",
      "\n",
      "-\n",
      "Input sentence: Get out.\n",
      "Decoded sentence: Salid.\n",
      "\n",
      "-\n",
      "Input sentence: Get out.\n",
      "Decoded sentence: Salid.\n",
      "\n",
      "-\n",
      "Input sentence: Go away!\n",
      "Decoded sentence: ¡Vete ya!\n",
      "\n",
      "-\n",
      "Input sentence: Go away!\n",
      "Decoded sentence: ¡Vete ya!\n",
      "\n"
     ]
    }
   ],
   "source": [
    "# Define sampling models\n",
    "encoder_model = Model(encoder_inputs, encoder_states)\n",
    "\n",
    "decoder_state_input_h = Input(shape=(latent_dim,))\n",
    "decoder_state_input_c = Input(shape=(latent_dim,))\n",
    "decoder_states_inputs = [decoder_state_input_h, decoder_state_input_c]\n",
    "decoder_outputs, state_h, state_c = decoder_lstm(\n",
    "    decoder_inputs, initial_state=decoder_states_inputs)\n",
    "decoder_states = [state_h, state_c]\n",
    "decoder_outputs = decoder_dense(decoder_outputs)\n",
    "decoder_model = Model(\n",
    "    [decoder_inputs] + decoder_states_inputs,\n",
    "    [decoder_outputs] + decoder_states)\n",
    "\n",
    "# Reverse-lookup token index to decode sequences back to\n",
    "# something readable.\n",
    "reverse_input_char_index = dict(\n",
    "    (i, char) for char, i in input_token_index.items())\n",
    "reverse_target_char_index = dict(\n",
    "    (i, char) for char, i in target_token_index.items())\n",
    "\n",
    "\n",
    "def decode_sequence(input_seq):\n",
    "    # Encode the input as state vectors.\n",
    "    states_value = encoder_model.predict(input_seq)\n",
    "\n",
    "    # Generate empty target sequence of length 1.\n",
    "    target_seq = np.zeros((1, 1, num_decoder_tokens))\n",
    "    # Populate the first character of target sequence with the start character.\n",
    "    target_seq[0, 0, target_token_index['\\t']] = 1.\n",
    "\n",
    "    # Sampling loop for a batch of sequences\n",
    "    # (to simplify, here we assume a batch of size 1).\n",
    "    stop_condition = False\n",
    "    decoded_sentence = ''\n",
    "    while not stop_condition:\n",
    "        output_tokens, h, c = decoder_model.predict(\n",
    "            [target_seq] + states_value)\n",
    "\n",
    "        # Sample a token\n",
    "        sampled_token_index = np.argmax(output_tokens[0, -1, :])\n",
    "        sampled_char = reverse_target_char_index[sampled_token_index]\n",
    "        decoded_sentence += sampled_char\n",
    "\n",
    "        # Exit condition: either hit max length\n",
    "        # or find stop character.\n",
    "        if (sampled_char == '\\n' or\n",
    "           len(decoded_sentence) > max_decoder_seq_length):\n",
    "            stop_condition = True\n",
    "\n",
    "        # Update the target sequence (of length 1).\n",
    "        target_seq = np.zeros((1, 1, num_decoder_tokens))\n",
    "        target_seq[0, 0, sampled_token_index] = 1.\n",
    "\n",
    "        # Update states\n",
    "        states_value = [h, c]\n",
    "\n",
    "    return decoded_sentence\n",
    "\n",
    "\n",
    "for seq_index in range(100):\n",
    "    # Take one sequence (part of the training set)\n",
    "    # for trying out decoding.\n",
    "    input_seq = encoder_input_data[seq_index: seq_index + 1]\n",
    "    decoded_sentence = decode_sequence(input_seq)\n",
    "    print('-')\n",
    "    print('Input sentence:', input_texts[seq_index])\n",
    "    print('Decoded sentence:', decoded_sentence)"
   ]
  },
  {
   "cell_type": "code",
   "execution_count": 65,
   "metadata": {},
   "outputs": [
    {
     "data": {
      "text/plain": [
       "(10000, 17, 71)"
      ]
     },
     "execution_count": 65,
     "metadata": {},
     "output_type": "execute_result"
    }
   ],
   "source": [
    "encoder_input_data.shape"
   ]
  },
  {
   "cell_type": "code",
   "execution_count": 68,
   "metadata": {},
   "outputs": [
    {
     "data": {
      "text/plain": [
       "(1, 17, 71)"
      ]
     },
     "execution_count": 68,
     "metadata": {},
     "output_type": "execute_result"
    }
   ],
   "source": [
    "encoder_input_data[-2:-1]"
   ]
  },
  {
   "cell_type": "code",
   "execution_count": 64,
   "metadata": {},
   "outputs": [
    {
     "data": {
      "text/plain": [
       "(1, 17, 71)"
      ]
     },
     "execution_count": 64,
     "metadata": {},
     "output_type": "execute_result"
    }
   ],
   "source": [
    "input_seq.shape"
   ]
  },
  {
   "cell_type": "code",
   "execution_count": 62,
   "metadata": {},
   "outputs": [
    {
     "name": "stdout",
     "output_type": "stream",
     "text": [
      "-\n",
      "Input sentence: Is this OK?\n",
      "Decoded sentence: ¿Esto es bueno?\n",
      "\n"
     ]
    }
   ],
   "source": [
    "seq_index = 1202\n",
    "# Take one sequence (part of the training set)\n",
    "# for trying out decoding.\n",
    "input_seq = encoder_input_data[seq_index: seq_index + 1]\n",
    "decoded_sentence = decode_sequence(input_seq)\n",
    "print('-')\n",
    "print('Input sentence:', input_texts[seq_index])\n",
    "print('Decoded sentence:', decoded_sentence)"
   ]
  },
  {
   "cell_type": "markdown",
   "metadata": {},
   "source": [
    "### Chatbots"
   ]
  },
  {
   "cell_type": "code",
   "execution_count": 69,
   "metadata": {},
   "outputs": [
    {
     "name": "stdout",
     "output_type": "stream",
     "text": [
      "--2018-05-22 16:18:10--  https://raw.githubusercontent.com/oswaldoludwig/Seq2seq-Chatbot-for-Keras/master/vocabulary_movie\n",
      "Resolving raw.githubusercontent.com... 151.101.192.133, 151.101.128.133, 151.101.64.133, ...\n",
      "Connecting to raw.githubusercontent.com|151.101.192.133|:443... connected.\n",
      "HTTP request sent, awaiting response... 200 OK\n",
      "Length: 213637 (209K) [text/plain]\n",
      "Saving to: ‘vocabulary_movie’\n",
      "\n",
      "vocabulary_movie    100%[===================>] 208.63K  --.-KB/s    in 0.07s   \n",
      "\n",
      "2018-05-22 16:18:15 (2.78 MB/s) - ‘vocabulary_movie’ saved [213637/213637]\n",
      "\n"
     ]
    }
   ],
   "source": [
    "# !wget https://raw.githubusercontent.com/oswaldoludwig/Seq2seq-Chatbot-for-Keras/master/vocabulary_movie\n",
    "# !wget https://raw.githubusercontent.com/oswaldoludwig/Seq2seq-Chatbot-for-Keras/master/conversation.py"
   ]
  },
  {
   "cell_type": "code",
   "execution_count": 72,
   "metadata": {},
   "outputs": [
    {
     "name": "stdout",
     "output_type": "stream",
     "text": [
      "--2018-05-22 18:11:49--  https://raw.githubusercontent.com/chen0040/keras-chatbot-web-api/master/chatbot_train/data/cornell-dialogs/movie_lines_cleaned_10k.txt\n",
      "Resolving raw.githubusercontent.com... 151.101.64.133, 151.101.128.133, 151.101.192.133, ...\n",
      "Connecting to raw.githubusercontent.com|151.101.64.133|:443... connected.\n",
      "HTTP request sent, awaiting response... 200 OK\n",
      "Length: 542439 (530K) [text/plain]\n",
      "Saving to: ‘movie_lines_cleaned_10k.txt’\n",
      "\n",
      "movie_lines_cleaned 100%[===================>] 529.73K   639KB/s    in 0.8s    \n",
      "\n",
      "2018-05-22 18:11:51 (639 KB/s) - ‘movie_lines_cleaned_10k.txt’ saved [542439/542439]\n",
      "\n"
     ]
    }
   ],
   "source": [
    "!wget https://raw.githubusercontent.com/chen0040/keras-chatbot-web-api/master/chatbot_train/data/cornell-dialogs/movie_lines_cleaned_10k.txt"
   ]
  },
  {
   "cell_type": "code",
   "execution_count": 80,
   "metadata": {
    "scrolled": false
   },
   "outputs": [
    {
     "name": "stdout",
     "output_type": "stream",
     "text": [
      "{'num_encoder_tokens': 802, 'num_decoder_tokens': 801, 'encoder_max_seq_length': 40, 'decoder_max_seq_length': 42}\n"
     ]
    },
    {
     "name": "stderr",
     "output_type": "stream",
     "text": [
      "/anaconda3/lib/python3.6/site-packages/keras/engine/topology.py:2379: UserWarning: Layer decoder_lstm was passed non-serializable keyword arguments: {'initial_state': [<tf.Tensor 'encoder_lstm_2/while/Exit_2:0' shape=(?, 256) dtype=float32>, <tf.Tensor 'encoder_lstm_2/while/Exit_3:0' shape=(?, 256) dtype=float32>]}. They will not be included in the serialized model (and thus will be missing at deserialization time).\n",
      "  str(node.arguments) + '. They will not be included '\n"
     ]
    },
    {
     "name": "stdout",
     "output_type": "stream",
     "text": [
      "7997\n",
      "2000\n",
      "Epoch 1/100\n",
      "124/124 [==============================] - 92s 742ms/step - loss: 1.5122 - val_loss: 1.4305\n",
      "Epoch 2/100\n",
      "124/124 [==============================] - 83s 667ms/step - loss: 1.4234 - val_loss: 1.3461\n",
      "Epoch 3/100\n",
      "124/124 [==============================] - 86s 696ms/step - loss: 1.3404 - val_loss: 1.2763\n",
      "Epoch 4/100\n",
      "124/124 [==============================] - 83s 667ms/step - loss: 1.2765 - val_loss: 1.2317\n",
      "Epoch 5/100\n",
      "124/124 [==============================] - 88s 711ms/step - loss: 1.2319 - val_loss: 1.1981\n",
      "Epoch 6/100\n",
      "124/124 [==============================] - 84s 679ms/step - loss: 1.1991 - val_loss: 1.1759\n",
      "Epoch 7/100\n",
      "124/124 [==============================] - 86s 693ms/step - loss: 1.1806 - val_loss: 1.1622\n",
      "Epoch 8/100\n",
      "124/124 [==============================] - 86s 695ms/step - loss: 1.1562 - val_loss: 1.1483\n",
      "Epoch 9/100\n",
      "124/124 [==============================] - 83s 672ms/step - loss: 1.1368 - val_loss: 1.1374\n",
      "Epoch 10/100\n",
      "124/124 [==============================] - 87s 705ms/step - loss: 1.1206 - val_loss: 1.1283\n",
      "Epoch 11/100\n",
      "124/124 [==============================] - 88s 710ms/step - loss: 1.1057 - val_loss: 1.1223\n",
      "Epoch 12/100\n",
      "124/124 [==============================] - 89s 720ms/step - loss: 1.0917 - val_loss: 1.1180\n",
      "Epoch 13/100\n",
      "124/124 [==============================] - 82s 660ms/step - loss: 1.0783 - val_loss: 1.1155\n",
      "Epoch 14/100\n",
      "124/124 [==============================] - 87s 699ms/step - loss: 1.0654 - val_loss: 1.1119\n",
      "Epoch 15/100\n",
      "124/124 [==============================] - 90s 726ms/step - loss: 1.0525 - val_loss: 1.1120\n",
      "Epoch 16/100\n",
      "124/124 [==============================] - 86s 694ms/step - loss: 1.0397 - val_loss: 1.1120\n",
      "Epoch 17/100\n",
      "124/124 [==============================] - 81s 654ms/step - loss: 1.0262 - val_loss: 1.1128\n",
      "Epoch 18/100\n",
      "124/124 [==============================] - 82s 664ms/step - loss: 1.0126 - val_loss: 1.1141\n",
      "Epoch 19/100\n",
      "124/124 [==============================] - 87s 701ms/step - loss: 0.9987 - val_loss: 1.1183\n",
      "Epoch 20/100\n",
      "124/124 [==============================] - 80s 644ms/step - loss: 0.9848 - val_loss: 1.1223\n",
      "Epoch 21/100\n",
      "124/124 [==============================] - 79s 638ms/step - loss: 0.9699 - val_loss: 1.1283\n",
      "Epoch 22/100\n",
      "124/124 [==============================] - 88s 710ms/step - loss: 0.9551 - val_loss: 1.1333\n",
      "Epoch 23/100\n",
      "124/124 [==============================] - 86s 696ms/step - loss: 0.9400 - val_loss: 1.1403\n",
      "Epoch 24/100\n",
      "124/124 [==============================] - 85s 682ms/step - loss: 0.9250 - val_loss: 1.1462\n",
      "Epoch 25/100\n",
      "124/124 [==============================] - 83s 668ms/step - loss: 0.9086 - val_loss: 1.1557\n",
      "Epoch 26/100\n",
      "124/124 [==============================] - 87s 698ms/step - loss: 0.8936 - val_loss: 1.1640\n",
      "Epoch 27/100\n",
      "124/124 [==============================] - 89s 720ms/step - loss: 0.8777 - val_loss: 1.1687\n",
      "Epoch 28/100\n",
      "124/124 [==============================] - 91s 730ms/step - loss: 0.8627 - val_loss: 1.1781\n",
      "Epoch 29/100\n",
      "124/124 [==============================] - 90s 723ms/step - loss: 0.8472 - val_loss: 1.1873\n",
      "Epoch 30/100\n",
      "124/124 [==============================] - 86s 697ms/step - loss: 0.8310 - val_loss: 1.1989\n",
      "Epoch 31/100\n",
      "124/124 [==============================] - 95s 768ms/step - loss: 0.8164 - val_loss: 1.2119\n",
      "Epoch 32/100\n",
      "124/124 [==============================] - 109s 880ms/step - loss: 0.8009 - val_loss: 1.2184\n",
      "Epoch 33/100\n",
      "124/124 [==============================] - 108s 871ms/step - loss: 0.7867 - val_loss: 1.2217\n",
      "Epoch 34/100\n",
      "124/124 [==============================] - 1041s 8s/step - loss: 0.7724 - val_loss: 1.2399\n",
      "Epoch 35/100\n",
      "124/124 [==============================] - 3394s 27s/step - loss: 0.7569 - val_loss: 1.2463\n",
      "Epoch 36/100\n",
      "124/124 [==============================] - 95s 769ms/step - loss: 0.7417 - val_loss: 1.2605\n",
      "Epoch 37/100\n",
      "124/124 [==============================] - 82s 659ms/step - loss: 0.7281 - val_loss: 1.2706\n",
      "Epoch 38/100\n",
      "124/124 [==============================] - 82s 660ms/step - loss: 0.7142 - val_loss: 1.2834\n",
      "Epoch 39/100\n",
      "124/124 [==============================] - 79s 634ms/step - loss: 0.7007 - val_loss: 1.2938\n",
      "Epoch 40/100\n",
      "124/124 [==============================] - 75s 603ms/step - loss: 0.6868 - val_loss: 1.3002\n",
      "Epoch 41/100\n",
      "124/124 [==============================] - 75s 609ms/step - loss: 0.6736 - val_loss: 1.3166\n",
      "Epoch 42/100\n",
      "124/124 [==============================] - 80s 649ms/step - loss: 0.6605 - val_loss: 1.3254\n",
      "Epoch 43/100\n",
      "124/124 [==============================] - 77s 619ms/step - loss: 0.6472 - val_loss: 1.3364\n",
      "Epoch 44/100\n",
      "124/124 [==============================] - 75s 609ms/step - loss: 0.6365 - val_loss: 1.3490\n",
      "Epoch 45/100\n",
      "124/124 [==============================] - 76s 611ms/step - loss: 0.6235 - val_loss: 1.3608\n",
      "Epoch 46/100\n",
      "124/124 [==============================] - 75s 602ms/step - loss: 0.6104 - val_loss: 1.3717\n",
      "Epoch 47/100\n",
      "124/124 [==============================] - 77s 624ms/step - loss: 0.5980 - val_loss: 1.3847\n",
      "Epoch 48/100\n",
      "124/124 [==============================] - 75s 609ms/step - loss: 0.5872 - val_loss: 1.4038\n",
      "Epoch 49/100\n",
      "124/124 [==============================] - 75s 608ms/step - loss: 0.5753 - val_loss: 1.4090\n",
      "Epoch 50/100\n",
      "124/124 [==============================] - 76s 616ms/step - loss: 0.5642 - val_loss: 1.4234\n",
      "Epoch 51/100\n",
      "124/124 [==============================] - 77s 622ms/step - loss: 0.5533 - val_loss: 1.4317\n",
      "Epoch 52/100\n",
      "124/124 [==============================] - 76s 612ms/step - loss: 0.5416 - val_loss: 1.4498\n",
      "Epoch 53/100\n",
      "124/124 [==============================] - 76s 613ms/step - loss: 0.5308 - val_loss: 1.4579\n",
      "Epoch 54/100\n",
      "124/124 [==============================] - 75s 605ms/step - loss: 0.5215 - val_loss: 1.4709\n",
      "Epoch 55/100\n",
      "124/124 [==============================] - 76s 612ms/step - loss: 0.5095 - val_loss: 1.4844\n",
      "Epoch 56/100\n",
      "124/124 [==============================] - 76s 611ms/step - loss: 0.4993 - val_loss: 1.4926\n",
      "Epoch 57/100\n",
      "124/124 [==============================] - 75s 603ms/step - loss: 0.4885 - val_loss: 1.5084\n",
      "Epoch 58/100\n",
      "124/124 [==============================] - 76s 612ms/step - loss: 0.4795 - val_loss: 1.5220\n",
      "Epoch 59/100\n",
      "124/124 [==============================] - 77s 622ms/step - loss: 0.4695 - val_loss: 1.5323\n",
      "Epoch 60/100\n",
      "124/124 [==============================] - 76s 616ms/step - loss: 0.4605 - val_loss: 1.5458\n",
      "Epoch 61/100\n",
      "124/124 [==============================] - 77s 618ms/step - loss: 0.4498 - val_loss: 1.5584\n",
      "Epoch 62/100\n",
      "124/124 [==============================] - 76s 612ms/step - loss: 0.4421 - val_loss: 1.5638\n",
      "Epoch 63/100\n",
      "124/124 [==============================] - 77s 623ms/step - loss: 0.4325 - val_loss: 1.5825\n",
      "Epoch 64/100\n",
      "124/124 [==============================] - 78s 627ms/step - loss: 0.4245 - val_loss: 1.5897\n",
      "Epoch 65/100\n",
      "124/124 [==============================] - 82s 658ms/step - loss: 0.4142 - val_loss: 1.6065\n",
      "Epoch 66/100\n",
      "124/124 [==============================] - 80s 649ms/step - loss: 0.4056 - val_loss: 1.6221\n",
      "Epoch 67/100\n",
      "124/124 [==============================] - 85s 682ms/step - loss: 0.3972 - val_loss: 1.6211\n",
      "Epoch 68/100\n",
      "124/124 [==============================] - 85s 687ms/step - loss: 0.3889 - val_loss: 1.6449\n",
      "Epoch 69/100\n",
      "124/124 [==============================] - 82s 658ms/step - loss: 0.3813 - val_loss: 1.6601\n",
      "Epoch 70/100\n",
      "124/124 [==============================] - 82s 663ms/step - loss: 0.3736 - val_loss: 1.6660\n",
      "Epoch 71/100\n",
      "124/124 [==============================] - 81s 652ms/step - loss: 0.3661 - val_loss: 1.6803\n",
      "Epoch 72/100\n",
      "124/124 [==============================] - 76s 614ms/step - loss: 0.3576 - val_loss: 1.6927\n",
      "Epoch 73/100\n",
      "124/124 [==============================] - 76s 617ms/step - loss: 0.3502 - val_loss: 1.6992\n",
      "Epoch 74/100\n",
      "124/124 [==============================] - 77s 618ms/step - loss: 0.3433 - val_loss: 1.7188\n",
      "Epoch 75/100\n",
      "124/124 [==============================] - 76s 616ms/step - loss: 0.3354 - val_loss: 1.7212\n",
      "Epoch 76/100\n",
      "124/124 [==============================] - 76s 616ms/step - loss: 0.3286 - val_loss: 1.7400\n",
      "Epoch 77/100\n",
      "124/124 [==============================] - 76s 612ms/step - loss: 0.3217 - val_loss: 1.7470\n",
      "Epoch 78/100\n",
      "124/124 [==============================] - 77s 620ms/step - loss: 0.3149 - val_loss: 1.7524\n",
      "Epoch 79/100\n"
     ]
    },
    {
     "name": "stdout",
     "output_type": "stream",
     "text": [
      "124/124 [==============================] - 76s 615ms/step - loss: 0.3080 - val_loss: 1.7739\n",
      "Epoch 80/100\n",
      "124/124 [==============================] - 75s 605ms/step - loss: 0.3023 - val_loss: 1.7794\n",
      "Epoch 81/100\n",
      "124/124 [==============================] - 76s 616ms/step - loss: 0.2961 - val_loss: 1.7926\n",
      "Epoch 82/100\n",
      "124/124 [==============================] - 78s 633ms/step - loss: 0.2893 - val_loss: 1.8038\n",
      "Epoch 83/100\n",
      "124/124 [==============================] - 79s 634ms/step - loss: 0.2833 - val_loss: 1.8207\n",
      "Epoch 84/100\n",
      "124/124 [==============================] - 77s 618ms/step - loss: 0.2749 - val_loss: 1.8287\n",
      "Epoch 85/100\n",
      "124/124 [==============================] - 76s 612ms/step - loss: 0.2710 - val_loss: 1.8383\n",
      "Epoch 86/100\n",
      "124/124 [==============================] - 78s 626ms/step - loss: 0.2637 - val_loss: 1.8501\n",
      "Epoch 87/100\n",
      "124/124 [==============================] - 76s 615ms/step - loss: 0.2578 - val_loss: 1.8609\n",
      "Epoch 88/100\n",
      "124/124 [==============================] - 74s 597ms/step - loss: 0.2518 - val_loss: 1.8734\n",
      "Epoch 89/100\n",
      "124/124 [==============================] - 75s 605ms/step - loss: 0.2483 - val_loss: 1.8829\n",
      "Epoch 90/100\n",
      "124/124 [==============================] - 75s 606ms/step - loss: 0.2403 - val_loss: 1.8973\n",
      "Epoch 91/100\n",
      "124/124 [==============================] - 75s 606ms/step - loss: 0.2358 - val_loss: 1.9057\n",
      "Epoch 92/100\n",
      "124/124 [==============================] - 75s 603ms/step - loss: 0.2323 - val_loss: 1.9179\n",
      "Epoch 93/100\n",
      "124/124 [==============================] - 75s 601ms/step - loss: 0.2259 - val_loss: 1.9297\n",
      "Epoch 94/100\n",
      "124/124 [==============================] - 76s 609ms/step - loss: 0.2195 - val_loss: 1.9388\n",
      "Epoch 95/100\n",
      "124/124 [==============================] - 76s 612ms/step - loss: 0.2164 - val_loss: 1.9550\n",
      "Epoch 96/100\n",
      "124/124 [==============================] - 74s 598ms/step - loss: 0.2109 - val_loss: 1.9550\n",
      "Epoch 97/100\n",
      "124/124 [==============================] - 75s 605ms/step - loss: 0.2053 - val_loss: 1.9658\n",
      "Epoch 98/100\n",
      "124/124 [==============================] - 75s 605ms/step - loss: 0.2010 - val_loss: 1.9793\n",
      "Epoch 99/100\n",
      "124/124 [==============================] - 75s 605ms/step - loss: 0.1979 - val_loss: 1.9902\n",
      "Epoch 100/100\n",
      "124/124 [==============================] - 75s 605ms/step - loss: 0.1945 - val_loss: 1.9944\n"
     ]
    }
   ],
   "source": [
    "BATCH_SIZE = 64\n",
    "NUM_EPOCHS = 100\n",
    "HIDDEN_UNITS = 256\n",
    "MAX_INPUT_SEQ_LENGTH = 40\n",
    "MAX_TARGET_SEQ_LENGTH = 40\n",
    "MAX_VOCAB_SIZE = 800\n",
    "DATA_PATH = 'movie_lines_cleaned_10k.txt'\n",
    "WEIGHT_FILE_PATH = 'word-weights.h5'\n",
    "\n",
    "input_counter = Counter()\n",
    "target_counter = Counter()\n",
    "\n",
    "lines = open(DATA_PATH, 'rt', encoding='utf8').read().split('\\n')\n",
    "input_texts = []\n",
    "target_texts = []\n",
    "\n",
    "prev_words = []\n",
    "for line in lines:\n",
    "\n",
    "    next_words = [w.lower() for w in nltk.word_tokenize(line)]\n",
    "    if len(next_words) > MAX_TARGET_SEQ_LENGTH:\n",
    "        next_words = next_words[0:MAX_TARGET_SEQ_LENGTH]\n",
    "\n",
    "    if len(prev_words) > 0:\n",
    "        input_texts.append(prev_words)\n",
    "        for w in prev_words:\n",
    "            input_counter[w] += 1\n",
    "\n",
    "        target_words = next_words[:]\n",
    "        target_words.insert(0, 'START')\n",
    "        target_words.append('END')\n",
    "        for w in target_words:\n",
    "            target_counter[w] += 1\n",
    "        target_texts.append(target_words)\n",
    "\n",
    "    prev_words = next_words\n",
    "\n",
    "input_word2idx = dict()\n",
    "target_word2idx = dict()\n",
    "for idx, word in enumerate(input_counter.most_common(MAX_VOCAB_SIZE)):\n",
    "    input_word2idx[word[0]] = idx + 2\n",
    "for idx, word in enumerate(target_counter.most_common(MAX_VOCAB_SIZE)):\n",
    "    target_word2idx[word[0]] = idx + 1\n",
    "\n",
    "input_word2idx['PAD'] = 0\n",
    "input_word2idx['UNK'] = 1\n",
    "target_word2idx['UNK'] = 0\n",
    "\n",
    "input_idx2word = dict([(idx, word) for word, idx in input_word2idx.items()])\n",
    "target_idx2word = dict([(idx, word) for word, idx in target_word2idx.items()])\n",
    "\n",
    "num_encoder_tokens = len(input_idx2word)\n",
    "num_decoder_tokens = len(target_idx2word)\n",
    "\n",
    "np.save('word-input-word2idx.npy', input_word2idx)\n",
    "np.save('word-input-idx2word.npy', input_idx2word)\n",
    "np.save('word-target-word2idx.npy', target_word2idx)\n",
    "np.save('word-target-idx2word.npy', target_idx2word)\n",
    "\n",
    "encoder_input_data = []\n",
    "\n",
    "encoder_max_seq_length = 0\n",
    "decoder_max_seq_length = 0\n",
    "\n",
    "for input_words, target_words in zip(input_texts, target_texts):\n",
    "    encoder_input_wids = []\n",
    "    for w in input_words:\n",
    "        w2idx = 1  # default [UNK]\n",
    "        if w in input_word2idx:\n",
    "            w2idx = input_word2idx[w]\n",
    "        encoder_input_wids.append(w2idx)\n",
    "\n",
    "    encoder_input_data.append(encoder_input_wids)\n",
    "    encoder_max_seq_length = max(len(encoder_input_wids), encoder_max_seq_length)\n",
    "    decoder_max_seq_length = max(len(target_words), decoder_max_seq_length)\n",
    "\n",
    "context = dict()\n",
    "context['num_encoder_tokens'] = num_encoder_tokens\n",
    "context['num_decoder_tokens'] = num_decoder_tokens\n",
    "context['encoder_max_seq_length'] = encoder_max_seq_length\n",
    "context['decoder_max_seq_length'] = decoder_max_seq_length\n",
    "\n",
    "print(context)\n",
    "# np.save('word-context.npy', context)\n",
    "\n",
    "\n",
    "def generate_batch(input_data, output_text_data):\n",
    "    num_batches = len(input_data) // BATCH_SIZE\n",
    "    while True:\n",
    "        for batchIdx in range(0, num_batches):\n",
    "            start = batchIdx * BATCH_SIZE\n",
    "            end = (batchIdx + 1) * BATCH_SIZE\n",
    "            encoder_input_data_batch = pad_sequences(input_data[start:end], encoder_max_seq_length)\n",
    "            decoder_target_data_batch = np.zeros(shape=(BATCH_SIZE, decoder_max_seq_length, num_decoder_tokens))\n",
    "            decoder_input_data_batch = np.zeros(shape=(BATCH_SIZE, decoder_max_seq_length, num_decoder_tokens))\n",
    "            for lineIdx, target_words in enumerate(output_text_data[start:end]):\n",
    "                for idx, w in enumerate(target_words):\n",
    "                    w2idx = 0  # default [UNK]\n",
    "                    if w in target_word2idx:\n",
    "                        w2idx = target_word2idx[w]\n",
    "                    decoder_input_data_batch[lineIdx, idx, w2idx] = 1\n",
    "                    if idx > 0:\n",
    "                        decoder_target_data_batch[lineIdx, idx - 1, w2idx] = 1\n",
    "            yield [encoder_input_data_batch, decoder_input_data_batch], decoder_target_data_batch\n",
    "\n",
    "\n",
    "encoder_inputs = Input(shape=(None,), name='encoder_inputs')\n",
    "encoder_embedding = Embedding(input_dim=num_encoder_tokens, output_dim=HIDDEN_UNITS,\n",
    "                              input_length=encoder_max_seq_length, name='encoder_embedding')\n",
    "encoder_lstm = LSTM(units=HIDDEN_UNITS, return_state=True, name='encoder_lstm')\n",
    "encoder_outputs, encoder_state_h, encoder_state_c = encoder_lstm(encoder_embedding(encoder_inputs))\n",
    "encoder_states = [encoder_state_h, encoder_state_c]\n",
    "\n",
    "decoder_inputs = Input(shape=(None, num_decoder_tokens), name='decoder_inputs')\n",
    "decoder_lstm = LSTM(units=HIDDEN_UNITS, return_state=True, return_sequences=True, name='decoder_lstm')\n",
    "decoder_outputs, decoder_state_h, decoder_state_c = decoder_lstm(decoder_inputs,\n",
    "                                                                 initial_state=encoder_states)\n",
    "decoder_dense = Dense(units=num_decoder_tokens, activation='softmax', name='decoder_dense')\n",
    "decoder_outputs = decoder_dense(decoder_outputs)\n",
    "\n",
    "model = Model([encoder_inputs, decoder_inputs], decoder_outputs)\n",
    "\n",
    "model.compile(loss='categorical_crossentropy', optimizer='rmsprop')\n",
    "\n",
    "json = model.to_json()\n",
    "open('word-architecture.json', 'w').write(json)\n",
    "\n",
    "Xtrain, Xtest, Ytrain, Ytest = train_test_split(encoder_input_data, target_texts, test_size=0.2, random_state=42)\n",
    "\n",
    "print(len(Xtrain))\n",
    "print(len(Xtest))\n",
    "\n",
    "train_gen = generate_batch(Xtrain, Ytrain)\n",
    "test_gen = generate_batch(Xtest, Ytest)\n",
    "\n",
    "train_num_batches = len(Xtrain) // BATCH_SIZE\n",
    "test_num_batches = len(Xtest) // BATCH_SIZE\n",
    "\n",
    "checkpoint = ModelCheckpoint(filepath=WEIGHT_FILE_PATH, save_best_only=True)\n",
    "model.fit_generator(generator=train_gen, steps_per_epoch=train_num_batches,\n",
    "                    epochs=NUM_EPOCHS,\n",
    "                    verbose=1, validation_data=test_gen, validation_steps=test_num_batches, callbacks=[checkpoint])\n",
    "\n",
    "model.save_weights(WEIGHT_FILE_PATH)"
   ]
  },
  {
   "cell_type": "code",
   "execution_count": 81,
   "metadata": {},
   "outputs": [
    {
     "data": {
      "text/plain": [
       "'word-weights.h5'"
      ]
     },
     "execution_count": 81,
     "metadata": {},
     "output_type": "execute_result"
    }
   ],
   "source": [
    "WEIGHT_FILE_PATH"
   ]
  },
  {
   "cell_type": "markdown",
   "metadata": {},
   "source": [
    "### inference"
   ]
  },
  {
   "cell_type": "code",
   "execution_count": 88,
   "metadata": {},
   "outputs": [],
   "source": [
    "HIDDEN_UNITS = 256\n",
    "\n",
    "\n",
    "class CornellWordChatBot(object):\n",
    "    model = None\n",
    "    encoder_model = None\n",
    "    decoder_model = None\n",
    "    input_word2idx = None\n",
    "    input_idx2word = None\n",
    "    target_word2idx = None\n",
    "    target_idx2word = None\n",
    "    max_encoder_seq_length = None\n",
    "    max_decoder_seq_length = None\n",
    "    num_encoder_tokens = None\n",
    "    num_decoder_tokens = None\n",
    "\n",
    "    def __init__(self):\n",
    "        self.input_word2idx = np.load('word-input-word2idx.npy').item()\n",
    "        self.input_idx2word = np.load('word-input-idx2word.npy').item()\n",
    "        self.target_word2idx = np.load('word-target-word2idx.npy').item()\n",
    "        self.target_idx2word = np.load('word-target-idx2word.npy').item()\n",
    "        context = np.load('word-context.npy').item()\n",
    "        self.max_encoder_seq_length = context['encoder_max_seq_length']\n",
    "        self.max_decoder_seq_length = context['decoder_max_seq_length']\n",
    "        self.num_encoder_tokens = context['num_encoder_tokens']\n",
    "        self.num_decoder_tokens = context['num_decoder_tokens']\n",
    "\n",
    "        encoder_inputs = Input(shape=(None, ), name='encoder_inputs')\n",
    "        encoder_embedding = Embedding(input_dim=self.num_encoder_tokens, output_dim=HIDDEN_UNITS,\n",
    "                                      input_length=self.max_encoder_seq_length, name='encoder_embedding')\n",
    "        encoder_lstm = LSTM(units=HIDDEN_UNITS, return_state=True, name=\"encoder_lstm\")\n",
    "        encoder_outputs, encoder_state_h, encoder_state_c = encoder_lstm(encoder_embedding(encoder_inputs))\n",
    "        encoder_states = [encoder_state_h, encoder_state_c]\n",
    "\n",
    "        decoder_inputs = Input(shape=(None, self.num_decoder_tokens), name='decoder_inputs')\n",
    "        decoder_lstm = LSTM(units=HIDDEN_UNITS, return_sequences=True, return_state=True, name='decoder_lstm')\n",
    "        decoder_outputs, _, _ = decoder_lstm(decoder_inputs, initial_state=encoder_states)\n",
    "        decoder_dense = Dense(self.num_decoder_tokens, activation='softmax', name='decoder_dense')\n",
    "        decoder_outputs = decoder_dense(decoder_outputs)\n",
    "\n",
    "        self.model = Model([encoder_inputs, decoder_inputs], decoder_outputs)\n",
    "\n",
    "        # model_json = open('../chatbot_train/models/cornell/word-architecture.json', 'r').read()\n",
    "        # self.model = model_from_json(model_json)\n",
    "        self.model.load_weights('word-weights.h5')\n",
    "        self.model.compile(optimizer='rmsprop', loss='categorical_crossentropy')\n",
    "\n",
    "        self.encoder_model = Model(encoder_inputs, encoder_states)\n",
    "\n",
    "        decoder_state_inputs = [Input(shape=(HIDDEN_UNITS,)), Input(shape=(HIDDEN_UNITS,))]\n",
    "        decoder_outputs, state_h, state_c = decoder_lstm(decoder_inputs, initial_state=decoder_state_inputs)\n",
    "        decoder_states = [state_h, state_c]\n",
    "        decoder_outputs = decoder_dense(decoder_outputs)\n",
    "        self.decoder_model = Model([decoder_inputs] + decoder_state_inputs, [decoder_outputs] + decoder_states)\n",
    "\n",
    "    def reply(self, input_text):\n",
    "        input_seq = []\n",
    "        input_wids = []\n",
    "        for word in nltk.word_tokenize(input_text.lower()):\n",
    "            idx = 1  # default [UNK]\n",
    "            if word in self.input_word2idx:\n",
    "                idx = self.input_word2idx[word]\n",
    "            input_wids.append(idx)\n",
    "        input_seq.append(input_wids)\n",
    "        input_seq = pad_sequences(input_seq, self.max_encoder_seq_length)\n",
    "        states_value = self.encoder_model.predict(input_seq)\n",
    "        target_seq = np.zeros((1, 1, self.num_decoder_tokens))\n",
    "        target_seq[0, 0, self.target_word2idx['START']] = 1\n",
    "        target_text = ''\n",
    "        target_text_len = 0\n",
    "        terminated = False\n",
    "        while not terminated:\n",
    "            output_tokens, h, c = self.decoder_model.predict([target_seq] + states_value)\n",
    "\n",
    "            sample_token_idx = np.argmax(output_tokens[0, -1, :])\n",
    "            sample_word = self.target_idx2word[sample_token_idx]\n",
    "            target_text_len += 1\n",
    "\n",
    "            if sample_word != 'START' and sample_word != 'END':\n",
    "                target_text += ' ' + sample_word\n",
    "\n",
    "            if sample_word == 'END' or target_text_len >= self.max_decoder_seq_length:\n",
    "                terminated = True\n",
    "\n",
    "            target_seq = np.zeros((1, 1, self.num_decoder_tokens))\n",
    "            target_seq[0, 0, sample_token_idx] = 1\n",
    "\n",
    "            states_value = [h, c]\n",
    "        return target_text.strip()\n",
    "\n",
    "    def test_run(self):\n",
    "        print(self.reply('do you listen to this crap?'))\n",
    "        print(self.reply('Did you change your hair?'))\n",
    "        print(self.reply('Get out!'))"
   ]
  },
  {
   "cell_type": "code",
   "execution_count": 89,
   "metadata": {},
   "outputs": [
    {
     "name": "stdout",
     "output_type": "stream",
     "text": [
      "-rw-r--r--@ 1 amir.ziai  10000   442B May 23 00:26 word-context.npy\r\n",
      "-rw-r--r--@ 1 amir.ziai  10000    13K May 23 00:26 word-input-idx2word.npy\r\n",
      "-rw-r--r--@ 1 amir.ziai  10000    13K May 23 00:26 word-input-word2idx.npy\r\n",
      "-rw-r--r--@ 1 amir.ziai  10000    13K May 23 00:26 word-target-idx2word.npy\r\n",
      "-rw-r--r--@ 1 amir.ziai  10000    13K May 23 00:26 word-target-word2idx.npy\r\n"
     ]
    }
   ],
   "source": [
    "!ls -lht *.npy"
   ]
  },
  {
   "cell_type": "code",
   "execution_count": 91,
   "metadata": {},
   "outputs": [],
   "source": [
    "bot = CornellWordChatBot()"
   ]
  },
  {
   "cell_type": "code",
   "execution_count": 92,
   "metadata": {},
   "outputs": [
    {
     "name": "stdout",
     "output_type": "stream",
     "text": [
      "no ... i can UNK you for me .\n",
      "you 'd have to get her out ?\n",
      "UNK !\n"
     ]
    }
   ],
   "source": [
    "bot.test_run()"
   ]
  },
  {
   "cell_type": "code",
   "execution_count": 95,
   "metadata": {},
   "outputs": [
    {
     "data": {
      "text/plain": [
       "\"UNK a UNK . i saw it . i was UNK in UNK and i 'm coming in .\""
      ]
     },
     "execution_count": 95,
     "metadata": {},
     "output_type": "execute_result"
    }
   ],
   "source": [
    "bot.reply('hello')"
   ]
  },
  {
   "cell_type": "code",
   "execution_count": 97,
   "metadata": {},
   "outputs": [
    {
     "data": {
      "text/plain": [
       "\"you 're UNK against one , jesse . you UNK me .\""
      ]
     },
     "execution_count": 97,
     "metadata": {},
     "output_type": "execute_result"
    }
   ],
   "source": [
    "bot.reply('my name is amir')"
   ]
  },
  {
   "cell_type": "code",
   "execution_count": 99,
   "metadata": {},
   "outputs": [
    {
     "data": {
      "text/plain": [
       "\"i 'm UNK , i got ta do . i 'm sorry .\""
      ]
     },
     "execution_count": 99,
     "metadata": {},
     "output_type": "execute_result"
    }
   ],
   "source": [
    "bot.reply('Haha')"
   ]
  },
  {
   "cell_type": "code",
   "execution_count": null,
   "metadata": {},
   "outputs": [],
   "source": []
  }
 ],
 "metadata": {
  "anaconda-cloud": {},
  "kernelspec": {
   "display_name": "Python 3",
   "language": "python",
   "name": "python3"
  },
  "language_info": {
   "codemirror_mode": {
    "name": "ipython",
    "version": 3
   },
   "file_extension": ".py",
   "mimetype": "text/x-python",
   "name": "python",
   "nbconvert_exporter": "python",
   "pygments_lexer": "ipython3",
   "version": "3.6.5"
  }
 },
 "nbformat": 4,
 "nbformat_minor": 2
}

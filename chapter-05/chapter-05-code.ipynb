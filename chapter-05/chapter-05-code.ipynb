{
 "cells": [
  {
   "cell_type": "markdown",
   "metadata": {},
   "source": [
    "# Chapter 5 NLP"
   ]
  },
  {
   "cell_type": "code",
   "execution_count": 1,
   "metadata": {},
   "outputs": [],
   "source": [
    "%matplotlib inline"
   ]
  },
  {
   "cell_type": "code",
   "execution_count": 38,
   "metadata": {},
   "outputs": [],
   "source": [
    "import numpy as np\n",
    "from collections import Counter\n",
    "import glob\n",
    "import pandas as pd\n",
    "import matplotlib.pyplot as plt\n",
    "import re\n",
    "import seaborn as sns\n",
    "import string\n",
    "\n",
    "import scattertext\n",
    "\n",
    "import tensorflow as tf\n",
    "from tensorflow import keras\n",
    "\n",
    "from keras.datasets import imdb\n",
    "from keras.preprocessing.sequence import pad_sequences\n",
    "from keras.layers.embeddings import Embedding\n",
    "from keras.models import Sequential\n",
    "from keras.layers import Input\n",
    "from keras.layers import Dense, Flatten, Activation, Dropout\n",
    "from keras.layers import SimpleRNN, GRU, LSTM, Bidirectional\n",
    "from keras.layers import Conv1D, MaxPooling1D, GlobalMaxPooling1D\n",
    "from keras.models import Model\n",
    "from keras.utils import to_categorical\n",
    "from keras.wrappers.scikit_learn import KerasClassifier\n",
    "from keras.callbacks import ModelCheckpoint\n",
    "\n",
    "import nltk\n",
    "from nltk import word_tokenize          \n",
    "from nltk.stem import WordNetLemmatizer, PorterStemmer, LancasterStemmer, SnowballStemmer\n",
    "from nltk.corpus import stopwords\n",
    "# try `python -m spacy.en.download` or `conda install -c conda-forge spacy`\n",
    "from spacy.lang.en import English\n",
    "\n",
    "from sklearn.ensemble import RandomForestClassifier\n",
    "from sklearn.feature_extraction.stop_words import ENGLISH_STOP_WORDS\n",
    "from sklearn.feature_extraction.text import CountVectorizer, TfidfVectorizer\n",
    "from sklearn.linear_model import LogisticRegression\n",
    "from sklearn.model_selection import cross_val_score, StratifiedKFold, train_test_split\n",
    "\n",
    "sns.set()"
   ]
  },
  {
   "cell_type": "code",
   "execution_count": 55,
   "metadata": {},
   "outputs": [],
   "source": [
    "# nltk.download('wordnet')"
   ]
  },
  {
   "cell_type": "markdown",
   "metadata": {},
   "source": [
    "### Preprocessing"
   ]
  },
  {
   "cell_type": "code",
   "execution_count": 39,
   "metadata": {},
   "outputs": [],
   "source": [
    "corpus = [\n",
    "    \"movie was awesome, a must see\",\n",
    "    \"wasn't overly impressed with the movie at all\",\n",
    "    \"the movie was not good at all, it was a waste of time\",\n",
    "]"
   ]
  },
  {
   "cell_type": "code",
   "execution_count": 40,
   "metadata": {},
   "outputs": [
    {
     "data": {
      "text/plain": [
       "[['movie', 'was', 'awesome,', 'a', 'must', 'see'],\n",
       " [\"wasn't\", 'overly', 'impressed', 'with', 'the', 'movie', 'at', 'all'],\n",
       " ['the',\n",
       "  'movie',\n",
       "  'was',\n",
       "  'not',\n",
       "  'good',\n",
       "  'at',\n",
       "  'all,',\n",
       "  'it',\n",
       "  'was',\n",
       "  'a',\n",
       "  'waste',\n",
       "  'of',\n",
       "  'time']]"
      ]
     },
     "execution_count": 40,
     "metadata": {},
     "output_type": "execute_result"
    }
   ],
   "source": [
    "tokenized_corpus = [document.split() for document in corpus]\n",
    "tokenized_corpus"
   ]
  },
  {
   "cell_type": "markdown",
   "metadata": {},
   "source": [
    "#### regex"
   ]
  },
  {
   "cell_type": "code",
   "execution_count": 41,
   "metadata": {},
   "outputs": [],
   "source": [
    "token_pattern = r\"\\b\\w\\w+\\b\""
   ]
  },
  {
   "cell_type": "code",
   "execution_count": 42,
   "metadata": {},
   "outputs": [
    {
     "data": {
      "text/plain": [
       "['movie', 'was', 'awesome', 'must', 'see']"
      ]
     },
     "execution_count": 42,
     "metadata": {},
     "output_type": "execute_result"
    }
   ],
   "source": [
    "re.findall(token_pattern, corpus[0])"
   ]
  },
  {
   "cell_type": "code",
   "execution_count": 43,
   "metadata": {},
   "outputs": [
    {
     "data": {
      "text/plain": [
       "['do', 'don']"
      ]
     },
     "execution_count": 43,
     "metadata": {},
     "output_type": "execute_result"
    }
   ],
   "source": [
    "re.findall(token_pattern, \"do u? i don't :(\")"
   ]
  },
  {
   "cell_type": "markdown",
   "metadata": {},
   "source": [
    "#### sequence of tokens"
   ]
  },
  {
   "cell_type": "code",
   "execution_count": 44,
   "metadata": {},
   "outputs": [
    {
     "data": {
      "text/plain": [
       "{'time': 0,\n",
       " 'was': 1,\n",
       " 'with': 2,\n",
       " 'of': 3,\n",
       " 'the': 4,\n",
       " 'impressed': 5,\n",
       " 'see': 6,\n",
       " \"wasn't\": 7,\n",
       " 'must': 8,\n",
       " 'overly': 9,\n",
       " 'all': 10,\n",
       " 'awesome,': 11,\n",
       " 'not': 12,\n",
       " 'good': 13,\n",
       " 'movie': 14,\n",
       " 'at': 15,\n",
       " 'all,': 16,\n",
       " 'it': 17,\n",
       " 'a': 18,\n",
       " 'waste': 19}"
      ]
     },
     "execution_count": 44,
     "metadata": {},
     "output_type": "execute_result"
    }
   ],
   "source": [
    "vocab = {\n",
    "    token\n",
    "    for sentence in corpus\n",
    "    for token in sentence.split()\n",
    "}\n",
    "token_to_index = dict(zip(vocab, range(len(vocab))))\n",
    "token_to_index"
   ]
  },
  {
   "cell_type": "code",
   "execution_count": 45,
   "metadata": {},
   "outputs": [
    {
     "data": {
      "text/plain": [
       "[[14, 1, 11, 18, 8, 6],\n",
       " [7, 9, 5, 2, 4, 14, 15, 10],\n",
       " [4, 14, 1, 12, 13, 15, 16, 17, 1, 18, 19, 3, 0]]"
      ]
     },
     "execution_count": 45,
     "metadata": {},
     "output_type": "execute_result"
    }
   ],
   "source": [
    "[\n",
    "    [token_to_index[token] for token in sentence.split()]\n",
    "    for sentence in corpus\n",
    "]"
   ]
  },
  {
   "cell_type": "code",
   "execution_count": 46,
   "metadata": {},
   "outputs": [
    {
     "data": {
      "text/html": [
       "<div>\n",
       "<style scoped>\n",
       "    .dataframe tbody tr th:only-of-type {\n",
       "        vertical-align: middle;\n",
       "    }\n",
       "\n",
       "    .dataframe tbody tr th {\n",
       "        vertical-align: top;\n",
       "    }\n",
       "\n",
       "    .dataframe thead th {\n",
       "        text-align: right;\n",
       "    }\n",
       "</style>\n",
       "<table border=\"1\" class=\"dataframe\">\n",
       "  <thead>\n",
       "    <tr style=\"text-align: right;\">\n",
       "      <th></th>\n",
       "      <th>a</th>\n",
       "      <th>all</th>\n",
       "      <th>all,</th>\n",
       "      <th>at</th>\n",
       "      <th>awesome,</th>\n",
       "      <th>good</th>\n",
       "      <th>impressed</th>\n",
       "      <th>it</th>\n",
       "      <th>movie</th>\n",
       "      <th>must</th>\n",
       "      <th>not</th>\n",
       "      <th>of</th>\n",
       "      <th>overly</th>\n",
       "      <th>see</th>\n",
       "      <th>the</th>\n",
       "      <th>time</th>\n",
       "      <th>was</th>\n",
       "      <th>wasn't</th>\n",
       "      <th>waste</th>\n",
       "      <th>with</th>\n",
       "    </tr>\n",
       "  </thead>\n",
       "  <tbody>\n",
       "    <tr>\n",
       "      <th>0</th>\n",
       "      <td>1.0</td>\n",
       "      <td>0.0</td>\n",
       "      <td>0.0</td>\n",
       "      <td>0.0</td>\n",
       "      <td>1.0</td>\n",
       "      <td>0.0</td>\n",
       "      <td>0.0</td>\n",
       "      <td>0.0</td>\n",
       "      <td>1</td>\n",
       "      <td>1.0</td>\n",
       "      <td>0.0</td>\n",
       "      <td>0.0</td>\n",
       "      <td>0.0</td>\n",
       "      <td>1.0</td>\n",
       "      <td>0.0</td>\n",
       "      <td>0.0</td>\n",
       "      <td>1.0</td>\n",
       "      <td>0.0</td>\n",
       "      <td>0.0</td>\n",
       "      <td>0.0</td>\n",
       "    </tr>\n",
       "    <tr>\n",
       "      <th>1</th>\n",
       "      <td>0.0</td>\n",
       "      <td>1.0</td>\n",
       "      <td>0.0</td>\n",
       "      <td>1.0</td>\n",
       "      <td>0.0</td>\n",
       "      <td>0.0</td>\n",
       "      <td>1.0</td>\n",
       "      <td>0.0</td>\n",
       "      <td>1</td>\n",
       "      <td>0.0</td>\n",
       "      <td>0.0</td>\n",
       "      <td>0.0</td>\n",
       "      <td>1.0</td>\n",
       "      <td>0.0</td>\n",
       "      <td>1.0</td>\n",
       "      <td>0.0</td>\n",
       "      <td>0.0</td>\n",
       "      <td>1.0</td>\n",
       "      <td>0.0</td>\n",
       "      <td>1.0</td>\n",
       "    </tr>\n",
       "    <tr>\n",
       "      <th>2</th>\n",
       "      <td>1.0</td>\n",
       "      <td>0.0</td>\n",
       "      <td>1.0</td>\n",
       "      <td>1.0</td>\n",
       "      <td>0.0</td>\n",
       "      <td>1.0</td>\n",
       "      <td>0.0</td>\n",
       "      <td>1.0</td>\n",
       "      <td>1</td>\n",
       "      <td>0.0</td>\n",
       "      <td>1.0</td>\n",
       "      <td>1.0</td>\n",
       "      <td>0.0</td>\n",
       "      <td>0.0</td>\n",
       "      <td>1.0</td>\n",
       "      <td>1.0</td>\n",
       "      <td>2.0</td>\n",
       "      <td>0.0</td>\n",
       "      <td>1.0</td>\n",
       "      <td>0.0</td>\n",
       "    </tr>\n",
       "  </tbody>\n",
       "</table>\n",
       "</div>"
      ],
      "text/plain": [
       "     a  all  all,   at  awesome,  good  impressed   it  movie  must  not   of  \\\n",
       "0  1.0  0.0   0.0  0.0       1.0   0.0        0.0  0.0      1   1.0  0.0  0.0   \n",
       "1  0.0  1.0   0.0  1.0       0.0   0.0        1.0  0.0      1   0.0  0.0  0.0   \n",
       "2  1.0  0.0   1.0  1.0       0.0   1.0        0.0  1.0      1   0.0  1.0  1.0   \n",
       "\n",
       "   overly  see  the  time  was  wasn't  waste  with  \n",
       "0     0.0  1.0  0.0   0.0  1.0     0.0    0.0   0.0  \n",
       "1     1.0  0.0  1.0   0.0  0.0     1.0    0.0   1.0  \n",
       "2     0.0  0.0  1.0   1.0  2.0     0.0    1.0   0.0  "
      ]
     },
     "execution_count": 46,
     "metadata": {},
     "output_type": "execute_result"
    }
   ],
   "source": [
    "# BOW\n",
    "pd.DataFrame([\n",
    "    Counter(sentence.split())\n",
    "    for sentence in corpus\n",
    "]).fillna(0)"
   ]
  },
  {
   "cell_type": "markdown",
   "metadata": {},
   "source": [
    "### Normalization"
   ]
  },
  {
   "cell_type": "markdown",
   "metadata": {},
   "source": [
    "#### Stemming"
   ]
  },
  {
   "cell_type": "code",
   "execution_count": 47,
   "metadata": {},
   "outputs": [],
   "source": [
    "words = ['forbid', 'forbidden', 'forbade', 'forbids']\n",
    "porter = PorterStemmer()"
   ]
  },
  {
   "cell_type": "code",
   "execution_count": 48,
   "metadata": {},
   "outputs": [
    {
     "data": {
      "text/plain": [
       "['forbid', 'forbidden', 'forbad', 'forbid']"
      ]
     },
     "execution_count": 48,
     "metadata": {},
     "output_type": "execute_result"
    }
   ],
   "source": [
    "[\n",
    "    porter.stem(word)\n",
    "    for word in words\n",
    "]"
   ]
  },
  {
   "cell_type": "code",
   "execution_count": 49,
   "metadata": {},
   "outputs": [
    {
     "data": {
      "text/plain": [
       "'market'"
      ]
     },
     "execution_count": 49,
     "metadata": {},
     "output_type": "execute_result"
    }
   ],
   "source": [
    "porter.stem('marketing')"
   ]
  },
  {
   "cell_type": "code",
   "execution_count": 50,
   "metadata": {},
   "outputs": [],
   "source": [
    "snowball = SnowballStemmer('english')"
   ]
  },
  {
   "cell_type": "code",
   "execution_count": 51,
   "metadata": {},
   "outputs": [
    {
     "data": {
      "text/plain": [
       "['forbid', 'forbidden', 'forbad', 'forbid']"
      ]
     },
     "execution_count": 51,
     "metadata": {},
     "output_type": "execute_result"
    }
   ],
   "source": [
    "[\n",
    "    snowball.stem(word)\n",
    "    for word in ['forbid', 'forbidden', 'forbade', 'forbids']\n",
    "]"
   ]
  },
  {
   "cell_type": "markdown",
   "metadata": {},
   "source": [
    "### Lemmatization"
   ]
  },
  {
   "cell_type": "code",
   "execution_count": 56,
   "metadata": {},
   "outputs": [
    {
     "data": {
      "text/plain": [
       "'marketing'"
      ]
     },
     "execution_count": 56,
     "metadata": {},
     "output_type": "execute_result"
    }
   ],
   "source": [
    "wordnetlemmatizer = WordNetLemmatizer()\n",
    "wordnetlemmatizer.lemmatize('marketing')"
   ]
  },
  {
   "cell_type": "code",
   "execution_count": 57,
   "metadata": {},
   "outputs": [
    {
     "data": {
      "text/plain": [
       "'forbade'"
      ]
     },
     "execution_count": 57,
     "metadata": {},
     "output_type": "execute_result"
    }
   ],
   "source": [
    "wordnetlemmatizer.lemmatize('forbade')"
   ]
  },
  {
   "cell_type": "markdown",
   "metadata": {},
   "source": [
    "##### POS tagger"
   ]
  },
  {
   "cell_type": "code",
   "execution_count": 60,
   "metadata": {},
   "outputs": [],
   "source": [
    "# nltk.download('averaged_perceptron_tagger')"
   ]
  },
  {
   "cell_type": "code",
   "execution_count": 61,
   "metadata": {},
   "outputs": [
    {
     "data": {
      "text/plain": [
       "[('i', 'NN'),\n",
       " ('forbade', 'VBD'),\n",
       " ('him', 'PRP'),\n",
       " ('from', 'IN'),\n",
       " ('getting', 'VBG'),\n",
       " ('involved', 'VBN'),\n",
       " ('in', 'IN'),\n",
       " ('the', 'DT'),\n",
       " ('marketing', 'NN'),\n",
       " ('scheme', 'NN')]"
      ]
     },
     "execution_count": 61,
     "metadata": {},
     "output_type": "execute_result"
    }
   ],
   "source": [
    "sentence = 'i forbade him from getting involved in the marketing scheme'\n",
    "pos_tags = nltk.pos_tag(sentence.split())\n",
    "pos_tags"
   ]
  },
  {
   "cell_type": "code",
   "execution_count": 62,
   "metadata": {},
   "outputs": [
    {
     "data": {
      "text/plain": [
       "'forbid'"
      ]
     },
     "execution_count": 62,
     "metadata": {},
     "output_type": "execute_result"
    }
   ],
   "source": [
    "wordnetlemmatizer.lemmatize('forbade', 'v')"
   ]
  },
  {
   "cell_type": "markdown",
   "metadata": {},
   "source": [
    "### Bringing it all together"
   ]
  },
  {
   "cell_type": "markdown",
   "metadata": {},
   "source": [
    "#### [CountVectorizer](http://scikit-learn.org/stable/modules/generated/sklearn.feature_extraction.text.CountVectorizer.html)"
   ]
  },
  {
   "cell_type": "code",
   "execution_count": 63,
   "metadata": {},
   "outputs": [
    {
     "data": {
      "text/html": [
       "<div>\n",
       "<style scoped>\n",
       "    .dataframe tbody tr th:only-of-type {\n",
       "        vertical-align: middle;\n",
       "    }\n",
       "\n",
       "    .dataframe tbody tr th {\n",
       "        vertical-align: top;\n",
       "    }\n",
       "\n",
       "    .dataframe thead th {\n",
       "        text-align: right;\n",
       "    }\n",
       "</style>\n",
       "<table border=\"1\" class=\"dataframe\">\n",
       "  <thead>\n",
       "    <tr style=\"text-align: right;\">\n",
       "      <th></th>\n",
       "      <th>all</th>\n",
       "      <th>at</th>\n",
       "      <th>awesome</th>\n",
       "      <th>good</th>\n",
       "      <th>impressed</th>\n",
       "      <th>it</th>\n",
       "      <th>movie</th>\n",
       "      <th>must</th>\n",
       "      <th>not</th>\n",
       "      <th>of</th>\n",
       "      <th>overly</th>\n",
       "      <th>see</th>\n",
       "      <th>the</th>\n",
       "      <th>time</th>\n",
       "      <th>was</th>\n",
       "      <th>wasn</th>\n",
       "      <th>waste</th>\n",
       "      <th>with</th>\n",
       "    </tr>\n",
       "  </thead>\n",
       "  <tbody>\n",
       "    <tr>\n",
       "      <th>0</th>\n",
       "      <td>0</td>\n",
       "      <td>0</td>\n",
       "      <td>1</td>\n",
       "      <td>0</td>\n",
       "      <td>0</td>\n",
       "      <td>0</td>\n",
       "      <td>1</td>\n",
       "      <td>1</td>\n",
       "      <td>0</td>\n",
       "      <td>0</td>\n",
       "      <td>0</td>\n",
       "      <td>1</td>\n",
       "      <td>0</td>\n",
       "      <td>0</td>\n",
       "      <td>1</td>\n",
       "      <td>0</td>\n",
       "      <td>0</td>\n",
       "      <td>0</td>\n",
       "    </tr>\n",
       "    <tr>\n",
       "      <th>1</th>\n",
       "      <td>1</td>\n",
       "      <td>1</td>\n",
       "      <td>0</td>\n",
       "      <td>0</td>\n",
       "      <td>1</td>\n",
       "      <td>0</td>\n",
       "      <td>1</td>\n",
       "      <td>0</td>\n",
       "      <td>0</td>\n",
       "      <td>0</td>\n",
       "      <td>1</td>\n",
       "      <td>0</td>\n",
       "      <td>1</td>\n",
       "      <td>0</td>\n",
       "      <td>0</td>\n",
       "      <td>1</td>\n",
       "      <td>0</td>\n",
       "      <td>1</td>\n",
       "    </tr>\n",
       "    <tr>\n",
       "      <th>2</th>\n",
       "      <td>1</td>\n",
       "      <td>1</td>\n",
       "      <td>0</td>\n",
       "      <td>1</td>\n",
       "      <td>0</td>\n",
       "      <td>1</td>\n",
       "      <td>1</td>\n",
       "      <td>0</td>\n",
       "      <td>1</td>\n",
       "      <td>1</td>\n",
       "      <td>0</td>\n",
       "      <td>0</td>\n",
       "      <td>1</td>\n",
       "      <td>1</td>\n",
       "      <td>2</td>\n",
       "      <td>0</td>\n",
       "      <td>1</td>\n",
       "      <td>0</td>\n",
       "    </tr>\n",
       "  </tbody>\n",
       "</table>\n",
       "</div>"
      ],
      "text/plain": [
       "   all  at  awesome  good  impressed  it  movie  must  not  of  overly  see  \\\n",
       "0    0   0        1     0          0   0      1     1    0   0       0    1   \n",
       "1    1   1        0     0          1   0      1     0    0   0       1    0   \n",
       "2    1   1        0     1          0   1      1     0    1   1       0    0   \n",
       "\n",
       "   the  time  was  wasn  waste  with  \n",
       "0    0     0    1     0      0     0  \n",
       "1    1     0    0     1      0     1  \n",
       "2    1     1    2     0      1     0  "
      ]
     },
     "execution_count": 63,
     "metadata": {},
     "output_type": "execute_result"
    }
   ],
   "source": [
    "cv = CountVectorizer()\n",
    "a = cv.fit_transform(corpus)\n",
    "pd.DataFrame(a.todense(), columns=cv.get_feature_names()) "
   ]
  },
  {
   "cell_type": "code",
   "execution_count": 64,
   "metadata": {},
   "outputs": [
    {
     "data": {
      "text/html": [
       "<div>\n",
       "<style scoped>\n",
       "    .dataframe tbody tr th:only-of-type {\n",
       "        vertical-align: middle;\n",
       "    }\n",
       "\n",
       "    .dataframe tbody tr th {\n",
       "        vertical-align: top;\n",
       "    }\n",
       "\n",
       "    .dataframe thead th {\n",
       "        text-align: right;\n",
       "    }\n",
       "</style>\n",
       "<table border=\"1\" class=\"dataframe\">\n",
       "  <thead>\n",
       "    <tr style=\"text-align: right;\">\n",
       "      <th></th>\n",
       "      <th>all</th>\n",
       "      <th>at</th>\n",
       "      <th>awesome</th>\n",
       "      <th>good</th>\n",
       "      <th>impressed</th>\n",
       "      <th>it</th>\n",
       "      <th>movie</th>\n",
       "      <th>must</th>\n",
       "      <th>not</th>\n",
       "      <th>of</th>\n",
       "      <th>overly</th>\n",
       "      <th>see</th>\n",
       "      <th>the</th>\n",
       "      <th>time</th>\n",
       "      <th>was</th>\n",
       "      <th>wasn</th>\n",
       "      <th>waste</th>\n",
       "      <th>with</th>\n",
       "    </tr>\n",
       "  </thead>\n",
       "  <tbody>\n",
       "    <tr>\n",
       "      <th>0</th>\n",
       "      <td>0</td>\n",
       "      <td>0</td>\n",
       "      <td>1</td>\n",
       "      <td>0</td>\n",
       "      <td>0</td>\n",
       "      <td>0</td>\n",
       "      <td>1</td>\n",
       "      <td>1</td>\n",
       "      <td>0</td>\n",
       "      <td>0</td>\n",
       "      <td>0</td>\n",
       "      <td>1</td>\n",
       "      <td>0</td>\n",
       "      <td>0</td>\n",
       "      <td>1</td>\n",
       "      <td>0</td>\n",
       "      <td>0</td>\n",
       "      <td>0</td>\n",
       "    </tr>\n",
       "    <tr>\n",
       "      <th>1</th>\n",
       "      <td>1</td>\n",
       "      <td>1</td>\n",
       "      <td>0</td>\n",
       "      <td>0</td>\n",
       "      <td>1</td>\n",
       "      <td>0</td>\n",
       "      <td>1</td>\n",
       "      <td>0</td>\n",
       "      <td>0</td>\n",
       "      <td>0</td>\n",
       "      <td>1</td>\n",
       "      <td>0</td>\n",
       "      <td>1</td>\n",
       "      <td>0</td>\n",
       "      <td>0</td>\n",
       "      <td>1</td>\n",
       "      <td>0</td>\n",
       "      <td>1</td>\n",
       "    </tr>\n",
       "    <tr>\n",
       "      <th>2</th>\n",
       "      <td>1</td>\n",
       "      <td>1</td>\n",
       "      <td>0</td>\n",
       "      <td>1</td>\n",
       "      <td>0</td>\n",
       "      <td>1</td>\n",
       "      <td>1</td>\n",
       "      <td>0</td>\n",
       "      <td>1</td>\n",
       "      <td>1</td>\n",
       "      <td>0</td>\n",
       "      <td>0</td>\n",
       "      <td>1</td>\n",
       "      <td>1</td>\n",
       "      <td>1</td>\n",
       "      <td>0</td>\n",
       "      <td>1</td>\n",
       "      <td>0</td>\n",
       "    </tr>\n",
       "  </tbody>\n",
       "</table>\n",
       "</div>"
      ],
      "text/plain": [
       "   all  at  awesome  good  impressed  it  movie  must  not  of  overly  see  \\\n",
       "0    0   0        1     0          0   0      1     1    0   0       0    1   \n",
       "1    1   1        0     0          1   0      1     0    0   0       1    0   \n",
       "2    1   1        0     1          0   1      1     0    1   1       0    0   \n",
       "\n",
       "   the  time  was  wasn  waste  with  \n",
       "0    0     0    1     0      0     0  \n",
       "1    1     0    0     1      0     1  \n",
       "2    1     1    1     0      1     0  "
      ]
     },
     "execution_count": 64,
     "metadata": {},
     "output_type": "execute_result"
    }
   ],
   "source": [
    "# binary, jusy saying\n",
    "cv = CountVectorizer(binary=True)\n",
    "a = cv.fit_transform(corpus)\n",
    "pd.DataFrame(a.todense(), columns=cv.get_feature_names()) "
   ]
  },
  {
   "cell_type": "code",
   "execution_count": 65,
   "metadata": {},
   "outputs": [
    {
     "data": {
      "text/html": [
       "<div>\n",
       "<style scoped>\n",
       "    .dataframe tbody tr th:only-of-type {\n",
       "        vertical-align: middle;\n",
       "    }\n",
       "\n",
       "    .dataframe tbody tr th {\n",
       "        vertical-align: top;\n",
       "    }\n",
       "\n",
       "    .dataframe thead th {\n",
       "        text-align: right;\n",
       "    }\n",
       "</style>\n",
       "<table border=\"1\" class=\"dataframe\">\n",
       "  <thead>\n",
       "    <tr style=\"text-align: right;\">\n",
       "      <th></th>\n",
       "      <th>awesome</th>\n",
       "      <th>good</th>\n",
       "      <th>impressed</th>\n",
       "      <th>movie</th>\n",
       "      <th>overly</th>\n",
       "      <th>time</th>\n",
       "      <th>wasn</th>\n",
       "      <th>waste</th>\n",
       "    </tr>\n",
       "  </thead>\n",
       "  <tbody>\n",
       "    <tr>\n",
       "      <th>0</th>\n",
       "      <td>1</td>\n",
       "      <td>0</td>\n",
       "      <td>0</td>\n",
       "      <td>1</td>\n",
       "      <td>0</td>\n",
       "      <td>0</td>\n",
       "      <td>0</td>\n",
       "      <td>0</td>\n",
       "    </tr>\n",
       "    <tr>\n",
       "      <th>1</th>\n",
       "      <td>0</td>\n",
       "      <td>0</td>\n",
       "      <td>1</td>\n",
       "      <td>1</td>\n",
       "      <td>1</td>\n",
       "      <td>0</td>\n",
       "      <td>1</td>\n",
       "      <td>0</td>\n",
       "    </tr>\n",
       "    <tr>\n",
       "      <th>2</th>\n",
       "      <td>0</td>\n",
       "      <td>1</td>\n",
       "      <td>0</td>\n",
       "      <td>1</td>\n",
       "      <td>0</td>\n",
       "      <td>1</td>\n",
       "      <td>0</td>\n",
       "      <td>1</td>\n",
       "    </tr>\n",
       "  </tbody>\n",
       "</table>\n",
       "</div>"
      ],
      "text/plain": [
       "   awesome  good  impressed  movie  overly  time  wasn  waste\n",
       "0        1     0          0      1       0     0     0      0\n",
       "1        0     0          1      1       1     0     1      0\n",
       "2        0     1          0      1       0     1     0      1"
      ]
     },
     "execution_count": 65,
     "metadata": {},
     "output_type": "execute_result"
    }
   ],
   "source": [
    "cv = CountVectorizer(stop_words='english')\n",
    "a = cv.fit_transform(corpus)\n",
    "pd.DataFrame(a.todense(), columns=cv.get_feature_names())"
   ]
  },
  {
   "cell_type": "code",
   "execution_count": 66,
   "metadata": {},
   "outputs": [
    {
     "data": {
      "text/html": [
       "<div>\n",
       "<style scoped>\n",
       "    .dataframe tbody tr th:only-of-type {\n",
       "        vertical-align: middle;\n",
       "    }\n",
       "\n",
       "    .dataframe tbody tr th {\n",
       "        vertical-align: top;\n",
       "    }\n",
       "\n",
       "    .dataframe thead th {\n",
       "        text-align: right;\n",
       "    }\n",
       "</style>\n",
       "<table border=\"1\" class=\"dataframe\">\n",
       "  <thead>\n",
       "    <tr style=\"text-align: right;\">\n",
       "      <th></th>\n",
       "      <th>a</th>\n",
       "      <th>all</th>\n",
       "      <th>all,</th>\n",
       "      <th>at</th>\n",
       "      <th>awesome,</th>\n",
       "      <th>good</th>\n",
       "      <th>impressed</th>\n",
       "      <th>it</th>\n",
       "      <th>movie</th>\n",
       "      <th>must</th>\n",
       "      <th>not</th>\n",
       "      <th>of</th>\n",
       "      <th>overly</th>\n",
       "      <th>see</th>\n",
       "      <th>the</th>\n",
       "      <th>time</th>\n",
       "      <th>was</th>\n",
       "      <th>wasn't</th>\n",
       "      <th>waste</th>\n",
       "      <th>with</th>\n",
       "    </tr>\n",
       "  </thead>\n",
       "  <tbody>\n",
       "    <tr>\n",
       "      <th>0</th>\n",
       "      <td>1</td>\n",
       "      <td>0</td>\n",
       "      <td>0</td>\n",
       "      <td>0</td>\n",
       "      <td>1</td>\n",
       "      <td>0</td>\n",
       "      <td>0</td>\n",
       "      <td>0</td>\n",
       "      <td>1</td>\n",
       "      <td>1</td>\n",
       "      <td>0</td>\n",
       "      <td>0</td>\n",
       "      <td>0</td>\n",
       "      <td>1</td>\n",
       "      <td>0</td>\n",
       "      <td>0</td>\n",
       "      <td>1</td>\n",
       "      <td>0</td>\n",
       "      <td>0</td>\n",
       "      <td>0</td>\n",
       "    </tr>\n",
       "    <tr>\n",
       "      <th>1</th>\n",
       "      <td>0</td>\n",
       "      <td>1</td>\n",
       "      <td>0</td>\n",
       "      <td>1</td>\n",
       "      <td>0</td>\n",
       "      <td>0</td>\n",
       "      <td>1</td>\n",
       "      <td>0</td>\n",
       "      <td>1</td>\n",
       "      <td>0</td>\n",
       "      <td>0</td>\n",
       "      <td>0</td>\n",
       "      <td>1</td>\n",
       "      <td>0</td>\n",
       "      <td>1</td>\n",
       "      <td>0</td>\n",
       "      <td>0</td>\n",
       "      <td>1</td>\n",
       "      <td>0</td>\n",
       "      <td>1</td>\n",
       "    </tr>\n",
       "    <tr>\n",
       "      <th>2</th>\n",
       "      <td>1</td>\n",
       "      <td>0</td>\n",
       "      <td>1</td>\n",
       "      <td>1</td>\n",
       "      <td>0</td>\n",
       "      <td>1</td>\n",
       "      <td>0</td>\n",
       "      <td>1</td>\n",
       "      <td>1</td>\n",
       "      <td>0</td>\n",
       "      <td>1</td>\n",
       "      <td>1</td>\n",
       "      <td>0</td>\n",
       "      <td>0</td>\n",
       "      <td>1</td>\n",
       "      <td>1</td>\n",
       "      <td>2</td>\n",
       "      <td>0</td>\n",
       "      <td>1</td>\n",
       "      <td>0</td>\n",
       "    </tr>\n",
       "  </tbody>\n",
       "</table>\n",
       "</div>"
      ],
      "text/plain": [
       "   a  all  all,  at  awesome,  good  impressed  it  movie  must  not  of  \\\n",
       "0  1    0     0   0         1     0          0   0      1     1    0   0   \n",
       "1  0    1     0   1         0     0          1   0      1     0    0   0   \n",
       "2  1    0     1   1         0     1          0   1      1     0    1   1   \n",
       "\n",
       "   overly  see  the  time  was  wasn't  waste  with  \n",
       "0       0    1    0     0    1       0      0     0  \n",
       "1       1    0    1     0    0       1      0     1  \n",
       "2       0    0    1     1    2       0      1     0  "
      ]
     },
     "execution_count": 66,
     "metadata": {},
     "output_type": "execute_result"
    }
   ],
   "source": [
    "# exact same tokenizer as before\n",
    "cv = CountVectorizer(tokenizer=lambda sentence: sentence.split())\n",
    "a = cv.fit_transform(corpus)\n",
    "pd.DataFrame(a.todense(), columns=cv.get_feature_names()) "
   ]
  },
  {
   "cell_type": "code",
   "execution_count": 67,
   "metadata": {},
   "outputs": [
    {
     "data": {
      "text/html": [
       "<div>\n",
       "<style scoped>\n",
       "    .dataframe tbody tr th:only-of-type {\n",
       "        vertical-align: middle;\n",
       "    }\n",
       "\n",
       "    .dataframe tbody tr th {\n",
       "        vertical-align: top;\n",
       "    }\n",
       "\n",
       "    .dataframe thead th {\n",
       "        text-align: right;\n",
       "    }\n",
       "</style>\n",
       "<table border=\"1\" class=\"dataframe\">\n",
       "  <thead>\n",
       "    <tr style=\"text-align: right;\">\n",
       "      <th></th>\n",
       "      <th>awesome</th>\n",
       "      <th>good</th>\n",
       "      <th>waste</th>\n",
       "    </tr>\n",
       "  </thead>\n",
       "  <tbody>\n",
       "    <tr>\n",
       "      <th>0</th>\n",
       "      <td>1</td>\n",
       "      <td>0</td>\n",
       "      <td>0</td>\n",
       "    </tr>\n",
       "    <tr>\n",
       "      <th>1</th>\n",
       "      <td>0</td>\n",
       "      <td>0</td>\n",
       "      <td>0</td>\n",
       "    </tr>\n",
       "    <tr>\n",
       "      <th>2</th>\n",
       "      <td>0</td>\n",
       "      <td>1</td>\n",
       "      <td>1</td>\n",
       "    </tr>\n",
       "  </tbody>\n",
       "</table>\n",
       "</div>"
      ],
      "text/plain": [
       "   awesome  good  waste\n",
       "0        1     0      0\n",
       "1        0     0      0\n",
       "2        0     1      1"
      ]
     },
     "execution_count": 67,
     "metadata": {},
     "output_type": "execute_result"
    }
   ],
   "source": [
    "cv = CountVectorizer(vocabulary={'awesome', 'good', 'waste'})\n",
    "a = cv.fit_transform(corpus)\n",
    "pd.DataFrame(a.todense(), columns=cv.get_feature_names()) "
   ]
  },
  {
   "cell_type": "markdown",
   "metadata": {},
   "source": [
    "#### N-grams"
   ]
  },
  {
   "cell_type": "code",
   "execution_count": 68,
   "metadata": {},
   "outputs": [
    {
     "data": {
      "text/plain": [
       "['movie', 'was', 'awesome', 'must', 'see']"
      ]
     },
     "execution_count": 68,
     "metadata": {},
     "output_type": "execute_result"
    }
   ],
   "source": [
    "unigrams = re.findall(token_pattern, corpus[0])\n",
    "unigrams"
   ]
  },
  {
   "cell_type": "code",
   "execution_count": 69,
   "metadata": {},
   "outputs": [
    {
     "data": {
      "text/plain": [
       "['movie was', 'was awesome', 'awesome must', 'must see']"
      ]
     },
     "execution_count": 69,
     "metadata": {},
     "output_type": "execute_result"
    }
   ],
   "source": [
    "[\n",
    "    ' '.join(unigrams[i:i+2])\n",
    "    for i in range(len(unigrams) - 1)\n",
    "]"
   ]
  },
  {
   "cell_type": "code",
   "execution_count": 70,
   "metadata": {},
   "outputs": [
    {
     "data": {
      "text/html": [
       "<div>\n",
       "<style scoped>\n",
       "    .dataframe tbody tr th:only-of-type {\n",
       "        vertical-align: middle;\n",
       "    }\n",
       "\n",
       "    .dataframe tbody tr th {\n",
       "        vertical-align: top;\n",
       "    }\n",
       "\n",
       "    .dataframe thead th {\n",
       "        text-align: right;\n",
       "    }\n",
       "</style>\n",
       "<table border=\"1\" class=\"dataframe\">\n",
       "  <thead>\n",
       "    <tr style=\"text-align: right;\">\n",
       "      <th></th>\n",
       "      <th>good waste</th>\n",
       "      <th>impressed movie</th>\n",
       "      <th>movie awesome</th>\n",
       "      <th>movie good</th>\n",
       "      <th>overly impressed</th>\n",
       "      <th>wasn overly</th>\n",
       "      <th>waste time</th>\n",
       "    </tr>\n",
       "  </thead>\n",
       "  <tbody>\n",
       "    <tr>\n",
       "      <th>0</th>\n",
       "      <td>0</td>\n",
       "      <td>0</td>\n",
       "      <td>1</td>\n",
       "      <td>0</td>\n",
       "      <td>0</td>\n",
       "      <td>0</td>\n",
       "      <td>0</td>\n",
       "    </tr>\n",
       "    <tr>\n",
       "      <th>1</th>\n",
       "      <td>0</td>\n",
       "      <td>1</td>\n",
       "      <td>0</td>\n",
       "      <td>0</td>\n",
       "      <td>1</td>\n",
       "      <td>1</td>\n",
       "      <td>0</td>\n",
       "    </tr>\n",
       "    <tr>\n",
       "      <th>2</th>\n",
       "      <td>1</td>\n",
       "      <td>0</td>\n",
       "      <td>0</td>\n",
       "      <td>1</td>\n",
       "      <td>0</td>\n",
       "      <td>0</td>\n",
       "      <td>1</td>\n",
       "    </tr>\n",
       "  </tbody>\n",
       "</table>\n",
       "</div>"
      ],
      "text/plain": [
       "   good waste  impressed movie  movie awesome  movie good  overly impressed  \\\n",
       "0           0                0              1           0                 0   \n",
       "1           0                1              0           0                 1   \n",
       "2           1                0              0           1                 0   \n",
       "\n",
       "   wasn overly  waste time  \n",
       "0            0           0  \n",
       "1            1           0  \n",
       "2            0           1  "
      ]
     },
     "execution_count": 70,
     "metadata": {},
     "output_type": "execute_result"
    }
   ],
   "source": [
    "cv = CountVectorizer(ngram_range=(2, 2), stop_words='english')\n",
    "a = cv.fit_transform(corpus)\n",
    "pd.DataFrame(a.todense(), columns=cv.get_feature_names())"
   ]
  },
  {
   "cell_type": "markdown",
   "metadata": {},
   "source": [
    "### [TfidfVectorizer](http://scikit-learn.org/stable/modules/generated/sklearn.feature_extraction.text.TfidfVectorizer.html)"
   ]
  },
  {
   "cell_type": "markdown",
   "metadata": {},
   "source": [
    "#### Inverse Document Frequency (IDF)"
   ]
  },
  {
   "cell_type": "code",
   "execution_count": 16,
   "metadata": {},
   "outputs": [],
   "source": [
    "def idf(docs, df, normalize=True):\n",
    "    normalizer = 1 if normalize else 0\n",
    "    return np.log((docs + normalizer) / (df + normalizer)) + 1"
   ]
  },
  {
   "cell_type": "code",
   "execution_count": 17,
   "metadata": {},
   "outputs": [
    {
     "data": {
      "text/plain": [
       "1.6931471805599454"
      ]
     },
     "execution_count": 17,
     "metadata": {},
     "output_type": "execute_result"
    }
   ],
   "source": [
    "idf(3, 1)"
   ]
  },
  {
   "cell_type": "code",
   "execution_count": 18,
   "metadata": {},
   "outputs": [
    {
     "data": {
      "text/plain": [
       "1.2876820724517808"
      ]
     },
     "execution_count": 18,
     "metadata": {},
     "output_type": "execute_result"
    }
   ],
   "source": [
    "idf(3, 2)"
   ]
  },
  {
   "cell_type": "code",
   "execution_count": 19,
   "metadata": {},
   "outputs": [
    {
     "data": {
      "text/plain": [
       "1.0"
      ]
     },
     "execution_count": 19,
     "metadata": {},
     "output_type": "execute_result"
    }
   ],
   "source": [
    "idf(3, 3)"
   ]
  },
  {
   "cell_type": "code",
   "execution_count": 20,
   "metadata": {},
   "outputs": [
    {
     "data": {
      "text/plain": [
       "2.7047480922384253"
      ]
     },
     "execution_count": 20,
     "metadata": {},
     "output_type": "execute_result"
    }
   ],
   "source": [
    "idf(10, 1)"
   ]
  },
  {
   "cell_type": "code",
   "execution_count": 125,
   "metadata": {},
   "outputs": [
    {
     "data": {
      "image/png": "[encoded data removed]",
      "text/plain": [
       "<Figure size 432x288 with 1 Axes>"
      ]
     },
     "metadata": {},
     "output_type": "display_data"
    }
   ],
   "source": [
    "for docs in [10, 100, 200]:\n",
    "    docs_range = range(0, docs + 1)\n",
    "    plt.plot(docs_range, [idf(docs, d) for d in docs_range], label='Docs {}'.format(docs))\n",
    "    \n",
    "plt.xlabel('Number of appearances')\n",
    "plt.ylabel('Inverse Document Frequency (IDF)')\n",
    "plt.legend();\n",
    "plt.savefig('../resources/chapter-05/chapter05-image01.png', dpi=1200)"
   ]
  },
  {
   "cell_type": "code",
   "execution_count": 71,
   "metadata": {},
   "outputs": [
    {
     "data": {
      "text/plain": [
       "'movie was awesome, a must see'"
      ]
     },
     "execution_count": 71,
     "metadata": {},
     "output_type": "execute_result"
    }
   ],
   "source": [
    "corpus[0]"
   ]
  },
  {
   "cell_type": "code",
   "execution_count": 72,
   "metadata": {},
   "outputs": [
    {
     "data": {
      "text/plain": [
       "array([1.        , 1.28768207, 1.69314718, 1.69314718, 1.69314718])"
      ]
     },
     "execution_count": 72,
     "metadata": {},
     "output_type": "execute_result"
    }
   ],
   "source": [
    "# l2 normalization\n",
    "idfs = np.array([1 * idf(3, 3),  # movie\n",
    "                 1 * idf(3, 2),  # was\n",
    "                 1 * idf(3, 1),  # awesome\n",
    "                 1 * idf(3, 1),  # must\n",
    "                 1 * idf(3, 1)  # see\n",
    "                ])\n",
    "idfs"
   ]
  },
  {
   "cell_type": "code",
   "execution_count": 73,
   "metadata": {},
   "outputs": [
    {
     "data": {
      "text/plain": [
       "array([0.29803159, 0.38376993, 0.50461134, 0.50461134, 0.50461134])"
      ]
     },
     "execution_count": 73,
     "metadata": {},
     "output_type": "execute_result"
    }
   ],
   "source": [
    "idfs / np.linalg.norm(idfs) "
   ]
  },
  {
   "cell_type": "code",
   "execution_count": 74,
   "metadata": {},
   "outputs": [
    {
     "data": {
      "text/html": [
       "<div>\n",
       "<style scoped>\n",
       "    .dataframe tbody tr th:only-of-type {\n",
       "        vertical-align: middle;\n",
       "    }\n",
       "\n",
       "    .dataframe tbody tr th {\n",
       "        vertical-align: top;\n",
       "    }\n",
       "\n",
       "    .dataframe thead th {\n",
       "        text-align: right;\n",
       "    }\n",
       "</style>\n",
       "<table border=\"1\" class=\"dataframe\">\n",
       "  <thead>\n",
       "    <tr style=\"text-align: right;\">\n",
       "      <th></th>\n",
       "      <th>all</th>\n",
       "      <th>at</th>\n",
       "      <th>awesome</th>\n",
       "      <th>good</th>\n",
       "      <th>impressed</th>\n",
       "      <th>it</th>\n",
       "      <th>movie</th>\n",
       "      <th>must</th>\n",
       "      <th>not</th>\n",
       "      <th>of</th>\n",
       "      <th>overly</th>\n",
       "      <th>see</th>\n",
       "      <th>the</th>\n",
       "      <th>time</th>\n",
       "      <th>was</th>\n",
       "      <th>wasn</th>\n",
       "      <th>waste</th>\n",
       "      <th>with</th>\n",
       "    </tr>\n",
       "  </thead>\n",
       "  <tbody>\n",
       "    <tr>\n",
       "      <th>0</th>\n",
       "      <td>0</td>\n",
       "      <td>0</td>\n",
       "      <td>1</td>\n",
       "      <td>0</td>\n",
       "      <td>0</td>\n",
       "      <td>0</td>\n",
       "      <td>1</td>\n",
       "      <td>1</td>\n",
       "      <td>0</td>\n",
       "      <td>0</td>\n",
       "      <td>0</td>\n",
       "      <td>1</td>\n",
       "      <td>0</td>\n",
       "      <td>0</td>\n",
       "      <td>1</td>\n",
       "      <td>0</td>\n",
       "      <td>0</td>\n",
       "      <td>0</td>\n",
       "    </tr>\n",
       "    <tr>\n",
       "      <th>1</th>\n",
       "      <td>1</td>\n",
       "      <td>1</td>\n",
       "      <td>0</td>\n",
       "      <td>0</td>\n",
       "      <td>1</td>\n",
       "      <td>0</td>\n",
       "      <td>1</td>\n",
       "      <td>0</td>\n",
       "      <td>0</td>\n",
       "      <td>0</td>\n",
       "      <td>1</td>\n",
       "      <td>0</td>\n",
       "      <td>1</td>\n",
       "      <td>0</td>\n",
       "      <td>0</td>\n",
       "      <td>1</td>\n",
       "      <td>0</td>\n",
       "      <td>1</td>\n",
       "    </tr>\n",
       "    <tr>\n",
       "      <th>2</th>\n",
       "      <td>1</td>\n",
       "      <td>1</td>\n",
       "      <td>0</td>\n",
       "      <td>1</td>\n",
       "      <td>0</td>\n",
       "      <td>1</td>\n",
       "      <td>1</td>\n",
       "      <td>0</td>\n",
       "      <td>1</td>\n",
       "      <td>1</td>\n",
       "      <td>0</td>\n",
       "      <td>0</td>\n",
       "      <td>1</td>\n",
       "      <td>1</td>\n",
       "      <td>2</td>\n",
       "      <td>0</td>\n",
       "      <td>1</td>\n",
       "      <td>0</td>\n",
       "    </tr>\n",
       "  </tbody>\n",
       "</table>\n",
       "</div>"
      ],
      "text/plain": [
       "   all  at  awesome  good  impressed  it  movie  must  not  of  overly  see  \\\n",
       "0    0   0        1     0          0   0      1     1    0   0       0    1   \n",
       "1    1   1        0     0          1   0      1     0    0   0       1    0   \n",
       "2    1   1        0     1          0   1      1     0    1   1       0    0   \n",
       "\n",
       "   the  time  was  wasn  waste  with  \n",
       "0    0     0    1     0      0     0  \n",
       "1    1     0    0     1      0     1  \n",
       "2    1     1    2     0      1     0  "
      ]
     },
     "execution_count": 74,
     "metadata": {},
     "output_type": "execute_result"
    }
   ],
   "source": [
    "tfidf = CountVectorizer()\n",
    "a = tfidf.fit_transform(corpus)\n",
    "pd.DataFrame(a.todense(), columns=tfidf.get_feature_names())"
   ]
  },
  {
   "cell_type": "code",
   "execution_count": 75,
   "metadata": {},
   "outputs": [
    {
     "data": {
      "text/html": [
       "<div>\n",
       "<style scoped>\n",
       "    .dataframe tbody tr th:only-of-type {\n",
       "        vertical-align: middle;\n",
       "    }\n",
       "\n",
       "    .dataframe tbody tr th {\n",
       "        vertical-align: top;\n",
       "    }\n",
       "\n",
       "    .dataframe thead th {\n",
       "        text-align: right;\n",
       "    }\n",
       "</style>\n",
       "<table border=\"1\" class=\"dataframe\">\n",
       "  <thead>\n",
       "    <tr style=\"text-align: right;\">\n",
       "      <th></th>\n",
       "      <th>all</th>\n",
       "      <th>at</th>\n",
       "      <th>awesome</th>\n",
       "      <th>good</th>\n",
       "      <th>impressed</th>\n",
       "      <th>it</th>\n",
       "      <th>movie</th>\n",
       "      <th>must</th>\n",
       "      <th>not</th>\n",
       "      <th>of</th>\n",
       "      <th>overly</th>\n",
       "      <th>see</th>\n",
       "      <th>the</th>\n",
       "      <th>time</th>\n",
       "      <th>was</th>\n",
       "      <th>wasn</th>\n",
       "      <th>waste</th>\n",
       "      <th>with</th>\n",
       "    </tr>\n",
       "  </thead>\n",
       "  <tbody>\n",
       "    <tr>\n",
       "      <th>0</th>\n",
       "      <td>0.000000</td>\n",
       "      <td>0.000000</td>\n",
       "      <td>0.504611</td>\n",
       "      <td>0.000000</td>\n",
       "      <td>0.000000</td>\n",
       "      <td>0.000000</td>\n",
       "      <td>0.298032</td>\n",
       "      <td>0.504611</td>\n",
       "      <td>0.000000</td>\n",
       "      <td>0.000000</td>\n",
       "      <td>0.000000</td>\n",
       "      <td>0.504611</td>\n",
       "      <td>0.000000</td>\n",
       "      <td>0.000000</td>\n",
       "      <td>0.383770</td>\n",
       "      <td>0.000000</td>\n",
       "      <td>0.000000</td>\n",
       "      <td>0.000000</td>\n",
       "    </tr>\n",
       "    <tr>\n",
       "      <th>1</th>\n",
       "      <td>0.308332</td>\n",
       "      <td>0.308332</td>\n",
       "      <td>0.000000</td>\n",
       "      <td>0.000000</td>\n",
       "      <td>0.405419</td>\n",
       "      <td>0.000000</td>\n",
       "      <td>0.239447</td>\n",
       "      <td>0.000000</td>\n",
       "      <td>0.000000</td>\n",
       "      <td>0.000000</td>\n",
       "      <td>0.405419</td>\n",
       "      <td>0.000000</td>\n",
       "      <td>0.308332</td>\n",
       "      <td>0.000000</td>\n",
       "      <td>0.000000</td>\n",
       "      <td>0.405419</td>\n",
       "      <td>0.000000</td>\n",
       "      <td>0.405419</td>\n",
       "    </tr>\n",
       "    <tr>\n",
       "      <th>2</th>\n",
       "      <td>0.235856</td>\n",
       "      <td>0.235856</td>\n",
       "      <td>0.000000</td>\n",
       "      <td>0.310122</td>\n",
       "      <td>0.000000</td>\n",
       "      <td>0.310122</td>\n",
       "      <td>0.183163</td>\n",
       "      <td>0.000000</td>\n",
       "      <td>0.310122</td>\n",
       "      <td>0.310122</td>\n",
       "      <td>0.000000</td>\n",
       "      <td>0.000000</td>\n",
       "      <td>0.235856</td>\n",
       "      <td>0.310122</td>\n",
       "      <td>0.471712</td>\n",
       "      <td>0.000000</td>\n",
       "      <td>0.310122</td>\n",
       "      <td>0.000000</td>\n",
       "    </tr>\n",
       "  </tbody>\n",
       "</table>\n",
       "</div>"
      ],
      "text/plain": [
       "        all        at   awesome      good  impressed        it     movie  \\\n",
       "0  0.000000  0.000000  0.504611  0.000000   0.000000  0.000000  0.298032   \n",
       "1  0.308332  0.308332  0.000000  0.000000   0.405419  0.000000  0.239447   \n",
       "2  0.235856  0.235856  0.000000  0.310122   0.000000  0.310122  0.183163   \n",
       "\n",
       "       must       not        of    overly       see       the      time  \\\n",
       "0  0.504611  0.000000  0.000000  0.000000  0.504611  0.000000  0.000000   \n",
       "1  0.000000  0.000000  0.000000  0.405419  0.000000  0.308332  0.000000   \n",
       "2  0.000000  0.310122  0.310122  0.000000  0.000000  0.235856  0.310122   \n",
       "\n",
       "        was      wasn     waste      with  \n",
       "0  0.383770  0.000000  0.000000  0.000000  \n",
       "1  0.000000  0.405419  0.000000  0.405419  \n",
       "2  0.471712  0.000000  0.310122  0.000000  "
      ]
     },
     "execution_count": 75,
     "metadata": {},
     "output_type": "execute_result"
    }
   ],
   "source": [
    "tfidf = TfidfVectorizer()\n",
    "a = tfidf.fit_transform(corpus)\n",
    "pd.DataFrame(a.todense(), columns=tfidf.get_feature_names())"
   ]
  },
  {
   "cell_type": "markdown",
   "metadata": {},
   "source": [
    "#### [spaCy](https://spacy.io/)"
   ]
  },
  {
   "cell_type": "code",
   "execution_count": 76,
   "metadata": {},
   "outputs": [],
   "source": [
    "nlp = English()"
   ]
  },
  {
   "cell_type": "code",
   "execution_count": 77,
   "metadata": {},
   "outputs": [
    {
     "data": {
      "text/plain": [
       "'i forbade him from getting involved in the marketing scheme'"
      ]
     },
     "execution_count": 77,
     "metadata": {},
     "output_type": "execute_result"
    }
   ],
   "source": [
    "sentence"
   ]
  },
  {
   "cell_type": "code",
   "execution_count": 78,
   "metadata": {},
   "outputs": [
    {
     "data": {
      "text/plain": [
       "['i',\n",
       " 'forbid',\n",
       " 'him',\n",
       " 'from',\n",
       " 'get',\n",
       " 'involve',\n",
       " 'in',\n",
       " 'the',\n",
       " 'market',\n",
       " 'scheme']"
      ]
     },
     "execution_count": 78,
     "metadata": {},
     "output_type": "execute_result"
    }
   ],
   "source": [
    "[w.lemma_ for w in nlp(sentence)]"
   ]
  },
  {
   "cell_type": "code",
   "execution_count": 81,
   "metadata": {},
   "outputs": [],
   "source": [
    "# nltk.download('stopwords')"
   ]
  },
  {
   "cell_type": "code",
   "execution_count": 82,
   "metadata": {},
   "outputs": [
    {
     "data": {
      "text/html": [
       "<div>\n",
       "<style scoped>\n",
       "    .dataframe tbody tr th:only-of-type {\n",
       "        vertical-align: middle;\n",
       "    }\n",
       "\n",
       "    .dataframe tbody tr th {\n",
       "        vertical-align: top;\n",
       "    }\n",
       "\n",
       "    .dataframe thead th {\n",
       "        text-align: right;\n",
       "    }\n",
       "</style>\n",
       "<table border=\"1\" class=\"dataframe\">\n",
       "  <thead>\n",
       "    <tr style=\"text-align: right;\">\n",
       "      <th></th>\n",
       "      <th>awesome</th>\n",
       "      <th>good</th>\n",
       "      <th>impress</th>\n",
       "      <th>movie</th>\n",
       "      <th>must</th>\n",
       "      <th>overly</th>\n",
       "      <th>see</th>\n",
       "      <th>time</th>\n",
       "      <th>waste</th>\n",
       "    </tr>\n",
       "  </thead>\n",
       "  <tbody>\n",
       "    <tr>\n",
       "      <th>0</th>\n",
       "      <td>1</td>\n",
       "      <td>0</td>\n",
       "      <td>0</td>\n",
       "      <td>1</td>\n",
       "      <td>1</td>\n",
       "      <td>0</td>\n",
       "      <td>1</td>\n",
       "      <td>0</td>\n",
       "      <td>0</td>\n",
       "    </tr>\n",
       "    <tr>\n",
       "      <th>1</th>\n",
       "      <td>0</td>\n",
       "      <td>0</td>\n",
       "      <td>1</td>\n",
       "      <td>1</td>\n",
       "      <td>0</td>\n",
       "      <td>1</td>\n",
       "      <td>0</td>\n",
       "      <td>0</td>\n",
       "      <td>0</td>\n",
       "    </tr>\n",
       "    <tr>\n",
       "      <th>2</th>\n",
       "      <td>0</td>\n",
       "      <td>1</td>\n",
       "      <td>0</td>\n",
       "      <td>1</td>\n",
       "      <td>0</td>\n",
       "      <td>0</td>\n",
       "      <td>0</td>\n",
       "      <td>1</td>\n",
       "      <td>1</td>\n",
       "    </tr>\n",
       "  </tbody>\n",
       "</table>\n",
       "</div>"
      ],
      "text/plain": [
       "   awesome  good  impress  movie  must  overly  see  time  waste\n",
       "0        1     0        0      1     1       0    1     0      0\n",
       "1        0     0        1      1     0       1    0     0      0\n",
       "2        0     1        0      1     0       0    0     1      1"
      ]
     },
     "execution_count": 82,
     "metadata": {},
     "output_type": "execute_result"
    }
   ],
   "source": [
    "def tokenizer(doc):\n",
    "    parser = English()\n",
    "    tokens = parser(doc)\n",
    "    \n",
    "    # remove\n",
    "    stop_words = set(stopwords.words('english'))\n",
    "    punctuation = set(string.punctuation)\n",
    "    stop = stop_words.union(punctuation)\n",
    "\n",
    "    tokens = [token.lemma_.lower().strip()\n",
    "              for token in tokens]\n",
    "    return [token for token in tokens if token not in stop]\n",
    "\n",
    "cv = CountVectorizer(tokenizer=tokenizer)\n",
    "a = cv.fit_transform(corpus)\n",
    "pd.DataFrame(a.todense(), columns=cv.get_feature_names())"
   ]
  },
  {
   "cell_type": "markdown",
   "metadata": {},
   "source": [
    "## Modeling"
   ]
  },
  {
   "cell_type": "markdown",
   "metadata": {},
   "source": [
    "### Traditional machine learning"
   ]
  },
  {
   "cell_type": "markdown",
   "metadata": {},
   "source": [
    "#### [Logistic Regression](http://scikit-learn.org/stable/modules/generated/sklearn.linear_model.LogisticRegression.html)"
   ]
  },
  {
   "cell_type": "code",
   "execution_count": 83,
   "metadata": {},
   "outputs": [],
   "source": [
    "# doc1 (pos): movie was awesome, a must see\n",
    "# doc2 (neg): wasn't overly impressed with the movie at all\n",
    "# doc3 (neg): the movie was not good at all, it was a waste of time\n",
    "tfidf = TfidfVectorizer()\n",
    "x = tfidf.fit_transform(corpus).toarray()\n",
    "y = [1, 0, 0]"
   ]
  },
  {
   "cell_type": "code",
   "execution_count": 84,
   "metadata": {},
   "outputs": [
    {
     "data": {
      "text/plain": [
       "array([1, 0, 0])"
      ]
     },
     "execution_count": 84,
     "metadata": {},
     "output_type": "execute_result"
    }
   ],
   "source": [
    "lr = LogisticRegression()\n",
    "lr.fit(x, y)\n",
    "lr.predict(x)"
   ]
  },
  {
   "cell_type": "code",
   "execution_count": 85,
   "metadata": {},
   "outputs": [
    {
     "data": {
      "text/plain": [
       "numpy.ndarray"
      ]
     },
     "execution_count": 85,
     "metadata": {},
     "output_type": "execute_result"
    }
   ],
   "source": [
    "type(x)"
   ]
  },
  {
   "cell_type": "code",
   "execution_count": 86,
   "metadata": {},
   "outputs": [
    {
     "data": {
      "text/plain": [
       "(3, 18)"
      ]
     },
     "execution_count": 86,
     "metadata": {},
     "output_type": "execute_result"
    }
   ],
   "source": [
    "x.shape"
   ]
  },
  {
   "cell_type": "code",
   "execution_count": 87,
   "metadata": {},
   "outputs": [
    {
     "data": {
      "text/plain": [
       "(18,)"
      ]
     },
     "execution_count": 87,
     "metadata": {},
     "output_type": "execute_result"
    }
   ],
   "source": [
    "lr.coef_[0].shape"
   ]
  },
  {
   "cell_type": "code",
   "execution_count": 88,
   "metadata": {},
   "outputs": [],
   "source": [
    "def plot_lr_coefficients(tfidf, corpus, y):\n",
    "    a = tfidf.fit_transform(corpus)\n",
    "    x = tfidf.transform(corpus).toarray()\n",
    "    lr = LogisticRegression()\n",
    "    lr.fit(x, y)\n",
    "    df = pd.DataFrame({'Token': tfidf.get_feature_names(), 'Coefficient': lr.coef_[0]})\n",
    "    df['Positive'] = df.Coefficient > 0\n",
    "    colors = df.Positive.map({True: 'b', False: 'r'})\n",
    "    df.set_index('Token').plot(kind='barh', color=[colors], legend=False, figsize=(8, 6))\n",
    "    plt.xlabel('Coefficient')"
   ]
  },
  {
   "cell_type": "code",
   "execution_count": 90,
   "metadata": {},
   "outputs": [
    {
     "data": {
      "image/png": "[encoded data removed]",
      "text/plain": [
       "<Figure size 576x432 with 1 Axes>"
      ]
     },
     "metadata": {},
     "output_type": "display_data"
    }
   ],
   "source": [
    "plot_lr_coefficients(TfidfVectorizer(), corpus, y)\n",
    "plt.savefig('../resources/chapter-05/chapter05-image02.png', dpi=1200)"
   ]
  },
  {
   "cell_type": "code",
   "execution_count": 91,
   "metadata": {},
   "outputs": [
    {
     "data": {
      "image/png": "[encoded data removed]",
      "text/plain": [
       "<Figure size 576x432 with 1 Axes>"
      ]
     },
     "metadata": {},
     "output_type": "display_data"
    }
   ],
   "source": [
    "plot_lr_coefficients(TfidfVectorizer(ngram_range=(1, 2)), corpus, y)\n",
    "plt.savefig('../resources/chapter-05/chapter05-image03.png', dpi=1200)"
   ]
  },
  {
   "cell_type": "markdown",
   "metadata": {},
   "source": [
    "### IMDB review sentiment data"
   ]
  },
  {
   "cell_type": "code",
   "execution_count": 92,
   "metadata": {},
   "outputs": [
    {
     "name": "stdout",
     "output_type": "stream",
     "text": [
      "--2018-09-03 16:57:08--  http://ai.stanford.edu/~amaas/data/sentiment/aclImdb_v1.tar.gz\n",
      "Resolving ai.stanford.edu (ai.stanford.edu)... 171.64.68.10\n",
      "Connecting to ai.stanford.edu (ai.stanford.edu)|171.64.68.10|:80... connected.\n",
      "HTTP request sent, awaiting response... 200 OK\n",
      "Length: 84125825 (80M) [application/x-gzip]\n",
      "Saving to: ‘aclImdb_v1.tar.gz’\n",
      "\n",
      "aclImdb_v1.tar.gz   100%[===================>]  80.23M  4.02MB/s    in 28s     \n",
      "\n",
      "2018-09-03 16:57:37 (2.84 MB/s) - ‘aclImdb_v1.tar.gz’ saved [84125825/84125825]\n",
      "\n"
     ]
    }
   ],
   "source": [
    "# !wget http://ai.stanford.edu/~amaas/data/sentiment/aclImdb_v1.tar.gz\n",
    "# !tar -xzf aclImdb_v1.tar.gz\n",
    "# !rm aclImdb_v1.tar.gz"
   ]
  },
  {
   "cell_type": "code",
   "execution_count": 93,
   "metadata": {},
   "outputs": [],
   "source": [
    "def get_reviews(data_partition, class_label):\n",
    "    path = 'aclImdb/{}/{}/*.txt'.format(data_partition, class_label)\n",
    "    return [\n",
    "        open(f).read()\n",
    "        for f in glob.glob(path)\n",
    "    ]\n",
    "\n",
    "def get_dataset(data_partition):\n",
    "    pos = get_reviews(data_partition, 'pos')\n",
    "    neg = get_reviews(data_partition, 'neg')\n",
    "    print('Found {} positive and {} negative examples'.format(len(pos), len(neg)))\n",
    "    data = pos + neg\n",
    "    labels = np.array([1 for _ in range(len(pos))] + [0 for _ in range(len(neg))])\n",
    "    return data, labels"
   ]
  },
  {
   "cell_type": "code",
   "execution_count": 94,
   "metadata": {},
   "outputs": [
    {
     "name": "stdout",
     "output_type": "stream",
     "text": [
      "Found 12500 positive and 12500 negative examples\n",
      "Found 12500 positive and 12500 negative examples\n",
      "CPU times: user 1.95 s, sys: 789 ms, total: 2.74 s\n",
      "Wall time: 2.75 s\n"
     ]
    }
   ],
   "source": [
    "%%time\n",
    "data_train, y_train = get_dataset('train')\n",
    "data_test, y_test = get_dataset('test')"
   ]
  },
  {
   "cell_type": "code",
   "execution_count": 95,
   "metadata": {},
   "outputs": [
    {
     "data": {
      "text/plain": [
       "list"
      ]
     },
     "execution_count": 95,
     "metadata": {},
     "output_type": "execute_result"
    }
   ],
   "source": [
    "type(data_train)"
   ]
  },
  {
   "cell_type": "code",
   "execution_count": 96,
   "metadata": {},
   "outputs": [
    {
     "data": {
      "text/plain": [
       "25000"
      ]
     },
     "execution_count": 96,
     "metadata": {},
     "output_type": "execute_result"
    }
   ],
   "source": [
    "len(data_train)"
   ]
  },
  {
   "cell_type": "code",
   "execution_count": 97,
   "metadata": {},
   "outputs": [
    {
     "data": {
      "text/plain": [
       "25000"
      ]
     },
     "execution_count": 97,
     "metadata": {},
     "output_type": "execute_result"
    }
   ],
   "source": [
    "len(data_test)"
   ]
  },
  {
   "cell_type": "code",
   "execution_count": 98,
   "metadata": {},
   "outputs": [
    {
     "data": {
      "text/plain": [
       "'For a movie that gets no respect there sure are a lot of memorable quotes listed for this gem. Imagine a movie where Joe Piscopo is actually funny! Maureen Stapleton is a scene stealer. The Moroni character is an absolute scream. Watch for Alan \"The Skipper\" Hale jr. as a police Sgt.'"
      ]
     },
     "execution_count": 98,
     "metadata": {},
     "output_type": "execute_result"
    }
   ],
   "source": [
    "data_train[0]"
   ]
  },
  {
   "cell_type": "code",
   "execution_count": 99,
   "metadata": {},
   "outputs": [
    {
     "data": {
      "text/plain": [
       "'I had been looking forward to seeing this film for a long time, after seeing \"Return to Paradise,\" which I found to be gritty. I was so disappointed. The most realistic thing about it was the unpredictable ending which I think was partly stolen from \"Return to Paradise.\" <br /><br />Maybe I was expecting too much. <br /><br />On the positive side Danes, Beckinsale and Pullman were fantastic in their roles. Although I didnt like Danes\\'s character and first and found her very annoying. <br /><br />I couldnt see anything realistic about the film. It could of been done so much better, for example there could of been more emphasis on the prison conditions and the sheer horror. It was too cheery a movie to be realistic. There could also of been more action and tension<br /><br />The best thing about this film is the \"tragic\" ending. I couldnt of predicted that. But by that time I really didnt care what happened to them.<br /><br />3/10'"
      ]
     },
     "execution_count": 99,
     "metadata": {},
     "output_type": "execute_result"
    }
   ],
   "source": [
    "data_train[12505]"
   ]
  },
  {
   "cell_type": "code",
   "execution_count": 100,
   "metadata": {},
   "outputs": [
    {
     "name": "stdout",
     "output_type": "stream",
     "text": [
      "CPU times: user 5.49 s, sys: 145 ms, total: 5.63 s\n",
      "Wall time: 5.5 s\n"
     ]
    }
   ],
   "source": [
    "%%time\n",
    "vec = TfidfVectorizer(stop_words='english', ngram_range=(1, 1), max_df=0.8, min_df=2)\n",
    "x_train = vec.fit_transform(data_train)"
   ]
  },
  {
   "cell_type": "code",
   "execution_count": 101,
   "metadata": {},
   "outputs": [
    {
     "data": {
      "text/plain": [
       "44490"
      ]
     },
     "execution_count": 101,
     "metadata": {},
     "output_type": "execute_result"
    }
   ],
   "source": [
    "len(vec.vocabulary_)"
   ]
  },
  {
   "cell_type": "code",
   "execution_count": 102,
   "metadata": {
    "scrolled": true
   },
   "outputs": [
    {
     "data": {
      "text/plain": [
       "['000',\n",
       " '00',\n",
       " '007',\n",
       " '01',\n",
       " '00s',\n",
       " '0080',\n",
       " '0083',\n",
       " '00pm',\n",
       " '00am',\n",
       " '001',\n",
       " '00001']"
      ]
     },
     "execution_count": 102,
     "metadata": {},
     "output_type": "execute_result"
    }
   ],
   "source": [
    "# low frequency tokens\n",
    "[k for k, v in vec.vocabulary_.items() if v <= 10]"
   ]
  },
  {
   "cell_type": "code",
   "execution_count": 103,
   "metadata": {},
   "outputs": [
    {
     "name": "stdout",
     "output_type": "stream",
     "text": [
      "[0.8924 0.8876 0.8902 0.8764 0.8892]\n",
      "CPU times: user 7.74 s, sys: 224 ms, total: 7.97 s\n",
      "Wall time: 2.5 s\n"
     ]
    }
   ],
   "source": [
    "%%time\n",
    "cvs = cross_val_score(LogisticRegression(), x_train, y_train, cv=5)\n",
    "print(cvs)"
   ]
  },
  {
   "cell_type": "code",
   "execution_count": 104,
   "metadata": {},
   "outputs": [
    {
     "data": {
      "text/plain": [
       "0.005600571399419893"
      ]
     },
     "execution_count": 104,
     "metadata": {},
     "output_type": "execute_result"
    }
   ],
   "source": [
    "np.std(cvs)"
   ]
  },
  {
   "cell_type": "code",
   "execution_count": 105,
   "metadata": {},
   "outputs": [
    {
     "data": {
      "text/plain": [
       "0.88716"
      ]
     },
     "execution_count": 105,
     "metadata": {},
     "output_type": "execute_result"
    }
   ],
   "source": [
    "np.mean(cvs)"
   ]
  },
  {
   "cell_type": "code",
   "execution_count": 119,
   "metadata": {},
   "outputs": [],
   "source": [
    "def traditional_ml(vec_class, model_object,\n",
    "                   stop_words, ngram_range, max_df, min_df, cv, n=10):\n",
    "    vec = vec_class(stop_words=stop_words,\n",
    "                    ngram_range=ngram_range,\n",
    "                    max_df=max_df, min_df=min_df)\n",
    "    x_train = vec.fit_transform(data_train)\n",
    "    print('Vocabulary size: {}'.format(len(vec.vocabulary_)))\n",
    "    scores = cross_val_score(model_object, x_train, y_train, cv=cv)\n",
    "    scores_mean = scores.mean()\n",
    "    scores_std = scores.std()\n",
    "    print('Cross-validation scores mean: {:.2f}%, std: {:.2f}%'.format(scores_mean * 100,\n",
    "                                                                       scores_std * 100))\n",
    "    \n",
    "    # Visualize the importance of tokens\n",
    "    if model_object.__class__ == LogisticRegression:\n",
    "        lr = model_object\n",
    "        lr.fit(x_train, y_train)\n",
    "        coefs = pd.DataFrame({'coef': lr.coef_[0]},\n",
    "                             index=vec.get_feature_names()).sort_values(by='coef', ascending=False)\n",
    "        coefs_topn = pd.concat([coefs[:n], coefs[-n:]])\n",
    "        positive = coefs_topn.coef >= 0\n",
    "        colors = positive.map({True: 'b', False: 'r'})\n",
    "        colors\n",
    "        coefs_topn.plot(kind='barh', color=[colors],\n",
    "                        legend=False, figsize=(8, 6))\n",
    "        plt.xlabel('Coefficient')\n",
    "    elif model_object.__class__ == RandomForestClassifier:\n",
    "        rf = model_object\n",
    "        rf.fit(x_train, y_train)\n",
    "        importances = zip(vec.get_feature_names(),\n",
    "                          rf.feature_importances_)\n",
    "        importances_series = pd.Series(dict(importances))\n",
    "        \n",
    "        importances_sorted = importances_series.sort_values(ascending=False)\n",
    "        importance_sorted_topn = importances_sorted[:n][::-1]\n",
    "        importance_sorted_topn.plot(kind='barh', color='k')\n",
    "        plt.xlabel('Gini importance (higher means more important)')\n",
    "        plt.ylabel('Token')\n",
    "        plt.figsize((12, 8), dpi=1200)"
   ]
  },
  {
   "cell_type": "code",
   "execution_count": 126,
   "metadata": {},
   "outputs": [
    {
     "name": "stdout",
     "output_type": "stream",
     "text": [
      "Vocabulary size: 44490\n",
      "Cross-validation scores mean: 87.60%, std: 0.76%\n",
      "CPU times: user 58.4 s, sys: 1.2 s, total: 59.6 s\n",
      "Wall time: 20.7 s\n"
     ]
    },
    {
     "data": {
      "image/png": "[encoded data removed]",
      "text/plain": [
       "<Figure size 576x432 with 1 Axes>"
      ]
     },
     "metadata": {},
     "output_type": "display_data"
    }
   ],
   "source": [
    "%%time\n",
    "traditional_ml(vec_class=CountVectorizer,\n",
    "               model_object=LogisticRegression(),\n",
    "               stop_words='english',\n",
    "               ngram_range=(1, 1),\n",
    "               max_df=0.8,\n",
    "               min_df=2,\n",
    "               cv=5)\n",
    "plt.savefig('../resources/chapter-05/chapter05-image04.png', dpi=1200)"
   ]
  },
  {
   "cell_type": "code",
   "execution_count": 127,
   "metadata": {},
   "outputs": [
    {
     "name": "stdout",
     "output_type": "stream",
     "text": [
      "Vocabulary size: 80865\n",
      "Cross-validation scores mean: 89.26%, std: 0.46%\n",
      "CPU times: user 3min 8s, sys: 3.97 s, total: 3min 12s\n",
      "Wall time: 1min 7s\n"
     ]
    },
    {
     "data": {
      "image/png": "[encoded data removed]",
      "text/plain": [
       "<Figure size 576x432 with 1 Axes>"
      ]
     },
     "metadata": {},
     "output_type": "display_data"
    }
   ],
   "source": [
    "%%time\n",
    "traditional_ml(vec_class=CountVectorizer,\n",
    "               model_object=LogisticRegression(),\n",
    "               stop_words=None,\n",
    "               ngram_range=(1, 2),\n",
    "               max_df=0.8,\n",
    "               min_df=10,\n",
    "               cv=5)\n",
    "plt.savefig('../resources/chapter-05/chapter05-image05.png', dpi=1200)"
   ]
  },
  {
   "cell_type": "code",
   "execution_count": 120,
   "metadata": {},
   "outputs": [
    {
     "name": "stdout",
     "output_type": "stream",
     "text": [
      "Vocabulary size: 44490\n",
      "Cross-validation scores mean: 76.84%, std: 0.70%\n",
      "CPU times: user 35.7 s, sys: 704 ms, total: 36.4 s\n",
      "Wall time: 32.9 s\n"
     ]
    },
    {
     "data": {
      "image/png": "[encoded data removed]",
      "text/plain": [
       "<Figure size 432x288 with 1 Axes>"
      ]
     },
     "metadata": {},
     "output_type": "display_data"
    }
   ],
   "source": [
    "%%time\n",
    "traditional_ml(vec_class=TfidfVectorizer,\n",
    "               model_object=RandomForestClassifier(),\n",
    "               stop_words='english',\n",
    "               ngram_range=(1, 1),\n",
    "               max_df=0.8,\n",
    "               min_df=2,\n",
    "               cv=5)\n",
    "plt.savefig('../resources/chapter-05/chapter05-image06.png', dpi=1200)"
   ]
  },
  {
   "cell_type": "markdown",
   "metadata": {},
   "source": [
    "### Feed forward networks"
   ]
  },
  {
   "cell_type": "code",
   "execution_count": 112,
   "metadata": {},
   "outputs": [],
   "source": [
    "vec = TfidfVectorizer(stop_words='english', ngram_range=(1, 1), max_df=0.8, min_df=2)\n",
    "x_train = vec.fit_transform(data_train)"
   ]
  },
  {
   "cell_type": "code",
   "execution_count": 113,
   "metadata": {},
   "outputs": [
    {
     "data": {
      "text/plain": [
       "<25000x44490 sparse matrix of type '<class 'numpy.float64'>'\n",
       "\twith 2211745 stored elements in Compressed Sparse Row format>"
      ]
     },
     "execution_count": 113,
     "metadata": {},
     "output_type": "execute_result"
    }
   ],
   "source": [
    "x_train"
   ]
  },
  {
   "cell_type": "code",
   "execution_count": 114,
   "metadata": {},
   "outputs": [
    {
     "name": "stdout",
     "output_type": "stream",
     "text": [
      "_________________________________________________________________\n",
      "Layer (type)                 Output Shape              Param #   \n",
      "=================================================================\n",
      "dense_2 (Dense)              (None, 16)                711856    \n",
      "_________________________________________________________________\n",
      "dropout_1 (Dropout)          (None, 16)                0         \n",
      "_________________________________________________________________\n",
      "dense_3 (Dense)              (None, 16)                272       \n",
      "_________________________________________________________________\n",
      "dropout_2 (Dropout)          (None, 16)                0         \n",
      "_________________________________________________________________\n",
      "dense_4 (Dense)              (None, 1)                 17        \n",
      "=================================================================\n",
      "Total params: 712,145\n",
      "Trainable params: 712,145\n",
      "Non-trainable params: 0\n",
      "_________________________________________________________________\n"
     ]
    }
   ],
   "source": [
    "model = Sequential()\n",
    "model.add(Dense(16,\n",
    "                input_dim=x_train.shape[1],\n",
    "                activation='relu'))\n",
    "model.add(Dropout(0.5))\n",
    "model.add(Dense(16, activation='relu'))\n",
    "model.add(Dropout(0.5))\n",
    "model.add(Dense(1, activation='sigmoid'))\n",
    "\n",
    "model.compile(loss='binary_crossentropy',\n",
    "              optimizer='adam',\n",
    "              metrics=['accuracy'])\n",
    "model.summary()"
   ]
  },
  {
   "cell_type": "code",
   "execution_count": 115,
   "metadata": {},
   "outputs": [
    {
     "name": "stdout",
     "output_type": "stream",
     "text": [
      "Train on 18750 samples, validate on 6250 samples\n",
      "Epoch 1/10\n",
      "18750/18750 [==============================] - 19s 1ms/step - loss: 0.6067 - acc: 0.6785 - val_loss: 0.8526 - val_acc: 0.3096\n",
      "Epoch 2/10\n",
      "18750/18750 [==============================] - 14s 772us/step - loss: 0.3983 - acc: 0.8393 - val_loss: 0.5797 - val_acc: 0.7307\n",
      "Epoch 3/10\n",
      "18750/18750 [==============================] - 12s 643us/step - loss: 0.2391 - acc: 0.9218 - val_loss: 0.4930 - val_acc: 0.7882\n",
      "Epoch 4/10\n",
      "18750/18750 [==============================] - 12s 616us/step - loss: 0.1601 - acc: 0.9503 - val_loss: 0.5052 - val_acc: 0.8006\n",
      "Epoch 5/10\n",
      "18750/18750 [==============================] - 11s 564us/step - loss: 0.1132 - acc: 0.9673 - val_loss: 0.5251 - val_acc: 0.8125\n",
      "Epoch 6/10\n",
      "18750/18750 [==============================] - 11s 567us/step - loss: 0.0871 - acc: 0.9752 - val_loss: 0.6640 - val_acc: 0.7885\n",
      "Epoch 7/10\n",
      "18750/18750 [==============================] - 11s 575us/step - loss: 0.0655 - acc: 0.9818 - val_loss: 0.6926 - val_acc: 0.7970\n",
      "Epoch 8/10\n",
      "18750/18750 [==============================] - 10s 508us/step - loss: 0.0563 - acc: 0.9829 - val_loss: 0.7151 - val_acc: 0.8066\n",
      "Epoch 9/10\n",
      "18750/18750 [==============================] - 9s 493us/step - loss: 0.0451 - acc: 0.9869 - val_loss: 0.7653 - val_acc: 0.8077\n",
      "Epoch 10/10\n",
      "18750/18750 [==============================] - 11s 577us/step - loss: 0.0399 - acc: 0.9874 - val_loss: 0.7406 - val_acc: 0.8224\n",
      "CPU times: user 2min 15s, sys: 52.7 s, total: 3min 8s\n",
      "Wall time: 2min 3s\n"
     ]
    }
   ],
   "source": [
    "%%time\n",
    "history = model.fit(x_train.toarray(), y_train,\n",
    "          epochs=10, batch_size=128,\n",
    "          validation_split=0.25);"
   ]
  },
  {
   "cell_type": "code",
   "execution_count": 116,
   "metadata": {},
   "outputs": [
    {
     "data": {
      "text/plain": [
       "{'val_loss': [0.8525930298042297,\n",
       "  0.5796939163780213,\n",
       "  0.492971946105957,\n",
       "  0.505173766040802,\n",
       "  0.5251418588066101,\n",
       "  0.6639607187461853,\n",
       "  0.6925526208496093,\n",
       "  0.7151113050651551,\n",
       "  0.7652890489578247,\n",
       "  0.7406005460739136],\n",
       " 'val_acc': [0.3096000000667572,\n",
       "  0.7307199995422363,\n",
       "  0.7881600003051757,\n",
       "  0.8006400004386902,\n",
       "  0.8124799998092651,\n",
       "  0.7884800000572204,\n",
       "  0.7969600001907349,\n",
       "  0.8065599995613099,\n",
       "  0.8076800001907348,\n",
       "  0.8224000001907349],\n",
       " 'loss': [0.6066581152629852,\n",
       "  0.39832389561653136,\n",
       "  0.23911275928974152,\n",
       "  0.16011067235946655,\n",
       "  0.11319857417821884,\n",
       "  0.08706838720798492,\n",
       "  0.06548510659853618,\n",
       "  0.05632310073653857,\n",
       "  0.045100663226644196,\n",
       "  0.03986434838593006],\n",
       " 'acc': [0.6785066665840149,\n",
       "  0.8392533332888286,\n",
       "  0.9218133332379659,\n",
       "  0.9503466666730245,\n",
       "  0.9673066665712993,\n",
       "  0.9751999999046326,\n",
       "  0.9818133332379659,\n",
       "  0.9828800000508626,\n",
       "  0.98688,\n",
       "  0.987413333384196]}"
      ]
     },
     "execution_count": 116,
     "metadata": {},
     "output_type": "execute_result"
    }
   ],
   "source": [
    "history.history"
   ]
  },
  {
   "cell_type": "code",
   "execution_count": 196,
   "metadata": {},
   "outputs": [],
   "source": [
    "def plot_history(history,\n",
    "                 show_accuracy=True,\n",
    "                 show_loss=True):\n",
    "    better_name = {\n",
    "        'val_loss': 'Validation loss',\n",
    "        'val_acc': 'Validation accuracy',\n",
    "        'loss': 'Training loss',\n",
    "        'acc': 'Training accuracy'\n",
    "    }\n",
    "    history_df = pd.DataFrame(history.history)\n",
    "    history_df.columns = [better_name[c] for c in history_df.columns]\n",
    "    history_df.index += 1\n",
    "    if show_accuracy:\n",
    "        history_df[['Training accuracy',\n",
    "                    'Validation accuracy']].plot()\n",
    "        plt.ylim([0, 1.1])\n",
    "        plt.xlabel('Epoch')\n",
    "        plt.ylabel('Accuracy (higher is better)')\n",
    "        plt.show()\n",
    "    if show_loss:\n",
    "        loss = history_df[['Training loss',\n",
    "                           'Validation loss']]\n",
    "        loss.plot()\n",
    "        plt.xlabel('Epoch')\n",
    "        plt.ylabel('Loss (lower is better)')\n",
    "        plt.ylim([0, max(loss.max())])\n",
    "        plt.show()"
   ]
  },
  {
   "cell_type": "code",
   "execution_count": 198,
   "metadata": {},
   "outputs": [
    {
     "data": {
      "image/png": "[encoded data removed]",
      "text/plain": [
       "<Figure size 432x288 with 1 Axes>"
      ]
     },
     "metadata": {},
     "output_type": "display_data"
    },
    {
     "data": {
      "image/png": "[encoded data removed]",
      "text/plain": [
       "<Figure size 432x288 with 1 Axes>"
      ]
     },
     "metadata": {},
     "output_type": "display_data"
    }
   ],
   "source": [
    "plot_history(history)"
   ]
  },
  {
   "cell_type": "code",
   "execution_count": 128,
   "metadata": {},
   "outputs": [
    {
     "data": {
      "text/plain": [
       "[13714, 17112, 26181, 39522, 43915]"
      ]
     },
     "execution_count": 128,
     "metadata": {},
     "output_type": "execute_result"
    }
   ],
   "source": [
    "terms = ['excellent', 'great', 'movie', 'terrible', 'worst']\n",
    "# get the index associated with each term in the vectorizer\n",
    "term_indices = list(map(vec.get_feature_names().index, terms))\n",
    "term_indices"
   ]
  },
  {
   "cell_type": "code",
   "execution_count": 129,
   "metadata": {},
   "outputs": [
    {
     "data": {
      "text/plain": [
       "(5, 16)"
      ]
     },
     "execution_count": 129,
     "metadata": {},
     "output_type": "execute_result"
    }
   ],
   "source": [
    "model.get_weights()[0][term_indices].shape"
   ]
  },
  {
   "cell_type": "code",
   "execution_count": 130,
   "metadata": {},
   "outputs": [
    {
     "data": {
      "image/png": "[encoded data removed]",
      "text/plain": [
       "<Figure size 432x288 with 2 Axes>"
      ]
     },
     "metadata": {},
     "output_type": "display_data"
    }
   ],
   "source": [
    "weights = pd.DataFrame(model.get_weights()[0][term_indices])\n",
    "weights.index = terms\n",
    "# blue to red diverging palette\n",
    "cmap = sns.diverging_palette(10, 240, sep=20, as_cmap=True)\n",
    "sns.heatmap(weights, cmap=cmap)\n",
    "plt.xlabel('Input layer hidden unit index')\n",
    "plt.ylabel('Token')\n",
    "plt.savefig('../resources/chapter-05/chapter05-image08.png', dpi=1200)"
   ]
  },
  {
   "cell_type": "markdown",
   "metadata": {},
   "source": [
    "#### [scattertext](https://github.com/JasonKessler/scattertext)\n",
    "bonus material"
   ]
  },
  {
   "cell_type": "code",
   "execution_count": 269,
   "metadata": {},
   "outputs": [
    {
     "name": "stdout",
     "output_type": "stream",
     "text": [
      "CPU times: user 1min 24s, sys: 1.25 s, total: 1min 26s\n",
      "Wall time: 1min 26s\n"
     ]
    }
   ],
   "source": [
    "%%time\n",
    "labels = ['Positive' if y == 1 else 'Negative' for y in y_train]\n",
    "scattertext_df = pd.DataFrame({'text': data_train, 'label': labels})\n",
    "corpus = scattertext.CorpusFromPandas(scattertext_df,\n",
    "                                      category_col='label', text_col='text',\n",
    "                                      nlp=scattertext.whitespace_nlp_with_sentences).build()"
   ]
  },
  {
   "cell_type": "code",
   "execution_count": 270,
   "metadata": {},
   "outputs": [
    {
     "data": {
      "text/plain": [
       "scattertext.Corpus.Corpus"
      ]
     },
     "execution_count": 270,
     "metadata": {},
     "output_type": "execute_result"
    }
   ],
   "source": [
    "type(corpus)"
   ]
  },
  {
   "cell_type": "code",
   "execution_count": 271,
   "metadata": {},
   "outputs": [
    {
     "name": "stdout",
     "output_type": "stream",
     "text": [
      "['doesn', 'didn', 'isn', 've', 'wasn', 'film', 'don', 'plot', 'acting', 'scenes']\n"
     ]
    }
   ],
   "source": [
    "print(list(corpus.get_scaled_f_scores_vs_background().index[:10]))"
   ]
  },
  {
   "cell_type": "code",
   "execution_count": 274,
   "metadata": {},
   "outputs": [
    {
     "name": "stdout",
     "output_type": "stream",
     "text": [
      "CPU times: user 5min 2s, sys: 2.66 s, total: 5min 4s\n",
      "Wall time: 5min 5s\n"
     ]
    }
   ],
   "source": [
    "%%time\n",
    "html = scattertext.produce_scattertext_explorer(corpus,\n",
    "                                                category='Positive',\n",
    "                                                category_name='Positive',\n",
    "                                                max_terms=5000,\n",
    "                                                not_category_name='Negative',\n",
    "                                                width_in_pixels=1000\n",
    "                                               )\n",
    "open(\"imdb-vis.html\", 'wb').write(html.encode('utf-8'))"
   ]
  },
  {
   "cell_type": "code",
   "execution_count": 276,
   "metadata": {},
   "outputs": [
    {
     "name": "stdout",
     "output_type": "stream",
     "text": [
      "CPU times: user 2min 28s, sys: 29.4 s, total: 2min 57s\n",
      "Wall time: 2min 57s\n"
     ]
    }
   ],
   "source": [
    "%%time\n",
    "term_freq_df = corpus.get_term_freq_df()\n",
    "tf = term_freq_df.copy()"
   ]
  },
  {
   "cell_type": "code",
   "execution_count": 277,
   "metadata": {
    "scrolled": false
   },
   "outputs": [
    {
     "data": {
      "text/html": [
       "<div>\n",
       "<style scoped>\n",
       "    .dataframe tbody tr th:only-of-type {\n",
       "        vertical-align: middle;\n",
       "    }\n",
       "\n",
       "    .dataframe tbody tr th {\n",
       "        vertical-align: top;\n",
       "    }\n",
       "\n",
       "    .dataframe thead th {\n",
       "        text-align: right;\n",
       "    }\n",
       "</style>\n",
       "<table border=\"1\" class=\"dataframe\">\n",
       "  <thead>\n",
       "    <tr style=\"text-align: right;\">\n",
       "      <th></th>\n",
       "      <th>Negative freq</th>\n",
       "      <th>Positive freq</th>\n",
       "      <th>ratio</th>\n",
       "    </tr>\n",
       "    <tr>\n",
       "      <th>term</th>\n",
       "      <th></th>\n",
       "      <th></th>\n",
       "      <th></th>\n",
       "    </tr>\n",
       "  </thead>\n",
       "  <tbody>\n",
       "    <tr>\n",
       "      <th>boll</th>\n",
       "      <td>141</td>\n",
       "      <td>1</td>\n",
       "      <td>0.007092</td>\n",
       "    </tr>\n",
       "    <tr>\n",
       "      <th>worst films</th>\n",
       "      <td>103</td>\n",
       "      <td>1</td>\n",
       "      <td>0.009709</td>\n",
       "    </tr>\n",
       "    <tr>\n",
       "      <th>uwe</th>\n",
       "      <td>99</td>\n",
       "      <td>1</td>\n",
       "      <td>0.010101</td>\n",
       "    </tr>\n",
       "    <tr>\n",
       "      <th>uwe boll</th>\n",
       "      <td>85</td>\n",
       "      <td>1</td>\n",
       "      <td>0.011765</td>\n",
       "    </tr>\n",
       "    <tr>\n",
       "      <th>just bad</th>\n",
       "      <td>81</td>\n",
       "      <td>1</td>\n",
       "      <td>0.012346</td>\n",
       "    </tr>\n",
       "    <tr>\n",
       "      <th>this crap</th>\n",
       "      <td>144</td>\n",
       "      <td>2</td>\n",
       "      <td>0.013889</td>\n",
       "    </tr>\n",
       "    <tr>\n",
       "      <th>avoid at</th>\n",
       "      <td>62</td>\n",
       "      <td>1</td>\n",
       "      <td>0.016129</td>\n",
       "    </tr>\n",
       "    <tr>\n",
       "      <th>thunderbirds</th>\n",
       "      <td>61</td>\n",
       "      <td>1</td>\n",
       "      <td>0.016393</td>\n",
       "    </tr>\n",
       "    <tr>\n",
       "      <th>beowulf</th>\n",
       "      <td>60</td>\n",
       "      <td>1</td>\n",
       "      <td>0.016667</td>\n",
       "    </tr>\n",
       "    <tr>\n",
       "      <th>only redeeming</th>\n",
       "      <td>59</td>\n",
       "      <td>1</td>\n",
       "      <td>0.016949</td>\n",
       "    </tr>\n",
       "    <tr>\n",
       "      <th>save this</th>\n",
       "      <td>113</td>\n",
       "      <td>2</td>\n",
       "      <td>0.017699</td>\n",
       "    </tr>\n",
       "    <tr>\n",
       "      <th>total waste</th>\n",
       "      <td>56</td>\n",
       "      <td>1</td>\n",
       "      <td>0.017857</td>\n",
       "    </tr>\n",
       "    <tr>\n",
       "      <th>1 out</th>\n",
       "      <td>55</td>\n",
       "      <td>1</td>\n",
       "      <td>0.018182</td>\n",
       "    </tr>\n",
       "    <tr>\n",
       "      <th>just awful</th>\n",
       "      <td>55</td>\n",
       "      <td>1</td>\n",
       "      <td>0.018182</td>\n",
       "    </tr>\n",
       "    <tr>\n",
       "      <th>dahmer</th>\n",
       "      <td>53</td>\n",
       "      <td>1</td>\n",
       "      <td>0.018868</td>\n",
       "    </tr>\n",
       "    <tr>\n",
       "      <th>wayans</th>\n",
       "      <td>50</td>\n",
       "      <td>1</td>\n",
       "      <td>0.020000</td>\n",
       "    </tr>\n",
       "    <tr>\n",
       "      <th>worst movies</th>\n",
       "      <td>194</td>\n",
       "      <td>4</td>\n",
       "      <td>0.020619</td>\n",
       "    </tr>\n",
       "    <tr>\n",
       "      <th>grendel</th>\n",
       "      <td>48</td>\n",
       "      <td>1</td>\n",
       "      <td>0.020833</td>\n",
       "    </tr>\n",
       "    <tr>\n",
       "      <th>terrible film</th>\n",
       "      <td>46</td>\n",
       "      <td>1</td>\n",
       "      <td>0.021739</td>\n",
       "    </tr>\n",
       "    <tr>\n",
       "      <th>badly written</th>\n",
       "      <td>46</td>\n",
       "      <td>1</td>\n",
       "      <td>0.021739</td>\n",
       "    </tr>\n",
       "    <tr>\n",
       "      <th>this pile</th>\n",
       "      <td>44</td>\n",
       "      <td>1</td>\n",
       "      <td>0.022727</td>\n",
       "    </tr>\n",
       "    <tr>\n",
       "      <th>movie sucks</th>\n",
       "      <td>44</td>\n",
       "      <td>1</td>\n",
       "      <td>0.022727</td>\n",
       "    </tr>\n",
       "    <tr>\n",
       "      <th>ajay</th>\n",
       "      <td>42</td>\n",
       "      <td>1</td>\n",
       "      <td>0.023810</td>\n",
       "    </tr>\n",
       "    <tr>\n",
       "      <th>jessica simpson</th>\n",
       "      <td>41</td>\n",
       "      <td>1</td>\n",
       "      <td>0.024390</td>\n",
       "    </tr>\n",
       "    <tr>\n",
       "      <th>only saving</th>\n",
       "      <td>40</td>\n",
       "      <td>1</td>\n",
       "      <td>0.025000</td>\n",
       "    </tr>\n",
       "    <tr>\n",
       "      <th>a zero</th>\n",
       "      <td>40</td>\n",
       "      <td>1</td>\n",
       "      <td>0.025000</td>\n",
       "    </tr>\n",
       "    <tr>\n",
       "      <th>not waste</th>\n",
       "      <td>79</td>\n",
       "      <td>2</td>\n",
       "      <td>0.025316</td>\n",
       "    </tr>\n",
       "    <tr>\n",
       "      <th>this mess</th>\n",
       "      <td>116</td>\n",
       "      <td>3</td>\n",
       "      <td>0.025862</td>\n",
       "    </tr>\n",
       "    <tr>\n",
       "      <th>seagal</th>\n",
       "      <td>152</td>\n",
       "      <td>4</td>\n",
       "      <td>0.026316</td>\n",
       "    </tr>\n",
       "    <tr>\n",
       "      <th>was poorly</th>\n",
       "      <td>38</td>\n",
       "      <td>1</td>\n",
       "      <td>0.026316</td>\n",
       "    </tr>\n",
       "    <tr>\n",
       "      <th>...</th>\n",
       "      <td>...</td>\n",
       "      <td>...</td>\n",
       "      <td>...</td>\n",
       "    </tr>\n",
       "    <tr>\n",
       "      <th>bake</th>\n",
       "      <td>1</td>\n",
       "      <td>31</td>\n",
       "      <td>31.000000</td>\n",
       "    </tr>\n",
       "    <tr>\n",
       "      <th>care bears</th>\n",
       "      <td>1</td>\n",
       "      <td>31</td>\n",
       "      <td>31.000000</td>\n",
       "    </tr>\n",
       "    <tr>\n",
       "      <th>victoria s</th>\n",
       "      <td>1</td>\n",
       "      <td>32</td>\n",
       "      <td>32.000000</td>\n",
       "    </tr>\n",
       "    <tr>\n",
       "      <th>aiello</th>\n",
       "      <td>1</td>\n",
       "      <td>33</td>\n",
       "      <td>33.000000</td>\n",
       "    </tr>\n",
       "    <tr>\n",
       "      <th>robert blake</th>\n",
       "      <td>1</td>\n",
       "      <td>33</td>\n",
       "      <td>33.000000</td>\n",
       "    </tr>\n",
       "    <tr>\n",
       "      <th>callahan</th>\n",
       "      <td>1</td>\n",
       "      <td>34</td>\n",
       "      <td>34.000000</td>\n",
       "    </tr>\n",
       "    <tr>\n",
       "      <th>not perfect</th>\n",
       "      <td>1</td>\n",
       "      <td>35</td>\n",
       "      <td>35.000000</td>\n",
       "    </tr>\n",
       "    <tr>\n",
       "      <th>taker</th>\n",
       "      <td>1</td>\n",
       "      <td>35</td>\n",
       "      <td>35.000000</td>\n",
       "    </tr>\n",
       "    <tr>\n",
       "      <th>korda</th>\n",
       "      <td>1</td>\n",
       "      <td>35</td>\n",
       "      <td>35.000000</td>\n",
       "    </tr>\n",
       "    <tr>\n",
       "      <th>on south</th>\n",
       "      <td>1</td>\n",
       "      <td>36</td>\n",
       "      <td>36.000000</td>\n",
       "    </tr>\n",
       "    <tr>\n",
       "      <th>philo vance</th>\n",
       "      <td>1</td>\n",
       "      <td>37</td>\n",
       "      <td>37.000000</td>\n",
       "    </tr>\n",
       "    <tr>\n",
       "      <th>clutter</th>\n",
       "      <td>1</td>\n",
       "      <td>39</td>\n",
       "      <td>39.000000</td>\n",
       "    </tr>\n",
       "    <tr>\n",
       "      <th>from shanghai</th>\n",
       "      <td>1</td>\n",
       "      <td>40</td>\n",
       "      <td>40.000000</td>\n",
       "    </tr>\n",
       "    <tr>\n",
       "      <th>anthony mann</th>\n",
       "      <td>1</td>\n",
       "      <td>40</td>\n",
       "      <td>40.000000</td>\n",
       "    </tr>\n",
       "    <tr>\n",
       "      <th>winchester 73</th>\n",
       "      <td>1</td>\n",
       "      <td>42</td>\n",
       "      <td>42.000000</td>\n",
       "    </tr>\n",
       "    <tr>\n",
       "      <th>lindy</th>\n",
       "      <td>1</td>\n",
       "      <td>42</td>\n",
       "      <td>42.000000</td>\n",
       "    </tr>\n",
       "    <tr>\n",
       "      <th>philo</th>\n",
       "      <td>1</td>\n",
       "      <td>42</td>\n",
       "      <td>42.000000</td>\n",
       "    </tr>\n",
       "    <tr>\n",
       "      <th>victor mclaglen</th>\n",
       "      <td>1</td>\n",
       "      <td>44</td>\n",
       "      <td>44.000000</td>\n",
       "    </tr>\n",
       "    <tr>\n",
       "      <th>luzhin</th>\n",
       "      <td>1</td>\n",
       "      <td>45</td>\n",
       "      <td>45.000000</td>\n",
       "    </tr>\n",
       "    <tr>\n",
       "      <th>gundam</th>\n",
       "      <td>2</td>\n",
       "      <td>91</td>\n",
       "      <td>45.500000</td>\n",
       "    </tr>\n",
       "    <tr>\n",
       "      <th>feinstone</th>\n",
       "      <td>1</td>\n",
       "      <td>48</td>\n",
       "      <td>48.000000</td>\n",
       "    </tr>\n",
       "    <tr>\n",
       "      <th>giovanna</th>\n",
       "      <td>1</td>\n",
       "      <td>49</td>\n",
       "      <td>49.000000</td>\n",
       "    </tr>\n",
       "    <tr>\n",
       "      <th>wonderful movie</th>\n",
       "      <td>1</td>\n",
       "      <td>52</td>\n",
       "      <td>52.000000</td>\n",
       "    </tr>\n",
       "    <tr>\n",
       "      <th>police story</th>\n",
       "      <td>1</td>\n",
       "      <td>52</td>\n",
       "      <td>52.000000</td>\n",
       "    </tr>\n",
       "    <tr>\n",
       "      <th>iturbi</th>\n",
       "      <td>1</td>\n",
       "      <td>53</td>\n",
       "      <td>53.000000</td>\n",
       "    </tr>\n",
       "    <tr>\n",
       "      <th>excellently</th>\n",
       "      <td>1</td>\n",
       "      <td>59</td>\n",
       "      <td>59.000000</td>\n",
       "    </tr>\n",
       "    <tr>\n",
       "      <th>nancy drew</th>\n",
       "      <td>1</td>\n",
       "      <td>61</td>\n",
       "      <td>61.000000</td>\n",
       "    </tr>\n",
       "    <tr>\n",
       "      <th>midnight cowboy</th>\n",
       "      <td>1</td>\n",
       "      <td>62</td>\n",
       "      <td>62.000000</td>\n",
       "    </tr>\n",
       "    <tr>\n",
       "      <th>rob roy</th>\n",
       "      <td>1</td>\n",
       "      <td>87</td>\n",
       "      <td>87.000000</td>\n",
       "    </tr>\n",
       "    <tr>\n",
       "      <th>paulie</th>\n",
       "      <td>1</td>\n",
       "      <td>118</td>\n",
       "      <td>118.000000</td>\n",
       "    </tr>\n",
       "  </tbody>\n",
       "</table>\n",
       "<p>265165 rows × 3 columns</p>\n",
       "</div>"
      ],
      "text/plain": [
       "                 Negative freq  Positive freq       ratio\n",
       "term                                                     \n",
       "boll                       141              1    0.007092\n",
       "worst films                103              1    0.009709\n",
       "uwe                         99              1    0.010101\n",
       "uwe boll                    85              1    0.011765\n",
       "just bad                    81              1    0.012346\n",
       "this crap                  144              2    0.013889\n",
       "avoid at                    62              1    0.016129\n",
       "thunderbirds                61              1    0.016393\n",
       "beowulf                     60              1    0.016667\n",
       "only redeeming              59              1    0.016949\n",
       "save this                  113              2    0.017699\n",
       "total waste                 56              1    0.017857\n",
       "1 out                       55              1    0.018182\n",
       "just awful                  55              1    0.018182\n",
       "dahmer                      53              1    0.018868\n",
       "wayans                      50              1    0.020000\n",
       "worst movies               194              4    0.020619\n",
       "grendel                     48              1    0.020833\n",
       "terrible film               46              1    0.021739\n",
       "badly written               46              1    0.021739\n",
       "this pile                   44              1    0.022727\n",
       "movie sucks                 44              1    0.022727\n",
       "ajay                        42              1    0.023810\n",
       "jessica simpson             41              1    0.024390\n",
       "only saving                 40              1    0.025000\n",
       "a zero                      40              1    0.025000\n",
       "not waste                   79              2    0.025316\n",
       "this mess                  116              3    0.025862\n",
       "seagal                     152              4    0.026316\n",
       "was poorly                  38              1    0.026316\n",
       "...                        ...            ...         ...\n",
       "bake                         1             31   31.000000\n",
       "care bears                   1             31   31.000000\n",
       "victoria s                   1             32   32.000000\n",
       "aiello                       1             33   33.000000\n",
       "robert blake                 1             33   33.000000\n",
       "callahan                     1             34   34.000000\n",
       "not perfect                  1             35   35.000000\n",
       "taker                        1             35   35.000000\n",
       "korda                        1             35   35.000000\n",
       "on south                     1             36   36.000000\n",
       "philo vance                  1             37   37.000000\n",
       "clutter                      1             39   39.000000\n",
       "from shanghai                1             40   40.000000\n",
       "anthony mann                 1             40   40.000000\n",
       "winchester 73                1             42   42.000000\n",
       "lindy                        1             42   42.000000\n",
       "philo                        1             42   42.000000\n",
       "victor mclaglen              1             44   44.000000\n",
       "luzhin                       1             45   45.000000\n",
       "gundam                       2             91   45.500000\n",
       "feinstone                    1             48   48.000000\n",
       "giovanna                     1             49   49.000000\n",
       "wonderful movie              1             52   52.000000\n",
       "police story                 1             52   52.000000\n",
       "iturbi                       1             53   53.000000\n",
       "excellently                  1             59   59.000000\n",
       "nancy drew                   1             61   61.000000\n",
       "midnight cowboy              1             62   62.000000\n",
       "rob roy                      1             87   87.000000\n",
       "paulie                       1            118  118.000000\n",
       "\n",
       "[265165 rows x 3 columns]"
      ]
     },
     "execution_count": 277,
     "metadata": {},
     "output_type": "execute_result"
    }
   ],
   "source": [
    "tf = tf[(tf['Positive freq'] > 0) & (tf['Negative freq'] > 0)]\n",
    "tf['ratio'] = tf['Positive freq'] / tf['Negative freq']\n",
    "tf.sort_values(by='ratio', ascending=True)"
   ]
  },
  {
   "cell_type": "code",
   "execution_count": 56,
   "metadata": {},
   "outputs": [
    {
     "data": {
      "text/plain": [
       "(25000, 44490)"
      ]
     },
     "execution_count": 56,
     "metadata": {},
     "output_type": "execute_result"
    }
   ],
   "source": [
    "x_train.shape"
   ]
  },
  {
   "cell_type": "code",
   "execution_count": 55,
   "metadata": {},
   "outputs": [
    {
     "name": "stdout",
     "output_type": "stream",
     "text": [
      "_________________________________________________________________\n",
      "Layer (type)                 Output Shape              Param #   \n",
      "=================================================================\n",
      "dense_18 (Dense)             (None, 256)               11389696  \n",
      "_________________________________________________________________\n",
      "activation_11 (Activation)   (None, 256)               0         \n",
      "_________________________________________________________________\n",
      "dropout_11 (Dropout)         (None, 256)               0         \n",
      "_________________________________________________________________\n",
      "dense_19 (Dense)             (None, 128)               32896     \n",
      "_________________________________________________________________\n",
      "activation_12 (Activation)   (None, 128)               0         \n",
      "_________________________________________________________________\n",
      "dropout_12 (Dropout)         (None, 128)               0         \n",
      "_________________________________________________________________\n",
      "dense_20 (Dense)             (None, 1)                 129       \n",
      "=================================================================\n",
      "Total params: 11,422,721.0\n",
      "Trainable params: 11,422,721.0\n",
      "Non-trainable params: 0.0\n",
      "_________________________________________________________________\n"
     ]
    }
   ],
   "source": [
    "create_model().summary()"
   ]
  },
  {
   "cell_type": "markdown",
   "metadata": {},
   "source": [
    "### embeddings"
   ]
  },
  {
   "cell_type": "code",
   "execution_count": 275,
   "metadata": {},
   "outputs": [
    {
     "name": "stdout",
     "output_type": "stream",
     "text": [
      "CPU times: user 3.97 s, sys: 107 ms, total: 4.08 s\n",
      "Wall time: 4.15 s\n"
     ]
    }
   ],
   "source": [
    "%%time\n",
    "max_features = 40000\n",
    "vec = CountVectorizer(binary=True, max_features=max_features)\n",
    "vec.fit(data_train)"
   ]
  },
  {
   "cell_type": "code",
   "execution_count": 276,
   "metadata": {},
   "outputs": [
    {
     "data": {
      "text/plain": [
       "40000"
      ]
     },
     "execution_count": 276,
     "metadata": {},
     "output_type": "execute_result"
    }
   ],
   "source": [
    "len(vec.vocabulary_)"
   ]
  },
  {
   "cell_type": "code",
   "execution_count": 150,
   "metadata": {},
   "outputs": [
    {
     "data": {
      "text/plain": [
       "['for',\n",
       " 'movie',\n",
       " 'that',\n",
       " 'gets',\n",
       " 'no',\n",
       " 'respect',\n",
       " 'there',\n",
       " 'sure',\n",
       " 'are',\n",
       " 'lot']"
      ]
     },
     "execution_count": 150,
     "metadata": {},
     "output_type": "execute_result"
    }
   ],
   "source": [
    "tokenizer = vec.build_analyzer()\n",
    "tokenizer(data_train[0])[:10]"
   ]
  },
  {
   "cell_type": "code",
   "execution_count": 232,
   "metadata": {},
   "outputs": [],
   "source": [
    "def sequence_builder(vec, corpus):\n",
    "    # get the tokenizer associated with the vectorizer\n",
    "    tokenizer = vec.build_analyzer()\n",
    "    \n",
    "    # return a sequence of tokens that appear in the\n",
    "    # vocabulary for each document\n",
    "    # ignores tokens that are not found in the vocabulary\n",
    "    # may return an empty list if no tokens are found\n",
    "    # in the dictionary\n",
    "    return np.array([\n",
    "        [vec.vocabulary_[token]\n",
    "         for token in tokenizer(doc)\n",
    "         if token in vec.vocabulary_\n",
    "        ]\n",
    "        for doc in corpus\n",
    "    ])"
   ]
  },
  {
   "cell_type": "code",
   "execution_count": 260,
   "metadata": {},
   "outputs": [
    {
     "name": "stdout",
     "output_type": "stream",
     "text": [
      "CPU times: user 8.03 s, sys: 3.95 s, total: 12 s\n",
      "Wall time: 16 s\n"
     ]
    }
   ],
   "source": [
    "%%time\n",
    "# alternatively can do this\n",
    "# or preprocessing text\n",
    "# (x_train, y_train), (x_test, y_test) = imdb.load_data(num_words=10000)\n",
    "x_train_sequence = sequence_builder(vec, data_train)\n",
    "x_test_sequence = sequence_builder(vec, data_test)\n",
    "assert x_train_sequence.shape == (25000, )"
   ]
  },
  {
   "cell_type": "code",
   "execution_count": 161,
   "metadata": {},
   "outputs": [
    {
     "data": {
      "image/png": "[encoded data removed]",
      "text/plain": [
       "<Figure size 432x288 with 1 Axes>"
      ]
     },
     "metadata": {},
     "output_type": "display_data"
    }
   ],
   "source": [
    "seq_lens = pd.Series([len(x) for x in x_train_sequence])\n",
    "seq_lens.hist()\n",
    "plt.xlabel('Nummber of tokens in document (sequence length)')\n",
    "plt.ylabel('Frequency')\n",
    "plt.show()"
   ]
  },
  {
   "cell_type": "code",
   "execution_count": 63,
   "metadata": {},
   "outputs": [
    {
     "data": {
      "text/plain": [
       "count    25000.000000\n",
       "mean       225.362560\n",
       "std        168.574272\n",
       "min          9.000000\n",
       "25%        121.000000\n",
       "50%        167.000000\n",
       "75%        274.000000\n",
       "max       2336.000000\n",
       "dtype: float64"
      ]
     },
     "execution_count": 63,
     "metadata": {},
     "output_type": "execute_result"
    }
   ],
   "source": [
    "seq_lens.describe()"
   ]
  },
  {
   "cell_type": "code",
   "execution_count": 8,
   "metadata": {},
   "outputs": [
    {
     "name": "stdout",
     "output_type": "stream",
     "text": [
      "CPU times: user 2.8 s, sys: 422 ms, total: 3.22 s\n",
      "Wall time: 2.22 s\n"
     ]
    }
   ],
   "source": [
    "%%time\n",
    "x_train_sequence_padded = pad_sequences(x_train_sequence)\n",
    "x_test_sequence_padded = pad_sequences(x_test_sequence)"
   ]
  },
  {
   "cell_type": "code",
   "execution_count": 66,
   "metadata": {},
   "outputs": [
    {
     "data": {
      "text/plain": [
       "2336"
      ]
     },
     "execution_count": 66,
     "metadata": {},
     "output_type": "execute_result"
    }
   ],
   "source": [
    "len(x_train_sequence_padded[0])"
   ]
  },
  {
   "cell_type": "code",
   "execution_count": 9,
   "metadata": {},
   "outputs": [
    {
     "name": "stdout",
     "output_type": "stream",
     "text": [
      "CPU times: user 1.93 s, sys: 57.2 ms, total: 1.99 s\n",
      "Wall time: 1.01 s\n"
     ]
    }
   ],
   "source": [
    "%%time\n",
    "maxlen = 250\n",
    "x_train_sequence_padded = pad_sequences(x_train_sequence, maxlen=maxlen)\n",
    "x_test_sequence_padded = pad_sequences(x_test_sequence, maxlen)"
   ]
  },
  {
   "cell_type": "code",
   "execution_count": 166,
   "metadata": {},
   "outputs": [
    {
     "data": {
      "text/plain": [
       "(25000, 250)"
      ]
     },
     "execution_count": 166,
     "metadata": {},
     "output_type": "execute_result"
    }
   ],
   "source": [
    "x_train_sequence_padded.shape"
   ]
  },
  {
   "cell_type": "code",
   "execution_count": 69,
   "metadata": {},
   "outputs": [
    {
     "data": {
      "text/plain": [
       "array([    0,     0,     0,     0,     0,     0,     0,     0,     0,\n",
       "           0,     0,     0,     0,     0,     0,     0,     0,     0,\n",
       "           0,     0,     0,     0,     0,     0,     0,     0,     0,\n",
       "           0,     0,     0,     0,     0,     0,     0,     0,     0,\n",
       "           0,     0,     0,     0,     0,     0,     0,     0,     0,\n",
       "           0,     0,     0,     0,     0,     0,     0,     0,     0,\n",
       "           0,     0,     0,     0,     0,     0,     0,     0,     0,\n",
       "           0,     0,     0,     0,     0,     0,     0,     0,     0,\n",
       "           0,     0,     0,     0,     0,     0,     0,     0,     0,\n",
       "           0,     0,     0,     0,     0,     0,     0,     0,     0,\n",
       "           0,     0,     0,     0,     0,     0,     0,     0,     0,\n",
       "           0,     0,     0,     0,     0,     0,     0,     0,     0,\n",
       "           0,     0,     0,     0,     0,     0,     0,     0,     0,\n",
       "           0,     0,     0,     0,  4820, 16797, 18857,  5627,  7069,\n",
       "       18914, 28494,  2406, 35663, 30753, 35947,  2249, 33057, 25213,\n",
       "       27702,   549, 31165, 20537, 34460,  2249, 35341, 23648,   317,\n",
       "       39713, 17824, 35663, 35343, 27662, 20257, 22121, 36030,  3439,\n",
       "       35658,  4820, 16797, 30903, 18857, 23480,  6750, 36030, 28717,\n",
       "       35647, 18857, 35341, 35663, 31277, 36030, 34787, 13274, 35663,\n",
       "       18336, 34258, 39077,  5359, 31510, 29936, 35838, 35675, 25876,\n",
       "       35341, 26996, 35663, 26338, 24796, 35663, 39083, 32434,  1299,\n",
       "       29294, 22121, 24796, 35663, 31179, 19786,  1606, 35675, 34258,\n",
       "       39000, 30976, 35663, 11982, 17824, 39014, 34257, 29396, 36625,\n",
       "       36030,  5075, 10758, 35663, 31165, 17658, 28786,  2406, 16797,\n",
       "        6578, 20636, 18367, 16693, 36030, 30615, 24950, 24796, 39803,\n",
       "       35341, 34257, 38928, 36030,  4820, 16797, 12498, 35658, 21561,\n",
       "         952, 24796, 23648,  1078, 35748, 35658,  4820, 16797, 18857,\n",
       "       12847, 13126, 38982, 26689, 35658, 18914, 18893], dtype=int32)"
      ]
     },
     "execution_count": 69,
     "metadata": {},
     "output_type": "execute_result"
    }
   ],
   "source": [
    "x_train_sequence_padded[0]"
   ]
  },
  {
   "cell_type": "markdown",
   "metadata": {},
   "source": [
    "#### learned"
   ]
  },
  {
   "cell_type": "code",
   "execution_count": 70,
   "metadata": {},
   "outputs": [
    {
     "data": {
      "text/plain": [
       "(25000, 250)"
      ]
     },
     "execution_count": 70,
     "metadata": {},
     "output_type": "execute_result"
    }
   ],
   "source": [
    "x_train_sequence_padded.shape"
   ]
  },
  {
   "cell_type": "code",
   "execution_count": 13,
   "metadata": {},
   "outputs": [],
   "source": [
    "embedding_dim = 300"
   ]
  },
  {
   "cell_type": "code",
   "execution_count": 240,
   "metadata": {
    "scrolled": false
   },
   "outputs": [
    {
     "name": "stdout",
     "output_type": "stream",
     "text": [
      "_________________________________________________________________\n",
      "Layer (type)                 Output Shape              Param #   \n",
      "=================================================================\n",
      "embedding_34 (Embedding)     (None, 250, 300)          12000000  \n",
      "_________________________________________________________________\n",
      "flatten_34 (Flatten)         (None, 75000)             0         \n",
      "_________________________________________________________________\n",
      "dense_109 (Dense)            (None, 16)                1200016   \n",
      "_________________________________________________________________\n",
      "dropout_73 (Dropout)         (None, 16)                0         \n",
      "_________________________________________________________________\n",
      "dense_110 (Dense)            (None, 16)                272       \n",
      "_________________________________________________________________\n",
      "dropout_74 (Dropout)         (None, 16)                0         \n",
      "_________________________________________________________________\n",
      "dense_111 (Dense)            (None, 1)                 17        \n",
      "=================================================================\n",
      "Total params: 13,200,305\n",
      "Trainable params: 13,200,305\n",
      "Non-trainable params: 0\n",
      "_________________________________________________________________\n",
      "None\n"
     ]
    }
   ],
   "source": [
    "def create_model():\n",
    "    model = Sequential()\n",
    "    model.add(Embedding(max_features,\n",
    "                        embedding_dim,\n",
    "                        input_length=maxlen))\n",
    "    model.add(Flatten())\n",
    "    model.add(Dense(16, activation='relu'))\n",
    "    model.add(Dropout(0.5))\n",
    "    model.add(Dense(16, activation='relu'))\n",
    "    model.add(Dropout(0.5))\n",
    "    model.add(Dense(1, activation='sigmoid'))\n",
    "    \n",
    "    model.compile(loss='binary_crossentropy',\n",
    "                  optimizer='adam',\n",
    "                  metrics=['accuracy'])\n",
    "    return model\n",
    "\n",
    "create_model().summary()"
   ]
  },
  {
   "cell_type": "code",
   "execution_count": 419,
   "metadata": {},
   "outputs": [],
   "source": [
    "def run_cross_val(create_model,\n",
    "                  epochs=5, batch_size=128, cv=3, verbose=1):\n",
    "    # create model\n",
    "    model = KerasClassifier(build_fn=create_model,\n",
    "                            epochs=epochs,\n",
    "                            batch_size=batch_size,\n",
    "                            verbose=verbose)\n",
    "\n",
    "    results = cross_val_score(model,\n",
    "                              x_train_sequence_padded, y_train, cv=cv)\n",
    "    results_mean = results.mean()\n",
    "    results_std = results.std()\n",
    "    results_string = 'Results: {}, mean: {:.2f}, std: {:.2f}'\n",
    "    print(results_string.format(results, results_mean, results_std))"
   ]
  },
  {
   "cell_type": "code",
   "execution_count": 176,
   "metadata": {},
   "outputs": [
    {
     "name": "stdout",
     "output_type": "stream",
     "text": [
      "Epoch 1/5\n",
      "16666/16666 [==============================] - 28s 2ms/step - loss: 0.5520 - acc: 0.7352\n",
      "Epoch 2/5\n",
      "16666/16666 [==============================] - 30s 2ms/step - loss: 0.2885 - acc: 0.8784\n",
      "Epoch 3/5\n",
      "16666/16666 [==============================] - 29s 2ms/step - loss: 0.1084 - acc: 0.9657\n",
      "Epoch 4/5\n",
      "16666/16666 [==============================] - 29s 2ms/step - loss: 0.0427 - acc: 0.9858\n",
      "Epoch 5/5\n",
      "16666/16666 [==============================] - 28s 2ms/step - loss: 0.0244 - acc: 0.9884\n",
      "8334/8334 [==============================] - 2s 230us/step\n",
      "Epoch 1/5\n",
      "16667/16667 [==============================] - 31s 2ms/step - loss: 0.6837 - acc: 0.5373\n",
      "Epoch 2/5\n",
      "16667/16667 [==============================] - 30s 2ms/step - loss: 0.4547 - acc: 0.8124\n",
      "Epoch 3/5\n",
      "16667/16667 [==============================] - 29s 2ms/step - loss: 0.2172 - acc: 0.9362\n",
      "Epoch 4/5\n",
      "16667/16667 [==============================] - 27s 2ms/step - loss: 0.1015 - acc: 0.9761\n",
      "Epoch 5/5\n",
      "16667/16667 [==============================] - 28s 2ms/step - loss: 0.0513 - acc: 0.9899\n",
      "8333/8333 [==============================] - 2s 224us/step\n",
      "Epoch 1/5\n",
      "16667/16667 [==============================] - 29s 2ms/step - loss: 0.5481 - acc: 0.7364\n",
      "Epoch 2/5\n",
      "16667/16667 [==============================] - 27s 2ms/step - loss: 0.2735 - acc: 0.8860\n",
      "Epoch 3/5\n",
      "16667/16667 [==============================] - 29s 2ms/step - loss: 0.1074 - acc: 0.9628\n",
      "Epoch 4/5\n",
      "16667/16667 [==============================] - 28s 2ms/step - loss: 0.0430 - acc: 0.9840\n",
      "Epoch 5/5\n",
      "16667/16667 [==============================] - 30s 2ms/step - loss: 0.0272 - acc: 0.9879\n",
      "8333/8333 [==============================] - 2s 243us/step\n",
      "Results: [0.7049436  0.87171487 0.72878915], mean: 0.77, std: 0.07\n"
     ]
    }
   ],
   "source": [
    "run_cross_val(create_model)"
   ]
  },
  {
   "cell_type": "markdown",
   "metadata": {},
   "source": [
    "#### explore"
   ]
  },
  {
   "cell_type": "code",
   "execution_count": 177,
   "metadata": {},
   "outputs": [
    {
     "name": "stdout",
     "output_type": "stream",
     "text": [
      "Epoch 1/5\n",
      "25000/25000 [==============================] - 138s 6ms/step - loss: 0.5838 - acc: 0.6591\n",
      "Epoch 2/5\n",
      "25000/25000 [==============================] - 147s 6ms/step - loss: 0.2878 - acc: 0.8954\n",
      "Epoch 3/5\n",
      "25000/25000 [==============================] - 143s 6ms/step - loss: 0.1167 - acc: 0.9627\n",
      "Epoch 4/5\n",
      "25000/25000 [==============================] - 151s 6ms/step - loss: 0.0440 - acc: 0.9862\n",
      "Epoch 5/5\n",
      "25000/25000 [==============================] - 149s 6ms/step - loss: 0.0312 - acc: 0.9900\n"
     ]
    },
    {
     "data": {
      "text/plain": [
       "<keras.callbacks.History at 0x1a3170b048>"
      ]
     },
     "execution_count": 177,
     "metadata": {},
     "output_type": "execute_result"
    }
   ],
   "source": [
    "model = create_model()\n",
    "model.fit(x_train_sequence_padded, y_train, epochs=5)"
   ]
  },
  {
   "cell_type": "code",
   "execution_count": 179,
   "metadata": {},
   "outputs": [
    {
     "data": {
      "text/plain": [
       "(40000, 300)"
      ]
     },
     "execution_count": 179,
     "metadata": {},
     "output_type": "execute_result"
    }
   ],
   "source": [
    "model.get_weights()[0].shape"
   ]
  },
  {
   "cell_type": "code",
   "execution_count": 180,
   "metadata": {},
   "outputs": [],
   "source": [
    "weights = model.get_weights()[0]"
   ]
  },
  {
   "cell_type": "code",
   "execution_count": 67,
   "metadata": {},
   "outputs": [],
   "source": [
    "def most_similar(weights, query_word, n=10):\n",
    "    # get the word vector for the provided word\n",
    "    get_weights = lambda w: weights[vec.vocabulary_[w]]\n",
    "    # calculates the Euclidean distance between two vectors\n",
    "    euclidean_dist = lambda x, y: np.linalg.norm(x - y)\n",
    "    # get the query word weights\n",
    "    query_word_weights = get_weights(query_word)\n",
    "    # calculate distance between all words in the vocabulary\n",
    "    # and the query word\n",
    "    distances = ((euclidean_dist(query_word_weights,\n",
    "                                 get_weights(word)), word)\n",
    "                 for word in vec.vocabulary_)\n",
    "    # sort the output by distance in ascending order and\n",
    "    # take the top n\n",
    "    closest_n = sorted(distances, key=lambda x: x[0])[:n]\n",
    "    return closest_n"
   ]
  },
  {
   "cell_type": "code",
   "execution_count": 204,
   "metadata": {},
   "outputs": [
    {
     "data": {
      "text/plain": [
       "[(0.0, 'waste'),\n",
       " (1.6038712, 'worst'),\n",
       " (1.7018473, 'terrible'),\n",
       " (1.713828, 'mess'),\n",
       " (1.7219851, 'pointless'),\n",
       " (1.7603508, 'lacks'),\n",
       " (1.7982241, 'fails'),\n",
       " (1.8001578, 'worse'),\n",
       " (1.8053883, 'boring'),\n",
       " (1.8066409, 'disappointment')]"
      ]
     },
     "execution_count": 204,
     "metadata": {},
     "output_type": "execute_result"
    }
   ],
   "source": [
    "most_similar(weights, 'waste')"
   ]
  },
  {
   "cell_type": "code",
   "execution_count": 205,
   "metadata": {},
   "outputs": [
    {
     "data": {
      "text/plain": [
       "[(0.0, 'excellent'),\n",
       " (1.3448552, 'amazing'),\n",
       " (1.4411327, 'excellently'),\n",
       " (1.4792386, 'flawless'),\n",
       " (1.490075, 'edie'),\n",
       " (1.4923619, 'ramones'),\n",
       " (1.4968675, 'mcintire'),\n",
       " (1.4999555, 'delightfully'),\n",
       " (1.5005722, 'victoria'),\n",
       " (1.5198689, 'friendship')]"
      ]
     },
     "execution_count": 205,
     "metadata": {},
     "output_type": "execute_result"
    }
   ],
   "source": [
    "most_similar(weights, 'excellent')"
   ]
  },
  {
   "cell_type": "code",
   "execution_count": 206,
   "metadata": {},
   "outputs": [
    {
     "data": {
      "text/plain": [
       "[(0.0, 'movie'),\n",
       " (0.8663221, '00'),\n",
       " (0.9154326, 'victimize'),\n",
       " (0.9188335, 'aubuchon'),\n",
       " (0.9227289, 'meting'),\n",
       " (0.9274821, 'arvanitis'),\n",
       " (0.9300187, 'unbalance'),\n",
       " (0.93212825, 'ithaca'),\n",
       " (0.934246, 'svea'),\n",
       " (0.9349057, 'clonkers')]"
      ]
     },
     "execution_count": 206,
     "metadata": {},
     "output_type": "execute_result"
    }
   ],
   "source": [
    "most_similar(weights, 'movie')"
   ]
  },
  {
   "cell_type": "markdown",
   "metadata": {},
   "source": [
    "#### pre-trained"
   ]
  },
  {
   "cell_type": "code",
   "execution_count": 206,
   "metadata": {},
   "outputs": [
    {
     "name": "stdout",
     "output_type": "stream",
     "text": [
      "--2018-05-20 12:39:33--  http://nlp.stanford.edu/data/glove.6B.zip\n",
      "Resolving nlp.stanford.edu... 171.64.67.140\n",
      "Connecting to nlp.stanford.edu|171.64.67.140|:80... connected.\n",
      "HTTP request sent, awaiting response... 302 Found\n",
      "Location: https://nlp.stanford.edu/data/glove.6B.zip [following]\n",
      "--2018-05-20 12:39:33--  https://nlp.stanford.edu/data/glove.6B.zip\n",
      "Connecting to nlp.stanford.edu|171.64.67.140|:443... connected.\n",
      "HTTP request sent, awaiting response... 200 OK\n",
      "Length: 862182613 (822M) [application/zip]\n",
      "Saving to: ‘glove.6B.zip’\n",
      "\n",
      "glove.6B.zip        100%[===================>] 822.24M  9.29MB/s    in 78s     \n",
      "\n",
      "2018-05-20 12:40:52 (10.5 MB/s) - ‘glove.6B.zip’ saved [862182613/862182613]\n",
      "\n",
      "Archive:  glove.6B.zip\n",
      "  inflating: glove.6B.50d.txt        \n",
      "  inflating: glove.6B.100d.txt       \n",
      "  inflating: glove.6B.200d.txt       \n",
      "  inflating: glove.6B.300d.txt       \n"
     ]
    }
   ],
   "source": [
    "!wget http://nlp.stanford.edu/data/glove.6B.zip\n",
    "!unzip glove.6B.zip\n",
    "!rm glove.6B.zip\n",
    "!rm glove.6B.50d.txt\n",
    "!rm glove.6B.100d.txt\n",
    "!rm glove.6B.200d.txt"
   ]
  },
  {
   "cell_type": "code",
   "execution_count": 210,
   "metadata": {},
   "outputs": [
    {
     "name": "stdout",
     "output_type": "stream",
     "text": [
      "-rw-rw-r--@ 1 amir.ziai  10000   990M Aug 27  2014 glove.6B.300d.txt\r\n"
     ]
    }
   ],
   "source": [
    "!ls -lht glove*"
   ]
  },
  {
   "cell_type": "code",
   "execution_count": 246,
   "metadata": {},
   "outputs": [
    {
     "name": "stdout",
     "output_type": "stream",
     "text": [
      "the 0.04656 0.21318 -0.0074364 -0.45854 -0.035639 0.23643 -0.28836 0.21521 -0.13486 -1.6413 -0.26091 0.032434 0.056621 -0.043296 -0.021672 0.22476 -0.075129 -0.067018 -0.14247 0.038825 -0.18951 0.29977 0.39305 0.17887 -0.17343 -0.21178 0.23617 -0.063681 -0.42318 -0.11661 0.093754 0.17296 -0.33073 0.49112 -0.68995 -0.092462 0.24742 -0.17991 0.097908 0.083118 0.15299 -0.27276 -0.038934 0.54453 0.53737 0.29105 -0.0073514 0.04788 -0.4076 -0.026759 0.17919 0.010977 -0.10963 -0.26395 0.07399 0.26236 -0.1508 0.34623 0.25758 0.11971 -0.037135 -0.071593 0.43898 -0.040764 0.016425 -0.4464 0.17197 0.046246 0.058639 0.041499 0.53948 0.52495 0.11361 -0.048315 -0.36385 0.18704 0.092761 -0.11129 -0.42085 0.13992 -0.39338 -0.067945 0.12188 0.16707 0.075169 -0.015529 -0.19499 0.19638 0.053194 0.2517 -0.34845 -0.10638 -0.34692 -0.19024 -0.2004 0.12154 -0.29208 0.023353 -0.11618 -0.35768 0.062304 0.35884 0.02906 0.0073005 0.0049482 -0.15048 -0.12313 0.19337 0.12173 0.44503 0.25147 0.10781 -0.17716 0.038691 0.08153 0.14667 0.063666 0.061332 -0.075569 -0.37724 0.01585 -0.30342 0.28374 -0.042013 -0.040715 -0.15269 0.07498 0.15577 0.10433 0.31393 0.19309 0.19429 0.15185 -0.10192 -0.018785 0.20791 0.13366 0.19038 -0.25558 0.304 -0.01896 0.20147 -0.4211 -0.0075156 -0.27977 -0.19314 0.046204 0.19971 -0.30207 0.25735 0.68107 -0.19409 0.23984 0.22493 0.65224 -0.13561 -0.17383 -0.048209 -0.1186 0.0021588 -0.019525 0.11948 0.19346 -0.4082 -0.082966 0.16626 -0.10601 0.35861 0.16922 0.07259 -0.24803 -0.10024 -0.52491 -0.17745 -0.36647 0.2618 -0.012077 0.08319 -0.21528 0.41045 0.29136 0.30869 0.078864 0.32207 -0.041023 -0.1097 -0.092041 -0.12339 -0.16416 0.35382 -0.082774 0.33171 -0.24738 -0.048928 0.15746 0.18988 -0.026642 0.063315 -0.010673 0.34089 1.4106 0.13417 0.28191 -0.2594 0.055267 -0.052425 -0.25789 0.019127 -0.022084 0.32113 0.068818 0.51207 0.16478 -0.20194 0.29232 0.098575 0.013145 -0.10652 0.1351 -0.045332 0.20697 -0.48425 -0.44706 0.0033305 0.0029264 -0.10975 -0.23325 0.22442 -0.10503 0.12339 0.10978 0.048994 -0.25157 0.40319 0.35318 0.18651 -0.023622 -0.12734 0.11475 0.27359 -0.21866 0.015794 0.81754 -0.023792 -0.85469 -0.16203 0.18076 0.028014 -0.1434 0.0013139 -0.091735 -0.089704 0.11105 -0.16703 0.068377 -0.087388 -0.039789 0.014184 0.21187 0.28579 -0.28797 -0.058996 -0.032436 -0.0047009 -0.17052 -0.034741 -0.11489 0.075093 0.099526 0.048183 -0.073775 -0.41817 0.0041268 0.44414 -0.16062 0.14294 -2.2628 -0.027347 0.81311 0.77417 -0.25639 -0.11576 -0.11982 -0.21363 0.028429 0.27261 0.031026 0.096782 0.0067769 0.14082 -0.013064 -0.29686 -0.079913 0.195 0.031549 0.28506 -0.087461 0.0090611 -0.20989 0.053913\r\n"
     ]
    }
   ],
   "source": [
    "!head -1 glove.6B.300d.txt"
   ]
  },
  {
   "cell_type": "code",
   "execution_count": 222,
   "metadata": {},
   "outputs": [
    {
     "data": {
      "text/plain": [
       "400000"
      ]
     },
     "execution_count": 222,
     "metadata": {},
     "output_type": "execute_result"
    }
   ],
   "source": [
    "len(embedding)"
   ]
  },
  {
   "cell_type": "code",
   "execution_count": 274,
   "metadata": {},
   "outputs": [
    {
     "data": {
      "text/plain": [
       "44490"
      ]
     },
     "execution_count": 274,
     "metadata": {},
     "output_type": "execute_result"
    }
   ],
   "source": [
    "len(vec.vocabulary_)"
   ]
  },
  {
   "cell_type": "code",
   "execution_count": 277,
   "metadata": {},
   "outputs": [],
   "source": [
    "def load_embedding(path, vec, embedding_dim):\n",
    "    embedding = {}\n",
    "    for line in open(path):\n",
    "        word, *values = line.split()\n",
    "        embedding[word] = np.asarray(values)\n",
    "    \n",
    "    embedding_matrix = np.random.randn(len(vec.vocabulary_),\n",
    "                                       embedding_dim)\n",
    "    no_tokens = len(vec.vocabulary_)\n",
    "    found = 0\n",
    "    for word_index, word in enumerate(vec.get_feature_names()):\n",
    "        if word in embedding:\n",
    "            found += 1\n",
    "            embedding_matrix[word_index] = embedding[word]\n",
    "            \n",
    "    report_string = 'Found {}/{} ({:.2f}%) of tokens in the embedding'\n",
    "    pct = 100 * found / no_tokens\n",
    "    print(report_string.format(found, no_tokens, pct))\n",
    "        \n",
    "    return embedding_matrix"
   ]
  },
  {
   "cell_type": "code",
   "execution_count": 84,
   "metadata": {},
   "outputs": [
    {
     "name": "stdout",
     "output_type": "stream",
     "text": [
      "Found 38592/40000 (96.48%) of tokens in the embedding\n",
      "CPU times: user 26.1 s, sys: 3.58 s, total: 29.7 s\n",
      "Wall time: 30 s\n"
     ]
    }
   ],
   "source": [
    "%%time\n",
    "embedding_glove300d = load_embedding('glove.6B.300d.txt', vec, 300)"
   ]
  },
  {
   "cell_type": "code",
   "execution_count": 85,
   "metadata": {},
   "outputs": [
    {
     "data": {
      "text/plain": [
       "(40000, 300)"
      ]
     },
     "execution_count": 85,
     "metadata": {},
     "output_type": "execute_result"
    }
   ],
   "source": [
    "embedding_glove300d.shape"
   ]
  },
  {
   "cell_type": "code",
   "execution_count": 86,
   "metadata": {},
   "outputs": [
    {
     "data": {
      "text/plain": [
       "[(0.0, 'waste'),\n",
       " (4.9500698594374155, 'wastes'),\n",
       " (5.392397398609603, 'disposal'),\n",
       " (5.430392490554037, 'recycling'),\n",
       " (5.532842868201304, 'garbage'),\n",
       " (5.690792676079204, 'dump'),\n",
       " (5.942087728603073, 'trash'),\n",
       " (6.026556199784952, 'sewage'),\n",
       " (6.159765951790217, 'landfill'),\n",
       " (6.168820450252348, 'toxic')]"
      ]
     },
     "execution_count": 86,
     "metadata": {},
     "output_type": "execute_result"
    }
   ],
   "source": [
    "most_similar(embedding_glove300d, 'waste')"
   ]
  },
  {
   "cell_type": "code",
   "execution_count": 87,
   "metadata": {},
   "outputs": [
    {
     "data": {
      "text/plain": [
       "[(0.0, 'excellent'),\n",
       " (4.349355808502943, 'good'),\n",
       " (4.521333257588436, 'terrific'),\n",
       " (4.528437564408916, 'superb'),\n",
       " (5.098407751439649, 'well'),\n",
       " (5.152522611049086, 'wonderful'),\n",
       " (5.322126313489306, 'quality'),\n",
       " (5.399403327170717, 'best'),\n",
       " (5.408668153309694, 'impressive'),\n",
       " (5.4223888071187165, 'exceptional')]"
      ]
     },
     "execution_count": 87,
     "metadata": {},
     "output_type": "execute_result"
    }
   ],
   "source": [
    "most_similar(embedding_glove300d, 'excellent')"
   ]
  },
  {
   "cell_type": "code",
   "execution_count": 88,
   "metadata": {},
   "outputs": [
    {
     "data": {
      "text/plain": [
       "[(0.0, 'movie'),\n",
       " (3.632431241088511, 'movies'),\n",
       " (3.6684420774405804, 'film'),\n",
       " (4.39624693123189, 'films'),\n",
       " (5.262785903275571, 'sequel'),\n",
       " (5.266326368283497, 'hollywood'),\n",
       " (5.442663627031183, 'remake'),\n",
       " (5.522284491843334, 'starring'),\n",
       " (5.661980645848911, 'starred'),\n",
       " (5.696968597382557, 'comedy')]"
      ]
     },
     "execution_count": 88,
     "metadata": {},
     "output_type": "execute_result"
    }
   ],
   "source": [
    "most_similar(embedding_glove300d, 'movie')"
   ]
  },
  {
   "cell_type": "code",
   "execution_count": 122,
   "metadata": {},
   "outputs": [
    {
     "data": {
      "text/plain": [
       "[(0.0, 'waste'),\n",
       " (17.320508075688775, 'importance'),\n",
       " (17.320508075688775, 'suspected'),\n",
       " (34.64101615137755, 'initially'),\n",
       " (34.64101615137755, 'margin'),\n",
       " (51.96152422706632, 'watched'),\n",
       " (51.96152422706632, 'rare'),\n",
       " (69.2820323027551, 'weak'),\n",
       " (69.2820323027551, 'meters'),\n",
       " (86.60254037844386, 'yourself')]"
      ]
     },
     "execution_count": 122,
     "metadata": {},
     "output_type": "execute_result"
    }
   ],
   "source": [
    "most_similar(word2vec_300d, 'waste')"
   ]
  },
  {
   "cell_type": "code",
   "execution_count": 124,
   "metadata": {},
   "outputs": [
    {
     "data": {
      "text/plain": [
       "[(0.0, 'movie'),\n",
       " (17.320508075688775, 'adding'),\n",
       " (17.320508075688775, 'beginning'),\n",
       " (34.64101615137755, 'successful'),\n",
       " (34.64101615137755, 'forced'),\n",
       " (51.96152422706632, 'toward'),\n",
       " (69.2820323027551, 'ensure'),\n",
       " (69.2820323027551, 'travel'),\n",
       " (86.60254037844386, 'passed'),\n",
       " (103.92304845413264, 'looked')]"
      ]
     },
     "execution_count": 124,
     "metadata": {},
     "output_type": "execute_result"
    }
   ],
   "source": [
    "most_similar(word2vec_300d, 'movie')"
   ]
  },
  {
   "cell_type": "markdown",
   "metadata": {},
   "source": [
    "#### feed-forward network with pre-trained GloVe"
   ]
  },
  {
   "cell_type": "code",
   "execution_count": 172,
   "metadata": {},
   "outputs": [
    {
     "name": "stdout",
     "output_type": "stream",
     "text": [
      "_________________________________________________________________\n",
      "Layer (type)                 Output Shape              Param #   \n",
      "=================================================================\n",
      "embedding_81 (Embedding)     (None, 250, 300)          12000000  \n",
      "_________________________________________________________________\n",
      "flatten_76 (Flatten)         (None, 75000)             0         \n",
      "_________________________________________________________________\n",
      "dense_204 (Dense)            (None, 16)                1200016   \n",
      "_________________________________________________________________\n",
      "dropout_129 (Dropout)        (None, 16)                0         \n",
      "_________________________________________________________________\n",
      "dense_205 (Dense)            (None, 16)                272       \n",
      "_________________________________________________________________\n",
      "dropout_130 (Dropout)        (None, 16)                0         \n",
      "_________________________________________________________________\n",
      "dense_206 (Dense)            (None, 1)                 17        \n",
      "=================================================================\n",
      "Total params: 13,200,305\n",
      "Trainable params: 1,200,305\n",
      "Non-trainable params: 12,000,000\n",
      "_________________________________________________________________\n",
      "Epoch 1/5\n",
      "16666/16666 [==============================] - 8s 471us/step - loss: 0.7172 - acc: 0.7420\n",
      "Epoch 2/5\n",
      "16666/16666 [==============================] - 6s 373us/step - loss: 0.6052 - acc: 0.7484\n",
      "Epoch 3/5\n",
      "16666/16666 [==============================] - 6s 377us/step - loss: 0.5717 - acc: 0.7498\n",
      "Epoch 4/5\n",
      "16666/16666 [==============================] - 6s 389us/step - loss: 0.5734 - acc: 0.7496\n",
      "Epoch 5/5\n",
      "16666/16666 [==============================] - 6s 379us/step - loss: 0.5705 - acc: 0.7498\n",
      "8334/8334 [==============================] - 2s 287us/step\n",
      "Epoch 1/5\n",
      "16667/16667 [==============================] - 9s 514us/step - loss: 0.7994 - acc: 0.5028\n",
      "Epoch 2/5\n",
      "16667/16667 [==============================] - 7s 400us/step - loss: 0.7119 - acc: 0.4982\n",
      "Epoch 3/5\n",
      "16667/16667 [==============================] - 7s 401us/step - loss: 0.6948 - acc: 0.5016\n",
      "Epoch 4/5\n",
      "16667/16667 [==============================] - 7s 401us/step - loss: 0.6960 - acc: 0.4984\n",
      "Epoch 5/5\n",
      "16667/16667 [==============================] - 7s 405us/step - loss: 0.7042 - acc: 0.4944\n",
      "8333/8333 [==============================] - 2s 283us/step\n",
      "Epoch 1/5\n",
      "16667/16667 [==============================] - 9s 511us/step - loss: 0.7604 - acc: 0.7427\n",
      "Epoch 2/5\n",
      "16667/16667 [==============================] - 7s 398us/step - loss: 0.5964 - acc: 0.7485\n",
      "Epoch 3/5\n",
      "16667/16667 [==============================] - 7s 400us/step - loss: 0.5756 - acc: 0.7499\n",
      "Epoch 4/5\n",
      "16667/16667 [==============================] - 7s 400us/step - loss: 0.5710 - acc: 0.7497\n",
      "Epoch 5/5\n",
      "16667/16667 [==============================] - 7s 401us/step - loss: 0.5734 - acc: 0.7498\n",
      "8333/8333 [==============================] - 2s 299us/step\n",
      "Results: [0.         0.50066003 0.        ], mean: 0.17, std: 0.24\n"
     ]
    }
   ],
   "source": [
    "def create_model():\n",
    "    model = Sequential()\n",
    "    model.add(Embedding(max_features, embedding_dim, input_length=maxlen))\n",
    "    model.add(Flatten())\n",
    "    \n",
    "    model.add(Dense(16, activation='relu'))\n",
    "    model.add(Dropout(0.5))\n",
    "    model.add(Dense(16, activation='relu'))\n",
    "    model.add(Dropout(0.5))\n",
    "    model.add(Dense(1, activation='sigmoid'))\n",
    "    \n",
    "    # set the weights\n",
    "    model.layers[0].set_weights([embedding_glove300d])\n",
    "    model.layers[0].trainable = False\n",
    "    \n",
    "    model.compile(loss='binary_crossentropy',\n",
    "                  optimizer='rmsprop',\n",
    "                  metrics=['accuracy'])\n",
    "    return model\n",
    "\n",
    "create_model().summary()\n",
    "run_cross_val(create_model, epochs=5)"
   ]
  },
  {
   "cell_type": "code",
   "execution_count": 200,
   "metadata": {},
   "outputs": [
    {
     "name": "stdout",
     "output_type": "stream",
     "text": [
      "Train on 22500 samples, validate on 2500 samples\n",
      "Epoch 1/5\n",
      "22500/22500 [==============================] - 22s 956us/step - loss: 0.7304 - acc: 0.5539 - val_loss: 0.8171 - val_acc: 0.0000e+00\n",
      "Epoch 2/5\n",
      "22500/22500 [==============================] - 19s 844us/step - loss: 0.6874 - acc: 0.5558 - val_loss: 0.8071 - val_acc: 0.0000e+00\n",
      "Epoch 3/5\n",
      "22500/22500 [==============================] - 19s 851us/step - loss: 0.6877 - acc: 0.5556 - val_loss: 0.8043 - val_acc: 0.0000e+00\n",
      "Epoch 4/5\n",
      "22500/22500 [==============================] - 20s 873us/step - loss: 0.6900 - acc: 0.5558 - val_loss: 0.7946 - val_acc: 0.0000e+00\n",
      "Epoch 5/5\n",
      "22500/22500 [==============================] - 19s 827us/step - loss: 0.6890 - acc: 0.5554 - val_loss: 0.8123 - val_acc: 0.0000e+00\n"
     ]
    }
   ],
   "source": [
    "model = create_model()\n",
    "history = model.fit(x_train_sequence_padded,\n",
    "                    y_train,\n",
    "                    epochs=5,\n",
    "                    validation_split=0.1)"
   ]
  },
  {
   "cell_type": "code",
   "execution_count": 202,
   "metadata": {},
   "outputs": [
    {
     "data": {
      "image/png": "[encoded data removed]",
      "text/plain": [
       "<Figure size 432x288 with 1 Axes>"
      ]
     },
     "metadata": {},
     "output_type": "display_data"
    },
    {
     "data": {
      "image/png": "[encoded data removed]",
      "text/plain": [
       "<Figure size 432x288 with 1 Axes>"
      ]
     },
     "metadata": {},
     "output_type": "display_data"
    }
   ],
   "source": [
    "plot_history(history)"
   ]
  },
  {
   "cell_type": "code",
   "execution_count": 221,
   "metadata": {},
   "outputs": [
    {
     "name": "stdout",
     "output_type": "stream",
     "text": [
      "_________________________________________________________________\n",
      "Layer (type)                 Output Shape              Param #   \n",
      "=================================================================\n",
      "embedding_117 (Embedding)    (None, 250, 300)          12000000  \n",
      "_________________________________________________________________\n",
      "flatten_102 (Flatten)        (None, 75000)             0         \n",
      "_________________________________________________________________\n",
      "dense_275 (Dense)            (None, 16)                1200016   \n",
      "_________________________________________________________________\n",
      "dense_276 (Dense)            (None, 16)                272       \n",
      "_________________________________________________________________\n",
      "dense_277 (Dense)            (None, 1)                 17        \n",
      "=================================================================\n",
      "Total params: 13,200,305\n",
      "Trainable params: 1,200,305\n",
      "Non-trainable params: 12,000,000\n",
      "_________________________________________________________________\n",
      "Epoch 1/5\n",
      "16666/16666 [==============================] - 9s 548us/step - loss: 0.7940 - acc: 0.7200\n",
      "Epoch 2/5\n",
      "16666/16666 [==============================] - 7s 419us/step - loss: 0.5199 - acc: 0.7477\n",
      "Epoch 3/5\n",
      "16666/16666 [==============================] - 7s 421us/step - loss: 0.4317 - acc: 0.8036\n",
      "Epoch 4/5\n",
      "16666/16666 [==============================] - 7s 391us/step - loss: 0.3577 - acc: 0.8439\n",
      "Epoch 5/5\n",
      "16666/16666 [==============================] - 7s 424us/step - loss: 0.3205 - acc: 0.8607\n",
      "8334/8334 [==============================] - 3s 345us/step\n",
      "Epoch 1/5\n",
      "16667/16667 [==============================] - 10s 595us/step - loss: 1.0088 - acc: 0.5200\n",
      "Epoch 2/5\n",
      "16667/16667 [==============================] - 7s 406us/step - loss: 0.7121 - acc: 0.5820\n",
      "Epoch 3/5\n",
      "16667/16667 [==============================] - 7s 418us/step - loss: 0.5747 - acc: 0.6739\n",
      "Epoch 4/5\n",
      "16667/16667 [==============================] - 7s 431us/step - loss: 0.5093 - acc: 0.7261\n",
      "Epoch 5/5\n",
      "16667/16667 [==============================] - 7s 437us/step - loss: 0.4394 - acc: 0.7617\n",
      "8333/8333 [==============================] - 3s 347us/step\n",
      "Epoch 1/5\n",
      "16667/16667 [==============================] - 10s 596us/step - loss: 0.6980 - acc: 0.7488\n",
      "Epoch 2/5\n",
      "16667/16667 [==============================] - 7s 444us/step - loss: 0.4654 - acc: 0.7790\n",
      "Epoch 3/5\n",
      "16667/16667 [==============================] - 7s 443us/step - loss: 0.3900 - acc: 0.8221\n",
      "Epoch 4/5\n",
      "16667/16667 [==============================] - 7s 433us/step - loss: 0.3320 - acc: 0.8535\n",
      "Epoch 5/5\n",
      "16667/16667 [==============================] - 7s 442us/step - loss: 0.2836 - acc: 0.8756\n",
      "8333/8333 [==============================] - 3s 354us/step\n",
      "Results: [0.19714423 0.57686307 0.15096604], mean: 0.31, std: 0.19\n"
     ]
    }
   ],
   "source": [
    "def create_model():\n",
    "    model = Sequential()\n",
    "    model.add(Embedding(max_features, embedding_dim, input_length=maxlen))\n",
    "    model.add(Flatten())\n",
    "    \n",
    "    model.add(Dense(16, activation='relu'))\n",
    "    model.add(Dense(16, activation='relu'))\n",
    "    model.add(Dense(1, activation='sigmoid'))\n",
    "    \n",
    "    # set the weights\n",
    "    model.layers[0].set_weights([embedding_glove300d])\n",
    "    model.layers[0].trainable = False\n",
    "    \n",
    "    model.compile(loss='binary_crossentropy',\n",
    "                  optimizer='rmsprop',\n",
    "                  metrics=['accuracy'])\n",
    "    return model\n",
    "\n",
    "create_model().summary()\n",
    "run_cross_val(create_model, epochs=5)"
   ]
  },
  {
   "cell_type": "markdown",
   "metadata": {},
   "source": [
    "### Recurrent Neural Networks"
   ]
  },
  {
   "cell_type": "markdown",
   "metadata": {},
   "source": [
    "#### Order matters"
   ]
  },
  {
   "cell_type": "code",
   "execution_count": 262,
   "metadata": {},
   "outputs": [],
   "source": [
    "sentences_order_matters = [\n",
    "    'movie is good and not a waste',\n",
    "    'movie is a waste and not good',\n",
    "    'movie is not a waste and good',\n",
    "    'movie is not good and a waste'\n",
    "]\n",
    "sentiments = [1, 0, 1, 0]"
   ]
  },
  {
   "cell_type": "code",
   "execution_count": null,
   "metadata": {},
   "outputs": [],
   "source": [
    "vec_order_matters = CountVectorizer()\n",
    "# build the vocabulary\n",
    "vec_order_matters.fit(sentences_order_matters);  "
   ]
  },
  {
   "cell_type": "code",
   "execution_count": 385,
   "metadata": {},
   "outputs": [
    {
     "data": {
      "text/plain": [
       "{'movie': 3, 'is': 2, 'good': 1, 'and': 0, 'not': 4, 'waste': 5}"
      ]
     },
     "execution_count": 385,
     "metadata": {},
     "output_type": "execute_result"
    }
   ],
   "source": [
    "vec_order_matters.vocabulary_"
   ]
  },
  {
   "cell_type": "code",
   "execution_count": 386,
   "metadata": {},
   "outputs": [
    {
     "data": {
      "text/plain": [
       "array([[3, 2, 1, 0, 4, 5],\n",
       "       [3, 2, 5, 0, 4, 1],\n",
       "       [3, 2, 4, 5, 0, 1],\n",
       "       [3, 2, 4, 1, 0, 5]])"
      ]
     },
     "execution_count": 386,
     "metadata": {},
     "output_type": "execute_result"
    }
   ],
   "source": [
    "sequence_order_matters = sequence_builder(vec_order_matters,\n",
    "                                          sentences_order_matters)\n",
    "sequence_order_matters"
   ]
  },
  {
   "cell_type": "code",
   "execution_count": 387,
   "metadata": {},
   "outputs": [
    {
     "data": {
      "text/plain": [
       "(4, 6)"
      ]
     },
     "execution_count": 387,
     "metadata": {},
     "output_type": "execute_result"
    }
   ],
   "source": [
    "sequence_order_matters.shape"
   ]
  },
  {
   "cell_type": "code",
   "execution_count": 418,
   "metadata": {},
   "outputs": [
    {
     "name": "stdout",
     "output_type": "stream",
     "text": [
      "_________________________________________________________________\n",
      "Layer (type)                 Output Shape              Param #   \n",
      "=================================================================\n",
      "embedding_150 (Embedding)    (None, 6, 300)            1800      \n",
      "_________________________________________________________________\n",
      "simple_rnn_25 (SimpleRNN)    (None, 5)                 1530      \n",
      "_________________________________________________________________\n",
      "dense_324 (Dense)            (None, 1)                 6         \n",
      "=================================================================\n",
      "Total params: 3,336\n",
      "Trainable params: 3,336\n",
      "Non-trainable params: 0\n",
      "_________________________________________________________________\n",
      "Epoch 1/20\n",
      "4/4 [==============================] - 4s 881ms/step - loss: 0.6970 - acc: 0.5000\n",
      "Epoch 2/20\n",
      "4/4 [==============================] - 0s 2ms/step - loss: 0.6839 - acc: 0.5000\n",
      "Epoch 3/20\n",
      "4/4 [==============================] - 0s 2ms/step - loss: 0.6709 - acc: 0.7500\n",
      "Epoch 4/20\n",
      "4/4 [==============================] - 0s 1ms/step - loss: 0.6589 - acc: 0.7500\n",
      "Epoch 5/20\n",
      "4/4 [==============================] - 0s 1ms/step - loss: 0.6468 - acc: 0.7500\n",
      "Epoch 6/20\n",
      "4/4 [==============================] - 0s 1ms/step - loss: 0.6347 - acc: 0.5000\n",
      "Epoch 7/20\n",
      "4/4 [==============================] - 0s 2ms/step - loss: 0.6231 - acc: 0.5000\n",
      "Epoch 8/20\n",
      "4/4 [==============================] - 0s 2ms/step - loss: 0.6118 - acc: 0.5000\n",
      "Epoch 9/20\n",
      "4/4 [==============================] - 0s 1ms/step - loss: 0.6007 - acc: 0.7500\n",
      "Epoch 10/20\n",
      "4/4 [==============================] - 0s 2ms/step - loss: 0.5900 - acc: 0.7500\n",
      "Epoch 11/20\n",
      "4/4 [==============================] - 0s 2ms/step - loss: 0.5797 - acc: 0.7500\n",
      "Epoch 12/20\n",
      "4/4 [==============================] - 0s 2ms/step - loss: 0.5696 - acc: 0.7500\n",
      "Epoch 13/20\n",
      "4/4 [==============================] - 0s 2ms/step - loss: 0.5596 - acc: 0.7500\n",
      "Epoch 14/20\n",
      "4/4 [==============================] - 0s 2ms/step - loss: 0.5499 - acc: 0.7500\n",
      "Epoch 15/20\n",
      "4/4 [==============================] - 0s 2ms/step - loss: 0.5406 - acc: 0.7500\n",
      "Epoch 16/20\n",
      "4/4 [==============================] - 0s 2ms/step - loss: 0.5314 - acc: 0.7500\n",
      "Epoch 17/20\n",
      "4/4 [==============================] - 0s 2ms/step - loss: 0.5225 - acc: 0.7500\n",
      "Epoch 18/20\n",
      "4/4 [==============================] - 0s 2ms/step - loss: 0.5138 - acc: 0.7500\n",
      "Epoch 19/20\n",
      "4/4 [==============================] - 0s 2ms/step - loss: 0.5054 - acc: 0.7500\n",
      "Epoch 20/20\n",
      "4/4 [==============================] - 0s 2ms/step - loss: 0.4973 - acc: 0.7500\n"
     ]
    },
    {
     "data": {
      "text/plain": [
       "<keras.callbacks.History at 0x1d200594a8>"
      ]
     },
     "execution_count": 418,
     "metadata": {},
     "output_type": "execute_result"
    }
   ],
   "source": [
    "model = Sequential()\n",
    "model.add(Embedding(len(vec_order_matters.vocabulary_),\n",
    "                    embedding_dim,\n",
    "                    input_length=len(sequence_order_matters[0])))\n",
    "model.add(SimpleRNN(5))\n",
    "model.add(Dense(1, activation='sigmoid'))\n",
    "model.compile(loss='binary_crossentropy',\n",
    "              optimizer='adam',\n",
    "              metrics=['accuracy'])\n",
    "model.summary()\n",
    "model.fit(sequence_order_matters, np.array(sentiments), epochs=20)"
   ]
  },
  {
   "cell_type": "markdown",
   "metadata": {},
   "source": [
    "#### Why bag-of-words doesn't work"
   ]
  },
  {
   "cell_type": "code",
   "execution_count": 416,
   "metadata": {},
   "outputs": [
    {
     "data": {
      "text/html": [
       "<div>\n",
       "<style scoped>\n",
       "    .dataframe tbody tr th:only-of-type {\n",
       "        vertical-align: middle;\n",
       "    }\n",
       "\n",
       "    .dataframe tbody tr th {\n",
       "        vertical-align: top;\n",
       "    }\n",
       "\n",
       "    .dataframe thead th {\n",
       "        text-align: right;\n",
       "    }\n",
       "</style>\n",
       "<table border=\"1\" class=\"dataframe\">\n",
       "  <thead>\n",
       "    <tr style=\"text-align: right;\">\n",
       "      <th></th>\n",
       "      <th>movie</th>\n",
       "      <th>is</th>\n",
       "      <th>good</th>\n",
       "      <th>and</th>\n",
       "      <th>not</th>\n",
       "      <th>waste</th>\n",
       "    </tr>\n",
       "  </thead>\n",
       "  <tbody>\n",
       "    <tr>\n",
       "      <th>0</th>\n",
       "      <td>1</td>\n",
       "      <td>1</td>\n",
       "      <td>1</td>\n",
       "      <td>1</td>\n",
       "      <td>1</td>\n",
       "      <td>1</td>\n",
       "    </tr>\n",
       "    <tr>\n",
       "      <th>1</th>\n",
       "      <td>1</td>\n",
       "      <td>1</td>\n",
       "      <td>1</td>\n",
       "      <td>1</td>\n",
       "      <td>1</td>\n",
       "      <td>1</td>\n",
       "    </tr>\n",
       "    <tr>\n",
       "      <th>2</th>\n",
       "      <td>1</td>\n",
       "      <td>1</td>\n",
       "      <td>1</td>\n",
       "      <td>1</td>\n",
       "      <td>1</td>\n",
       "      <td>1</td>\n",
       "    </tr>\n",
       "    <tr>\n",
       "      <th>3</th>\n",
       "      <td>1</td>\n",
       "      <td>1</td>\n",
       "      <td>1</td>\n",
       "      <td>1</td>\n",
       "      <td>1</td>\n",
       "      <td>1</td>\n",
       "    </tr>\n",
       "  </tbody>\n",
       "</table>\n",
       "</div>"
      ],
      "text/plain": [
       "   movie  is  good  and  not  waste\n",
       "0      1   1     1    1    1      1\n",
       "1      1   1     1    1    1      1\n",
       "2      1   1     1    1    1      1\n",
       "3      1   1     1    1    1      1"
      ]
     },
     "execution_count": 416,
     "metadata": {},
     "output_type": "execute_result"
    }
   ],
   "source": [
    "x = pd.DataFrame({token: [1] * len(sentences_order_matters)\n",
    "                  for token in vec_order_matters.vocabulary_})\n",
    "x"
   ]
  },
  {
   "cell_type": "code",
   "execution_count": 417,
   "metadata": {},
   "outputs": [
    {
     "name": "stdout",
     "output_type": "stream",
     "text": [
      "Accuracy: 50.00%\n"
     ]
    }
   ],
   "source": [
    "rf = RandomForestClassifier()\n",
    "rf.fit(x, sentiments)\n",
    "print('Accuracy: {:.2f}%'.format(100 * rf.score(u, sentiments)))"
   ]
  },
  {
   "cell_type": "markdown",
   "metadata": {},
   "source": [
    "#### Sample unseen review"
   ]
  },
  {
   "cell_type": "code",
   "execution_count": 394,
   "metadata": {},
   "outputs": [
    {
     "data": {
      "text/plain": [
       "array([[0.37097317]], dtype=float32)"
      ]
     },
     "execution_count": 394,
     "metadata": {},
     "output_type": "execute_result"
    }
   ],
   "source": [
    "new_review = 'a waste and is not a good movie'\n",
    "new_review_seq = [vec_order_matters.vocabulary_[token]\n",
    "                  for token in new_review.split()\n",
    "                  if token in vec_order_matters.vocabulary_\n",
    "                 ]\n",
    "model.predict(np.array([new_review_seq]))"
   ]
  },
  {
   "cell_type": "markdown",
   "metadata": {},
   "source": [
    "#### SimpleRNN for IMDB"
   ]
  },
  {
   "cell_type": "code",
   "execution_count": 422,
   "metadata": {},
   "outputs": [
    {
     "name": "stdout",
     "output_type": "stream",
     "text": [
      "Epoch 1/5\n",
      "16666/16666 [==============================] - 65s 4ms/step - loss: 0.5624 - acc: 0.7437\n",
      "Epoch 2/5\n",
      "16666/16666 [==============================] - 61s 4ms/step - loss: 0.3706 - acc: 0.8463\n",
      "Epoch 3/5\n",
      "16666/16666 [==============================] - 61s 4ms/step - loss: 0.2015 - acc: 0.9272\n",
      "Epoch 4/5\n",
      "16666/16666 [==============================] - 62s 4ms/step - loss: 0.0961 - acc: 0.9710\n",
      "Epoch 5/5\n",
      "16666/16666 [==============================] - 63s 4ms/step - loss: 0.0562 - acc: 0.9844\n",
      "8334/8334 [==============================] - 10s 1ms/step\n",
      "Epoch 1/5\n",
      "16667/16667 [==============================] - 67s 4ms/step - loss: 0.5376 - acc: 0.7335\n",
      "Epoch 2/5\n",
      "16667/16667 [==============================] - 63s 4ms/step - loss: 0.3300 - acc: 0.8781\n",
      "Epoch 3/5\n",
      "16667/16667 [==============================] - 60s 4ms/step - loss: 0.2223 - acc: 0.9234\n",
      "Epoch 4/5\n",
      "16667/16667 [==============================] - 60s 4ms/step - loss: 0.1474 - acc: 0.9510\n",
      "Epoch 5/5\n",
      "16667/16667 [==============================] - 63s 4ms/step - loss: 0.0843 - acc: 0.9739\n",
      "8333/8333 [==============================] - 10s 1ms/step\n",
      "Epoch 1/5\n",
      "16667/16667 [==============================] - 66s 4ms/step - loss: 0.5663 - acc: 0.7338\n",
      "Epoch 2/5\n",
      "16667/16667 [==============================] - 63s 4ms/step - loss: 0.3660 - acc: 0.8497\n",
      "Epoch 3/5\n",
      "16667/16667 [==============================] - 64s 4ms/step - loss: 0.2215 - acc: 0.9191\n",
      "Epoch 4/5\n",
      "16667/16667 [==============================] - 62s 4ms/step - loss: 0.1294 - acc: 0.9560\n",
      "Epoch 5/5\n",
      "16667/16667 [==============================] - 63s 4ms/step - loss: 0.0696 - acc: 0.9792\n",
      "8333/8333 [==============================] - 10s 1ms/step\n",
      "Results: [0.70206383 0.84339374 0.62666507], mean: 0.72, std: 0.09\n"
     ]
    }
   ],
   "source": [
    "def create_model():\n",
    "    model = Sequential()\n",
    "    model.add(Embedding(max_features, embedding_dim, input_length=maxlen))\n",
    "    model.add(Dropout(0.5))\n",
    "    model.add(SimpleRNN(32))\n",
    "    model.add(Dropout(0.5))\n",
    "    model.add(Dense(1, activation='sigmoid'))\n",
    "    model.compile(loss='binary_crossentropy',\n",
    "                  optimizer='adam',\n",
    "                  metrics=['accuracy'])\n",
    "    return model\n",
    "\n",
    "run_cross_val(create_model)"
   ]
  },
  {
   "cell_type": "code",
   "execution_count": 429,
   "metadata": {},
   "outputs": [
    {
     "name": "stdout",
     "output_type": "stream",
     "text": [
      "Epoch 1/5\n",
      "16666/16666 [==============================] - 102s 6ms/step - loss: 0.5023 - acc: 0.7679\n",
      "Epoch 2/5\n",
      "16666/16666 [==============================] - 93s 6ms/step - loss: 0.2841 - acc: 0.8925\n",
      "Epoch 3/5\n",
      "16666/16666 [==============================] - 91s 5ms/step - loss: 0.1766 - acc: 0.9392\n",
      "Epoch 4/5\n",
      "16666/16666 [==============================] - 92s 6ms/step - loss: 0.1018 - acc: 0.9698\n",
      "Epoch 5/5\n",
      "16666/16666 [==============================] - 90s 5ms/step - loss: 0.0646 - acc: 0.9828\n",
      "8334/8334 [==============================] - 13s 2ms/step\n",
      "Epoch 1/5\n",
      "16667/16667 [==============================] - 98s 6ms/step - loss: 0.5139 - acc: 0.7428\n",
      "Epoch 2/5\n",
      "16667/16667 [==============================] - 90s 5ms/step - loss: 0.2645 - acc: 0.9027\n",
      "Epoch 3/5\n",
      "16667/16667 [==============================] - 92s 6ms/step - loss: 0.1497 - acc: 0.9506\n",
      "Epoch 4/5\n",
      "16667/16667 [==============================] - 90s 5ms/step - loss: 0.0784 - acc: 0.9775\n",
      "Epoch 5/5\n",
      "16667/16667 [==============================] - 89s 5ms/step - loss: 0.0449 - acc: 0.9889\n",
      "8333/8333 [==============================] - 13s 2ms/step\n",
      "Epoch 1/5\n",
      "16667/16667 [==============================] - 97s 6ms/step - loss: 0.4986 - acc: 0.7712\n",
      "Epoch 2/5\n",
      "16667/16667 [==============================] - 93s 6ms/step - loss: 0.2736 - acc: 0.8940\n",
      "Epoch 3/5\n",
      "16667/16667 [==============================] - 91s 5ms/step - loss: 0.1474 - acc: 0.9509\n",
      "Epoch 4/5\n",
      "16667/16667 [==============================] - 88s 5ms/step - loss: 0.1034 - acc: 0.9678\n",
      "Epoch 5/5\n",
      "16667/16667 [==============================] - 92s 6ms/step - loss: 0.0562 - acc: 0.9828\n",
      "8333/8333 [==============================] - 15s 2ms/step\n",
      "Results: [0.74958003 0.85539422 0.70310812], mean: 0.77, std: 0.06\n"
     ]
    }
   ],
   "source": [
    "def create_model():\n",
    "    model = Sequential()\n",
    "    model.add(Embedding(max_features, embedding_dim, input_length=maxlen))\n",
    "    model.add(Dropout(0.5))\n",
    "    model.add(LSTM(32))\n",
    "    model.add(Dropout(0.5))\n",
    "    model.add(Dense(1, activation='sigmoid'))\n",
    "    model.compile(loss='binary_crossentropy', optimizer='adam', metrics=['accuracy'])\n",
    "    return model\n",
    "\n",
    "create_model().summary()\n",
    "run_cross_val(create_model)"
   ]
  },
  {
   "cell_type": "code",
   "execution_count": 439,
   "metadata": {},
   "outputs": [
    {
     "name": "stdout",
     "output_type": "stream",
     "text": [
      "_________________________________________________________________\n",
      "Layer (type)                 Output Shape              Param #   \n",
      "=================================================================\n",
      "embedding_183 (Embedding)    (None, 250, 300)          12000000  \n",
      "_________________________________________________________________\n",
      "dropout_227 (Dropout)        (None, 250, 300)          0         \n",
      "_________________________________________________________________\n",
      "lstm_28 (LSTM)               (None, 32)                42624     \n",
      "_________________________________________________________________\n",
      "dropout_228 (Dropout)        (None, 32)                0         \n",
      "_________________________________________________________________\n",
      "dense_357 (Dense)            (None, 1)                 33        \n",
      "=================================================================\n",
      "Total params: 12,042,657\n",
      "Trainable params: 12,042,657\n",
      "Non-trainable params: 0\n",
      "_________________________________________________________________\n"
     ]
    }
   ],
   "source": [
    "create_model().summary()"
   ]
  },
  {
   "cell_type": "markdown",
   "metadata": {},
   "source": [
    "#### Stacked bi-directional LSTMS"
   ]
  },
  {
   "cell_type": "code",
   "execution_count": 426,
   "metadata": {},
   "outputs": [
    {
     "name": "stdout",
     "output_type": "stream",
     "text": [
      "Epoch 1/5\n",
      "16666/16666 [==============================] - 155s 9ms/step - loss: 0.4729 - acc: 0.7952\n",
      "Epoch 2/5\n",
      "16666/16666 [==============================] - 147s 9ms/step - loss: 0.2274 - acc: 0.9164\n",
      "Epoch 3/5\n",
      "16666/16666 [==============================] - 148s 9ms/step - loss: 0.1206 - acc: 0.9622\n",
      "Epoch 4/5\n",
      "16666/16666 [==============================] - 153s 9ms/step - loss: 0.0699 - acc: 0.9802\n",
      "Epoch 5/5\n",
      "16666/16666 [==============================] - 158s 9ms/step - loss: 0.0467 - acc: 0.9872\n",
      "8334/8334 [==============================] - 22s 3ms/step\n",
      "Epoch 1/5\n",
      "16667/16667 [==============================] - 162s 10ms/step - loss: 0.5017 - acc: 0.7401\n",
      "Epoch 2/5\n",
      "16667/16667 [==============================] - 161s 10ms/step - loss: 0.2434 - acc: 0.9135\n",
      "Epoch 3/5\n",
      "16667/16667 [==============================] - 168s 10ms/step - loss: 0.1202 - acc: 0.9618\n",
      "Epoch 4/5\n",
      "16667/16667 [==============================] - 163s 10ms/step - loss: 0.0734 - acc: 0.9794\n",
      "Epoch 5/5\n",
      "16667/16667 [==============================] - 165s 10ms/step - loss: 0.0542 - acc: 0.9848\n",
      "8333/8333 [==============================] - 23s 3ms/step\n",
      "Epoch 1/5\n",
      "16667/16667 [==============================] - 173s 10ms/step - loss: 0.4669 - acc: 0.7923\n",
      "Epoch 2/5\n",
      "16667/16667 [==============================] - 176s 11ms/step - loss: 0.2474 - acc: 0.9057\n",
      "Epoch 3/5\n",
      "16667/16667 [==============================] - 168s 10ms/step - loss: 0.1314 - acc: 0.9563\n",
      "Epoch 4/5\n",
      "16667/16667 [==============================] - 170s 10ms/step - loss: 0.0689 - acc: 0.9785\n",
      "Epoch 5/5\n",
      "16667/16667 [==============================] - 168s 10ms/step - loss: 0.0402 - acc: 0.9893\n",
      "8333/8333 [==============================] - 23s 3ms/step\n",
      "Results: [0.65298776 0.86403456 0.63854554], mean: 0.72, std: 0.10\n"
     ]
    }
   ],
   "source": [
    "def create_model():\n",
    "    model = Sequential()\n",
    "    model.add(Embedding(max_features, embedding_dim, input_length=maxlen))\n",
    "    model.add(Dropout(0.5))\n",
    "    model.add(Bidirectional(LSTM(32, return_sequences=True)))\n",
    "    model.add(Dropout(0.5))\n",
    "    model.add(Bidirectional(LSTM(32)))\n",
    "    model.add(Dropout(0.5))\n",
    "    model.add(Dense(1, activation='sigmoid'))\n",
    "    model.compile(loss='binary_crossentropy', optimizer='adam', metrics=['accuracy'])\n",
    "    return model\n",
    "\n",
    "run_cross_val(create_model, epochs=5)"
   ]
  },
  {
   "cell_type": "code",
   "execution_count": 437,
   "metadata": {},
   "outputs": [
    {
     "name": "stdout",
     "output_type": "stream",
     "text": [
      "_________________________________________________________________\n",
      "Layer (type)                 Output Shape              Param #   \n",
      "=================================================================\n",
      "embedding_182 (Embedding)    (None, 250, 300)          12000000  \n",
      "_________________________________________________________________\n",
      "dropout_224 (Dropout)        (None, 250, 300)          0         \n",
      "_________________________________________________________________\n",
      "bidirectional_15 (Bidirectio (None, 250, 64)           85248     \n",
      "_________________________________________________________________\n",
      "dropout_225 (Dropout)        (None, 250, 64)           0         \n",
      "_________________________________________________________________\n",
      "bidirectional_16 (Bidirectio (None, 64)                24832     \n",
      "_________________________________________________________________\n",
      "dropout_226 (Dropout)        (None, 64)                0         \n",
      "_________________________________________________________________\n",
      "dense_356 (Dense)            (None, 1)                 65        \n",
      "=================================================================\n",
      "Total params: 12,110,145\n",
      "Trainable params: 12,110,145\n",
      "Non-trainable params: 0\n",
      "_________________________________________________________________\n"
     ]
    }
   ],
   "source": [
    "create_model().summary()"
   ]
  },
  {
   "cell_type": "code",
   "execution_count": 436,
   "metadata": {},
   "outputs": [
    {
     "name": "stdout",
     "output_type": "stream",
     "text": [
      "Train on 22500 samples, validate on 2500 samples\n",
      "Epoch 1/5\n",
      "22500/22500 [==============================] - 480s 21ms/step - loss: 0.4250 - acc: 0.8030 - val_loss: 0.6163 - val_acc: 0.7656\n",
      "Epoch 2/5\n",
      "22500/22500 [==============================] - 464s 21ms/step - loss: 0.2184 - acc: 0.9225 - val_loss: 0.4043 - val_acc: 0.8484\n",
      "Epoch 3/5\n",
      "22500/22500 [==============================] - 457s 20ms/step - loss: 0.1311 - acc: 0.9565 - val_loss: 0.5934 - val_acc: 0.8004\n",
      "Epoch 4/5\n",
      "22500/22500 [==============================] - 459s 20ms/step - loss: 0.0919 - acc: 0.9702 - val_loss: 0.5573 - val_acc: 0.8540\n",
      "Epoch 5/5\n",
      "22500/22500 [==============================] - 472s 21ms/step - loss: 0.0615 - acc: 0.9812 - val_loss: 0.4395 - val_acc: 0.8640\n"
     ]
    },
    {
     "data": {
      "image/png": "[encoded data removed]",
      "text/plain": [
       "<Figure size 432x288 with 1 Axes>"
      ]
     },
     "metadata": {},
     "output_type": "display_data"
    },
    {
     "data": {
      "image/png": "[encoded data removed]",
      "text/plain": [
       "<Figure size 432x288 with 1 Axes>"
      ]
     },
     "metadata": {},
     "output_type": "display_data"
    },
    {
     "name": "stdout",
     "output_type": "stream",
     "text": [
      "CPU times: user 2h 29min 12s, sys: 39min 34s, total: 3h 8min 47s\n",
      "Wall time: 39min\n"
     ]
    }
   ],
   "source": [
    "%%time\n",
    "history = create_model().fit(x_train_sequence_padded,\n",
    "                             y_train,\n",
    "                             epochs=5,\n",
    "                             validation_split=0.1)\n",
    "plot_history(history)"
   ]
  },
  {
   "cell_type": "markdown",
   "metadata": {},
   "source": [
    "#### Stacked 1D ConvNets"
   ]
  },
  {
   "cell_type": "code",
   "execution_count": 432,
   "metadata": {},
   "outputs": [
    {
     "name": "stdout",
     "output_type": "stream",
     "text": [
      "_________________________________________________________________\n",
      "Layer (type)                 Output Shape              Param #   \n",
      "=================================================================\n",
      "embedding_172 (Embedding)    (None, 250, 300)          12000000  \n",
      "_________________________________________________________________\n",
      "dropout_203 (Dropout)        (None, 250, 300)          0         \n",
      "_________________________________________________________________\n",
      "conv1d_41 (Conv1D)           (None, 244, 32)           67232     \n",
      "_________________________________________________________________\n",
      "max_pooling1d_29 (MaxPooling (None, 48, 32)            0         \n",
      "_________________________________________________________________\n",
      "conv1d_42 (Conv1D)           (None, 42, 32)            7200      \n",
      "_________________________________________________________________\n",
      "global_max_pooling1d_12 (Glo (None, 32)                0         \n",
      "_________________________________________________________________\n",
      "dropout_204 (Dropout)        (None, 32)                0         \n",
      "_________________________________________________________________\n",
      "dense_346 (Dense)            (None, 1)                 33        \n",
      "=================================================================\n",
      "Total params: 12,074,465\n",
      "Trainable params: 12,074,465\n",
      "Non-trainable params: 0\n",
      "_________________________________________________________________\n",
      "Epoch 1/5\n",
      "16666/16666 [==============================] - 80s 5ms/step - loss: 0.5568 - acc: 0.7413\n",
      "Epoch 2/5\n",
      "16666/16666 [==============================] - 73s 4ms/step - loss: 0.3694 - acc: 0.8327\n",
      "Epoch 3/5\n",
      "16666/16666 [==============================] - 73s 4ms/step - loss: 0.2100 - acc: 0.9198\n",
      "Epoch 4/5\n",
      "16666/16666 [==============================] - 71s 4ms/step - loss: 0.1246 - acc: 0.9578\n",
      "Epoch 5/5\n",
      "16666/16666 [==============================] - 69s 4ms/step - loss: 0.0698 - acc: 0.9770\n",
      "8334/8334 [==============================] - 10s 1ms/step\n",
      "Epoch 1/5\n",
      "16667/16667 [==============================] - 80s 5ms/step - loss: 0.6592 - acc: 0.5923\n",
      "Epoch 2/5\n",
      "16667/16667 [==============================] - 68s 4ms/step - loss: 0.3631 - acc: 0.8517\n",
      "Epoch 3/5\n",
      "16667/16667 [==============================] - 70s 4ms/step - loss: 0.2054 - acc: 0.9261\n",
      "Epoch 4/5\n",
      "16667/16667 [==============================] - 68s 4ms/step - loss: 0.1245 - acc: 0.9588\n",
      "Epoch 5/5\n",
      "16667/16667 [==============================] - 64s 4ms/step - loss: 0.0730 - acc: 0.9750\n",
      "8333/8333 [==============================] - 9s 1ms/step\n",
      "Epoch 1/5\n",
      "16667/16667 [==============================] - 73s 4ms/step - loss: 0.5425 - acc: 0.7515\n",
      "Epoch 2/5\n",
      "16667/16667 [==============================] - 66s 4ms/step - loss: 0.3381 - acc: 0.8553\n",
      "Epoch 3/5\n",
      "16667/16667 [==============================] - 66s 4ms/step - loss: 0.1894 - acc: 0.9275\n",
      "Epoch 4/5\n",
      "16667/16667 [==============================] - 66s 4ms/step - loss: 0.1133 - acc: 0.9616\n",
      "Epoch 5/5\n",
      "16667/16667 [==============================] - 67s 4ms/step - loss: 0.0680 - acc: 0.9765\n",
      "8333/8333 [==============================] - 9s 1ms/step\n",
      "Results: [0.72294216 0.849994   0.72062883], mean: 0.76, std: 0.06\n"
     ]
    }
   ],
   "source": [
    "def create_model():\n",
    "    model = Sequential()\n",
    "    model.add(Embedding(max_features, embedding_dim, input_length=maxlen))\n",
    "    model.add(Dropout(0.5))\n",
    "    model.add(Conv1D(32, 7, activation='relu'))\n",
    "    model.add(MaxPooling1D(5))\n",
    "    model.add(Conv1D(32, 7, activation='relu'))\n",
    "    model.add(GlobalMaxPooling1D())\n",
    "    model.add(Dropout(0.5))\n",
    "    model.add(Dense(1, activation='sigmoid'))\n",
    "    model.compile(loss='binary_crossentropy', optimizer='adam', metrics=['accuracy'])\n",
    "    return model\n",
    "\n",
    "create_model().summary()\n",
    "run_cross_val(create_model)"
   ]
  },
  {
   "cell_type": "markdown",
   "metadata": {},
   "source": [
    "#### ConvNet + RNN"
   ]
  },
  {
   "cell_type": "code",
   "execution_count": 434,
   "metadata": {},
   "outputs": [
    {
     "name": "stdout",
     "output_type": "stream",
     "text": [
      "_________________________________________________________________\n",
      "Layer (type)                 Output Shape              Param #   \n",
      "=================================================================\n",
      "embedding_177 (Embedding)    (None, 250, 300)          12000000  \n",
      "_________________________________________________________________\n",
      "dropout_213 (Dropout)        (None, 250, 300)          0         \n",
      "_________________________________________________________________\n",
      "conv1d_51 (Conv1D)           (None, 244, 32)           67232     \n",
      "_________________________________________________________________\n",
      "max_pooling1d_34 (MaxPooling (None, 48, 32)            0         \n",
      "_________________________________________________________________\n",
      "conv1d_52 (Conv1D)           (None, 42, 32)            7200      \n",
      "_________________________________________________________________\n",
      "lstm_20 (LSTM)               (None, 32)                8320      \n",
      "_________________________________________________________________\n",
      "dropout_214 (Dropout)        (None, 32)                0         \n",
      "_________________________________________________________________\n",
      "dense_351 (Dense)            (None, 1)                 33        \n",
      "=================================================================\n",
      "Total params: 12,082,785\n",
      "Trainable params: 12,082,785\n",
      "Non-trainable params: 0\n",
      "_________________________________________________________________\n",
      "Epoch 1/5\n",
      "16666/16666 [==============================] - 77s 5ms/step - loss: 0.4934 - acc: 0.7657\n",
      "Epoch 2/5\n",
      "16666/16666 [==============================] - 69s 4ms/step - loss: 0.2411 - acc: 0.9091\n",
      "Epoch 3/5\n",
      "16666/16666 [==============================] - 70s 4ms/step - loss: 0.1148 - acc: 0.9620\n",
      "Epoch 4/5\n",
      "16666/16666 [==============================] - 69s 4ms/step - loss: 0.0500 - acc: 0.9866\n",
      "Epoch 5/5\n",
      "16666/16666 [==============================] - 69s 4ms/step - loss: 0.0331 - acc: 0.9914\n",
      "8334/8334 [==============================] - 10s 1ms/step\n",
      "Epoch 1/5\n",
      "16667/16667 [==============================] - 80s 5ms/step - loss: 0.5192 - acc: 0.7125\n",
      "Epoch 2/5\n",
      "16667/16667 [==============================] - 70s 4ms/step - loss: 0.2315 - acc: 0.9155\n",
      "Epoch 3/5\n",
      "16667/16667 [==============================] - 70s 4ms/step - loss: 0.1117 - acc: 0.9651\n",
      "Epoch 4/5\n",
      "16667/16667 [==============================] - 70s 4ms/step - loss: 0.0603 - acc: 0.9827\n",
      "Epoch 5/5\n",
      "16667/16667 [==============================] - 68s 4ms/step - loss: 0.0315 - acc: 0.9915\n",
      "8333/8333 [==============================] - 10s 1ms/step\n",
      "Epoch 1/5\n",
      "16667/16667 [==============================] - 77s 5ms/step - loss: 0.5011 - acc: 0.7703\n",
      "Epoch 2/5\n",
      "16667/16667 [==============================] - 69s 4ms/step - loss: 0.2386 - acc: 0.9083\n",
      "Epoch 3/5\n",
      "16667/16667 [==============================] - 70s 4ms/step - loss: 0.1205 - acc: 0.9613\n",
      "Epoch 4/5\n",
      "16667/16667 [==============================] - 70s 4ms/step - loss: 0.0551 - acc: 0.9856\n",
      "Epoch 5/5\n",
      "16667/16667 [==============================] - 74s 4ms/step - loss: 0.0331 - acc: 0.9917\n",
      "8333/8333 [==============================] - 10s 1ms/step\n",
      "Results: [0.72978162 0.86187448 0.79347174], mean: 0.80, std: 0.05\n"
     ]
    }
   ],
   "source": [
    "def create_model():\n",
    "    model = Sequential()\n",
    "    model.add(Embedding(max_features, embedding_dim, input_length=maxlen))\n",
    "    model.add(Dropout(0.5))\n",
    "    model.add(Conv1D(32, 7, activation='relu'))\n",
    "    model.add(MaxPooling1D(5))\n",
    "    model.add(Conv1D(32, 7, activation='relu'))\n",
    "    model.add(LSTM(32))\n",
    "    model.add(Dropout(0.5))\n",
    "    model.add(Dense(1, activation='sigmoid'))\n",
    "    model.compile(loss='binary_crossentropy',\n",
    "                  optimizer='adam',\n",
    "                  metrics=['accuracy'])\n",
    "    return model\n",
    "\n",
    "create_model().summary()\n",
    "run_cross_val(create_model)"
   ]
  },
  {
   "cell_type": "markdown",
   "metadata": {},
   "source": [
    "## seq2seq"
   ]
  },
  {
   "cell_type": "markdown",
   "metadata": {},
   "source": [
    "### Machine Translation"
   ]
  },
  {
   "cell_type": "markdown",
   "metadata": {},
   "source": [
    "#### char-level"
   ]
  },
  {
   "cell_type": "markdown",
   "metadata": {},
   "source": [
    "Visit http://www.manythings.org/anki/ for more information"
   ]
  },
  {
   "cell_type": "code",
   "execution_count": 4,
   "metadata": {},
   "outputs": [
    {
     "name": "stdout",
     "output_type": "stream",
     "text": [
      "--2018-09-03 16:41:07--  http://www.manythings.org/anki/spa-eng.zip\n",
      "Resolving www.manythings.org (www.manythings.org)... 104.24.109.196, 104.24.108.196\n",
      "Connecting to www.manythings.org (www.manythings.org)|104.24.109.196|:80... connected.\n",
      "HTTP request sent, awaiting response... 200 OK\n",
      "Length: 2786685 (2.7M) [application/zip]\n",
      "Saving to: ‘spa-eng.zip’\n",
      "\n",
      "spa-eng.zip         100%[===================>]   2.66M  3.63MB/s    in 0.7s    \n",
      "\n",
      "2018-09-03 16:41:08 (3.63 MB/s) - ‘spa-eng.zip’ saved [2786685/2786685]\n",
      "\n",
      "Archive:  spa-eng.zip\n",
      "replace _about.txt? [y]es, [n]o, [A]ll, [N]one, [r]ename: ^C\n"
     ]
    }
   ],
   "source": [
    "!wget http://www.manythings.org/anki/spa-eng.zip\n",
    "!unzip spa-eng.zip\n",
    "!rm spa-eng.zip"
   ]
  },
  {
   "cell_type": "code",
   "execution_count": 7,
   "metadata": {},
   "outputs": [
    {
     "name": "stdout",
     "output_type": "stream",
     "text": [
      "-rw-r--r--@ 1 aziai  staff   7.7M May 13 15:50 spa.txt\r\n"
     ]
    }
   ],
   "source": [
    "!ls -lht spa.txt"
   ]
  },
  {
   "cell_type": "code",
   "execution_count": 8,
   "metadata": {},
   "outputs": [
    {
     "name": "stdout",
     "output_type": "stream",
     "text": [
      "Go.\tVe.\r\n",
      "Go.\tVete.\r\n",
      "Go.\tVaya.\r\n",
      "Go.\tVáyase.\r\n",
      "Hi.\tHola.\r\n"
     ]
    }
   ],
   "source": [
    "!head -5 spa.txt"
   ]
  },
  {
   "cell_type": "code",
   "execution_count": 9,
   "metadata": {},
   "outputs": [
    {
     "name": "stdout",
     "output_type": "stream",
     "text": [
      "  118964 spa.txt\r\n"
     ]
    }
   ],
   "source": [
    "!wc -l spa.txt"
   ]
  },
  {
   "cell_type": "code",
   "execution_count": 143,
   "metadata": {},
   "outputs": [],
   "source": [
    "batch_size = 64\n",
    "epochs = 100\n",
    "hidden_units = 256\n",
    "num_samples = 10000\n",
    "num_inference_examples = 10\n",
    "path = 'spa.txt'"
   ]
  },
  {
   "cell_type": "code",
   "execution_count": 144,
   "metadata": {},
   "outputs": [
    {
     "name": "stdout",
     "output_type": "stream",
     "text": [
      "# of unique source characters: 90\n",
      "# of unique target characters: 113\n"
     ]
    }
   ],
   "source": [
    "sources = []\n",
    "targets = []\n",
    "chars_source = set()\n",
    "chars_target = set()\n",
    "max_source = 0  # max number of characters in a source sequence\n",
    "max_target = 0  # max number of characters in a target sequence\n",
    "\n",
    "\n",
    "for line in open(path):\n",
    "    source, target = line.strip().split('\\t')\n",
    "    # the special token `\\t` marks the beginning\n",
    "    # and `\\n` marks the end of a sequence\n",
    "    target = '\\t{}\\n'.format(target)\n",
    "    sources.append(source)\n",
    "    targets.append(target)\n",
    "\n",
    "    max_source = max(max_source, len(source))\n",
    "    max_target = max(max_target, len(target))\n",
    "\n",
    "    for c in source:\n",
    "        chars_source.add(c)\n",
    "    for c in target:\n",
    "        chars_target.add(c)\n",
    "\n",
    "tokens_encoder = len(chars_source)\n",
    "tokens_decoder = len(chars_target)\n",
    "# create source and target dictionaries mapping characters to an index\n",
    "source_dict = dict(zip(chars_source, range(len(chars_source))))\n",
    "target_dict = dict(zip(chars_target, range(len(chars_target))))\n",
    "# and the reverse mapping\n",
    "target_dict_reverse = dict((i, char) for char, i in source_dict.items())\n",
    "source_dict_reverse = dict((i, char) for char, i in target_dict.items())\n",
    "\n",
    "print('# of unique source characters: {}'.format(len(source_dict)))\n",
    "print('# of unique target characters: {}'.format(len(target_dict)))"
   ]
  },
  {
   "cell_type": "code",
   "execution_count": 157,
   "metadata": {},
   "outputs": [],
   "source": [
    "%%time\n",
    "encoder_in = np.zeros((len(sources), max_source, len(chars_source)))\n",
    "decoder_in = np.zeros((len(sources), max_target, len(chars_target)))\n",
    "decoder_out = np.zeros((len(sources), max_target, len(chars_target)))\n",
    "\n",
    "for i, (source, target) in enumerate(zip(sources, targets)):\n",
    "    for t, c in enumerate(source):\n",
    "        encoder_in[i, t, source_dict[c]] = 1\n",
    "        \n",
    "    for t, c in enumerate(target):\n",
    "        decoder_in[i, t, target_dict[c]] = 1\n",
    "        if t > 0:\n",
    "            decoder_out[i, t - 1, target_dict[c]] = 1"
   ]
  },
  {
   "cell_type": "code",
   "execution_count": null,
   "metadata": {},
   "outputs": [],
   "source": [
    "# Encoder\n",
    "encoder_inputs = Input(shape=(None, tokens_encoder))\n",
    "# return_state=True ensures that the states are returned\n",
    "encoder = LSTM(hidden_units, return_state=True)\n",
    "# capture the encoder state which will be used for decoder\n",
    "# the encoder output is not used\n",
    "_, state_h, state_c = encoder(encoder_inputs)\n",
    "encoder_states = [state_h, state_c]\n",
    "\n",
    "# Decoder\n",
    "decoder_inputs = Input(shape=(None, tokens_decoder))\n",
    "# use the encoder states as initial state for the decoder\n",
    "decoder_lstm = LSTM(hidden_units, return_sequences=True, return_state=True)\n",
    "decoder_outputs, _, _ = decoder_lstm(decoder_inputs, initial_state=encoder_states)\n",
    "decoder_dense = Dense(tokens_decoder, activation='softmax')\n",
    "decoder_outputs = decoder_dense(decoder_outputs)\n",
    "\n",
    "# Model\n",
    "model = Model([encoder_inputs, decoder_inputs], decoder_outputs)\n",
    "\n",
    "# Train\n",
    "model.compile(optimizer='adam', loss='categorical_crossentropy')\n",
    "history = model.fit([encoder_in[:num_samples], decoder_in[:num_samples]], decoder_out[:num_samples],\n",
    "          batch_size=batch_size, epochs=epochs, validation_split=0.2)"
   ]
  },
  {
   "cell_type": "code",
   "execution_count": 159,
   "metadata": {},
   "outputs": [],
   "source": [
    "# inference encoder\n",
    "encoder_model = Model(encoder_inputs, encoder_states)\n",
    "\n",
    "# inference decoder\n",
    "decoder_state_input_h = Input(shape=(hidden_units,))\n",
    "decoder_state_input_c = Input(shape=(hidden_units,))\n",
    "decoder_states_inputs = [decoder_state_input_h, decoder_state_input_c]\n",
    "decoder_outputs, state_h, state_c = decoder_lstm(decoder_inputs, initial_state=decoder_states_inputs)\n",
    "decoder_states = [state_h, state_c]\n",
    "decoder_outputs = decoder_dense(decoder_outputs)\n",
    "decoder_model = Model([decoder_inputs] + decoder_states_inputs, [decoder_outputs] + decoder_states)"
   ]
  },
  {
   "cell_type": "code",
   "execution_count": 160,
   "metadata": {},
   "outputs": [],
   "source": [
    "def decode_sequence(english_sentence):\n",
    "    # encode the input sentence\n",
    "    states_value = encoder_model.predict(english_sentence)\n",
    "    # target sequence to fill in\n",
    "    target_seq = np.zeros((1, 1, tokens_decoder))\n",
    "    # the first target character is `\\t` by design\n",
    "    target_seq[0, 0, target_dict['\\t']] = 1\n",
    "    # the spanish translation to build by sampling\n",
    "    spanish_sentence = ''\n",
    "\n",
    "    while True:\n",
    "        output_tokens, h, c = decoder_model.predict([target_seq] + states_value)\n",
    "        # sample a token index\n",
    "        sampled_token_index = np.argmax(output_tokens[0, -1, :])\n",
    "        # reverse lookup the index to get the corresponding character\n",
    "        sampled_char = source_dict_reverse[sampled_token_index]\n",
    "        # concatenate the sampled character to the spanish sentence\n",
    "        spanish_sentence += sampled_char\n",
    "        # reset the target sequence\n",
    "        target_seq = np.zeros((1, 1, tokens_decoder))\n",
    "        # insert the current sampled token index for the next decoder prediction\n",
    "        target_seq[0, 0, sampled_token_index] = 1\n",
    "\n",
    "        # we're done if either reached the max length or\n",
    "        # the end of sequence `\\n` indicator\n",
    "        if sampled_char == '\\n' or len(spanish_sentence) > max_target:\n",
    "            break\n",
    "\n",
    "        # Update states\n",
    "        states_value = [h, c]\n",
    "\n",
    "    return spanish_sentence\n",
    "\n",
    "\n",
    "def show_translation(index):\n",
    "    decoded_sentence = decode_sequence(encoder_in[index: index + 1])\n",
    "    print('English sentence:', sources[index])\n",
    "    print('Spanish sentence:', decoded_sentence)"
   ]
  },
  {
   "cell_type": "code",
   "execution_count": 161,
   "metadata": {},
   "outputs": [
    {
     "name": "stdout",
     "output_type": "stream",
     "text": [
      "English sentence: Hi.\n",
      "Spanish sentence: Estoy estoy denco.\n",
      "\n"
     ]
    }
   ],
   "source": [
    "show_translation(4)"
   ]
  }
 ],
 "metadata": {
  "anaconda-cloud": {},
  "kernelspec": {
   "display_name": "Python 3",
   "language": "python",
   "name": "python3"
  },
  "language_info": {
   "codemirror_mode": {
    "name": "ipython",
    "version": 3
   },
   "file_extension": ".py",
   "mimetype": "text/x-python",
   "name": "python",
   "nbconvert_exporter": "python",
   "pygments_lexer": "ipython3",
   "version": "3.6.5"
  }
 },
 "nbformat": 4,
 "nbformat_minor": 2
}

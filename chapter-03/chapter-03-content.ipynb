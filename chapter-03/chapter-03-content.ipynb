{
 "cells": [
  {
   "cell_type": "code",
   "execution_count": 1,
   "metadata": {},
   "outputs": [],
   "source": [
    "def _accuracy(labels, predictions):\n",
    "    equal = tf.equal(tf.cast(labels, tf.float32), predictions)\n",
    "    equal_float = tf.cast(equal, tf.float32)\n",
    "    return tf.reduce_mean(equal_float)\n",
    "\n",
    "def fit_batch(self, x, y):\n",
    "    graph = tf.Graph()\n",
    "\n",
    "    with graph.as_default():\n",
    "        # w = tf.Variable(tf.random_normal([3, 1]), dtype=tf.float32)\n",
    "        w = tf.Variable(tf.zeros([3, 1]), dtype=tf.float32)\n",
    "        # x_ = np.hstack([x, np.ones([len(x), 1], dtype=np.float32)])\n",
    "        x_ = np.c_[x, np.ones(len(x), dtype=np.float32)]\n",
    "        y_hat = tf.sign(tf.matmul(x_, w))\n",
    "        # y_hat = self._step(tf.matmul(x_, w))\n",
    "        error = y - y_hat\n",
    "        mse = tf.reduce_mean(tf.square(error))\n",
    "        y_tensor = tf.convert_to_tensor(y)\n",
    "        print(y_tensor.shape)\n",
    "        print(y_hat.shape)\n",
    "        print('=' * 10)\n",
    "        # accuracy, acc_op = tf.metrics.accuracy(labels=y_tensor, predictions=y_hat)\n",
    "        accuracy = self._accuracy(y_tensor, y_hat)\n",
    "        delta = tf.matmul(x_, error, transpose_a=True)\n",
    "        train = tf.assign(w, tf.add(w, self.learning_rate * delta))\n",
    "\n",
    "    with tf.Session(graph=graph) as sess:\n",
    "        init = tf.global_variables_initializer()\n",
    "        # init_local = tf.local_variables_initializer()\n",
    "        # sess.run([init, init_local])\n",
    "        sess.run(init)\n",
    "\n",
    "        for epoch in range(self.epochs):\n",
    "            error_, w_, acc_, yh, yt = sess.run([mse, train, accuracy, y_hat, y_tensor])\n",
    "            # error_, w_ = sess.run([mse, train])\n",
    "            print('Epoch: {} MSE: {}, w: {}, acc: {}, yhat: {}'.format(epoch + 1,\n",
    "                                                             error_,\n",
    "                                                             w_.reshape(1, len(w_)),\n",
    "                                                             acc_, yh.reshape(1, len(w_) + 1)\n",
    "                                                            ))"
   ]
  },
  {
   "cell_type": "code",
   "execution_count": null,
   "metadata": {},
   "outputs": [],
   "source": [
    "# customer activation\n",
    "\n",
    "from tensorflow.python.framework import ops\n",
    "\n",
    "@staticmethod\n",
    "def _step(x):\n",
    "    def _step_actual(x):\n",
    "        return 1 if x > 0 else 0\n",
    "\n",
    "    np_step = np.vectorize(_step_actual)\n",
    "\n",
    "    np_ = lambda x: np_step(x).astype(np.float32)\n",
    "    with ops.op_scope([x], 'step', 'step') as name:\n",
    "        y = tf.py_func(np_, [x], [tf.float32], name='step', stateful=False)\n",
    "        return y[0]"
   ]
  }
 ],
 "metadata": {
  "anaconda-cloud": {},
  "kernelspec": {
   "display_name": "Python [default]",
   "language": "python",
   "name": "python3"
  },
  "language_info": {
   "codemirror_mode": {
    "name": "ipython",
    "version": 3
   },
   "file_extension": ".py",
   "mimetype": "text/x-python",
   "name": "python",
   "nbconvert_exporter": "python",
   "pygments_lexer": "ipython3",
   "version": "3.5.4"
  }
 },
 "nbformat": 4,
 "nbformat_minor": 2
}
